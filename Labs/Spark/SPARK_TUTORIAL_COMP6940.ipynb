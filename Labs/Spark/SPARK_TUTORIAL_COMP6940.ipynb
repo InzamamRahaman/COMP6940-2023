{
  "nbformat": 4,
  "nbformat_minor": 0,
  "metadata": {
    "colab": {
      "provenance": []
    },
    "kernelspec": {
      "name": "python3",
      "display_name": "Python 3"
    },
    "language_info": {
      "name": "python"
    }
  },
  "cells": [
    {
      "cell_type": "markdown",
      "source": [
        "# JDK and Spark installation\n",
        "\n",
        "1.   Install the JDK \n",
        "2.   Download Apache Spark \n",
        "3.   Install the required Python packages (findspark, pyspark)\n",
        "4.   Use Spark - configurations...\n",
        "\n"
      ],
      "metadata": {
        "id": "NYLiPbUkBi80"
      }
    },
    {
      "cell_type": "markdown",
      "source": [],
      "metadata": {
        "id": "qpxjUlxuFNBE"
      }
    },
    {
      "cell_type": "code",
      "source": [
        "# install java\n",
        "!apt-get install openjdk-8-jdk-headless -qq > /dev/null"
      ],
      "metadata": {
        "id": "9gp7v_w_CSus"
      },
      "execution_count": null,
      "outputs": []
    },
    {
      "cell_type": "code",
      "source": [
        "# install spark (change the version number if needed)\n",
        "!wget -q https://archive.apache.org/dist/spark/spark-3.0.0/spark-3.0.0-bin-hadoop3.2.tgz"
      ],
      "metadata": {
        "id": "1TrAgaLcDByT"
      },
      "execution_count": null,
      "outputs": []
    },
    {
      "cell_type": "code",
      "source": [
        "!tar xf spark-3.0.0-bin-hadoop3.2.tgz"
      ],
      "metadata": {
        "id": "yo25jRUyDVoG"
      },
      "execution_count": null,
      "outputs": []
    },
    {
      "cell_type": "code",
      "source": [
        "!pip install -q findspark\n",
        "!pip install pyspark"
      ],
      "metadata": {
        "colab": {
          "base_uri": "https://localhost:8080/"
        },
        "id": "FFvAUje0DfWA",
        "outputId": "3fadfbbe-52e4-451d-c9d7-8c1534a43647"
      },
      "execution_count": null,
      "outputs": [
        {
          "output_type": "stream",
          "name": "stdout",
          "text": [
            "Looking in indexes: https://pypi.org/simple, https://us-python.pkg.dev/colab-wheels/public/simple/\n",
            "Collecting pyspark\n",
            "  Downloading pyspark-3.3.2.tar.gz (281.4 MB)\n",
            "\u001b[2K     \u001b[90m━━━━━━━━━━━━━━━━━━━━━━━━━━━━━━━━━━━━━━━\u001b[0m \u001b[32m281.4/281.4 MB\u001b[0m \u001b[31m4.9 MB/s\u001b[0m eta \u001b[36m0:00:00\u001b[0m\n",
            "\u001b[?25h  Preparing metadata (setup.py) ... \u001b[?25l\u001b[?25hdone\n",
            "Collecting py4j==0.10.9.5\n",
            "  Downloading py4j-0.10.9.5-py2.py3-none-any.whl (199 kB)\n",
            "\u001b[2K     \u001b[90m━━━━━━━━━━━━━━━━━━━━━━━━━━━━━━━━━━━━━━\u001b[0m \u001b[32m199.7/199.7 KB\u001b[0m \u001b[31m21.1 MB/s\u001b[0m eta \u001b[36m0:00:00\u001b[0m\n",
            "\u001b[?25hBuilding wheels for collected packages: pyspark\n",
            "  Building wheel for pyspark (setup.py) ... \u001b[?25l\u001b[?25hdone\n",
            "  Created wheel for pyspark: filename=pyspark-3.3.2-py2.py3-none-any.whl size=281824025 sha256=9b8796679aa8b613143289dd6a1e655918986c0132d5c807d7c539295a1a5e35\n",
            "  Stored in directory: /root/.cache/pip/wheels/b1/59/a0/a1a0624b5e865fd389919c1a10f53aec9b12195d6747710baf\n",
            "Successfully built pyspark\n",
            "Installing collected packages: py4j, pyspark\n",
            "Successfully installed py4j-0.10.9.5 pyspark-3.3.2\n"
          ]
        }
      ]
    },
    {
      "cell_type": "code",
      "source": [
        "import os\n",
        "os.environ[\"JAVA_HOME\"] = \"/usr/lib/jvm/java-8-openjdk-amd64\"\n",
        "os.environ[\"SPARK_HOME\"] = \"/content/spark-3.0.0-bin-hadoop3.2\""
      ],
      "metadata": {
        "id": "o_6Zk9n7DpzY"
      },
      "execution_count": null,
      "outputs": []
    },
    {
      "cell_type": "markdown",
      "source": [
        "# Acutal Programme"
      ],
      "metadata": {
        "id": "U2DeeXFpFKbB"
      }
    },
    {
      "cell_type": "code",
      "source": [
        "import findspark\n",
        "findspark.init()\n",
        "\n",
        "import pyspark\n",
        "from pyspark.sql import SparkSession\n",
        "from pyspark.sql import Row\n",
        "from pyspark.sql.types import *\n",
        "from pyspark.sql.functions import *\n",
        "# Import `DenseVector`\n",
        "from pyspark.ml.linalg import DenseVector\n",
        "\n",
        "# Import `StandardScaler` \n",
        "from pyspark.ml.feature import StandardScaler"
      ],
      "metadata": {
        "id": "jW4ereAZEc1D"
      },
      "execution_count": null,
      "outputs": []
    },
    {
      "cell_type": "code",
      "source": [
        "spark = SparkSession.builder \\\n",
        "   .master(\"local\") \\\n",
        "   .appName(\"Tutorial\") \\\n",
        "   .config(\"spark.executor.memory\", \"1gb\") \\\n",
        "   .getOrCreate()"
      ],
      "metadata": {
        "id": "YLnH4xwqEnB3"
      },
      "execution_count": null,
      "outputs": []
    },
    {
      "cell_type": "code",
      "source": [
        "sc = spark.sparkContext"
      ],
      "metadata": {
        "id": "Ql4t54NzFnmN"
      },
      "execution_count": null,
      "outputs": []
    },
    {
      "cell_type": "code",
      "source": [
        "data = [num for num in range(1,10)]\n",
        "print(data)"
      ],
      "metadata": {
        "colab": {
          "base_uri": "https://localhost:8080/"
        },
        "id": "3GlYvbnaGKxn",
        "outputId": "11aa5083-c53e-44cc-b84e-bfa115d93cd7"
      },
      "execution_count": null,
      "outputs": [
        {
          "output_type": "stream",
          "name": "stdout",
          "text": [
            "[1, 2, 3, 4, 5, 6, 7, 8, 9]\n"
          ]
        }
      ]
    },
    {
      "cell_type": "code",
      "source": [
        "myRDD = sc.parallelize(data)"
      ],
      "metadata": {
        "id": "Pba6RAI3GOm7"
      },
      "execution_count": null,
      "outputs": []
    },
    {
      "cell_type": "code",
      "source": [
        "myRDD"
      ],
      "metadata": {
        "colab": {
          "base_uri": "https://localhost:8080/"
        },
        "id": "-kn1jyHEGRVC",
        "outputId": "3df7702e-3252-4948-90ea-33627e302cd8"
      },
      "execution_count": null,
      "outputs": [
        {
          "output_type": "execute_result",
          "data": {
            "text/plain": [
              "ParallelCollectionRDD[0] at readRDDFromFile at PythonRDD.scala:262"
            ]
          },
          "metadata": {},
          "execution_count": 20
        }
      ]
    },
    {
      "cell_type": "code",
      "source": [
        "print(myRDD.collect())"
      ],
      "metadata": {
        "id": "pyLNY8k-GTKy"
      },
      "execution_count": null,
      "outputs": []
    },
    {
      "cell_type": "code",
      "source": [
        "myRDD.count()"
      ],
      "metadata": {
        "colab": {
          "base_uri": "https://localhost:8080/"
        },
        "id": "6U064EXOGrjI",
        "outputId": "2090a48f-0cde-4dd9-bc7f-9c0e26fdb291"
      },
      "execution_count": null,
      "outputs": [
        {
          "output_type": "execute_result",
          "data": {
            "text/plain": [
              "9"
            ]
          },
          "metadata": {},
          "execution_count": 22
        }
      ]
    },
    {
      "cell_type": "code",
      "source": [
        "kv = [('a',7), ('a', 2), ('b', 2), ('b',4), ('c',1), ('c',2), ('c',3), ('c',4)]"
      ],
      "metadata": {
        "id": "zwrtxNR7Guu5"
      },
      "execution_count": null,
      "outputs": []
    },
    {
      "cell_type": "code",
      "source": [
        "rdd2 = sc.parallelize(kv)\n",
        "print(rdd2.collect())"
      ],
      "metadata": {
        "colab": {
          "base_uri": "https://localhost:8080/"
        },
        "id": "j_Jg1TIhG0FV",
        "outputId": "5bb0cf9b-b9d7-48b1-cfe2-6820179d9470"
      },
      "execution_count": null,
      "outputs": [
        {
          "output_type": "stream",
          "name": "stdout",
          "text": [
            "[('a', 7), ('a', 2), ('b', 2), ('b', 4), ('c', 1), ('c', 2), ('c', 3), ('c', 4)]\n"
          ]
        }
      ]
    },
    {
      "cell_type": "code",
      "source": [
        "rdd3 = rdd2.reduceByKey(lambda x, y: x + y)"
      ],
      "metadata": {
        "id": "Pkd5kQ-XG5P-"
      },
      "execution_count": null,
      "outputs": []
    },
    {
      "cell_type": "code",
      "source": [
        "print(rdd3.collect())"
      ],
      "metadata": {
        "colab": {
          "base_uri": "https://localhost:8080/"
        },
        "id": "XXQ-nSGMHRST",
        "outputId": "1fef162e-a3c0-4e85-aea9-12832569dbd9"
      },
      "execution_count": null,
      "outputs": [
        {
          "output_type": "stream",
          "name": "stdout",
          "text": [
            "[('a', 9), ('b', 6), ('c', 10)]\n"
          ]
        }
      ]
    },
    {
      "cell_type": "code",
      "source": [
        "rdd4 = rdd2.groupByKey()"
      ],
      "metadata": {
        "id": "IN7LKfzhHYXz"
      },
      "execution_count": null,
      "outputs": []
    },
    {
      "cell_type": "code",
      "source": [
        "print(rdd4.collect())"
      ],
      "metadata": {
        "colab": {
          "base_uri": "https://localhost:8080/"
        },
        "id": "DCkRN4FwHfCm",
        "outputId": "b82211d1-b02e-4feb-8550-6f433582402e"
      },
      "execution_count": null,
      "outputs": [
        {
          "output_type": "stream",
          "name": "stdout",
          "text": [
            "[('a', <pyspark.resultiterable.ResultIterable object at 0x7fe9b14e7b20>), ('b', <pyspark.resultiterable.ResultIterable object at 0x7fe9b13246d0>), ('c', <pyspark.resultiterable.ResultIterable object at 0x7fe9b13245b0>)]\n"
          ]
        }
      ]
    },
    {
      "cell_type": "code",
      "source": [
        "rdd5 = rdd4.map(lambda x: (x[0], list(x[1])))\n",
        "print(rdd5.collect())"
      ],
      "metadata": {
        "colab": {
          "base_uri": "https://localhost:8080/"
        },
        "id": "U95k_d6BHiRY",
        "outputId": "eb91f580-1e14-4018-dc48-6d44fbb7b95b"
      },
      "execution_count": null,
      "outputs": [
        {
          "output_type": "stream",
          "name": "stdout",
          "text": [
            "[('a', [7, 2]), ('b', [2, 4]), ('c', [1, 2, 3, 4])]\n"
          ]
        }
      ]
    },
    {
      "cell_type": "code",
      "source": [
        "!wget https://raw.githubusercontent.com/shiv1994/COMP6940-2022/main/lab6/cal_housing.data\n",
        "!wget https://raw.githubusercontent.com/shiv1994/COMP6940-2022/main/lab6/cal_housing.domain "
      ],
      "metadata": {
        "colab": {
          "base_uri": "https://localhost:8080/"
        },
        "id": "7HAuDF47H3qh",
        "outputId": "b8e30948-8b64-420e-a1ff-e82ec62e9374"
      },
      "execution_count": null,
      "outputs": [
        {
          "output_type": "stream",
          "name": "stdout",
          "text": [
            "--2023-03-01 21:43:09--  https://raw.githubusercontent.com/shiv1994/COMP6940-2022/main/lab6/cal_housing.data\n",
            "Resolving raw.githubusercontent.com (raw.githubusercontent.com)... 185.199.108.133, 185.199.110.133, 185.199.111.133, ...\n",
            "Connecting to raw.githubusercontent.com (raw.githubusercontent.com)|185.199.108.133|:443... connected.\n",
            "HTTP request sent, awaiting response... 200 OK\n",
            "Length: 2071484 (2.0M) [text/plain]\n",
            "Saving to: ‘cal_housing.data’\n",
            "\n",
            "cal_housing.data    100%[===================>]   1.97M  --.-KB/s    in 0.06s   \n",
            "\n",
            "2023-03-01 21:43:09 (31.6 MB/s) - ‘cal_housing.data’ saved [2071484/2071484]\n",
            "\n",
            "--2023-03-01 21:43:09--  https://raw.githubusercontent.com/shiv1994/COMP6940-2022/main/lab6/cal_housing.domain\n",
            "Resolving raw.githubusercontent.com (raw.githubusercontent.com)... 185.199.108.133, 185.199.109.133, 185.199.110.133, ...\n",
            "Connecting to raw.githubusercontent.com (raw.githubusercontent.com)|185.199.108.133|:443... connected.\n",
            "HTTP request sent, awaiting response... 200 OK\n",
            "Length: 237 [text/plain]\n",
            "Saving to: ‘cal_housing.domain’\n",
            "\n",
            "cal_housing.domain  100%[===================>]     237  --.-KB/s    in 0s      \n",
            "\n",
            "2023-03-01 21:43:09 (11.4 MB/s) - ‘cal_housing.domain’ saved [237/237]\n",
            "\n"
          ]
        }
      ]
    },
    {
      "cell_type": "code",
      "source": [
        "rdd = sc.textFile('cal_housing.data')\n",
        "header = sc.textFile('cal_housing.domain')"
      ],
      "metadata": {
        "id": "HWI_MB3sIQwB"
      },
      "execution_count": null,
      "outputs": []
    },
    {
      "cell_type": "code",
      "source": [
        "header.collect()"
      ],
      "metadata": {
        "colab": {
          "base_uri": "https://localhost:8080/"
        },
        "id": "BlRLrUE_IZD5",
        "outputId": "33a35ad2-dbc8-4808-dfb2-0a70a2e797b9"
      },
      "execution_count": null,
      "outputs": [
        {
          "output_type": "execute_result",
          "data": {
            "text/plain": [
              "['longitude: continuous.',\n",
              " 'latitude: continuous.',\n",
              " 'housingMedianAge: continuous. ',\n",
              " 'totalRooms: continuous. ',\n",
              " 'totalBedrooms: continuous. ',\n",
              " 'population: continuous. ',\n",
              " 'households: continuous. ',\n",
              " 'medianIncome: continuous. ',\n",
              " 'medianHouseValue: continuous. ']"
            ]
          },
          "metadata": {},
          "execution_count": 35
        }
      ]
    },
    {
      "cell_type": "code",
      "source": [
        "rdd.take(5)"
      ],
      "metadata": {
        "colab": {
          "base_uri": "https://localhost:8080/"
        },
        "id": "jpmfWIKVIqs1",
        "outputId": "78154b9d-639f-4cb5-8840-b85525451e8e"
      },
      "execution_count": null,
      "outputs": [
        {
          "output_type": "execute_result",
          "data": {
            "text/plain": [
              "['-122.230000,37.880000,41.000000,880.000000,129.000000,322.000000,126.000000,8.325200,452600.000000',\n",
              " '-122.220000,37.860000,21.000000,7099.000000,1106.000000,2401.000000,1138.000000,8.301400,358500.000000',\n",
              " '-122.240000,37.850000,52.000000,1467.000000,190.000000,496.000000,177.000000,7.257400,352100.000000',\n",
              " '-122.250000,37.850000,52.000000,1274.000000,235.000000,558.000000,219.000000,5.643100,341300.000000',\n",
              " '-122.250000,37.850000,52.000000,1627.000000,280.000000,565.000000,259.000000,3.846200,342200.000000']"
            ]
          },
          "metadata": {},
          "execution_count": 38
        }
      ]
    },
    {
      "cell_type": "code",
      "source": [
        "list(map(float, '-122.230000,37.880000,41.000000,880.000000,129.000000,322.000000,126.000000,8.325200,452600.000000'.split(',')))"
      ],
      "metadata": {
        "colab": {
          "base_uri": "https://localhost:8080/"
        },
        "id": "DkNegK-cJUpF",
        "outputId": "f56e8173-e10a-4190-ff17-6cd60e5577d6"
      },
      "execution_count": null,
      "outputs": [
        {
          "output_type": "execute_result",
          "data": {
            "text/plain": [
              "[-122.23, 37.88, 41.0, 880.0, 129.0, 322.0, 126.0, 8.3252, 452600.0]"
            ]
          },
          "metadata": {},
          "execution_count": 41
        }
      ]
    },
    {
      "cell_type": "code",
      "source": [
        "rdd = rdd.map(lambda entry: list(map(float, entry.split(','))))"
      ],
      "metadata": {
        "id": "JaHodMdXIwbd"
      },
      "execution_count": null,
      "outputs": []
    },
    {
      "cell_type": "code",
      "source": [
        "rdd.take(2)"
      ],
      "metadata": {
        "colab": {
          "base_uri": "https://localhost:8080/"
        },
        "id": "n3rVpkNWJfLR",
        "outputId": "3dd8b355-60dc-4ac3-f4d1-4177dae28a6e"
      },
      "execution_count": null,
      "outputs": [
        {
          "output_type": "execute_result",
          "data": {
            "text/plain": [
              "[[-122.23, 37.88, 41.0, 880.0, 129.0, 322.0, 126.0, 8.3252, 452600.0],\n",
              " [-122.22, 37.86, 21.0, 7099.0, 1106.0, 2401.0, 1138.0, 8.3014, 358500.0]]"
            ]
          },
          "metadata": {},
          "execution_count": 43
        }
      ]
    },
    {
      "cell_type": "code",
      "source": [
        "header.collect()"
      ],
      "metadata": {
        "colab": {
          "base_uri": "https://localhost:8080/"
        },
        "id": "kcOkbvOKKCwp",
        "outputId": "c5d8691d-c95a-4299-f0ec-6e092c20fd2b"
      },
      "execution_count": null,
      "outputs": [
        {
          "output_type": "execute_result",
          "data": {
            "text/plain": [
              "['longitude: continuous.',\n",
              " 'latitude: continuous.',\n",
              " 'housingMedianAge: continuous. ',\n",
              " 'totalRooms: continuous. ',\n",
              " 'totalBedrooms: continuous. ',\n",
              " 'population: continuous. ',\n",
              " 'households: continuous. ',\n",
              " 'medianIncome: continuous. ',\n",
              " 'medianHouseValue: continuous. ']"
            ]
          },
          "metadata": {},
          "execution_count": 45
        }
      ]
    },
    {
      "cell_type": "code",
      "source": [
        "def f(**kwargs):\n",
        "  for k, v in kwargs.items():\n",
        "    print(v, '---> ', k)"
      ],
      "metadata": {
        "id": "gAY882DnKtLD"
      },
      "execution_count": null,
      "outputs": []
    },
    {
      "cell_type": "code",
      "source": [
        "f(A=2, B=3)"
      ],
      "metadata": {
        "colab": {
          "base_uri": "https://localhost:8080/"
        },
        "id": "uCmPMkfsLEzw",
        "outputId": "02140154-16fe-4e58-bfc2-811d1c5ac5d5"
      },
      "execution_count": null,
      "outputs": [
        {
          "output_type": "stream",
          "name": "stdout",
          "text": [
            "2 --->  A\n",
            "3 --->  B\n"
          ]
        }
      ]
    },
    {
      "cell_type": "code",
      "source": [
        "d = {'A': 2, 'B': 3}\n",
        "f(**d)"
      ],
      "metadata": {
        "colab": {
          "base_uri": "https://localhost:8080/"
        },
        "id": "nSjFVTvaK_PJ",
        "outputId": "4789a299-18bb-40e8-b11e-353e8957621f"
      },
      "execution_count": null,
      "outputs": [
        {
          "output_type": "stream",
          "name": "stdout",
          "text": [
            "2 --->  A\n",
            "3 --->  B\n"
          ]
        }
      ]
    },
    {
      "cell_type": "code",
      "source": [
        "list(header.collect())"
      ],
      "metadata": {
        "colab": {
          "base_uri": "https://localhost:8080/"
        },
        "id": "s3Ev7CIYLnyz",
        "outputId": "50d4e6da-6e7a-46ca-a637-6cba4899b5ed"
      },
      "execution_count": null,
      "outputs": [
        {
          "output_type": "execute_result",
          "data": {
            "text/plain": [
              "['longitude: continuous.',\n",
              " 'latitude: continuous.',\n",
              " 'housingMedianAge: continuous. ',\n",
              " 'totalRooms: continuous. ',\n",
              " 'totalBedrooms: continuous. ',\n",
              " 'population: continuous. ',\n",
              " 'households: continuous. ',\n",
              " 'medianIncome: continuous. ',\n",
              " 'medianHouseValue: continuous. ']"
            ]
          },
          "metadata": {},
          "execution_count": 58
        }
      ]
    },
    {
      "cell_type": "code",
      "source": [
        "header_names = header.map(lambda x: x.split(':')).map(lambda x: x[0].strip())\n",
        "header_names = (header_names.collect())\n"
      ],
      "metadata": {
        "id": "QVNS6CBBLxz7"
      },
      "execution_count": null,
      "outputs": []
    },
    {
      "cell_type": "code",
      "source": [
        "def create_row_from_list(line):\n",
        "  return Row(longitude=line[0], latitude=line[1],housingMedianAge=line[2], totalRooms=line[3], \n",
        "             totalBedrooms=line[4], population=line[5], households=line[6], medianIncome=line[7], medianHouseValue=line[8])\n",
        "  # line_desc = zip(list(header.collect()), line)\n",
        "  # print(line_desc)\n",
        "  # return Row(line_desc)\n",
        "\n",
        "  \n",
        "new_rdd = rdd.map(create_row_from_list) "
      ],
      "metadata": {
        "id": "S7NkM0SEJjBu"
      },
      "execution_count": null,
      "outputs": []
    },
    {
      "cell_type": "code",
      "source": [
        "new_rdd.collect()"
      ],
      "metadata": {
        "colab": {
          "base_uri": "https://localhost:8080/"
        },
        "id": "z6aGMRbvLfJ3",
        "outputId": "da2a1f0a-7790-410e-da32-926a51a21b70"
      },
      "execution_count": null,
      "outputs": [
        {
          "output_type": "execute_result",
          "data": {
            "text/plain": [
              "[Row(longitude=-122.23, latitude=37.88, housingMedianAge=41.0, totalRooms=880.0, totalBedrooms=129.0, population=322.0, households=126.0, medianIncome=8.3252, medianHouseValue=452600.0),\n",
              " Row(longitude=-122.22, latitude=37.86, housingMedianAge=21.0, totalRooms=7099.0, totalBedrooms=1106.0, population=2401.0, households=1138.0, medianIncome=8.3014, medianHouseValue=358500.0),\n",
              " Row(longitude=-122.24, latitude=37.85, housingMedianAge=52.0, totalRooms=1467.0, totalBedrooms=190.0, population=496.0, households=177.0, medianIncome=7.2574, medianHouseValue=352100.0),\n",
              " Row(longitude=-122.25, latitude=37.85, housingMedianAge=52.0, totalRooms=1274.0, totalBedrooms=235.0, population=558.0, households=219.0, medianIncome=5.6431, medianHouseValue=341300.0),\n",
              " Row(longitude=-122.25, latitude=37.85, housingMedianAge=52.0, totalRooms=1627.0, totalBedrooms=280.0, population=565.0, households=259.0, medianIncome=3.8462, medianHouseValue=342200.0),\n",
              " Row(longitude=-122.25, latitude=37.85, housingMedianAge=52.0, totalRooms=919.0, totalBedrooms=213.0, population=413.0, households=193.0, medianIncome=4.0368, medianHouseValue=269700.0),\n",
              " Row(longitude=-122.25, latitude=37.84, housingMedianAge=52.0, totalRooms=2535.0, totalBedrooms=489.0, population=1094.0, households=514.0, medianIncome=3.6591, medianHouseValue=299200.0),\n",
              " Row(longitude=-122.25, latitude=37.84, housingMedianAge=52.0, totalRooms=3104.0, totalBedrooms=687.0, population=1157.0, households=647.0, medianIncome=3.12, medianHouseValue=241400.0),\n",
              " Row(longitude=-122.26, latitude=37.84, housingMedianAge=42.0, totalRooms=2555.0, totalBedrooms=665.0, population=1206.0, households=595.0, medianIncome=2.0804, medianHouseValue=226700.0),\n",
              " Row(longitude=-122.25, latitude=37.84, housingMedianAge=52.0, totalRooms=3549.0, totalBedrooms=707.0, population=1551.0, households=714.0, medianIncome=3.6912, medianHouseValue=261100.0),\n",
              " Row(longitude=-122.26, latitude=37.85, housingMedianAge=52.0, totalRooms=2202.0, totalBedrooms=434.0, population=910.0, households=402.0, medianIncome=3.2031, medianHouseValue=281500.0),\n",
              " Row(longitude=-122.26, latitude=37.85, housingMedianAge=52.0, totalRooms=3503.0, totalBedrooms=752.0, population=1504.0, households=734.0, medianIncome=3.2705, medianHouseValue=241800.0),\n",
              " Row(longitude=-122.26, latitude=37.85, housingMedianAge=52.0, totalRooms=2491.0, totalBedrooms=474.0, population=1098.0, households=468.0, medianIncome=3.075, medianHouseValue=213500.0),\n",
              " Row(longitude=-122.26, latitude=37.84, housingMedianAge=52.0, totalRooms=696.0, totalBedrooms=191.0, population=345.0, households=174.0, medianIncome=2.6736, medianHouseValue=191300.0),\n",
              " Row(longitude=-122.26, latitude=37.85, housingMedianAge=52.0, totalRooms=2643.0, totalBedrooms=626.0, population=1212.0, households=620.0, medianIncome=1.9167, medianHouseValue=159200.0),\n",
              " Row(longitude=-122.26, latitude=37.85, housingMedianAge=50.0, totalRooms=1120.0, totalBedrooms=283.0, population=697.0, households=264.0, medianIncome=2.125, medianHouseValue=140000.0),\n",
              " Row(longitude=-122.27, latitude=37.85, housingMedianAge=52.0, totalRooms=1966.0, totalBedrooms=347.0, population=793.0, households=331.0, medianIncome=2.775, medianHouseValue=152500.0),\n",
              " Row(longitude=-122.27, latitude=37.85, housingMedianAge=52.0, totalRooms=1228.0, totalBedrooms=293.0, population=648.0, households=303.0, medianIncome=2.1202, medianHouseValue=155500.0),\n",
              " Row(longitude=-122.26, latitude=37.84, housingMedianAge=50.0, totalRooms=2239.0, totalBedrooms=455.0, population=990.0, households=419.0, medianIncome=1.9911, medianHouseValue=158700.0),\n",
              " Row(longitude=-122.27, latitude=37.84, housingMedianAge=52.0, totalRooms=1503.0, totalBedrooms=298.0, population=690.0, households=275.0, medianIncome=2.6033, medianHouseValue=162900.0),\n",
              " Row(longitude=-122.27, latitude=37.85, housingMedianAge=40.0, totalRooms=751.0, totalBedrooms=184.0, population=409.0, households=166.0, medianIncome=1.3578, medianHouseValue=147500.0),\n",
              " Row(longitude=-122.27, latitude=37.85, housingMedianAge=42.0, totalRooms=1639.0, totalBedrooms=367.0, population=929.0, households=366.0, medianIncome=1.7135, medianHouseValue=159800.0),\n",
              " Row(longitude=-122.27, latitude=37.84, housingMedianAge=52.0, totalRooms=2436.0, totalBedrooms=541.0, population=1015.0, households=478.0, medianIncome=1.725, medianHouseValue=113900.0),\n",
              " Row(longitude=-122.27, latitude=37.84, housingMedianAge=52.0, totalRooms=1688.0, totalBedrooms=337.0, population=853.0, households=325.0, medianIncome=2.1806, medianHouseValue=99700.0),\n",
              " Row(longitude=-122.27, latitude=37.84, housingMedianAge=52.0, totalRooms=2224.0, totalBedrooms=437.0, population=1006.0, households=422.0, medianIncome=2.6, medianHouseValue=132600.0),\n",
              " Row(longitude=-122.28, latitude=37.85, housingMedianAge=41.0, totalRooms=535.0, totalBedrooms=123.0, population=317.0, households=119.0, medianIncome=2.4038, medianHouseValue=107500.0),\n",
              " Row(longitude=-122.28, latitude=37.85, housingMedianAge=49.0, totalRooms=1130.0, totalBedrooms=244.0, population=607.0, households=239.0, medianIncome=2.4597, medianHouseValue=93800.0),\n",
              " Row(longitude=-122.28, latitude=37.85, housingMedianAge=52.0, totalRooms=1898.0, totalBedrooms=421.0, population=1102.0, households=397.0, medianIncome=1.808, medianHouseValue=105500.0),\n",
              " Row(longitude=-122.28, latitude=37.84, housingMedianAge=50.0, totalRooms=2082.0, totalBedrooms=492.0, population=1131.0, households=473.0, medianIncome=1.6424, medianHouseValue=108900.0),\n",
              " Row(longitude=-122.28, latitude=37.84, housingMedianAge=52.0, totalRooms=729.0, totalBedrooms=160.0, population=395.0, households=155.0, medianIncome=1.6875, medianHouseValue=132000.0),\n",
              " Row(longitude=-122.28, latitude=37.84, housingMedianAge=49.0, totalRooms=1916.0, totalBedrooms=447.0, population=863.0, households=378.0, medianIncome=1.9274, medianHouseValue=122300.0),\n",
              " Row(longitude=-122.28, latitude=37.84, housingMedianAge=52.0, totalRooms=2153.0, totalBedrooms=481.0, population=1168.0, households=441.0, medianIncome=1.9615, medianHouseValue=115200.0),\n",
              " Row(longitude=-122.27, latitude=37.84, housingMedianAge=48.0, totalRooms=1922.0, totalBedrooms=409.0, population=1026.0, households=335.0, medianIncome=1.7969, medianHouseValue=110400.0),\n",
              " Row(longitude=-122.27, latitude=37.83, housingMedianAge=49.0, totalRooms=1655.0, totalBedrooms=366.0, population=754.0, households=329.0, medianIncome=1.375, medianHouseValue=104900.0),\n",
              " Row(longitude=-122.27, latitude=37.83, housingMedianAge=51.0, totalRooms=2665.0, totalBedrooms=574.0, population=1258.0, households=536.0, medianIncome=2.7303, medianHouseValue=109700.0),\n",
              " Row(longitude=-122.27, latitude=37.83, housingMedianAge=49.0, totalRooms=1215.0, totalBedrooms=282.0, population=570.0, households=264.0, medianIncome=1.4861, medianHouseValue=97200.0),\n",
              " Row(longitude=-122.27, latitude=37.83, housingMedianAge=48.0, totalRooms=1798.0, totalBedrooms=432.0, population=987.0, households=374.0, medianIncome=1.0972, medianHouseValue=104500.0),\n",
              " Row(longitude=-122.28, latitude=37.83, housingMedianAge=52.0, totalRooms=1511.0, totalBedrooms=390.0, population=901.0, households=403.0, medianIncome=1.4103, medianHouseValue=103900.0),\n",
              " Row(longitude=-122.26, latitude=37.83, housingMedianAge=52.0, totalRooms=1470.0, totalBedrooms=330.0, population=689.0, households=309.0, medianIncome=3.48, medianHouseValue=191400.0),\n",
              " Row(longitude=-122.26, latitude=37.83, housingMedianAge=52.0, totalRooms=2432.0, totalBedrooms=715.0, population=1377.0, households=696.0, medianIncome=2.5898, medianHouseValue=176000.0),\n",
              " Row(longitude=-122.26, latitude=37.83, housingMedianAge=52.0, totalRooms=1665.0, totalBedrooms=419.0, population=946.0, households=395.0, medianIncome=2.0978, medianHouseValue=155400.0),\n",
              " Row(longitude=-122.26, latitude=37.83, housingMedianAge=51.0, totalRooms=936.0, totalBedrooms=311.0, population=517.0, households=249.0, medianIncome=1.2852, medianHouseValue=150000.0),\n",
              " Row(longitude=-122.26, latitude=37.84, housingMedianAge=49.0, totalRooms=713.0, totalBedrooms=202.0, population=462.0, households=189.0, medianIncome=1.025, medianHouseValue=118800.0),\n",
              " Row(longitude=-122.26, latitude=37.84, housingMedianAge=52.0, totalRooms=950.0, totalBedrooms=202.0, population=467.0, households=198.0, medianIncome=3.9643, medianHouseValue=188800.0),\n",
              " Row(longitude=-122.26, latitude=37.83, housingMedianAge=52.0, totalRooms=1443.0, totalBedrooms=311.0, population=660.0, households=292.0, medianIncome=3.0125, medianHouseValue=184400.0),\n",
              " Row(longitude=-122.26, latitude=37.83, housingMedianAge=52.0, totalRooms=1656.0, totalBedrooms=420.0, population=718.0, households=382.0, medianIncome=2.6768, medianHouseValue=182300.0),\n",
              " Row(longitude=-122.26, latitude=37.83, housingMedianAge=50.0, totalRooms=1125.0, totalBedrooms=322.0, population=616.0, households=304.0, medianIncome=2.026, medianHouseValue=142500.0),\n",
              " Row(longitude=-122.27, latitude=37.82, housingMedianAge=43.0, totalRooms=1007.0, totalBedrooms=312.0, population=558.0, households=253.0, medianIncome=1.7348, medianHouseValue=137500.0),\n",
              " Row(longitude=-122.26, latitude=37.82, housingMedianAge=40.0, totalRooms=624.0, totalBedrooms=195.0, population=423.0, households=160.0, medianIncome=0.9506, medianHouseValue=187500.0),\n",
              " Row(longitude=-122.27, latitude=37.82, housingMedianAge=40.0, totalRooms=946.0, totalBedrooms=375.0, population=700.0, households=352.0, medianIncome=1.775, medianHouseValue=112500.0),\n",
              " Row(longitude=-122.27, latitude=37.82, housingMedianAge=21.0, totalRooms=896.0, totalBedrooms=453.0, population=735.0, households=438.0, medianIncome=0.9218, medianHouseValue=171900.0),\n",
              " Row(longitude=-122.27, latitude=37.82, housingMedianAge=43.0, totalRooms=1868.0, totalBedrooms=456.0, population=1061.0, households=407.0, medianIncome=1.5045, medianHouseValue=93800.0),\n",
              " Row(longitude=-122.27, latitude=37.82, housingMedianAge=41.0, totalRooms=3221.0, totalBedrooms=853.0, population=1959.0, households=720.0, medianIncome=1.1108, medianHouseValue=97500.0),\n",
              " Row(longitude=-122.27, latitude=37.82, housingMedianAge=52.0, totalRooms=1630.0, totalBedrooms=456.0, population=1162.0, households=400.0, medianIncome=1.2475, medianHouseValue=104200.0),\n",
              " Row(longitude=-122.28, latitude=37.82, housingMedianAge=52.0, totalRooms=1170.0, totalBedrooms=235.0, population=701.0, households=233.0, medianIncome=1.6098, medianHouseValue=87500.0),\n",
              " Row(longitude=-122.28, latitude=37.82, housingMedianAge=52.0, totalRooms=945.0, totalBedrooms=243.0, population=576.0, households=220.0, medianIncome=1.4113, medianHouseValue=83100.0),\n",
              " Row(longitude=-122.28, latitude=37.82, housingMedianAge=52.0, totalRooms=1238.0, totalBedrooms=288.0, population=622.0, households=259.0, medianIncome=1.5057, medianHouseValue=87500.0),\n",
              " Row(longitude=-122.28, latitude=37.82, housingMedianAge=52.0, totalRooms=1489.0, totalBedrooms=335.0, population=728.0, households=244.0, medianIncome=0.8172, medianHouseValue=85300.0),\n",
              " Row(longitude=-122.28, latitude=37.82, housingMedianAge=52.0, totalRooms=1387.0, totalBedrooms=341.0, population=1074.0, households=304.0, medianIncome=1.2171, medianHouseValue=80300.0),\n",
              " Row(longitude=-122.29, latitude=37.82, housingMedianAge=2.0, totalRooms=158.0, totalBedrooms=43.0, population=94.0, households=57.0, medianIncome=2.5625, medianHouseValue=60000.0),\n",
              " Row(longitude=-122.29, latitude=37.83, housingMedianAge=52.0, totalRooms=1121.0, totalBedrooms=211.0, population=554.0, households=187.0, medianIncome=3.3929, medianHouseValue=75700.0),\n",
              " Row(longitude=-122.29, latitude=37.82, housingMedianAge=49.0, totalRooms=135.0, totalBedrooms=29.0, population=86.0, households=23.0, medianIncome=6.1183, medianHouseValue=75000.0),\n",
              " Row(longitude=-122.29, latitude=37.81, housingMedianAge=50.0, totalRooms=760.0, totalBedrooms=190.0, population=377.0, households=122.0, medianIncome=0.9011, medianHouseValue=86100.0),\n",
              " Row(longitude=-122.3, latitude=37.81, housingMedianAge=52.0, totalRooms=1224.0, totalBedrooms=237.0, population=521.0, households=159.0, medianIncome=1.191, medianHouseValue=76100.0),\n",
              " Row(longitude=-122.3, latitude=37.81, housingMedianAge=48.0, totalRooms=828.0, totalBedrooms=182.0, population=392.0, households=133.0, medianIncome=2.5938, medianHouseValue=73500.0),\n",
              " Row(longitude=-122.3, latitude=37.81, housingMedianAge=52.0, totalRooms=1010.0, totalBedrooms=209.0, population=604.0, households=187.0, medianIncome=1.1667, medianHouseValue=78400.0),\n",
              " Row(longitude=-122.3, latitude=37.81, housingMedianAge=48.0, totalRooms=1455.0, totalBedrooms=354.0, population=788.0, households=332.0, medianIncome=0.8056, medianHouseValue=84400.0),\n",
              " Row(longitude=-122.29, latitude=37.8, housingMedianAge=52.0, totalRooms=1027.0, totalBedrooms=244.0, population=492.0, households=147.0, medianIncome=2.6094, medianHouseValue=81300.0),\n",
              " Row(longitude=-122.3, latitude=37.81, housingMedianAge=52.0, totalRooms=572.0, totalBedrooms=109.0, population=274.0, households=82.0, medianIncome=1.8516, medianHouseValue=85000.0),\n",
              " Row(longitude=-122.29, latitude=37.81, housingMedianAge=46.0, totalRooms=2801.0, totalBedrooms=644.0, population=1823.0, households=611.0, medianIncome=0.9802, medianHouseValue=129200.0),\n",
              " Row(longitude=-122.29, latitude=37.81, housingMedianAge=26.0, totalRooms=768.0, totalBedrooms=152.0, population=392.0, households=127.0, medianIncome=1.7719, medianHouseValue=82500.0),\n",
              " Row(longitude=-122.29, latitude=37.81, housingMedianAge=46.0, totalRooms=935.0, totalBedrooms=297.0, population=582.0, households=277.0, medianIncome=0.7286, medianHouseValue=95200.0),\n",
              " Row(longitude=-122.29, latitude=37.81, housingMedianAge=49.0, totalRooms=844.0, totalBedrooms=204.0, population=560.0, households=152.0, medianIncome=1.75, medianHouseValue=75000.0),\n",
              " Row(longitude=-122.29, latitude=37.81, housingMedianAge=46.0, totalRooms=12.0, totalBedrooms=4.0, population=18.0, households=7.0, medianIncome=0.4999, medianHouseValue=67500.0),\n",
              " Row(longitude=-122.29, latitude=37.81, housingMedianAge=20.0, totalRooms=835.0, totalBedrooms=161.0, population=290.0, households=133.0, medianIncome=2.483, medianHouseValue=137500.0),\n",
              " Row(longitude=-122.28, latitude=37.81, housingMedianAge=17.0, totalRooms=1237.0, totalBedrooms=462.0, population=762.0, households=439.0, medianIncome=0.9241, medianHouseValue=177500.0),\n",
              " Row(longitude=-122.28, latitude=37.81, housingMedianAge=36.0, totalRooms=2914.0, totalBedrooms=562.0, population=1236.0, households=509.0, medianIncome=2.4464, medianHouseValue=102100.0),\n",
              " Row(longitude=-122.28, latitude=37.81, housingMedianAge=19.0, totalRooms=1207.0, totalBedrooms=243.0, population=721.0, households=207.0, medianIncome=1.1111, medianHouseValue=108300.0),\n",
              " Row(longitude=-122.29, latitude=37.81, housingMedianAge=23.0, totalRooms=1745.0, totalBedrooms=374.0, population=1054.0, households=325.0, medianIncome=0.8026, medianHouseValue=112500.0),\n",
              " Row(longitude=-122.28, latitude=37.8, housingMedianAge=38.0, totalRooms=684.0, totalBedrooms=176.0, population=344.0, households=155.0, medianIncome=2.0114, medianHouseValue=131300.0),\n",
              " Row(longitude=-122.28, latitude=37.81, housingMedianAge=17.0, totalRooms=924.0, totalBedrooms=289.0, population=609.0, households=289.0, medianIncome=1.5, medianHouseValue=162500.0),\n",
              " Row(longitude=-122.27, latitude=37.81, housingMedianAge=52.0, totalRooms=210.0, totalBedrooms=56.0, population=183.0, households=56.0, medianIncome=1.1667, medianHouseValue=112500.0),\n",
              " Row(longitude=-122.28, latitude=37.81, housingMedianAge=52.0, totalRooms=340.0, totalBedrooms=97.0, population=200.0, households=87.0, medianIncome=1.5208, medianHouseValue=112500.0),\n",
              " Row(longitude=-122.28, latitude=37.81, housingMedianAge=52.0, totalRooms=386.0, totalBedrooms=164.0, population=346.0, households=155.0, medianIncome=0.8075, medianHouseValue=137500.0),\n",
              " Row(longitude=-122.28, latitude=37.81, housingMedianAge=35.0, totalRooms=948.0, totalBedrooms=184.0, population=467.0, households=169.0, medianIncome=1.8088, medianHouseValue=118800.0),\n",
              " Row(longitude=-122.28, latitude=37.81, housingMedianAge=52.0, totalRooms=773.0, totalBedrooms=143.0, population=377.0, households=115.0, medianIncome=2.4083, medianHouseValue=98200.0),\n",
              " Row(longitude=-122.27, latitude=37.81, housingMedianAge=40.0, totalRooms=880.0, totalBedrooms=451.0, population=582.0, households=380.0, medianIncome=0.977, medianHouseValue=118800.0),\n",
              " Row(longitude=-122.27, latitude=37.81, housingMedianAge=10.0, totalRooms=875.0, totalBedrooms=348.0, population=546.0, households=330.0, medianIncome=0.76, medianHouseValue=162500.0),\n",
              " Row(longitude=-122.27, latitude=37.8, housingMedianAge=10.0, totalRooms=105.0, totalBedrooms=42.0, population=125.0, households=39.0, medianIncome=0.9722, medianHouseValue=137500.0),\n",
              " Row(longitude=-122.27, latitude=37.8, housingMedianAge=52.0, totalRooms=249.0, totalBedrooms=78.0, population=396.0, households=85.0, medianIncome=1.2434, medianHouseValue=500001.0),\n",
              " Row(longitude=-122.27, latitude=37.8, housingMedianAge=16.0, totalRooms=994.0, totalBedrooms=392.0, population=800.0, households=362.0, medianIncome=2.0938, medianHouseValue=162500.0),\n",
              " Row(longitude=-122.28, latitude=37.8, housingMedianAge=52.0, totalRooms=215.0, totalBedrooms=87.0, population=904.0, households=88.0, medianIncome=0.8668, medianHouseValue=137500.0),\n",
              " Row(longitude=-122.28, latitude=37.8, housingMedianAge=52.0, totalRooms=96.0, totalBedrooms=31.0, population=191.0, households=34.0, medianIncome=0.75, medianHouseValue=162500.0),\n",
              " Row(longitude=-122.27, latitude=37.79, housingMedianAge=27.0, totalRooms=1055.0, totalBedrooms=347.0, population=718.0, households=302.0, medianIncome=2.6354, medianHouseValue=187500.0),\n",
              " Row(longitude=-122.27, latitude=37.8, housingMedianAge=39.0, totalRooms=1715.0, totalBedrooms=623.0, population=1327.0, households=467.0, medianIncome=1.8477, medianHouseValue=179200.0),\n",
              " Row(longitude=-122.26, latitude=37.8, housingMedianAge=36.0, totalRooms=5329.0, totalBedrooms=2477.0, population=3469.0, households=2323.0, medianIncome=2.0096, medianHouseValue=130000.0),\n",
              " Row(longitude=-122.26, latitude=37.82, housingMedianAge=31.0, totalRooms=4596.0, totalBedrooms=1331.0, population=2048.0, households=1180.0, medianIncome=2.8345, medianHouseValue=183800.0),\n",
              " Row(longitude=-122.26, latitude=37.81, housingMedianAge=29.0, totalRooms=335.0, totalBedrooms=107.0, population=202.0, households=91.0, medianIncome=2.0062, medianHouseValue=125000.0),\n",
              " Row(longitude=-122.26, latitude=37.82, housingMedianAge=22.0, totalRooms=3682.0, totalBedrooms=1270.0, population=2024.0, households=1250.0, medianIncome=1.2185, medianHouseValue=170000.0),\n",
              " Row(longitude=-122.26, latitude=37.82, housingMedianAge=37.0, totalRooms=3633.0, totalBedrooms=1085.0, population=1838.0, households=980.0, medianIncome=2.6104, medianHouseValue=193100.0),\n",
              " Row(longitude=-122.25, latitude=37.81, housingMedianAge=29.0, totalRooms=4656.0, totalBedrooms=1414.0, population=2304.0, households=1250.0, medianIncome=2.4912, medianHouseValue=257800.0),\n",
              " Row(longitude=-122.25, latitude=37.81, housingMedianAge=28.0, totalRooms=5806.0, totalBedrooms=1603.0, population=2563.0, households=1497.0, medianIncome=3.2177, medianHouseValue=273400.0),\n",
              " Row(longitude=-122.25, latitude=37.81, housingMedianAge=39.0, totalRooms=854.0, totalBedrooms=242.0, population=389.0, households=228.0, medianIncome=3.125, medianHouseValue=237500.0),\n",
              " Row(longitude=-122.25, latitude=37.81, housingMedianAge=52.0, totalRooms=2155.0, totalBedrooms=701.0, population=895.0, households=613.0, medianIncome=2.5795, medianHouseValue=350000.0),\n",
              " Row(longitude=-122.26, latitude=37.81, housingMedianAge=34.0, totalRooms=5871.0, totalBedrooms=1914.0, population=2689.0, households=1789.0, medianIncome=2.8406, medianHouseValue=335700.0),\n",
              " Row(longitude=-122.24, latitude=37.82, housingMedianAge=52.0, totalRooms=1509.0, totalBedrooms=225.0, population=674.0, households=244.0, medianIncome=4.9306, medianHouseValue=313400.0),\n",
              " Row(longitude=-122.24, latitude=37.81, housingMedianAge=52.0, totalRooms=2026.0, totalBedrooms=482.0, population=709.0, households=456.0, medianIncome=3.2727, medianHouseValue=268500.0),\n",
              " Row(longitude=-122.25, latitude=37.81, housingMedianAge=52.0, totalRooms=1758.0, totalBedrooms=460.0, population=686.0, households=422.0, medianIncome=3.1691, medianHouseValue=259400.0),\n",
              " Row(longitude=-122.24, latitude=37.82, housingMedianAge=52.0, totalRooms=3481.0, totalBedrooms=751.0, population=1444.0, households=718.0, medianIncome=3.9, medianHouseValue=275700.0),\n",
              " Row(longitude=-122.25, latitude=37.82, housingMedianAge=28.0, totalRooms=3337.0, totalBedrooms=855.0, population=1520.0, households=802.0, medianIncome=3.9063, medianHouseValue=225000.0),\n",
              " Row(longitude=-122.25, latitude=37.82, housingMedianAge=52.0, totalRooms=1424.0, totalBedrooms=289.0, population=550.0, households=253.0, medianIncome=5.0917, medianHouseValue=262500.0),\n",
              " Row(longitude=-122.25, latitude=37.82, housingMedianAge=32.0, totalRooms=3809.0, totalBedrooms=1098.0, population=1806.0, households=1022.0, medianIncome=2.6429, medianHouseValue=218500.0),\n",
              " Row(longitude=-122.25, latitude=37.82, housingMedianAge=26.0, totalRooms=3959.0, totalBedrooms=1196.0, population=1749.0, households=1217.0, medianIncome=3.0233, medianHouseValue=255000.0),\n",
              " Row(longitude=-122.25, latitude=37.83, housingMedianAge=52.0, totalRooms=2376.0, totalBedrooms=559.0, population=939.0, households=519.0, medianIncome=3.1484, medianHouseValue=224100.0),\n",
              " Row(longitude=-122.25, latitude=37.83, housingMedianAge=35.0, totalRooms=1613.0, totalBedrooms=428.0, population=675.0, households=422.0, medianIncome=3.4722, medianHouseValue=243100.0),\n",
              " Row(longitude=-122.25, latitude=37.83, housingMedianAge=52.0, totalRooms=1279.0, totalBedrooms=287.0, population=534.0, households=291.0, medianIncome=3.1429, medianHouseValue=231600.0),\n",
              " Row(longitude=-122.25, latitude=37.83, housingMedianAge=28.0, totalRooms=5022.0, totalBedrooms=1750.0, population=2558.0, households=1661.0, medianIncome=2.4234, medianHouseValue=218500.0),\n",
              " Row(longitude=-122.25, latitude=37.83, housingMedianAge=52.0, totalRooms=4190.0, totalBedrooms=1105.0, population=1786.0, households=1037.0, medianIncome=3.0897, medianHouseValue=234100.0),\n",
              " Row(longitude=-122.23, latitude=37.84, housingMedianAge=50.0, totalRooms=2515.0, totalBedrooms=399.0, population=970.0, households=373.0, medianIncome=5.8596, medianHouseValue=327600.0),\n",
              " Row(longitude=-122.23, latitude=37.84, housingMedianAge=47.0, totalRooms=3175.0, totalBedrooms=454.0, population=1098.0, households=485.0, medianIncome=5.2868, medianHouseValue=347600.0),\n",
              " Row(longitude=-122.24, latitude=37.83, housingMedianAge=41.0, totalRooms=2576.0, totalBedrooms=406.0, population=794.0, households=376.0, medianIncome=5.956, medianHouseValue=366100.0),\n",
              " Row(longitude=-122.24, latitude=37.85, housingMedianAge=37.0, totalRooms=334.0, totalBedrooms=54.0, population=98.0, households=47.0, medianIncome=4.9643, medianHouseValue=335000.0),\n",
              " Row(longitude=-122.23, latitude=37.85, housingMedianAge=52.0, totalRooms=2800.0, totalBedrooms=411.0, population=1061.0, households=403.0, medianIncome=6.3434, medianHouseValue=373600.0),\n",
              " Row(longitude=-122.24, latitude=37.84, housingMedianAge=52.0, totalRooms=3529.0, totalBedrooms=574.0, population=1177.0, households=555.0, medianIncome=5.1773, medianHouseValue=389500.0),\n",
              " Row(longitude=-122.24, latitude=37.85, housingMedianAge=52.0, totalRooms=2612.0, totalBedrooms=365.0, population=901.0, households=367.0, medianIncome=7.2354, medianHouseValue=391100.0),\n",
              " Row(longitude=-122.22, latitude=37.85, housingMedianAge=28.0, totalRooms=5287.0, totalBedrooms=1048.0, population=2031.0, households=956.0, medianIncome=5.457, medianHouseValue=337300.0),\n",
              " Row(longitude=-122.22, latitude=37.84, housingMedianAge=50.0, totalRooms=2935.0, totalBedrooms=473.0, population=1031.0, households=479.0, medianIncome=7.5, medianHouseValue=295200.0),\n",
              " Row(longitude=-122.21, latitude=37.84, housingMedianAge=44.0, totalRooms=3424.0, totalBedrooms=597.0, population=1358.0, households=597.0, medianIncome=6.0194, medianHouseValue=292300.0),\n",
              " Row(longitude=-122.21, latitude=37.83, housingMedianAge=40.0, totalRooms=4991.0, totalBedrooms=674.0, population=1616.0, households=654.0, medianIncome=7.5544, medianHouseValue=411500.0),\n",
              " Row(longitude=-122.2, latitude=37.84, housingMedianAge=30.0, totalRooms=2211.0, totalBedrooms=346.0, population=844.0, households=343.0, medianIncome=6.0666, medianHouseValue=311500.0),\n",
              " Row(longitude=-122.21, latitude=37.84, housingMedianAge=34.0, totalRooms=3038.0, totalBedrooms=490.0, population=1140.0, households=496.0, medianIncome=7.0548, medianHouseValue=325900.0),\n",
              " Row(longitude=-122.19, latitude=37.84, housingMedianAge=18.0, totalRooms=1617.0, totalBedrooms=210.0, population=533.0, households=194.0, medianIncome=11.6017, medianHouseValue=392600.0),\n",
              " Row(longitude=-122.2, latitude=37.84, housingMedianAge=35.0, totalRooms=2865.0, totalBedrooms=460.0, population=1072.0, households=443.0, medianIncome=7.4882, medianHouseValue=319300.0),\n",
              " Row(longitude=-122.21, latitude=37.83, housingMedianAge=34.0, totalRooms=5065.0, totalBedrooms=788.0, population=1627.0, households=766.0, medianIncome=6.8976, medianHouseValue=333300.0),\n",
              " Row(longitude=-122.19, latitude=37.83, housingMedianAge=28.0, totalRooms=1326.0, totalBedrooms=184.0, population=463.0, households=190.0, medianIncome=8.2049, medianHouseValue=335200.0),\n",
              " Row(longitude=-122.2, latitude=37.83, housingMedianAge=26.0, totalRooms=1589.0, totalBedrooms=223.0, population=542.0, households=211.0, medianIncome=8.401, medianHouseValue=351200.0),\n",
              " Row(longitude=-122.19, latitude=37.83, housingMedianAge=29.0, totalRooms=1791.0, totalBedrooms=271.0, population=661.0, households=269.0, medianIncome=6.8538, medianHouseValue=368900.0),\n",
              " Row(longitude=-122.19, latitude=37.82, housingMedianAge=32.0, totalRooms=1835.0, totalBedrooms=264.0, population=635.0, households=263.0, medianIncome=8.317, medianHouseValue=365900.0),\n",
              " Row(longitude=-122.2, latitude=37.82, housingMedianAge=37.0, totalRooms=1229.0, totalBedrooms=181.0, population=420.0, households=176.0, medianIncome=7.0175, medianHouseValue=366700.0),\n",
              " Row(longitude=-122.2, latitude=37.82, housingMedianAge=39.0, totalRooms=3770.0, totalBedrooms=534.0, population=1265.0, households=500.0, medianIncome=6.3302, medianHouseValue=362800.0),\n",
              " Row(longitude=-122.18, latitude=37.81, housingMedianAge=30.0, totalRooms=292.0, totalBedrooms=38.0, population=126.0, households=52.0, medianIncome=6.3624, medianHouseValue=483300.0),\n",
              " Row(longitude=-122.21, latitude=37.82, housingMedianAge=52.0, totalRooms=2375.0, totalBedrooms=333.0, population=813.0, households=350.0, medianIncome=7.0549, medianHouseValue=331400.0),\n",
              " Row(longitude=-122.2, latitude=37.81, housingMedianAge=45.0, totalRooms=2964.0, totalBedrooms=436.0, population=1067.0, households=426.0, medianIncome=6.7851, medianHouseValue=323500.0),\n",
              " Row(longitude=-122.21, latitude=37.8, housingMedianAge=50.0, totalRooms=2833.0, totalBedrooms=605.0, population=1260.0, households=552.0, medianIncome=2.8929, medianHouseValue=216700.0),\n",
              " Row(longitude=-122.21, latitude=37.8, housingMedianAge=38.0, totalRooms=2254.0, totalBedrooms=535.0, population=951.0, households=487.0, medianIncome=3.0812, medianHouseValue=233100.0),\n",
              " Row(longitude=-122.21, latitude=37.81, housingMedianAge=52.0, totalRooms=1389.0, totalBedrooms=212.0, population=510.0, households=224.0, medianIncome=5.2402, medianHouseValue=296400.0),\n",
              " Row(longitude=-122.22, latitude=37.81, housingMedianAge=52.0, totalRooms=1971.0, totalBedrooms=335.0, population=765.0, households=308.0, medianIncome=6.5217, medianHouseValue=273700.0),\n",
              " Row(longitude=-122.22, latitude=37.8, housingMedianAge=52.0, totalRooms=2183.0, totalBedrooms=465.0, population=1129.0, households=460.0, medianIncome=3.2632, medianHouseValue=227700.0),\n",
              " Row(longitude=-122.22, latitude=37.8, housingMedianAge=52.0, totalRooms=2286.0, totalBedrooms=464.0, population=1073.0, households=441.0, medianIncome=3.0298, medianHouseValue=199600.0),\n",
              " Row(longitude=-122.22, latitude=37.8, housingMedianAge=52.0, totalRooms=2721.0, totalBedrooms=541.0, population=1185.0, households=515.0, medianIncome=4.5428, medianHouseValue=239800.0),\n",
              " Row(longitude=-122.22, latitude=37.81, housingMedianAge=52.0, totalRooms=2024.0, totalBedrooms=339.0, population=756.0, households=340.0, medianIncome=4.072, medianHouseValue=270100.0),\n",
              " Row(longitude=-122.22, latitude=37.81, housingMedianAge=52.0, totalRooms=2944.0, totalBedrooms=536.0, population=1034.0, households=521.0, medianIncome=5.3509, medianHouseValue=302100.0),\n",
              " Row(longitude=-122.23, latitude=37.8, housingMedianAge=52.0, totalRooms=2033.0, totalBedrooms=486.0, population=787.0, households=459.0, medianIncome=3.1603, medianHouseValue=269500.0),\n",
              " Row(longitude=-122.23, latitude=37.81, housingMedianAge=52.0, totalRooms=1433.0, totalBedrooms=229.0, population=612.0, households=213.0, medianIncome=4.7708, medianHouseValue=314700.0),\n",
              " Row(longitude=-122.22, latitude=37.81, housingMedianAge=52.0, totalRooms=2927.0, totalBedrooms=402.0, population=1021.0, households=380.0, medianIncome=8.1564, medianHouseValue=390100.0),\n",
              " Row(longitude=-122.23, latitude=37.81, housingMedianAge=52.0, totalRooms=2315.0, totalBedrooms=292.0, population=861.0, households=258.0, medianIncome=8.8793, medianHouseValue=410300.0),\n",
              " Row(longitude=-122.24, latitude=37.81, housingMedianAge=52.0, totalRooms=2485.0, totalBedrooms=313.0, population=953.0, households=327.0, medianIncome=6.8591, medianHouseValue=352400.0),\n",
              " Row(longitude=-122.24, latitude=37.81, housingMedianAge=52.0, totalRooms=1490.0, totalBedrooms=238.0, population=634.0, households=256.0, medianIncome=6.0302, medianHouseValue=287300.0),\n",
              " Row(longitude=-122.23, latitude=37.81, housingMedianAge=52.0, totalRooms=2814.0, totalBedrooms=365.0, population=878.0, households=352.0, medianIncome=7.508, medianHouseValue=348700.0),\n",
              " Row(longitude=-122.24, latitude=37.81, housingMedianAge=52.0, totalRooms=2093.0, totalBedrooms=550.0, population=918.0, households=483.0, medianIncome=2.7477, medianHouseValue=243800.0),\n",
              " Row(longitude=-122.24, latitude=37.8, housingMedianAge=52.0, totalRooms=888.0, totalBedrooms=168.0, population=360.0, households=175.0, medianIncome=2.1944, medianHouseValue=211500.0),\n",
              " Row(longitude=-122.25, latitude=37.8, housingMedianAge=52.0, totalRooms=2087.0, totalBedrooms=510.0, population=1197.0, households=488.0, medianIncome=3.0149, medianHouseValue=218400.0),\n",
              " Row(longitude=-122.24, latitude=37.81, housingMedianAge=52.0, totalRooms=2513.0, totalBedrooms=502.0, population=1048.0, households=518.0, medianIncome=3.675, medianHouseValue=269900.0),\n",
              " Row(longitude=-122.25, latitude=37.81, housingMedianAge=46.0, totalRooms=3232.0, totalBedrooms=835.0, population=1373.0, households=747.0, medianIncome=3.225, medianHouseValue=218800.0),\n",
              " Row(longitude=-122.25, latitude=37.8, housingMedianAge=42.0, totalRooms=4120.0, totalBedrooms=1065.0, population=1715.0, households=1015.0, medianIncome=2.9345, medianHouseValue=225000.0),\n",
              " Row(longitude=-122.25, latitude=37.8, housingMedianAge=43.0, totalRooms=2364.0, totalBedrooms=792.0, population=1359.0, households=722.0, medianIncome=2.1429, medianHouseValue=250000.0),\n",
              " Row(longitude=-122.25, latitude=37.8, housingMedianAge=41.0, totalRooms=1471.0, totalBedrooms=469.0, population=1062.0, households=413.0, medianIncome=1.6121, medianHouseValue=171400.0),\n",
              " Row(longitude=-122.25, latitude=37.8, housingMedianAge=29.0, totalRooms=2468.0, totalBedrooms=864.0, population=1335.0, households=773.0, medianIncome=1.3929, medianHouseValue=193800.0),\n",
              " Row(longitude=-122.24, latitude=37.79, housingMedianAge=27.0, totalRooms=1632.0, totalBedrooms=492.0, population=1171.0, households=429.0, medianIncome=2.3173, medianHouseValue=125000.0),\n",
              " Row(longitude=-122.25, latitude=37.79, housingMedianAge=45.0, totalRooms=1786.0, totalBedrooms=526.0, population=1475.0, households=460.0, medianIncome=1.7772, medianHouseValue=97500.0),\n",
              " Row(longitude=-122.25, latitude=37.79, housingMedianAge=50.0, totalRooms=629.0, totalBedrooms=188.0, population=742.0, households=196.0, medianIncome=2.6458, medianHouseValue=125000.0),\n",
              " Row(longitude=-122.25, latitude=37.79, housingMedianAge=52.0, totalRooms=1339.0, totalBedrooms=391.0, population=1086.0, households=363.0, medianIncome=2.181, medianHouseValue=138800.0),\n",
              " Row(longitude=-122.25, latitude=37.8, housingMedianAge=36.0, totalRooms=1678.0, totalBedrooms=606.0, population=1645.0, households=543.0, medianIncome=2.2303, medianHouseValue=116700.0),\n",
              " Row(longitude=-122.25, latitude=37.8, housingMedianAge=43.0, totalRooms=2344.0, totalBedrooms=647.0, population=1710.0, households=644.0, medianIncome=1.6504, medianHouseValue=151800.0),\n",
              " Row(longitude=-122.24, latitude=37.8, housingMedianAge=52.0, totalRooms=996.0, totalBedrooms=228.0, population=731.0, households=228.0, medianIncome=2.2697, medianHouseValue=127000.0),\n",
              " Row(longitude=-122.24, latitude=37.8, housingMedianAge=52.0, totalRooms=1591.0, totalBedrooms=373.0, population=1118.0, households=347.0, medianIncome=2.1563, medianHouseValue=128600.0),\n",
              " Row(longitude=-122.24, latitude=37.8, housingMedianAge=52.0, totalRooms=1586.0, totalBedrooms=398.0, population=1006.0, households=335.0, medianIncome=2.1348, medianHouseValue=140600.0),\n",
              " Row(longitude=-122.24, latitude=37.8, housingMedianAge=47.0, totalRooms=2046.0, totalBedrooms=588.0, population=1213.0, households=554.0, medianIncome=2.6292, medianHouseValue=182700.0),\n",
              " Row(longitude=-122.23, latitude=37.8, housingMedianAge=52.0, totalRooms=1192.0, totalBedrooms=289.0, population=772.0, households=257.0, medianIncome=2.3833, medianHouseValue=146900.0),\n",
              " Row(longitude=-122.24, latitude=37.8, housingMedianAge=52.0, totalRooms=1803.0, totalBedrooms=420.0, population=1321.0, households=401.0, medianIncome=2.957, medianHouseValue=122800.0),\n",
              " Row(longitude=-122.24, latitude=37.8, housingMedianAge=49.0, totalRooms=2838.0, totalBedrooms=749.0, population=1487.0, households=677.0, medianIncome=2.5238, medianHouseValue=169300.0),\n",
              " Row(longitude=-122.23, latitude=37.8, housingMedianAge=52.0, totalRooms=783.0, totalBedrooms=184.0, population=488.0, households=186.0, medianIncome=1.9375, medianHouseValue=126600.0),\n",
              " Row(longitude=-122.23, latitude=37.8, housingMedianAge=51.0, totalRooms=1590.0, totalBedrooms=414.0, population=949.0, households=392.0, medianIncome=1.9028, medianHouseValue=127900.0),\n",
              " Row(longitude=-122.23, latitude=37.8, housingMedianAge=50.0, totalRooms=1746.0, totalBedrooms=480.0, population=1149.0, households=415.0, medianIncome=2.25, medianHouseValue=123500.0),\n",
              " Row(longitude=-122.23, latitude=37.8, housingMedianAge=52.0, totalRooms=1252.0, totalBedrooms=299.0, population=844.0, households=280.0, medianIncome=2.3929, medianHouseValue=111900.0),\n",
              " Row(longitude=-122.23, latitude=37.79, housingMedianAge=43.0, totalRooms=5963.0, totalBedrooms=1344.0, population=4367.0, households=1231.0, medianIncome=2.1917, medianHouseValue=112800.0),\n",
              " Row(longitude=-122.23, latitude=37.79, housingMedianAge=52.0, totalRooms=1783.0, totalBedrooms=395.0, population=1659.0, households=412.0, medianIncome=2.9357, medianHouseValue=107900.0),\n",
              " Row(longitude=-122.23, latitude=37.79, housingMedianAge=30.0, totalRooms=999.0, totalBedrooms=264.0, population=1011.0, households=263.0, medianIncome=1.8854, medianHouseValue=137500.0),\n",
              " Row(longitude=-122.24, latitude=37.79, housingMedianAge=39.0, totalRooms=1469.0, totalBedrooms=431.0, population=1464.0, households=389.0, medianIncome=2.1638, medianHouseValue=105500.0),\n",
              " Row(longitude=-122.24, latitude=37.79, housingMedianAge=47.0, totalRooms=1372.0, totalBedrooms=395.0, population=1237.0, households=303.0, medianIncome=2.125, medianHouseValue=95500.0),\n",
              " Row(longitude=-122.24, latitude=37.79, housingMedianAge=52.0, totalRooms=674.0, totalBedrooms=180.0, population=647.0, households=168.0, medianIncome=3.375, medianHouseValue=116100.0),\n",
              " Row(longitude=-122.24, latitude=37.79, housingMedianAge=43.0, totalRooms=1626.0, totalBedrooms=376.0, population=1284.0, households=357.0, medianIncome=2.2542, medianHouseValue=112200.0),\n",
              " Row(longitude=-122.25, latitude=37.79, housingMedianAge=51.0, totalRooms=175.0, totalBedrooms=43.0, population=228.0, households=55.0, medianIncome=2.1, medianHouseValue=75000.0),\n",
              " Row(longitude=-122.25, latitude=37.79, housingMedianAge=39.0, totalRooms=461.0, totalBedrooms=129.0, population=381.0, households=123.0, medianIncome=1.6, medianHouseValue=112500.0),\n",
              " Row(longitude=-122.25, latitude=37.79, housingMedianAge=52.0, totalRooms=902.0, totalBedrooms=237.0, population=846.0, households=227.0, medianIncome=3.625, medianHouseValue=125000.0),\n",
              " Row(longitude=-122.26, latitude=37.8, housingMedianAge=20.0, totalRooms=2373.0, totalBedrooms=779.0, population=1659.0, households=676.0, medianIncome=1.6929, medianHouseValue=115000.0),\n",
              " Row(longitude=-122.22, latitude=37.77, housingMedianAge=52.0, totalRooms=391.0, totalBedrooms=128.0, population=520.0, households=138.0, medianIncome=1.6471, medianHouseValue=95000.0),\n",
              " Row(longitude=-122.22, latitude=37.77, housingMedianAge=52.0, totalRooms=1137.0, totalBedrooms=301.0, population=866.0, households=259.0, medianIncome=2.59, medianHouseValue=96400.0),\n",
              " Row(longitude=-122.23, latitude=37.77, housingMedianAge=52.0, totalRooms=769.0, totalBedrooms=206.0, population=612.0, households=183.0, medianIncome=2.57, medianHouseValue=72000.0),\n",
              " Row(longitude=-122.23, latitude=37.78, housingMedianAge=52.0, totalRooms=472.0, totalBedrooms=146.0, population=415.0, households=126.0, medianIncome=2.6429, medianHouseValue=71300.0),\n",
              " Row(longitude=-122.23, latitude=37.78, housingMedianAge=52.0, totalRooms=862.0, totalBedrooms=215.0, population=994.0, households=213.0, medianIncome=3.0257, medianHouseValue=80800.0),\n",
              " Row(longitude=-122.22, latitude=37.78, housingMedianAge=50.0, totalRooms=1920.0, totalBedrooms=530.0, population=1525.0, households=477.0, medianIncome=1.4886, medianHouseValue=128800.0),\n",
              " Row(longitude=-122.23, latitude=37.78, housingMedianAge=43.0, totalRooms=1420.0, totalBedrooms=472.0, population=1506.0, households=438.0, medianIncome=1.9338, medianHouseValue=112500.0),\n",
              " Row(longitude=-122.23, latitude=37.78, housingMedianAge=52.0, totalRooms=986.0, totalBedrooms=258.0, population=1008.0, households=255.0, medianIncome=1.4844, medianHouseValue=119400.0),\n",
              " Row(longitude=-122.23, latitude=37.78, housingMedianAge=44.0, totalRooms=2340.0, totalBedrooms=825.0, population=2813.0, households=751.0, medianIncome=1.6009, medianHouseValue=118100.0),\n",
              " Row(longitude=-122.23, latitude=37.79, housingMedianAge=48.0, totalRooms=1696.0, totalBedrooms=396.0, population=1481.0, households=343.0, medianIncome=2.0375, medianHouseValue=122500.0),\n",
              " Row(longitude=-122.23, latitude=37.79, housingMedianAge=49.0, totalRooms=1175.0, totalBedrooms=217.0, population=859.0, households=219.0, medianIncome=2.293, medianHouseValue=106300.0),\n",
              " Row(longitude=-122.22, latitude=37.79, housingMedianAge=37.0, totalRooms=2343.0, totalBedrooms=574.0, population=1608.0, households=523.0, medianIncome=2.1494, medianHouseValue=132500.0),\n",
              " Row(longitude=-122.23, latitude=37.79, housingMedianAge=30.0, totalRooms=610.0, totalBedrooms=145.0, population=425.0, households=140.0, medianIncome=1.6198, medianHouseValue=122700.0),\n",
              " Row(longitude=-122.23, latitude=37.79, housingMedianAge=40.0, totalRooms=930.0, totalBedrooms=199.0, population=564.0, households=184.0, medianIncome=1.3281, medianHouseValue=113300.0),\n",
              " Row(longitude=-122.22, latitude=37.79, housingMedianAge=44.0, totalRooms=1487.0, totalBedrooms=314.0, population=961.0, households=272.0, medianIncome=3.5156, medianHouseValue=109500.0),\n",
              " Row(longitude=-122.22, latitude=37.79, housingMedianAge=52.0, totalRooms=3424.0, totalBedrooms=690.0, population=2273.0, households=685.0, medianIncome=3.9048, medianHouseValue=164700.0),\n",
              " Row(longitude=-122.21, latitude=37.79, housingMedianAge=52.0, totalRooms=762.0, totalBedrooms=190.0, population=600.0, households=195.0, medianIncome=3.0893, medianHouseValue=125000.0),\n",
              " Row(longitude=-122.22, latitude=37.79, housingMedianAge=46.0, totalRooms=2366.0, totalBedrooms=575.0, population=1647.0, households=527.0, medianIncome=2.6042, medianHouseValue=124700.0),\n",
              " Row(longitude=-122.22, latitude=37.79, housingMedianAge=49.0, totalRooms=1826.0, totalBedrooms=450.0, population=1201.0, households=424.0, medianIncome=2.5, medianHouseValue=136700.0),\n",
              " Row(longitude=-122.22, latitude=37.79, housingMedianAge=38.0, totalRooms=3049.0, totalBedrooms=711.0, population=2167.0, households=659.0, medianIncome=2.7969, medianHouseValue=141700.0),\n",
              " Row(longitude=-122.2, latitude=37.79, housingMedianAge=29.0, totalRooms=1640.0, totalBedrooms=376.0, population=939.0, households=340.0, medianIncome=2.8321, medianHouseValue=150000.0),\n",
              " Row(longitude=-122.21, latitude=37.79, housingMedianAge=47.0, totalRooms=1543.0, totalBedrooms=307.0, population=859.0, households=292.0, medianIncome=2.9583, medianHouseValue=138800.0),\n",
              " Row(longitude=-122.21, latitude=37.79, housingMedianAge=34.0, totalRooms=2364.0, totalBedrooms=557.0, population=1517.0, households=516.0, medianIncome=2.8365, medianHouseValue=139200.0),\n",
              " Row(longitude=-122.21, latitude=37.79, housingMedianAge=35.0, totalRooms=1745.0, totalBedrooms=409.0, population=1143.0, households=386.0, medianIncome=2.875, medianHouseValue=143800.0),\n",
              " Row(longitude=-122.21, latitude=37.8, housingMedianAge=39.0, totalRooms=2003.0, totalBedrooms=500.0, population=1109.0, households=464.0, medianIncome=3.0682, medianHouseValue=156500.0),\n",
              " Row(longitude=-122.21, latitude=37.8, housingMedianAge=39.0, totalRooms=2018.0, totalBedrooms=447.0, population=1221.0, households=446.0, medianIncome=3.0757, medianHouseValue=151000.0),\n",
              " Row(longitude=-122.2, latitude=37.8, housingMedianAge=43.0, totalRooms=3045.0, totalBedrooms=499.0, population=1115.0, households=455.0, medianIncome=4.9559, medianHouseValue=273000.0),\n",
              " Row(longitude=-122.2, latitude=37.8, housingMedianAge=52.0, totalRooms=1547.0, totalBedrooms=293.0, population=706.0, households=268.0, medianIncome=4.7721, medianHouseValue=217100.0),\n",
              " Row(longitude=-122.21, latitude=37.8, housingMedianAge=52.0, totalRooms=3519.0, totalBedrooms=711.0, population=1883.0, households=706.0, medianIncome=3.4861, medianHouseValue=187100.0),\n",
              " Row(longitude=-122.2, latitude=37.8, housingMedianAge=41.0, totalRooms=2070.0, totalBedrooms=354.0, population=804.0, households=340.0, medianIncome=5.1184, medianHouseValue=239600.0),\n",
              " Row(longitude=-122.21, latitude=37.8, housingMedianAge=48.0, totalRooms=1321.0, totalBedrooms=263.0, population=506.0, households=252.0, medianIncome=4.0977, medianHouseValue=229700.0),\n",
              " Row(longitude=-122.19, latitude=37.8, housingMedianAge=48.0, totalRooms=1694.0, totalBedrooms=259.0, population=610.0, households=238.0, medianIncome=4.744, medianHouseValue=257300.0),\n",
              " Row(longitude=-122.19, latitude=37.8, housingMedianAge=46.0, totalRooms=1938.0, totalBedrooms=341.0, population=768.0, households=332.0, medianIncome=4.2727, medianHouseValue=246900.0),\n",
              " Row(longitude=-122.19, latitude=37.79, housingMedianAge=50.0, totalRooms=968.0, totalBedrooms=195.0, population=462.0, households=184.0, medianIncome=2.9844, medianHouseValue=179900.0),\n",
              " Row(longitude=-122.2, latitude=37.79, housingMedianAge=40.0, totalRooms=1060.0, totalBedrooms=256.0, population=667.0, households=235.0, medianIncome=4.1739, medianHouseValue=169600.0),\n",
              " Row(longitude=-122.2, latitude=37.8, housingMedianAge=46.0, totalRooms=2041.0, totalBedrooms=405.0, population=1059.0, households=399.0, medianIncome=3.8487, medianHouseValue=203300.0),\n",
              " Row(longitude=-122.19, latitude=37.8, housingMedianAge=52.0, totalRooms=1813.0, totalBedrooms=271.0, population=637.0, households=277.0, medianIncome=4.0114, medianHouseValue=263400.0),\n",
              " Row(longitude=-122.19, latitude=37.79, housingMedianAge=45.0, totalRooms=2718.0, totalBedrooms=451.0, population=1106.0, households=454.0, medianIncome=4.6563, medianHouseValue=231800.0),\n",
              " Row(longitude=-122.19, latitude=37.79, housingMedianAge=28.0, totalRooms=3144.0, totalBedrooms=761.0, population=1737.0, households=669.0, medianIncome=2.9297, medianHouseValue=140500.0),\n",
              " Row(longitude=-122.2, latitude=37.79, housingMedianAge=35.0, totalRooms=1802.0, totalBedrooms=459.0, population=1009.0, households=390.0, medianIncome=2.3036, medianHouseValue=126000.0),\n",
              " Row(longitude=-122.2, latitude=37.79, housingMedianAge=49.0, totalRooms=882.0, totalBedrooms=195.0, population=737.0, households=210.0, medianIncome=2.6667, medianHouseValue=122000.0),\n",
              " Row(longitude=-122.2, latitude=37.79, housingMedianAge=44.0, totalRooms=1621.0, totalBedrooms=452.0, population=1354.0, households=491.0, medianIncome=2.619, medianHouseValue=134700.0),\n",
              " Row(longitude=-122.21, latitude=37.79, housingMedianAge=45.0, totalRooms=2115.0, totalBedrooms=533.0, population=1530.0, households=474.0, medianIncome=2.4167, medianHouseValue=139400.0),\n",
              " Row(longitude=-122.2, latitude=37.79, housingMedianAge=45.0, totalRooms=2021.0, totalBedrooms=528.0, population=1410.0, households=480.0, medianIncome=2.7788, medianHouseValue=115400.0),\n",
              " Row(longitude=-122.21, latitude=37.78, housingMedianAge=46.0, totalRooms=2239.0, totalBedrooms=508.0, population=1390.0, households=569.0, medianIncome=2.7352, medianHouseValue=137300.0),\n",
              " Row(longitude=-122.21, latitude=37.78, housingMedianAge=52.0, totalRooms=1477.0, totalBedrooms=300.0, population=1065.0, households=269.0, medianIncome=1.8472, medianHouseValue=137000.0),\n",
              " Row(longitude=-122.21, latitude=37.78, housingMedianAge=52.0, totalRooms=1056.0, totalBedrooms=224.0, population=792.0, households=245.0, medianIncome=2.6583, medianHouseValue=142600.0),\n",
              " Row(longitude=-122.21, latitude=37.78, housingMedianAge=49.0, totalRooms=898.0, totalBedrooms=244.0, population=779.0, households=245.0, medianIncome=3.0536, medianHouseValue=137500.0),\n",
              " Row(longitude=-122.22, latitude=37.78, housingMedianAge=44.0, totalRooms=2968.0, totalBedrooms=710.0, population=2269.0, households=610.0, medianIncome=2.3906, medianHouseValue=111700.0),\n",
              " Row(longitude=-122.21, latitude=37.78, housingMedianAge=43.0, totalRooms=1702.0, totalBedrooms=460.0, population=1227.0, households=407.0, medianIncome=1.7188, medianHouseValue=126800.0),\n",
              " Row(longitude=-122.21, latitude=37.78, housingMedianAge=47.0, totalRooms=881.0, totalBedrooms=248.0, population=753.0, households=241.0, medianIncome=2.625, medianHouseValue=111300.0),\n",
              " Row(longitude=-122.22, latitude=37.77, housingMedianAge=40.0, totalRooms=494.0, totalBedrooms=114.0, population=547.0, households=135.0, medianIncome=2.8015, medianHouseValue=114800.0),\n",
              " Row(longitude=-122.22, latitude=37.78, housingMedianAge=50.0, totalRooms=1776.0, totalBedrooms=473.0, population=1807.0, households=440.0, medianIncome=1.7276, medianHouseValue=102300.0),\n",
              " Row(longitude=-122.22, latitude=37.78, housingMedianAge=44.0, totalRooms=1678.0, totalBedrooms=514.0, population=1700.0, households=495.0, medianIncome=2.0801, medianHouseValue=131900.0),\n",
              " Row(longitude=-122.22, latitude=37.78, housingMedianAge=51.0, totalRooms=1637.0, totalBedrooms=463.0, population=1543.0, households=393.0, medianIncome=2.489, medianHouseValue=119100.0),\n",
              " Row(longitude=-122.21, latitude=37.76, housingMedianAge=52.0, totalRooms=1420.0, totalBedrooms=314.0, population=1085.0, households=300.0, medianIncome=1.7546, medianHouseValue=80600.0),\n",
              " Row(longitude=-122.21, latitude=37.77, housingMedianAge=52.0, totalRooms=591.0, totalBedrooms=173.0, population=353.0, households=137.0, medianIncome=4.0904, medianHouseValue=80600.0),\n",
              " Row(longitude=-122.21, latitude=37.77, housingMedianAge=52.0, totalRooms=745.0, totalBedrooms=153.0, population=473.0, households=149.0, medianIncome=2.6765, medianHouseValue=88800.0),\n",
              " Row(longitude=-122.2, latitude=37.77, housingMedianAge=49.0, totalRooms=2272.0, totalBedrooms=498.0, population=1621.0, households=483.0, medianIncome=2.4338, medianHouseValue=102400.0),\n",
              " Row(longitude=-122.21, latitude=37.77, housingMedianAge=46.0, totalRooms=1234.0, totalBedrooms=375.0, population=1183.0, households=354.0, medianIncome=2.3309, medianHouseValue=98700.0),\n",
              " Row(longitude=-122.21, latitude=37.77, housingMedianAge=43.0, totalRooms=1017.0, totalBedrooms=328.0, population=836.0, households=277.0, medianIncome=2.2604, medianHouseValue=100000.0),\n",
              " Row(longitude=-122.19, latitude=37.77, housingMedianAge=42.0, totalRooms=932.0, totalBedrooms=254.0, population=900.0, households=263.0, medianIncome=1.8039, medianHouseValue=92300.0),\n",
              " Row(longitude=-122.2, latitude=37.77, housingMedianAge=39.0, totalRooms=2689.0, totalBedrooms=597.0, population=1888.0, households=537.0, medianIncome=2.2562, medianHouseValue=94800.0),\n",
              " Row(longitude=-122.2, latitude=37.77, housingMedianAge=41.0, totalRooms=1547.0, totalBedrooms=415.0, population=1024.0, households=341.0, medianIncome=2.0562, medianHouseValue=102000.0),\n",
              " Row(longitude=-122.2, latitude=37.78, housingMedianAge=52.0, totalRooms=2300.0, totalBedrooms=443.0, population=1225.0, households=423.0, medianIncome=3.5398, medianHouseValue=158400.0),\n",
              " Row(longitude=-122.2, latitude=37.78, housingMedianAge=39.0, totalRooms=1752.0, totalBedrooms=399.0, population=1071.0, households=376.0, medianIncome=3.1167, medianHouseValue=121600.0),\n",
              " Row(longitude=-122.2, latitude=37.78, housingMedianAge=50.0, totalRooms=1867.0, totalBedrooms=403.0, population=1128.0, households=378.0, medianIncome=2.5401, medianHouseValue=129100.0),\n",
              " Row(longitude=-122.2, latitude=37.77, housingMedianAge=43.0, totalRooms=2430.0, totalBedrooms=502.0, population=1537.0, households=484.0, medianIncome=2.898, medianHouseValue=121400.0),\n",
              " Row(longitude=-122.21, latitude=37.78, housingMedianAge=44.0, totalRooms=1729.0, totalBedrooms=414.0, population=1240.0, households=393.0, medianIncome=2.3125, medianHouseValue=102800.0),\n",
              " Row(longitude=-122.19, latitude=37.78, housingMedianAge=52.0, totalRooms=1026.0, totalBedrooms=180.0, population=469.0, households=168.0, medianIncome=2.875, medianHouseValue=160000.0),\n",
              " Row(longitude=-122.19, latitude=37.77, housingMedianAge=52.0, totalRooms=2170.0, totalBedrooms=428.0, population=1086.0, households=425.0, medianIncome=3.3715, medianHouseValue=143900.0),\n",
              " Row(longitude=-122.19, latitude=37.77, housingMedianAge=52.0, totalRooms=2329.0, totalBedrooms=445.0, population=1144.0, households=417.0, medianIncome=3.5114, medianHouseValue=151200.0),\n",
              " Row(longitude=-122.19, latitude=37.78, housingMedianAge=52.0, totalRooms=2492.0, totalBedrooms=415.0, population=1109.0, households=375.0, medianIncome=4.3125, medianHouseValue=164400.0),\n",
              " Row(longitude=-122.19, latitude=37.78, housingMedianAge=52.0, totalRooms=2198.0, totalBedrooms=397.0, population=984.0, households=369.0, medianIncome=3.22, medianHouseValue=156500.0),\n",
              " Row(longitude=-122.18, latitude=37.78, housingMedianAge=33.0, totalRooms=142.0, totalBedrooms=31.0, population=575.0, households=47.0, medianIncome=3.875, medianHouseValue=225000.0),\n",
              " Row(longitude=-122.19, latitude=37.78, housingMedianAge=49.0, totalRooms=1183.0, totalBedrooms=205.0, population=496.0, households=209.0, medianIncome=5.2328, medianHouseValue=174200.0),\n",
              " Row(longitude=-122.19, latitude=37.78, housingMedianAge=52.0, totalRooms=1070.0, totalBedrooms=193.0, population=555.0, households=190.0, medianIncome=3.7262, medianHouseValue=166900.0),\n",
              " Row(longitude=-122.2, latitude=37.78, housingMedianAge=45.0, totalRooms=1766.0, totalBedrooms=332.0, population=869.0, households=327.0, medianIncome=4.5893, medianHouseValue=163500.0),\n",
              " Row(longitude=-122.18, latitude=37.79, housingMedianAge=39.0, totalRooms=617.0, totalBedrooms=95.0, population=236.0, households=106.0, medianIncome=5.2578, medianHouseValue=253000.0),\n",
              " Row(longitude=-122.18, latitude=37.79, housingMedianAge=41.0, totalRooms=1411.0, totalBedrooms=233.0, population=626.0, households=214.0, medianIncome=7.0875, medianHouseValue=240700.0),\n",
              " Row(longitude=-122.18, latitude=37.79, housingMedianAge=46.0, totalRooms=2109.0, totalBedrooms=387.0, population=922.0, households=329.0, medianIncome=3.9712, medianHouseValue=208100.0),\n",
              " Row(longitude=-122.19, latitude=37.79, housingMedianAge=47.0, totalRooms=1229.0, totalBedrooms=243.0, population=582.0, households=256.0, medianIncome=2.9514, medianHouseValue=198100.0),\n",
              " Row(longitude=-122.19, latitude=37.79, housingMedianAge=50.0, totalRooms=954.0, totalBedrooms=217.0, population=546.0, households=201.0, medianIncome=2.6667, medianHouseValue=172800.0),\n",
              " Row(longitude=-122.18, latitude=37.81, housingMedianAge=37.0, totalRooms=1643.0, totalBedrooms=262.0, population=620.0, households=266.0, medianIncome=5.4446, medianHouseValue=336700.0),\n",
              " Row(longitude=-122.18, latitude=37.8, housingMedianAge=34.0, totalRooms=1355.0, totalBedrooms=195.0, population=442.0, households=195.0, medianIncome=6.2838, medianHouseValue=318200.0),\n",
              " Row(longitude=-122.18, latitude=37.8, housingMedianAge=23.0, totalRooms=2317.0, totalBedrooms=336.0, population=955.0, households=328.0, medianIncome=6.7527, medianHouseValue=285800.0),\n",
              " Row(longitude=-122.13, latitude=37.77, housingMedianAge=24.0, totalRooms=2459.0, totalBedrooms=317.0, population=916.0, households=324.0, medianIncome=7.0712, medianHouseValue=293000.0),\n",
              " Row(longitude=-122.16, latitude=37.79, housingMedianAge=22.0, totalRooms=12842.0, totalBedrooms=2048.0, population=4985.0, households=1967.0, medianIncome=5.9849, medianHouseValue=371000.0),\n",
              " Row(longitude=-122.17, latitude=37.78, housingMedianAge=42.0, totalRooms=1524.0, totalBedrooms=260.0, population=651.0, households=267.0, medianIncome=3.6875, medianHouseValue=157300.0),\n",
              " Row(longitude=-122.17, latitude=37.77, housingMedianAge=30.0, totalRooms=3326.0, totalBedrooms=746.0, population=1704.0, households=703.0, medianIncome=2.875, medianHouseValue=135300.0),\n",
              " Row(longitude=-122.18, latitude=37.78, housingMedianAge=43.0, totalRooms=1985.0, totalBedrooms=440.0, population=1085.0, households=407.0, medianIncome=3.4205, medianHouseValue=136700.0),\n",
              " Row(longitude=-122.18, latitude=37.78, housingMedianAge=50.0, totalRooms=1642.0, totalBedrooms=322.0, population=713.0, households=284.0, medianIncome=3.2984, medianHouseValue=160700.0),\n",
              " Row(longitude=-122.17, latitude=37.78, housingMedianAge=49.0, totalRooms=893.0, totalBedrooms=177.0, population=468.0, households=181.0, medianIncome=3.875, medianHouseValue=140600.0),\n",
              " Row(longitude=-122.17, latitude=37.78, housingMedianAge=52.0, totalRooms=653.0, totalBedrooms=128.0, population=296.0, households=121.0, medianIncome=4.175, medianHouseValue=144000.0),\n",
              " Row(longitude=-122.16, latitude=37.77, housingMedianAge=47.0, totalRooms=1256.0, totalBedrooms=217.0, population=570.0, households=218.0, medianIncome=4.375, medianHouseValue=161900.0),\n",
              " Row(longitude=-122.16, latitude=37.77, housingMedianAge=48.0, totalRooms=977.0, totalBedrooms=194.0, population=446.0, households=180.0, medianIncome=4.7708, medianHouseValue=156300.0),\n",
              " Row(longitude=-122.16, latitude=37.77, housingMedianAge=45.0, totalRooms=2324.0, totalBedrooms=397.0, population=968.0, households=384.0, medianIncome=3.5739, medianHouseValue=176000.0),\n",
              " Row(longitude=-122.16, latitude=37.77, housingMedianAge=39.0, totalRooms=1583.0, totalBedrooms=349.0, population=857.0, households=316.0, medianIncome=3.0958, medianHouseValue=145800.0),\n",
              " Row(longitude=-122.17, latitude=37.77, housingMedianAge=39.0, totalRooms=1612.0, totalBedrooms=342.0, population=912.0, households=322.0, medianIncome=3.3958, medianHouseValue=141900.0),\n",
              " Row(longitude=-122.17, latitude=37.77, housingMedianAge=31.0, totalRooms=2424.0, totalBedrooms=533.0, population=1360.0, households=452.0, medianIncome=1.871, medianHouseValue=90700.0),\n",
              " Row(longitude=-122.17, latitude=37.76, housingMedianAge=41.0, totalRooms=1594.0, totalBedrooms=367.0, population=1074.0, households=355.0, medianIncome=1.9356, medianHouseValue=90600.0),\n",
              " Row(longitude=-122.17, latitude=37.76, housingMedianAge=47.0, totalRooms=2118.0, totalBedrooms=413.0, population=965.0, households=382.0, medianIncome=2.1842, medianHouseValue=107900.0),\n",
              " Row(longitude=-122.18, latitude=37.76, housingMedianAge=37.0, totalRooms=1575.0, totalBedrooms=358.0, population=933.0, households=320.0, medianIncome=2.2917, medianHouseValue=107000.0),\n",
              " Row(longitude=-122.17, latitude=37.76, housingMedianAge=38.0, totalRooms=1764.0, totalBedrooms=397.0, population=987.0, households=354.0, medianIncome=2.4333, medianHouseValue=98200.0),\n",
              " Row(longitude=-122.18, latitude=37.76, housingMedianAge=50.0, totalRooms=1187.0, totalBedrooms=261.0, population=907.0, households=246.0, medianIncome=1.9479, medianHouseValue=89500.0),\n",
              " Row(longitude=-122.18, latitude=37.76, housingMedianAge=52.0, totalRooms=754.0, totalBedrooms=175.0, population=447.0, households=165.0, medianIncome=3.9063, medianHouseValue=93800.0),\n",
              " Row(longitude=-122.18, latitude=37.76, housingMedianAge=49.0, totalRooms=2308.0, totalBedrooms=452.0, population=1299.0, households=451.0, medianIncome=1.8407, medianHouseValue=96700.0),\n",
              " Row(longitude=-122.18, latitude=37.77, housingMedianAge=27.0, totalRooms=909.0, totalBedrooms=236.0, population=396.0, households=157.0, medianIncome=2.0786, medianHouseValue=97500.0),\n",
              " Row(longitude=-122.18, latitude=37.77, housingMedianAge=42.0, totalRooms=1180.0, totalBedrooms=257.0, population=877.0, households=268.0, medianIncome=2.8125, medianHouseValue=97300.0),\n",
              " Row(longitude=-122.18, latitude=37.76, housingMedianAge=43.0, totalRooms=2018.0, totalBedrooms=408.0, population=1111.0, households=367.0, medianIncome=1.8913, medianHouseValue=91200.0),\n",
              " Row(longitude=-122.19, latitude=37.76, housingMedianAge=49.0, totalRooms=1368.0, totalBedrooms=282.0, population=790.0, households=269.0, medianIncome=1.7056, medianHouseValue=91400.0),\n",
              " Row(longitude=-122.18, latitude=37.77, housingMedianAge=52.0, totalRooms=2744.0, totalBedrooms=547.0, population=1479.0, households=554.0, medianIncome=2.2768, medianHouseValue=96200.0),\n",
              " Row(longitude=-122.18, latitude=37.77, housingMedianAge=51.0, totalRooms=2107.0, totalBedrooms=471.0, population=1173.0, households=438.0, medianIncome=3.2552, medianHouseValue=120100.0),\n",
              " Row(longitude=-122.18, latitude=37.77, housingMedianAge=52.0, totalRooms=1748.0, totalBedrooms=362.0, population=1029.0, households=366.0, medianIncome=2.0556, medianHouseValue=100000.0),\n",
              " Row(longitude=-122.19, latitude=37.76, housingMedianAge=52.0, totalRooms=2024.0, totalBedrooms=391.0, population=1030.0, households=350.0, medianIncome=2.4659, medianHouseValue=94700.0),\n",
              " Row(longitude=-122.2, latitude=37.76, housingMedianAge=47.0, totalRooms=1116.0, totalBedrooms=259.0, population=826.0, households=279.0, medianIncome=1.75, medianHouseValue=85700.0),\n",
              " Row(longitude=-122.19, latitude=37.77, housingMedianAge=41.0, totalRooms=2036.0, totalBedrooms=510.0, population=1412.0, households=454.0, medianIncome=2.0469, medianHouseValue=89300.0),\n",
              " Row(longitude=-122.19, latitude=37.77, housingMedianAge=45.0, totalRooms=1852.0, totalBedrooms=393.0, population=1132.0, households=349.0, medianIncome=2.7159, medianHouseValue=101400.0),\n",
              " Row(longitude=-122.19, latitude=37.76, housingMedianAge=41.0, totalRooms=921.0, totalBedrooms=207.0, population=522.0, households=159.0, medianIncome=1.2083, medianHouseValue=72500.0),\n",
              " Row(longitude=-122.19, latitude=37.76, housingMedianAge=45.0, totalRooms=995.0, totalBedrooms=238.0, population=630.0, households=237.0, medianIncome=1.925, medianHouseValue=74100.0),\n",
              " Row(longitude=-122.2, latitude=37.75, housingMedianAge=36.0, totalRooms=606.0, totalBedrooms=132.0, population=531.0, households=133.0, medianIncome=1.5809, medianHouseValue=70000.0),\n",
              " Row(longitude=-122.2, latitude=37.76, housingMedianAge=37.0, totalRooms=2680.0, totalBedrooms=736.0, population=1925.0, households=667.0, medianIncome=1.4097, medianHouseValue=84600.0),\n",
              " Row(longitude=-122.19, latitude=37.76, housingMedianAge=38.0, totalRooms=1493.0, totalBedrooms=370.0, population=1144.0, households=351.0, medianIncome=0.7683, medianHouseValue=81800.0),\n",
              " Row(longitude=-122.19, latitude=37.75, housingMedianAge=19.0, totalRooms=2207.0, totalBedrooms=565.0, population=1481.0, households=520.0, medianIncome=1.3194, medianHouseValue=81400.0),\n",
              " Row(longitude=-122.19, latitude=37.75, housingMedianAge=28.0, totalRooms=856.0, totalBedrooms=189.0, population=435.0, households=162.0, medianIncome=0.8012, medianHouseValue=81800.0),\n",
              " Row(longitude=-122.19, latitude=37.76, housingMedianAge=26.0, totalRooms=1293.0, totalBedrooms=297.0, population=984.0, households=303.0, medianIncome=1.9479, medianHouseValue=85800.0),\n",
              " Row(longitude=-122.19, latitude=37.74, housingMedianAge=36.0, totalRooms=847.0, totalBedrooms=212.0, population=567.0, households=159.0, medianIncome=1.1765, medianHouseValue=87100.0),\n",
              " Row(longitude=-122.18, latitude=37.74, housingMedianAge=42.0, totalRooms=541.0, totalBedrooms=154.0, population=380.0, households=123.0, medianIncome=2.3456, medianHouseValue=83500.0),\n",
              " Row(longitude=-122.19, latitude=37.73, housingMedianAge=44.0, totalRooms=1066.0, totalBedrooms=253.0, population=825.0, households=244.0, medianIncome=2.1538, medianHouseValue=79700.0),\n",
              " Row(longitude=-122.19, latitude=37.74, housingMedianAge=43.0, totalRooms=707.0, totalBedrooms=147.0, population=417.0, households=155.0, medianIncome=2.5139, medianHouseValue=83400.0),\n",
              " Row(longitude=-122.19, latitude=37.73, housingMedianAge=45.0, totalRooms=1528.0, totalBedrooms=291.0, population=801.0, households=287.0, medianIncome=1.2625, medianHouseValue=84700.0),\n",
              " Row(longitude=-122.18, latitude=37.73, housingMedianAge=42.0, totalRooms=909.0, totalBedrooms=215.0, population=646.0, households=198.0, medianIncome=2.9063, medianHouseValue=80000.0),\n",
              " Row(longitude=-122.18, latitude=37.73, housingMedianAge=43.0, totalRooms=1391.0, totalBedrooms=293.0, population=855.0, households=285.0, medianIncome=2.5192, medianHouseValue=76400.0),\n",
              " Row(longitude=-122.18, latitude=37.73, housingMedianAge=44.0, totalRooms=548.0, totalBedrooms=119.0, population=435.0, households=136.0, medianIncome=2.1111, medianHouseValue=79700.0),\n",
              " Row(longitude=-122.18, latitude=37.73, housingMedianAge=42.0, totalRooms=4074.0, totalBedrooms=874.0, population=2736.0, households=780.0, medianIncome=2.455, medianHouseValue=82400.0),\n",
              " Row(longitude=-122.17, latitude=37.74, housingMedianAge=41.0, totalRooms=1613.0, totalBedrooms=445.0, population=1481.0, households=414.0, medianIncome=2.4028, medianHouseValue=97700.0),\n",
              " Row(longitude=-122.17, latitude=37.74, housingMedianAge=47.0, totalRooms=463.0, totalBedrooms=134.0, population=327.0, households=137.0, medianIncome=2.15, medianHouseValue=97200.0),\n",
              " Row(longitude=-122.17, latitude=37.74, housingMedianAge=43.0, totalRooms=818.0, totalBedrooms=193.0, population=494.0, households=179.0, medianIncome=2.4776, medianHouseValue=101600.0),\n",
              " Row(longitude=-122.17, latitude=37.73, housingMedianAge=43.0, totalRooms=1473.0, totalBedrooms=371.0, population=1231.0, households=341.0, medianIncome=2.1587, medianHouseValue=86500.0),\n",
              " Row(longitude=-122.18, latitude=37.74, housingMedianAge=35.0, totalRooms=504.0, totalBedrooms=126.0, population=323.0, households=109.0, medianIncome=1.8438, medianHouseValue=90500.0),\n",
              " Row(longitude=-122.17, latitude=37.74, housingMedianAge=46.0, totalRooms=1026.0, totalBedrooms=226.0, population=749.0, households=225.0, medianIncome=3.0298, medianHouseValue=107600.0),\n",
              " Row(longitude=-122.17, latitude=37.74, housingMedianAge=46.0, totalRooms=769.0, totalBedrooms=183.0, population=693.0, households=178.0, medianIncome=2.25, medianHouseValue=84200.0),\n",
              " Row(longitude=-122.18, latitude=37.74, housingMedianAge=46.0, totalRooms=2103.0, totalBedrooms=391.0, population=1339.0, households=354.0, medianIncome=2.2467, medianHouseValue=88900.0),\n",
              " Row(longitude=-122.18, latitude=37.75, housingMedianAge=45.0, totalRooms=330.0, totalBedrooms=76.0, population=282.0, households=80.0, medianIncome=4.0469, medianHouseValue=80700.0),\n",
              " Row(longitude=-122.18, latitude=37.75, housingMedianAge=46.0, totalRooms=941.0, totalBedrooms=218.0, population=621.0, households=195.0, medianIncome=1.325, medianHouseValue=87100.0),\n",
              " Row(longitude=-122.17, latitude=37.75, housingMedianAge=38.0, totalRooms=992.0, totalBedrooms=279.0, population=732.0, households=259.0, medianIncome=1.6196, medianHouseValue=85100.0),\n",
              " Row(longitude=-122.18, latitude=37.75, housingMedianAge=45.0, totalRooms=990.0, totalBedrooms=261.0, population=901.0, households=260.0, medianIncome=2.1731, medianHouseValue=82000.0),\n",
              " Row(longitude=-122.19, latitude=37.75, housingMedianAge=36.0, totalRooms=1126.0, totalBedrooms=263.0, population=482.0, households=150.0, medianIncome=1.9167, medianHouseValue=82800.0),\n",
              " Row(longitude=-122.18, latitude=37.75, housingMedianAge=43.0, totalRooms=1036.0, totalBedrooms=233.0, population=652.0, households=213.0, medianIncome=2.069, medianHouseValue=84600.0),\n",
              " Row(longitude=-122.18, latitude=37.75, housingMedianAge=36.0, totalRooms=1047.0, totalBedrooms=214.0, population=651.0, households=166.0, medianIncome=1.712, medianHouseValue=82100.0),\n",
              " Row(longitude=-122.17, latitude=37.76, housingMedianAge=33.0, totalRooms=1280.0, totalBedrooms=307.0, population=999.0, households=286.0, medianIncome=2.5625, medianHouseValue=89300.0),\n",
              " Row(longitude=-122.17, latitude=37.75, housingMedianAge=43.0, totalRooms=1587.0, totalBedrooms=320.0, population=907.0, households=306.0, medianIncome=1.9821, medianHouseValue=98300.0),\n",
              " Row(longitude=-122.17, latitude=37.75, housingMedianAge=41.0, totalRooms=1257.0, totalBedrooms=271.0, population=828.0, households=230.0, medianIncome=2.5043, medianHouseValue=92300.0),\n",
              " Row(longitude=-122.17, latitude=37.75, housingMedianAge=44.0, totalRooms=1218.0, totalBedrooms=248.0, population=763.0, households=254.0, medianIncome=2.3281, medianHouseValue=88800.0),\n",
              " Row(longitude=-122.17, latitude=37.75, housingMedianAge=48.0, totalRooms=1751.0, totalBedrooms=390.0, population=935.0, households=349.0, medianIncome=1.4375, medianHouseValue=90000.0),\n",
              " Row(longitude=-122.16, latitude=37.76, housingMedianAge=45.0, totalRooms=2299.0, totalBedrooms=514.0, population=1437.0, households=484.0, medianIncome=2.5122, medianHouseValue=95500.0),\n",
              " Row(longitude=-122.16, latitude=37.75, housingMedianAge=38.0, totalRooms=2457.0, totalBedrooms=624.0, population=1516.0, households=482.0, medianIncome=1.5625, medianHouseValue=91700.0),\n",
              " Row(longitude=-122.17, latitude=37.75, housingMedianAge=47.0, totalRooms=998.0, totalBedrooms=211.0, population=597.0, households=185.0, medianIncome=3.1587, medianHouseValue=100400.0),\n",
              " Row(longitude=-122.17, latitude=37.76, housingMedianAge=40.0, totalRooms=1685.0, totalBedrooms=343.0, population=949.0, households=342.0, medianIncome=1.8426, medianHouseValue=94800.0),\n",
              " Row(longitude=-122.16, latitude=37.76, housingMedianAge=46.0, totalRooms=1827.0, totalBedrooms=307.0, population=881.0, households=302.0, medianIncome=4.6696, medianHouseValue=164300.0),\n",
              " Row(longitude=-122.16, latitude=37.76, housingMedianAge=36.0, totalRooms=2781.0, totalBedrooms=574.0, population=1438.0, households=519.0, medianIncome=2.4598, medianHouseValue=155500.0),\n",
              " Row(longitude=-122.15, latitude=37.76, housingMedianAge=39.0, totalRooms=1823.0, totalBedrooms=286.0, population=763.0, households=270.0, medianIncome=6.0749, medianHouseValue=196900.0),\n",
              " Row(longitude=-122.14, latitude=37.77, housingMedianAge=27.0, totalRooms=2229.0, totalBedrooms=365.0, population=1297.0, households=355.0, medianIncome=4.8304, medianHouseValue=279100.0),\n",
              " Row(longitude=-122.14, latitude=37.76, housingMedianAge=34.0, totalRooms=1513.0, totalBedrooms=231.0, population=545.0, households=211.0, medianIncome=5.5701, medianHouseValue=252800.0),\n",
              " Row(longitude=-122.13, latitude=37.76, housingMedianAge=26.0, totalRooms=3266.0, totalBedrooms=491.0, population=1222.0, households=533.0, medianIncome=5.37, medianHouseValue=275400.0),\n",
              " Row(longitude=-122.12, latitude=37.75, housingMedianAge=33.0, totalRooms=1809.0, totalBedrooms=261.0, population=808.0, households=219.0, medianIncome=6.86, medianHouseValue=250000.0),\n",
              " Row(longitude=-122.12, latitude=37.75, housingMedianAge=28.0, totalRooms=794.0, totalBedrooms=111.0, population=329.0, households=109.0, medianIncome=7.6923, medianHouseValue=329800.0),\n",
              " Row(longitude=-122.14, latitude=37.75, housingMedianAge=36.0, totalRooms=690.0, totalBedrooms=105.0, population=299.0, households=109.0, medianIncome=4.0313, medianHouseValue=195500.0),\n",
              " Row(longitude=-122.14, latitude=37.75, housingMedianAge=33.0, totalRooms=1334.0, totalBedrooms=200.0, population=579.0, households=202.0, medianIncome=6.8323, medianHouseValue=255900.0),\n",
              " Row(longitude=-122.13, latitude=37.75, housingMedianAge=30.0, totalRooms=414.0, totalBedrooms=54.0, population=137.0, households=50.0, medianIncome=4.975, medianHouseValue=311100.0),\n",
              " Row(longitude=-122.13, latitude=37.75, housingMedianAge=36.0, totalRooms=768.0, totalBedrooms=93.0, population=229.0, households=93.0, medianIncome=5.3602, medianHouseValue=330000.0),\n",
              " Row(longitude=-122.13, latitude=37.74, housingMedianAge=41.0, totalRooms=4400.0, totalBedrooms=666.0, population=1476.0, households=648.0, medianIncome=5.0, medianHouseValue=248900.0),\n",
              " Row(longitude=-122.16, latitude=37.75, housingMedianAge=46.0, totalRooms=954.0, totalBedrooms=161.0, population=429.0, households=154.0, medianIncome=2.925, medianHouseValue=142900.0),\n",
              " Row(longitude=-122.15, latitude=37.75, housingMedianAge=40.0, totalRooms=1445.0, totalBedrooms=256.0, population=849.0, households=255.0, medianIncome=3.8913, medianHouseValue=126300.0),\n",
              " Row(longitude=-122.15, latitude=37.75, housingMedianAge=44.0, totalRooms=1938.0, totalBedrooms=399.0, population=946.0, households=331.0, medianIncome=3.225, medianHouseValue=135800.0),\n",
              " Row(longitude=-122.15, latitude=37.74, housingMedianAge=41.0, totalRooms=856.0, totalBedrooms=178.0, population=571.0, households=191.0, medianIncome=3.1458, medianHouseValue=130600.0),\n",
              " Row(longitude=-122.16, latitude=37.75, housingMedianAge=24.0, totalRooms=1790.0, totalBedrooms=454.0, population=1137.0, households=386.0, medianIncome=2.537, medianHouseValue=107900.0),\n",
              " Row(longitude=-122.16, latitude=37.75, housingMedianAge=44.0, totalRooms=617.0, totalBedrooms=131.0, population=378.0, households=135.0, medianIncome=2.5568, medianHouseValue=111100.0),\n",
              " Row(longitude=-122.15, latitude=37.74, housingMedianAge=43.0, totalRooms=1383.0, totalBedrooms=275.0, population=853.0, households=272.0, medianIncome=3.5083, medianHouseValue=122000.0),\n",
              " Row(longitude=-122.15, latitude=37.74, housingMedianAge=49.0, totalRooms=1325.0, totalBedrooms=277.0, population=764.0, households=282.0, medianIncome=3.3125, medianHouseValue=118000.0),\n",
              " Row(longitude=-122.16, latitude=37.75, housingMedianAge=40.0, totalRooms=1227.0, totalBedrooms=294.0, population=928.0, households=261.0, medianIncome=1.8235, medianHouseValue=95200.0),\n",
              " Row(longitude=-122.16, latitude=37.75, housingMedianAge=35.0, totalRooms=667.0, totalBedrooms=140.0, population=406.0, households=133.0, medianIncome=3.8047, medianHouseValue=94300.0),\n",
              " Row(longitude=-122.17, latitude=37.74, housingMedianAge=34.0, totalRooms=1223.0, totalBedrooms=281.0, population=824.0, households=280.0, medianIncome=2.2917, medianHouseValue=92500.0),\n",
              " Row(longitude=-122.17, latitude=37.75, housingMedianAge=37.0, totalRooms=1379.0, totalBedrooms=287.0, population=835.0, households=259.0, medianIncome=2.4962, medianHouseValue=91800.0),\n",
              " Row(longitude=-122.16, latitude=37.74, housingMedianAge=43.0, totalRooms=1534.0, totalBedrooms=300.0, population=826.0, households=295.0, medianIncome=4.0417, medianHouseValue=109400.0),\n",
              " Row(longitude=-122.16, latitude=37.74, housingMedianAge=46.0, totalRooms=1029.0, totalBedrooms=181.0, population=567.0, households=211.0, medianIncome=3.4844, medianHouseValue=129500.0),\n",
              " Row(longitude=-122.16, latitude=37.74, housingMedianAge=52.0, totalRooms=771.0, totalBedrooms=147.0, population=355.0, households=144.0, medianIncome=4.1458, medianHouseValue=143400.0),\n",
              " Row(longitude=-122.16, latitude=37.74, housingMedianAge=47.0, totalRooms=824.0, totalBedrooms=223.0, population=533.0, households=166.0, medianIncome=2.625, medianHouseValue=98200.0),\n",
              " Row(longitude=-122.16, latitude=37.74, housingMedianAge=44.0, totalRooms=1097.0, totalBedrooms=239.0, population=609.0, households=215.0, medianIncome=2.0227, medianHouseValue=103100.0),\n",
              " Row(longitude=-122.29, latitude=37.9, housingMedianAge=49.0, totalRooms=1283.0, totalBedrooms=238.0, population=576.0, households=236.0, medianIncome=3.3333, medianHouseValue=276800.0),\n",
              " Row(longitude=-122.29, latitude=37.9, housingMedianAge=52.0, totalRooms=1604.0, totalBedrooms=263.0, population=594.0, households=286.0, medianIncome=5.338, medianHouseValue=270900.0),\n",
              " Row(longitude=-122.29, latitude=37.89, housingMedianAge=52.0, totalRooms=2248.0, totalBedrooms=422.0, population=870.0, households=377.0, medianIncome=3.4732, medianHouseValue=246200.0),\n",
              " Row(longitude=-122.3, latitude=37.9, housingMedianAge=38.0, totalRooms=2263.0, totalBedrooms=522.0, population=1027.0, households=509.0, medianIncome=3.5125, medianHouseValue=224200.0),\n",
              " Row(longitude=-122.29, latitude=37.89, housingMedianAge=52.0, totalRooms=1571.0, totalBedrooms=349.0, population=693.0, households=326.0, medianIncome=3.1375, medianHouseValue=229100.0),\n",
              " Row(longitude=-122.3, latitude=37.89, housingMedianAge=46.0, totalRooms=1520.0, totalBedrooms=402.0, population=815.0, households=375.0, medianIncome=2.8036, medianHouseValue=211600.0),\n",
              " Row(longitude=-122.3, latitude=37.9, housingMedianAge=15.0, totalRooms=5083.0, totalBedrooms=1212.0, population=2420.0, households=1146.0, medianIncome=4.5824, medianHouseValue=256100.0),\n",
              " Row(longitude=-122.3, latitude=37.89, housingMedianAge=36.0, totalRooms=1077.0, totalBedrooms=293.0, population=518.0, households=276.0, medianIncome=3.0208, medianHouseValue=206300.0),\n",
              " Row(longitude=-122.3, latitude=37.89, housingMedianAge=52.0, totalRooms=1248.0, totalBedrooms=283.0, population=620.0, households=275.0, medianIncome=4.0875, medianHouseValue=221300.0),\n",
              " Row(longitude=-122.33, latitude=37.89, housingMedianAge=42.0, totalRooms=1342.0, totalBedrooms=291.0, population=551.0, households=266.0, medianIncome=4.5268, medianHouseValue=207400.0),\n",
              " Row(longitude=-122.34, latitude=37.88, housingMedianAge=37.0, totalRooms=3061.0, totalBedrooms=930.0, population=2556.0, households=924.0, medianIncome=1.7375, medianHouseValue=350000.0),\n",
              " Row(longitude=-122.29, latitude=37.89, housingMedianAge=52.0, totalRooms=3171.0, totalBedrooms=698.0, population=1498.0, households=696.0, medianIncome=3.1795, medianHouseValue=218200.0),\n",
              " Row(longitude=-122.29, latitude=37.88, housingMedianAge=50.0, totalRooms=1211.0, totalBedrooms=261.0, population=523.0, households=227.0, medianIncome=3.8672, medianHouseValue=216700.0),\n",
              " Row(longitude=-122.29, latitude=37.89, housingMedianAge=52.0, totalRooms=979.0, totalBedrooms=175.0, population=374.0, households=153.0, medianIncome=5.1675, medianHouseValue=270600.0),\n",
              " Row(longitude=-122.29, latitude=37.89, housingMedianAge=52.0, totalRooms=2269.0, totalBedrooms=380.0, population=1004.0, households=371.0, medianIncome=5.1696, medianHouseValue=261400.0),\n",
              " Row(longitude=-122.28, latitude=37.88, housingMedianAge=52.0, totalRooms=1844.0, totalBedrooms=332.0, population=769.0, households=334.0, medianIncome=4.2614, medianHouseValue=261300.0),\n",
              " Row(longitude=-122.29, latitude=37.89, housingMedianAge=52.0, totalRooms=2178.0, totalBedrooms=421.0, population=940.0, households=423.0, medianIncome=5.0551, medianHouseValue=232200.0),\n",
              " Row(longitude=-122.27, latitude=37.9, housingMedianAge=42.0, totalRooms=1650.0, totalBedrooms=274.0, population=645.0, households=256.0, medianIncome=5.6228, medianHouseValue=375400.0),\n",
              " Row(longitude=-122.26, latitude=37.9, housingMedianAge=52.0, totalRooms=1927.0, totalBedrooms=279.0, population=705.0, households=288.0, medianIncome=7.8864, medianHouseValue=357300.0),\n",
              " Row(longitude=-122.27, latitude=37.9, housingMedianAge=52.0, totalRooms=2079.0, totalBedrooms=273.0, population=684.0, households=275.0, medianIncome=7.9556, medianHouseValue=374400.0),\n",
              " Row(longitude=-122.27, latitude=37.9, housingMedianAge=52.0, totalRooms=1803.0, totalBedrooms=240.0, population=572.0, households=236.0, medianIncome=6.174, medianHouseValue=358800.0),\n",
              " Row(longitude=-122.27, latitude=37.9, housingMedianAge=52.0, totalRooms=2041.0, totalBedrooms=270.0, population=671.0, households=253.0, medianIncome=6.9414, medianHouseValue=417500.0),\n",
              " Row(longitude=-122.27, latitude=37.89, housingMedianAge=52.0, totalRooms=3046.0, totalBedrooms=373.0, population=975.0, households=365.0, medianIncome=8.8342, medianHouseValue=430500.0),\n",
              " Row(longitude=-122.28, latitude=37.9, housingMedianAge=52.0, totalRooms=2318.0, totalBedrooms=328.0, population=779.0, households=312.0, medianIncome=7.1754, medianHouseValue=362900.0),\n",
              " Row(longitude=-122.28, latitude=37.9, housingMedianAge=52.0, totalRooms=2003.0, totalBedrooms=250.0, population=658.0, households=244.0, medianIncome=10.0825, medianHouseValue=397000.0),\n",
              " Row(longitude=-122.28, latitude=37.9, housingMedianAge=52.0, totalRooms=2261.0, totalBedrooms=328.0, population=819.0, households=335.0, medianIncome=4.9083, medianHouseValue=346800.0),\n",
              " Row(longitude=-122.28, latitude=37.89, housingMedianAge=52.0, totalRooms=1225.0, totalBedrooms=169.0, population=412.0, households=168.0, medianIncome=5.7912, medianHouseValue=327100.0),\n",
              " Row(longitude=-122.28, latitude=37.89, housingMedianAge=52.0, totalRooms=2315.0, totalBedrooms=408.0, population=835.0, households=369.0, medianIncome=4.5893, medianHouseValue=290100.0),\n",
              " Row(longitude=-122.28, latitude=37.89, housingMedianAge=52.0, totalRooms=2070.0, totalBedrooms=329.0, population=722.0, households=306.0, medianIncome=5.4171, medianHouseValue=292000.0),\n",
              " Row(longitude=-122.28, latitude=37.89, housingMedianAge=52.0, totalRooms=2616.0, totalBedrooms=473.0, population=1085.0, households=487.0, medianIncome=4.125, medianHouseValue=270900.0),\n",
              " Row(longitude=-122.27, latitude=37.89, housingMedianAge=52.0, totalRooms=2640.0, totalBedrooms=366.0, population=973.0, households=355.0, medianIncome=7.266, medianHouseValue=371100.0),\n",
              " Row(longitude=-122.27, latitude=37.89, housingMedianAge=52.0, totalRooms=1978.0, totalBedrooms=293.0, population=723.0, households=272.0, medianIncome=5.3989, medianHouseValue=335600.0),\n",
              " Row(longitude=-122.26, latitude=37.9, housingMedianAge=37.0, totalRooms=2220.0, totalBedrooms=335.0, population=903.0, households=362.0, medianIncome=7.8336, medianHouseValue=371300.0),\n",
              " Row(longitude=-122.25, latitude=37.89, housingMedianAge=41.0, totalRooms=1125.0, totalBedrooms=195.0, population=356.0, households=181.0, medianIncome=6.1593, medianHouseValue=344000.0),\n",
              " Row(longitude=-122.26, latitude=37.89, housingMedianAge=52.0, totalRooms=3078.0, totalBedrooms=494.0, population=1005.0, households=462.0, medianIncome=6.381, medianHouseValue=342200.0),\n",
              " Row(longitude=-122.26, latitude=37.89, housingMedianAge=52.0, totalRooms=3706.0, totalBedrooms=531.0, population=1205.0, households=504.0, medianIncome=6.6828, medianHouseValue=370900.0),\n",
              " Row(longitude=-122.25, latitude=37.89, housingMedianAge=37.0, totalRooms=3000.0, totalBedrooms=457.0, population=987.0, households=450.0, medianIncome=7.5385, medianHouseValue=350000.0),\n",
              " Row(longitude=-122.25, latitude=37.89, housingMedianAge=42.0, totalRooms=2863.0, totalBedrooms=460.0, population=1031.0, households=448.0, medianIncome=6.7138, medianHouseValue=368600.0),\n",
              " Row(longitude=-122.26, latitude=37.88, housingMedianAge=52.0, totalRooms=2551.0, totalBedrooms=417.0, population=894.0, households=404.0, medianIncome=6.2425, medianHouseValue=391800.0),\n",
              " Row(longitude=-122.26, latitude=37.88, housingMedianAge=52.0, totalRooms=2255.0, totalBedrooms=410.0, population=823.0, households=377.0, medianIncome=5.7979, medianHouseValue=415300.0),\n",
              " Row(longitude=-122.27, latitude=37.88, housingMedianAge=52.0, totalRooms=3360.0, totalBedrooms=648.0, population=1232.0, households=621.0, medianIncome=4.2813, medianHouseValue=284900.0),\n",
              " Row(longitude=-122.27, latitude=37.88, housingMedianAge=52.0, totalRooms=1693.0, totalBedrooms=391.0, population=669.0, households=367.0, medianIncome=3.5417, medianHouseValue=287500.0),\n",
              " Row(longitude=-122.27, latitude=37.88, housingMedianAge=44.0, totalRooms=2252.0, totalBedrooms=592.0, population=989.0, households=550.0, medianIncome=3.0132, medianHouseValue=272900.0),\n",
              " Row(longitude=-122.28, latitude=37.88, housingMedianAge=52.0, totalRooms=2495.0, totalBedrooms=491.0, population=1058.0, households=464.0, medianIncome=4.1429, medianHouseValue=259600.0),\n",
              " Row(longitude=-122.28, latitude=37.88, housingMedianAge=52.0, totalRooms=1193.0, totalBedrooms=200.0, population=506.0, households=207.0, medianIncome=4.1912, medianHouseValue=254500.0),\n",
              " Row(longitude=-122.28, latitude=37.88, housingMedianAge=52.0, totalRooms=1172.0, totalBedrooms=215.0, population=489.0, households=218.0, medianIncome=3.9167, medianHouseValue=235600.0),\n",
              " Row(longitude=-122.29, latitude=37.88, housingMedianAge=52.0, totalRooms=2159.0, totalBedrooms=424.0, population=824.0, households=388.0, medianIncome=3.8897, medianHouseValue=218400.0),\n",
              " Row(longitude=-122.29, latitude=37.88, housingMedianAge=48.0, totalRooms=2365.0, totalBedrooms=490.0, population=1034.0, households=475.0, medianIncome=3.1065, medianHouseValue=229200.0),\n",
              " Row(longitude=-122.29, latitude=37.88, housingMedianAge=46.0, totalRooms=1895.0, totalBedrooms=442.0, population=920.0, households=425.0, medianIncome=2.9926, medianHouseValue=192100.0),\n",
              " Row(longitude=-122.29, latitude=37.88, housingMedianAge=52.0, totalRooms=1650.0, totalBedrooms=395.0, population=841.0, households=380.0, medianIncome=3.556, medianHouseValue=179300.0),\n",
              " Row(longitude=-122.3, latitude=37.88, housingMedianAge=45.0, totalRooms=453.0, totalBedrooms=146.0, population=749.0, households=137.0, medianIncome=1.475, medianHouseValue=187500.0),\n",
              " Row(longitude=-122.3, latitude=37.88, housingMedianAge=52.0, totalRooms=409.0, totalBedrooms=97.0, population=208.0, households=98.0, medianIncome=1.6971, medianHouseValue=138800.0),\n",
              " Row(longitude=-122.3, latitude=37.87, housingMedianAge=10.0, totalRooms=503.0, totalBedrooms=118.0, population=228.0, households=100.0, medianIncome=2.1705, medianHouseValue=150000.0),\n",
              " Row(longitude=-122.3, latitude=37.86, housingMedianAge=50.0, totalRooms=499.0, totalBedrooms=127.0, population=287.0, households=128.0, medianIncome=2.75, medianHouseValue=140600.0),\n",
              " Row(longitude=-122.29, latitude=37.85, housingMedianAge=52.0, totalRooms=477.0, totalBedrooms=119.0, population=218.0, households=106.0, medianIncome=2.5682, medianHouseValue=120000.0),\n",
              " Row(longitude=-122.3, latitude=37.88, housingMedianAge=46.0, totalRooms=1647.0, totalBedrooms=376.0, population=854.0, households=355.0, medianIncome=2.9, medianHouseValue=144800.0),\n",
              " Row(longitude=-122.3, latitude=37.87, housingMedianAge=52.0, totalRooms=3123.0, totalBedrooms=749.0, population=1695.0, households=684.0, medianIncome=2.2208, medianHouseValue=144800.0),\n",
              " Row(longitude=-122.28, latitude=37.88, housingMedianAge=52.0, totalRooms=957.0, totalBedrooms=188.0, population=403.0, households=172.0, medianIncome=3.2344, medianHouseValue=245500.0),\n",
              " Row(longitude=-122.28, latitude=37.87, housingMedianAge=52.0, totalRooms=589.0, totalBedrooms=132.0, population=288.0, households=131.0, medianIncome=3.5156, medianHouseValue=200000.0),\n",
              " Row(longitude=-122.28, latitude=37.87, housingMedianAge=49.0, totalRooms=2026.0, totalBedrooms=548.0, population=963.0, households=521.0, medianIncome=1.9805, medianHouseValue=173700.0),\n",
              " Row(longitude=-122.29, latitude=37.87, housingMedianAge=50.0, totalRooms=1829.0, totalBedrooms=536.0, population=1129.0, households=516.0, medianIncome=2.6684, medianHouseValue=185600.0),\n",
              " Row(longitude=-122.29, latitude=37.87, housingMedianAge=52.0, totalRooms=895.0, totalBedrooms=198.0, population=386.0, households=204.0, medianIncome=3.875, medianHouseValue=182600.0),\n",
              " Row(longitude=-122.28, latitude=37.88, housingMedianAge=52.0, totalRooms=1909.0, totalBedrooms=416.0, population=811.0, households=406.0, medianIncome=3.006, medianHouseValue=227900.0),\n",
              " Row(longitude=-122.28, latitude=37.87, housingMedianAge=46.0, totalRooms=3022.0, totalBedrooms=696.0, population=1293.0, households=675.0, medianIncome=2.543, medianHouseValue=220700.0),\n",
              " Row(longitude=-122.28, latitude=37.87, housingMedianAge=46.0, totalRooms=1777.0, totalBedrooms=446.0, population=805.0, households=431.0, medianIncome=2.8676, medianHouseValue=212000.0),\n",
              " Row(longitude=-122.27, latitude=37.88, housingMedianAge=52.0, totalRooms=2803.0, totalBedrooms=930.0, population=1372.0, households=876.0, medianIncome=2.1907, medianHouseValue=271400.0),\n",
              " Row(longitude=-122.27, latitude=37.87, housingMedianAge=30.0, totalRooms=1465.0, totalBedrooms=439.0, population=862.0, households=425.0, medianIncome=1.7778, medianHouseValue=268800.0),\n",
              " Row(longitude=-122.27, latitude=37.88, housingMedianAge=37.0, totalRooms=2619.0, totalBedrooms=682.0, population=1152.0, households=616.0, medianIncome=2.52, medianHouseValue=277800.0),\n",
              " Row(longitude=-122.26, latitude=37.88, housingMedianAge=52.0, totalRooms=1149.0, totalBedrooms=255.0, population=483.0, households=249.0, medianIncome=4.2788, medianHouseValue=332500.0),\n",
              " Row(longitude=-122.26, latitude=37.88, housingMedianAge=52.0, totalRooms=2363.0, totalBedrooms=604.0, population=1558.0, households=573.0, medianIncome=2.944, medianHouseValue=338900.0),\n",
              " Row(longitude=-122.26, latitude=37.88, housingMedianAge=52.0, totalRooms=2604.0, totalBedrooms=837.0, population=1798.0, households=769.0, medianIncome=1.725, medianHouseValue=287500.0),\n",
              " Row(longitude=-122.25, latitude=37.87, housingMedianAge=41.0, totalRooms=685.0, totalBedrooms=141.0, population=266.0, households=123.0, medianIncome=5.2289, medianHouseValue=384600.0),\n",
              " Row(longitude=-122.25, latitude=37.87, housingMedianAge=42.0, totalRooms=1756.0, totalBedrooms=465.0, population=2184.0, households=422.0, medianIncome=2.5562, medianHouseValue=371400.0),\n",
              " Row(longitude=-122.25, latitude=37.87, housingMedianAge=52.0, totalRooms=1204.0, totalBedrooms=460.0, population=2016.0, households=477.0, medianIncome=0.949, medianHouseValue=350000.0),\n",
              " Row(longitude=-122.25, latitude=37.87, housingMedianAge=52.0, totalRooms=609.0, totalBedrooms=236.0, population=1349.0, households=250.0, medianIncome=1.1696, medianHouseValue=500001.0),\n",
              " Row(longitude=-122.26, latitude=37.87, housingMedianAge=52.0, totalRooms=1087.0, totalBedrooms=371.0, population=3337.0, households=350.0, medianIncome=1.4012, medianHouseValue=175000.0),\n",
              " Row(longitude=-122.26, latitude=37.87, housingMedianAge=52.0, totalRooms=2773.0, totalBedrooms=998.0, population=1721.0, households=949.0, medianIncome=1.1859, medianHouseValue=241700.0),\n",
              " Row(longitude=-122.27, latitude=37.87, housingMedianAge=35.0, totalRooms=3218.0, totalBedrooms=1108.0, population=1675.0, households=1000.0, medianIncome=1.7464, medianHouseValue=216700.0),\n",
              " Row(longitude=-122.27, latitude=37.87, housingMedianAge=49.0, totalRooms=1350.0, totalBedrooms=368.0, population=707.0, households=350.0, medianIncome=2.8846, medianHouseValue=211300.0),\n",
              " Row(longitude=-122.27, latitude=37.87, housingMedianAge=52.0, totalRooms=3084.0, totalBedrooms=698.0, population=1424.0, households=694.0, medianIncome=2.7372, medianHouseValue=210200.0),\n",
              " Row(longitude=-122.28, latitude=37.86, housingMedianAge=52.0, totalRooms=938.0, totalBedrooms=195.0, population=393.0, households=189.0, medianIncome=3.8594, medianHouseValue=196400.0),\n",
              " Row(longitude=-122.28, latitude=37.87, housingMedianAge=52.0, totalRooms=1813.0, totalBedrooms=353.0, population=828.0, households=339.0, medianIncome=3.5625, medianHouseValue=191700.0),\n",
              " Row(longitude=-122.28, latitude=37.87, housingMedianAge=52.0, totalRooms=1233.0, totalBedrooms=300.0, population=571.0, households=292.0, medianIncome=2.2788, medianHouseValue=182300.0),\n",
              " Row(longitude=-122.29, latitude=37.87, housingMedianAge=44.0, totalRooms=2539.0, totalBedrooms=755.0, population=1382.0, households=713.0, medianIncome=2.537, medianHouseValue=175000.0),\n",
              " Row(longitude=-122.29, latitude=37.87, housingMedianAge=46.0, totalRooms=1267.0, totalBedrooms=324.0, population=792.0, households=321.0, medianIncome=2.525, medianHouseValue=165900.0),\n",
              " Row(longitude=-122.29, latitude=37.86, housingMedianAge=52.0, totalRooms=1665.0, totalBedrooms=404.0, population=815.0, households=372.0, medianIncome=1.9946, medianHouseValue=156900.0),\n",
              " Row(longitude=-122.28, latitude=37.86, housingMedianAge=52.0, totalRooms=1659.0, totalBedrooms=367.0, population=788.0, households=346.0, medianIncome=2.8214, medianHouseValue=164300.0),\n",
              " Row(longitude=-122.29, latitude=37.87, housingMedianAge=52.0, totalRooms=2225.0, totalBedrooms=460.0, population=1145.0, households=430.0, medianIncome=2.6165, medianHouseValue=150000.0),\n",
              " Row(longitude=-122.29, latitude=37.86, housingMedianAge=50.0, totalRooms=2485.0, totalBedrooms=607.0, population=1354.0, households=563.0, medianIncome=1.9483, medianHouseValue=150500.0),\n",
              " Row(longitude=-122.28, latitude=37.86, housingMedianAge=52.0, totalRooms=2031.0, totalBedrooms=450.0, population=958.0, households=445.0, medianIncome=1.9327, medianHouseValue=169900.0),\n",
              " Row(longitude=-122.28, latitude=37.86, housingMedianAge=49.0, totalRooms=2932.0, totalBedrooms=668.0, population=1361.0, households=608.0, medianIncome=1.9798, medianHouseValue=147400.0),\n",
              " Row(longitude=-122.28, latitude=37.85, housingMedianAge=52.0, totalRooms=2246.0, totalBedrooms=472.0, population=1005.0, households=449.0, medianIncome=2.4167, medianHouseValue=152700.0),\n",
              " Row(longitude=-122.27, latitude=37.86, housingMedianAge=49.0, totalRooms=2052.0, totalBedrooms=435.0, population=924.0, households=414.0, medianIncome=2.5417, medianHouseValue=182700.0),\n",
              " Row(longitude=-122.28, latitude=37.86, housingMedianAge=52.0, totalRooms=1999.0, totalBedrooms=417.0, population=780.0, households=358.0, medianIncome=3.3906, medianHouseValue=179300.0),\n",
              " Row(longitude=-122.28, latitude=37.86, housingMedianAge=52.0, totalRooms=3007.0, totalBedrooms=691.0, population=1582.0, households=636.0, medianIncome=2.5652, medianHouseValue=157700.0),\n",
              " Row(longitude=-122.28, latitude=37.86, housingMedianAge=41.0, totalRooms=2214.0, totalBedrooms=550.0, population=1213.0, households=568.0, medianIncome=2.2845, medianHouseValue=153100.0),\n",
              " Row(longitude=-122.27, latitude=37.86, housingMedianAge=52.0, totalRooms=1088.0, totalBedrooms=305.0, population=486.0, households=267.0, medianIncome=2.6071, medianHouseValue=250000.0),\n",
              " Row(longitude=-122.27, latitude=37.86, housingMedianAge=52.0, totalRooms=834.0, totalBedrooms=186.0, population=494.0, households=175.0, medianIncome=3.15, medianHouseValue=206300.0),\n",
              " Row(longitude=-122.27, latitude=37.86, housingMedianAge=52.0, totalRooms=1769.0, totalBedrooms=372.0, population=849.0, households=365.0, medianIncome=2.6914, medianHouseValue=218800.0),\n",
              " Row(longitude=-122.27, latitude=37.86, housingMedianAge=52.0, totalRooms=2307.0, totalBedrooms=583.0, population=1127.0, households=548.0, medianIncome=1.8447, medianHouseValue=198200.0),\n",
              " Row(longitude=-122.26, latitude=37.86, housingMedianAge=35.0, totalRooms=5161.0, totalBedrooms=1744.0, population=3276.0, households=1742.0, medianIncome=1.6307, medianHouseValue=253600.0),\n",
              " Row(longitude=-122.26, latitude=37.86, housingMedianAge=52.0, totalRooms=3497.0, totalBedrooms=832.0, population=1493.0, households=794.0, medianIncome=2.9044, medianHouseValue=257400.0),\n",
              " Row(longitude=-122.26, latitude=37.86, housingMedianAge=52.0, totalRooms=3774.0, totalBedrooms=744.0, population=1461.0, households=679.0, medianIncome=2.9405, medianHouseValue=289500.0),\n",
              " Row(longitude=-122.26, latitude=37.86, housingMedianAge=52.0, totalRooms=2888.0, totalBedrooms=604.0, population=1253.0, households=538.0, medianIncome=3.3893, medianHouseValue=241700.0),\n",
              " Row(longitude=-122.25, latitude=37.86, housingMedianAge=48.0, totalRooms=2153.0, totalBedrooms=517.0, population=1656.0, households=459.0, medianIncome=3.0417, medianHouseValue=489600.0),\n",
              " Row(longitude=-122.25, latitude=37.86, housingMedianAge=52.0, totalRooms=1389.0, totalBedrooms=191.0, population=514.0, households=202.0, medianIncome=7.0897, medianHouseValue=446200.0),\n",
              " Row(longitude=-122.25, latitude=37.86, housingMedianAge=52.0, totalRooms=1709.0, totalBedrooms=318.0, population=719.0, households=295.0, medianIncome=5.0463, medianHouseValue=456300.0),\n",
              " Row(longitude=-122.25, latitude=37.86, housingMedianAge=52.0, totalRooms=1587.0, totalBedrooms=444.0, population=878.0, households=449.0, medianIncome=1.7652, medianHouseValue=336800.0),\n",
              " Row(longitude=-122.24, latitude=37.86, housingMedianAge=52.0, totalRooms=1668.0, totalBedrooms=225.0, population=517.0, households=214.0, medianIncome=7.8521, medianHouseValue=500001.0),\n",
              " Row(longitude=-122.24, latitude=37.85, housingMedianAge=52.0, totalRooms=3726.0, totalBedrooms=474.0, population=1366.0, households=496.0, medianIncome=9.3959, medianHouseValue=500001.0),\n",
              " Row(longitude=-122.25, latitude=37.86, housingMedianAge=52.0, totalRooms=4048.0, totalBedrooms=663.0, population=1316.0, households=590.0, medianIncome=5.3794, medianHouseValue=376900.0),\n",
              " Row(longitude=-122.26, latitude=37.85, housingMedianAge=52.0, totalRooms=3618.0, totalBedrooms=768.0, population=1508.0, households=755.0, medianIncome=3.2619, medianHouseValue=309600.0),\n",
              " Row(longitude=-122.27, latitude=37.85, housingMedianAge=52.0, totalRooms=4076.0, totalBedrooms=920.0, population=1800.0, households=815.0, medianIncome=2.7054, medianHouseValue=182300.0),\n",
              " Row(longitude=-122.27, latitude=37.85, housingMedianAge=47.0, totalRooms=2077.0, totalBedrooms=400.0, population=719.0, households=326.0, medianIncome=2.2431, medianHouseValue=172700.0),\n",
              " Row(longitude=-122.27, latitude=37.85, housingMedianAge=50.0, totalRooms=1279.0, totalBedrooms=300.0, population=675.0, households=255.0, medianIncome=1.9028, medianHouseValue=150800.0),\n",
              " Row(longitude=-122.27, latitude=37.85, housingMedianAge=52.0, totalRooms=1974.0, totalBedrooms=426.0, population=875.0, households=363.0, medianIncome=1.5817, medianHouseValue=153600.0),\n",
              " Row(longitude=-122.27, latitude=37.85, housingMedianAge=52.0, totalRooms=335.0, totalBedrooms=83.0, population=152.0, households=77.0, medianIncome=2.2841, medianHouseValue=106300.0),\n",
              " Row(longitude=-122.27, latitude=37.85, housingMedianAge=47.0, totalRooms=1375.0, totalBedrooms=307.0, population=843.0, households=319.0, medianIncome=1.3785, medianHouseValue=142300.0),\n",
              " Row(longitude=-122.28, latitude=37.85, housingMedianAge=52.0, totalRooms=610.0, totalBedrooms=145.0, population=281.0, households=132.0, medianIncome=2.9018, medianHouseValue=119400.0),\n",
              " Row(longitude=-122.28, latitude=37.85, housingMedianAge=44.0, totalRooms=1025.0, totalBedrooms=198.0, population=506.0, households=204.0, medianIncome=1.73, medianHouseValue=147900.0),\n",
              " Row(longitude=-122.28, latitude=37.85, housingMedianAge=48.0, totalRooms=2063.0, totalBedrooms=484.0, population=1054.0, households=466.0, medianIncome=2.2625, medianHouseValue=132900.0),\n",
              " Row(longitude=-122.29, latitude=37.84, housingMedianAge=35.0, totalRooms=1872.0, totalBedrooms=419.0, population=1017.0, households=414.0, medianIncome=2.2106, medianHouseValue=132500.0),\n",
              " Row(longitude=-122.28, latitude=37.83, housingMedianAge=52.0, totalRooms=3108.0, totalBedrooms=813.0, population=1623.0, households=765.0, medianIncome=2.6997, medianHouseValue=126900.0),\n",
              " Row(longitude=-122.3, latitude=37.84, housingMedianAge=14.0, totalRooms=7355.0, totalBedrooms=2408.0, population=3100.0, households=2051.0, medianIncome=4.0018, medianHouseValue=143800.0),\n",
              " Row(longitude=-122.23, latitude=37.83, housingMedianAge=52.0, totalRooms=2990.0, totalBedrooms=379.0, population=947.0, households=361.0, medianIncome=7.8772, medianHouseValue=500001.0),\n",
              " Row(longitude=-122.22, latitude=37.82, housingMedianAge=39.0, totalRooms=2492.0, totalBedrooms=310.0, population=808.0, households=315.0, medianIncome=11.8603, medianHouseValue=500001.0),\n",
              " Row(longitude=-122.22, latitude=37.82, housingMedianAge=42.0, totalRooms=2991.0, totalBedrooms=335.0, population=1018.0, households=335.0, medianIncome=13.499, medianHouseValue=500001.0),\n",
              " Row(longitude=-122.23, latitude=37.82, housingMedianAge=52.0, totalRooms=3242.0, totalBedrooms=366.0, population=1001.0, households=352.0, medianIncome=12.2138, medianHouseValue=500001.0),\n",
              " Row(longitude=-122.23, latitude=37.82, housingMedianAge=52.0, totalRooms=3051.0, totalBedrooms=381.0, population=1005.0, households=369.0, medianIncome=8.1872, medianHouseValue=466100.0),\n",
              " Row(longitude=-122.23, latitude=37.82, housingMedianAge=52.0, totalRooms=3494.0, totalBedrooms=396.0, population=1192.0, households=383.0, medianIncome=12.3804, medianHouseValue=500001.0),\n",
              " Row(longitude=-122.24, latitude=37.83, housingMedianAge=52.0, totalRooms=1757.0, totalBedrooms=246.0, population=585.0, households=227.0, medianIncome=5.8948, medianHouseValue=457800.0),\n",
              " Row(longitude=-122.24, latitude=37.83, housingMedianAge=52.0, totalRooms=2449.0, totalBedrooms=312.0, population=916.0, households=316.0, medianIncome=8.1194, medianHouseValue=471600.0),\n",
              " Row(longitude=-122.23, latitude=37.82, housingMedianAge=52.0, totalRooms=1611.0, totalBedrooms=203.0, population=556.0, households=179.0, medianIncome=8.7477, medianHouseValue=500001.0),\n",
              " Row(longitude=-122.24, latitude=37.82, housingMedianAge=52.0, totalRooms=3665.0, totalBedrooms=517.0, population=1470.0, households=520.0, medianIncome=6.155, medianHouseValue=398600.0),\n",
              " Row(longitude=-122.25, latitude=37.82, housingMedianAge=52.0, totalRooms=2474.0, totalBedrooms=403.0, population=1104.0, households=398.0, medianIncome=5.883, medianHouseValue=340700.0),\n",
              " Row(longitude=-122.23, latitude=37.76, housingMedianAge=52.0, totalRooms=3037.0, totalBedrooms=516.0, population=1242.0, households=518.0, medianIncome=5.2128, medianHouseValue=289900.0),\n",
              " Row(longitude=-122.23, latitude=37.76, housingMedianAge=52.0, totalRooms=2269.0, totalBedrooms=323.0, population=805.0, households=321.0, medianIncome=4.7188, medianHouseValue=335300.0),\n",
              " Row(longitude=-122.23, latitude=37.76, housingMedianAge=52.0, totalRooms=1316.0, totalBedrooms=177.0, population=378.0, households=162.0, medianIncome=5.2915, medianHouseValue=333000.0),\n",
              " Row(longitude=-122.24, latitude=37.77, housingMedianAge=52.0, totalRooms=1153.0, totalBedrooms=235.0, population=481.0, households=223.0, medianIncome=2.6411, medianHouseValue=241000.0),\n",
              " Row(longitude=-122.23, latitude=37.77, housingMedianAge=52.0, totalRooms=772.0, totalBedrooms=179.0, population=409.0, households=160.0, medianIncome=3.3214, medianHouseValue=189600.0),\n",
              " Row(longitude=-122.24, latitude=37.77, housingMedianAge=52.0, totalRooms=1711.0, totalBedrooms=386.0, population=885.0, households=373.0, medianIncome=3.6417, medianHouseValue=206300.0),\n",
              " Row(longitude=-122.25, latitude=37.77, housingMedianAge=52.0, totalRooms=2650.0, totalBedrooms=566.0, population=1468.0, households=567.0, medianIncome=3.0161, medianHouseValue=215700.0),\n",
              " Row(longitude=-122.25, latitude=37.77, housingMedianAge=52.0, totalRooms=1038.0, totalBedrooms=220.0, population=482.0, households=215.0, medianIncome=3.1771, medianHouseValue=210200.0),\n",
              " Row(longitude=-122.25, latitude=37.77, housingMedianAge=52.0, totalRooms=1527.0, totalBedrooms=320.0, population=825.0, households=264.0, medianIncome=3.4531, medianHouseValue=208800.0),\n",
              " Row(longitude=-122.25, latitude=37.77, housingMedianAge=52.0, totalRooms=859.0, totalBedrooms=157.0, population=429.0, households=158.0, medianIncome=4.3098, medianHouseValue=197900.0),\n",
              " Row(longitude=-122.26, latitude=37.78, housingMedianAge=52.0, totalRooms=970.0, totalBedrooms=217.0, population=528.0, households=208.0, medianIncome=3.3438, medianHouseValue=201300.0),\n",
              " Row(longitude=-122.26, latitude=37.78, housingMedianAge=52.0, totalRooms=1045.0, totalBedrooms=239.0, population=496.0, households=216.0, medianIncome=2.9213, medianHouseValue=190800.0),\n",
              " Row(longitude=-122.27, latitude=37.78, housingMedianAge=52.0, totalRooms=1408.0, totalBedrooms=280.0, population=718.0, households=265.0, medianIncome=2.6806, medianHouseValue=207900.0),\n",
              " Row(longitude=-122.27, latitude=37.78, housingMedianAge=52.0, totalRooms=1222.0, totalBedrooms=264.0, population=630.0, households=265.0, medianIncome=3.7708, medianHouseValue=215300.0),\n",
              " Row(longitude=-122.27, latitude=37.78, housingMedianAge=45.0, totalRooms=1169.0, totalBedrooms=263.0, population=723.0, households=286.0, medianIncome=3.9444, medianHouseValue=212900.0),\n",
              " Row(longitude=-122.27, latitude=37.78, housingMedianAge=13.0, totalRooms=2020.0, totalBedrooms=535.0, population=959.0, households=486.0, medianIncome=5.2601, medianHouseValue=292700.0),\n",
              " Row(longitude=-122.28, latitude=37.79, housingMedianAge=30.0, totalRooms=4145.0, totalBedrooms=869.0, population=3668.0, households=855.0, medianIncome=2.5444, medianHouseValue=275000.0),\n",
              " Row(longitude=-122.3, latitude=37.77, housingMedianAge=42.0, totalRooms=2038.0, totalBedrooms=368.0, population=2037.0, households=355.0, medianIncome=2.6447, medianHouseValue=200000.0),\n",
              " Row(longitude=-122.28, latitude=37.78, housingMedianAge=29.0, totalRooms=5154.0, totalBedrooms=1394.0, population=3741.0, households=1273.0, medianIncome=2.5762, medianHouseValue=173400.0),\n",
              " Row(longitude=-122.29, latitude=37.78, housingMedianAge=42.0, totalRooms=1241.0, totalBedrooms=309.0, population=821.0, households=300.0, medianIncome=1.9427, medianHouseValue=102200.0),\n",
              " Row(longitude=-122.28, latitude=37.77, housingMedianAge=52.0, totalRooms=1468.0, totalBedrooms=363.0, population=870.0, households=347.0, medianIncome=2.9688, medianHouseValue=220800.0),\n",
              " Row(longitude=-122.28, latitude=37.77, housingMedianAge=27.0, totalRooms=3997.0, totalBedrooms=1073.0, population=1901.0, households=966.0, medianIncome=3.75, medianHouseValue=242800.0),\n",
              " Row(longitude=-122.29, latitude=37.76, housingMedianAge=18.0, totalRooms=2873.0, totalBedrooms=763.0, population=1243.0, households=663.0, medianIncome=5.1702, medianHouseValue=265400.0),\n",
              " Row(longitude=-122.28, latitude=37.78, housingMedianAge=50.0, totalRooms=1487.0, totalBedrooms=306.0, population=730.0, households=327.0, medianIncome=2.5139, medianHouseValue=219000.0),\n",
              " Row(longitude=-122.26, latitude=37.77, housingMedianAge=52.0, totalRooms=1670.0, totalBedrooms=350.0, population=793.0, households=299.0, medianIncome=2.9732, medianHouseValue=282100.0),\n",
              " Row(longitude=-122.27, latitude=37.77, housingMedianAge=52.0, totalRooms=2252.0, totalBedrooms=388.0, population=1033.0, households=434.0, medianIncome=5.5337, medianHouseValue=372000.0),\n",
              " Row(longitude=-122.27, latitude=37.77, housingMedianAge=52.0, totalRooms=1731.0, totalBedrooms=377.0, population=872.0, households=363.0, medianIncome=4.1667, medianHouseValue=225800.0),\n",
              " Row(longitude=-122.27, latitude=37.77, housingMedianAge=52.0, totalRooms=1710.0, totalBedrooms=481.0, population=849.0, households=457.0, medianIncome=2.7115, medianHouseValue=220800.0),\n",
              " Row(longitude=-122.27, latitude=37.77, housingMedianAge=52.0, totalRooms=2388.0, totalBedrooms=559.0, population=1121.0, households=518.0, medianIncome=3.3269, medianHouseValue=234500.0),\n",
              " Row(longitude=-122.25, latitude=37.77, housingMedianAge=52.0, totalRooms=2156.0, totalBedrooms=458.0, population=872.0, households=445.0, medianIncome=3.2685, medianHouseValue=254200.0),\n",
              " Row(longitude=-122.26, latitude=37.77, housingMedianAge=52.0, totalRooms=1565.0, totalBedrooms=315.0, population=637.0, households=297.0, medianIncome=4.7778, medianHouseValue=351800.0),\n",
              " Row(longitude=-122.26, latitude=37.77, housingMedianAge=52.0, totalRooms=1704.0, totalBedrooms=371.0, population=663.0, households=340.0, medianIncome=4.226, medianHouseValue=275000.0),\n",
              " Row(longitude=-122.26, latitude=37.77, housingMedianAge=52.0, totalRooms=1210.0, totalBedrooms=168.0, population=411.0, households=172.0, medianIncome=3.3571, medianHouseValue=405400.0),\n",
              " Row(longitude=-122.26, latitude=37.77, housingMedianAge=52.0, totalRooms=2097.0, totalBedrooms=444.0, population=915.0, households=413.0, medianIncome=2.9899, medianHouseValue=228100.0),\n",
              " Row(longitude=-122.26, latitude=37.77, housingMedianAge=52.0, totalRooms=1848.0, totalBedrooms=479.0, population=921.0, households=477.0, medianIncome=2.875, medianHouseValue=234000.0),\n",
              " Row(longitude=-122.24, latitude=37.77, housingMedianAge=43.0, totalRooms=955.0, totalBedrooms=284.0, population=585.0, households=266.0, medianIncome=2.3882, medianHouseValue=162500.0),\n",
              " Row(longitude=-122.25, latitude=37.77, housingMedianAge=43.0, totalRooms=4329.0, totalBedrooms=1110.0, population=2086.0, households=1053.0, medianIncome=2.975, medianHouseValue=243400.0),\n",
              " Row(longitude=-122.23, latitude=37.76, housingMedianAge=52.0, totalRooms=3011.0, totalBedrooms=542.0, population=1303.0, households=535.0, medianIncome=5.1039, medianHouseValue=273800.0),\n",
              " Row(longitude=-122.23, latitude=37.76, housingMedianAge=52.0, totalRooms=1049.0, totalBedrooms=185.0, population=374.0, households=176.0, medianIncome=4.1458, medianHouseValue=248500.0),\n",
              " Row(longitude=-122.24, latitude=37.76, housingMedianAge=52.0, totalRooms=2504.0, totalBedrooms=516.0, population=979.0, households=472.0, medianIncome=3.4762, medianHouseValue=244000.0),\n",
              " Row(longitude=-122.24, latitude=37.76, housingMedianAge=52.0, totalRooms=1846.0, totalBedrooms=471.0, population=827.0, households=446.0, medianIncome=2.6833, medianHouseValue=240900.0),\n",
              " Row(longitude=-122.23, latitude=37.76, housingMedianAge=52.0, totalRooms=1705.0, totalBedrooms=246.0, population=658.0, households=253.0, medianIncome=5.75, medianHouseValue=306300.0),\n",
              " Row(longitude=-122.23, latitude=37.75, housingMedianAge=50.0, totalRooms=1542.0, totalBedrooms=289.0, population=654.0, households=268.0, medianIncome=3.9632, medianHouseValue=240000.0),\n",
              " Row(longitude=-122.24, latitude=37.75, housingMedianAge=45.0, totalRooms=891.0, totalBedrooms=155.0, population=384.0, households=146.0, medianIncome=4.9489, medianHouseValue=247100.0),\n",
              " Row(longitude=-122.24, latitude=37.75, housingMedianAge=27.0, totalRooms=4051.0, totalBedrooms=753.0, population=1499.0, households=797.0, medianIncome=4.8711, medianHouseValue=286600.0),\n",
              " Row(longitude=-122.24, latitude=37.76, housingMedianAge=52.0, totalRooms=2646.0, totalBedrooms=581.0, population=1128.0, households=522.0, medianIncome=3.0718, medianHouseValue=266700.0),\n",
              " Row(longitude=-122.24, latitude=37.76, housingMedianAge=49.0, totalRooms=2428.0, totalBedrooms=525.0, population=1110.0, households=492.0, medianIncome=3.6719, medianHouseValue=229800.0),\n",
              " Row(longitude=-122.24, latitude=37.76, housingMedianAge=52.0, totalRooms=2567.0, totalBedrooms=436.0, population=1119.0, households=415.0, medianIncome=4.6094, medianHouseValue=229300.0),\n",
              " Row(longitude=-122.24, latitude=37.73, housingMedianAge=21.0, totalRooms=7031.0, totalBedrooms=1249.0, population=2930.0, households=1235.0, medianIncome=4.5213, medianHouseValue=228400.0),\n",
              " Row(longitude=-122.25, latitude=37.74, housingMedianAge=25.0, totalRooms=1914.0, totalBedrooms=365.0, population=897.0, households=390.0, medianIncome=4.4562, medianHouseValue=206200.0),\n",
              " Row(longitude=-122.24, latitude=37.72, housingMedianAge=5.0, totalRooms=18634.0, totalBedrooms=2885.0, population=7427.0, households=2718.0, medianIncome=7.611, medianHouseValue=350700.0),\n",
              " Row(longitude=-122.27, latitude=37.73, housingMedianAge=31.0, totalRooms=5785.0, totalBedrooms=1379.0, population=2973.0, households=1312.0, medianIncome=3.2689, medianHouseValue=231000.0),\n",
              " Row(longitude=-122.25, latitude=37.76, housingMedianAge=52.0, totalRooms=2876.0, totalBedrooms=648.0, population=1340.0, households=632.0, medianIncome=3.567, medianHouseValue=252900.0),\n",
              " Row(longitude=-122.27, latitude=37.74, housingMedianAge=28.0, totalRooms=6909.0, totalBedrooms=1554.0, population=2974.0, households=1484.0, medianIncome=3.6875, medianHouseValue=353900.0),\n",
              " Row(longitude=-122.27, latitude=37.77, housingMedianAge=23.0, totalRooms=5679.0, totalBedrooms=1270.0, population=2690.0, households=1151.0, medianIncome=4.7695, medianHouseValue=291700.0),\n",
              " Row(longitude=-122.28, latitude=37.75, housingMedianAge=20.0, totalRooms=1156.0, totalBedrooms=365.0, population=583.0, households=326.0, medianIncome=3.1972, medianHouseValue=100000.0),\n",
              " Row(longitude=-122.06, latitude=37.77, housingMedianAge=12.0, totalRooms=14316.0, totalBedrooms=2045.0, population=5781.0, households=2007.0, medianIncome=7.2634, medianHouseValue=341600.0),\n",
              " Row(longitude=-122.06, latitude=37.73, housingMedianAge=5.0, totalRooms=3596.0, totalBedrooms=467.0, population=1738.0, households=512.0, medianIncome=7.0568, medianHouseValue=412500.0),\n",
              " Row(longitude=-122.06, latitude=37.71, housingMedianAge=36.0, totalRooms=3541.0, totalBedrooms=570.0, population=1478.0, households=529.0, medianIncome=4.635, medianHouseValue=248600.0),\n",
              " Row(longitude=-122.07, latitude=37.71, housingMedianAge=40.0, totalRooms=1808.0, totalBedrooms=302.0, population=746.0, households=270.0, medianIncome=5.3015, medianHouseValue=254900.0),\n",
              " Row(longitude=-122.07, latitude=37.71, housingMedianAge=36.0, totalRooms=2879.0, totalBedrooms=480.0, population=1235.0, households=455.0, medianIncome=4.9801, medianHouseValue=241500.0),\n",
              " Row(longitude=-122.07, latitude=37.72, housingMedianAge=26.0, totalRooms=3204.0, totalBedrooms=477.0, population=1411.0, households=484.0, medianIncome=5.4834, medianHouseValue=295200.0),\n",
              " Row(longitude=-122.08, latitude=37.72, housingMedianAge=31.0, totalRooms=3866.0, totalBedrooms=531.0, population=1368.0, households=521.0, medianIncome=6.187, medianHouseValue=340400.0),\n",
              " Row(longitude=-122.08, latitude=37.72, housingMedianAge=32.0, totalRooms=2476.0, totalBedrooms=368.0, population=1048.0, households=367.0, medianIncome=5.6194, medianHouseValue=274700.0),\n",
              " Row(longitude=-122.08, latitude=37.71, housingMedianAge=35.0, totalRooms=2211.0, totalBedrooms=350.0, population=1004.0, households=365.0, medianIncome=5.4639, medianHouseValue=238600.0),\n",
              " Row(longitude=-122.09, latitude=37.71, housingMedianAge=35.0, totalRooms=2663.0, totalBedrooms=387.0, population=1086.0, households=367.0, medianIncome=5.1498, medianHouseValue=266400.0),\n",
              " Row(longitude=-122.1, latitude=37.72, housingMedianAge=30.0, totalRooms=2599.0, totalBedrooms=366.0, population=922.0, households=350.0, medianIncome=5.8382, medianHouseValue=330200.0),\n",
              " Row(longitude=-122.11, latitude=37.71, housingMedianAge=36.0, totalRooms=4569.0, totalBedrooms=824.0, population=1950.0, households=819.0, medianIncome=4.65, medianHouseValue=206800.0),\n",
              " Row(longitude=-122.1, latitude=37.7, housingMedianAge=25.0, totalRooms=2973.0, totalBedrooms=622.0, population=1413.0, households=595.0, medianIncome=4.3819, medianHouseValue=209200.0),\n",
              " Row(longitude=-122.1, latitude=37.69, housingMedianAge=30.0, totalRooms=3115.0, totalBedrooms=625.0, population=1444.0, households=568.0, medianIncome=3.7222, medianHouseValue=195800.0),\n",
              " Row(longitude=-122.09, latitude=37.71, housingMedianAge=31.0, totalRooms=1843.0, totalBedrooms=282.0, population=749.0, households=269.0, medianIncome=5.2855, medianHouseValue=253500.0),\n",
              " Row(longitude=-122.09, latitude=37.7, housingMedianAge=31.0, totalRooms=2053.0, totalBedrooms=336.0, population=867.0, households=329.0, medianIncome=4.3375, medianHouseValue=241800.0),\n",
              " Row(longitude=-122.1, latitude=37.71, housingMedianAge=27.0, totalRooms=6740.0, totalBedrooms=1073.0, population=2723.0, households=1035.0, medianIncome=5.2131, medianHouseValue=252500.0),\n",
              " Row(longitude=-122.09, latitude=37.7, housingMedianAge=30.0, totalRooms=1751.0, totalBedrooms=269.0, population=731.0, households=263.0, medianIncome=6.005, medianHouseValue=263900.0),\n",
              " Row(longitude=-122.08, latitude=37.71, housingMedianAge=38.0, totalRooms=1663.0, totalBedrooms=295.0, population=781.0, households=301.0, medianIncome=5.0519, medianHouseValue=227000.0),\n",
              " Row(longitude=-122.08, latitude=37.71, housingMedianAge=38.0, totalRooms=3716.0, totalBedrooms=657.0, population=1784.0, households=652.0, medianIncome=4.8237, medianHouseValue=220900.0),\n",
              " Row(longitude=-122.08, latitude=37.7, housingMedianAge=32.0, totalRooms=2718.0, totalBedrooms=447.0, population=1156.0, households=410.0, medianIncome=5.2497, medianHouseValue=259300.0),\n",
              " Row(longitude=-122.07, latitude=37.7, housingMedianAge=39.0, totalRooms=1420.0, totalBedrooms=272.0, population=645.0, households=277.0, medianIncome=4.125, medianHouseValue=232500.0),\n",
              " Row(longitude=-122.06, latitude=37.7, housingMedianAge=37.0, totalRooms=1893.0, totalBedrooms=310.0, population=821.0, households=315.0, medianIncome=4.6005, medianHouseValue=231600.0),\n",
              " Row(longitude=-122.06, latitude=37.7, housingMedianAge=33.0, totalRooms=3906.0, totalBedrooms=790.0, population=1912.0, households=770.0, medianIncome=3.5187, medianHouseValue=209400.0),\n",
              " Row(longitude=-122.07, latitude=37.7, housingMedianAge=32.0, totalRooms=3400.0, totalBedrooms=736.0, population=1487.0, households=694.0, medianIncome=3.0, medianHouseValue=223200.0),\n",
              " Row(longitude=-122.08, latitude=37.7, housingMedianAge=25.0, totalRooms=3402.0, totalBedrooms=758.0, population=1645.0, households=710.0, medianIncome=3.4934, medianHouseValue=209900.0),\n",
              " Row(longitude=-122.09, latitude=37.7, housingMedianAge=33.0, totalRooms=4413.0, totalBedrooms=1107.0, population=2239.0, households=1051.0, medianIncome=2.9861, medianHouseValue=208200.0),\n",
              " Row(longitude=-122.07, latitude=37.69, housingMedianAge=29.0, totalRooms=2304.0, totalBedrooms=618.0, population=1021.0, households=552.0, medianIncome=2.5362, medianHouseValue=203800.0),\n",
              " Row(longitude=-122.08, latitude=37.69, housingMedianAge=36.0, totalRooms=2350.0, totalBedrooms=499.0, population=1105.0, households=467.0, medianIncome=3.3021, medianHouseValue=195700.0),\n",
              " Row(longitude=-122.07, latitude=37.69, housingMedianAge=31.0, totalRooms=5914.0, totalBedrooms=1309.0, population=2999.0, households=1295.0, medianIncome=3.0964, medianHouseValue=190500.0),\n",
              " Row(longitude=-122.08, latitude=37.69, housingMedianAge=43.0, totalRooms=1575.0, totalBedrooms=324.0, population=740.0, households=284.0, medianIncome=2.8512, medianHouseValue=181000.0),\n",
              " Row(longitude=-122.08, latitude=37.69, housingMedianAge=42.0, totalRooms=1414.0, totalBedrooms=274.0, population=629.0, households=244.0, medianIncome=3.3478, medianHouseValue=184900.0),\n",
              " Row(longitude=-122.08, latitude=37.68, housingMedianAge=37.0, totalRooms=848.0, totalBedrooms=202.0, population=314.0, households=205.0, medianIncome=2.3958, medianHouseValue=190800.0),\n",
              " Row(longitude=-122.08, latitude=37.68, housingMedianAge=15.0, totalRooms=3051.0, totalBedrooms=685.0, population=1479.0, households=668.0, medianIncome=3.5295, medianHouseValue=242200.0),\n",
              " Row(longitude=-122.09, latitude=37.69, housingMedianAge=20.0, totalRooms=4296.0, totalBedrooms=817.0, population=1732.0, households=800.0, medianIncome=4.8036, medianHouseValue=188300.0),\n",
              " Row(longitude=-122.15, latitude=37.74, housingMedianAge=52.0, totalRooms=2898.0, totalBedrooms=557.0, population=1338.0, households=550.0, medianIncome=3.851, medianHouseValue=183500.0),\n",
              " Row(longitude=-122.14, latitude=37.74, housingMedianAge=52.0, totalRooms=1071.0, totalBedrooms=201.0, population=440.0, households=192.0, medianIncome=4.0662, medianHouseValue=204200.0),\n",
              " Row(longitude=-122.14, latitude=37.73, housingMedianAge=51.0, totalRooms=2619.0, totalBedrooms=403.0, population=922.0, households=393.0, medianIncome=4.6042, medianHouseValue=251900.0),\n",
              " Row(longitude=-122.15, latitude=37.74, housingMedianAge=49.0, totalRooms=1494.0, totalBedrooms=316.0, population=611.0, households=288.0, medianIncome=2.2, medianHouseValue=187500.0),\n",
              " Row(longitude=-122.16, latitude=37.73, housingMedianAge=52.0, totalRooms=2260.0, totalBedrooms=416.0, population=994.0, households=412.0, medianIncome=4.1164, medianHouseValue=198200.0),\n",
              " Row(longitude=-122.15, latitude=37.74, housingMedianAge=52.0, totalRooms=1394.0, totalBedrooms=223.0, population=545.0, households=230.0, medianIncome=3.95, medianHouseValue=219000.0),\n",
              " Row(longitude=-122.15, latitude=37.73, housingMedianAge=52.0, totalRooms=1028.0, totalBedrooms=129.0, population=317.0, households=143.0, medianIncome=4.9135, medianHouseValue=275000.0),\n",
              " Row(longitude=-122.15, latitude=37.73, housingMedianAge=45.0, totalRooms=3758.0, totalBedrooms=819.0, population=1573.0, households=736.0, medianIncome=2.8355, medianHouseValue=245400.0),\n",
              " Row(longitude=-122.17, latitude=37.73, housingMedianAge=46.0, totalRooms=2163.0, totalBedrooms=470.0, population=925.0, households=435.0, medianIncome=3.25, medianHouseValue=177500.0),\n",
              " Row(longitude=-122.16, latitude=37.73, housingMedianAge=49.0, totalRooms=1699.0, totalBedrooms=408.0, population=768.0, households=385.0, medianIncome=2.8301, medianHouseValue=171600.0),\n",
              " Row(longitude=-122.17, latitude=37.73, housingMedianAge=52.0, totalRooms=1555.0, totalBedrooms=289.0, population=620.0, households=292.0, medianIncome=3.7159, medianHouseValue=183300.0),\n",
              " Row(longitude=-122.16, latitude=37.73, housingMedianAge=52.0, totalRooms=1114.0, totalBedrooms=206.0, population=425.0, households=207.0, medianIncome=2.5625, medianHouseValue=175000.0),\n",
              " Row(longitude=-122.18, latitude=37.72, housingMedianAge=45.0, totalRooms=1498.0, totalBedrooms=313.0, population=1003.0, households=305.0, medianIncome=3.8047, medianHouseValue=156700.0),\n",
              " Row(longitude=-122.18, latitude=37.71, housingMedianAge=45.0, totalRooms=726.0, totalBedrooms=147.0, population=519.0, households=135.0, medianIncome=3.375, medianHouseValue=157500.0),\n",
              " Row(longitude=-122.17, latitude=37.71, housingMedianAge=38.0, totalRooms=890.0, totalBedrooms=200.0, population=481.0, households=198.0, medianIncome=3.244, medianHouseValue=179800.0),\n",
              " Row(longitude=-122.18, latitude=37.7, housingMedianAge=36.0, totalRooms=2639.0, totalBedrooms=533.0, population=1209.0, households=519.0, medianIncome=4.0268, medianHouseValue=205500.0),\n",
              " Row(longitude=-122.18, latitude=37.7, housingMedianAge=35.0, totalRooms=2562.0, totalBedrooms=554.0, population=1398.0, households=525.0, medianIncome=3.3906, medianHouseValue=178900.0),\n",
              " Row(longitude=-122.19, latitude=37.71, housingMedianAge=36.0, totalRooms=361.0, totalBedrooms=69.0, population=158.0, households=58.0, medianIncome=5.5461, medianHouseValue=262500.0),\n",
              " Row(longitude=-122.17, latitude=37.72, housingMedianAge=42.0, totalRooms=3008.0, totalBedrooms=659.0, population=1817.0, households=664.0, medianIncome=3.371, medianHouseValue=165000.0),\n",
              " Row(longitude=-122.17, latitude=37.72, housingMedianAge=46.0, totalRooms=1369.0, totalBedrooms=284.0, population=766.0, households=289.0, medianIncome=3.5313, medianHouseValue=159700.0),\n",
              " Row(longitude=-122.17, latitude=37.72, housingMedianAge=5.0, totalRooms=1692.0, totalBedrooms=398.0, population=814.0, households=328.0, medianIncome=3.663, medianHouseValue=158300.0),\n",
              " Row(longitude=-122.16, latitude=37.72, housingMedianAge=38.0, totalRooms=1007.0, totalBedrooms=245.0, population=618.0, households=239.0, medianIncome=2.875, medianHouseValue=144800.0),\n",
              " Row(longitude=-122.17, latitude=37.72, housingMedianAge=43.0, totalRooms=3783.0, totalBedrooms=814.0, population=2139.0, households=789.0, medianIncome=4.0202, medianHouseValue=166300.0),\n",
              " Row(longitude=-122.16, latitude=37.71, housingMedianAge=37.0, totalRooms=1507.0, totalBedrooms=242.0, population=632.0, households=253.0, medianIncome=4.5553, medianHouseValue=191000.0),\n",
              " Row(longitude=-122.16, latitude=37.71, housingMedianAge=36.0, totalRooms=666.0, totalBedrooms=132.0, population=366.0, households=134.0, medianIncome=3.4643, medianHouseValue=175000.0),\n",
              " Row(longitude=-122.16, latitude=37.72, housingMedianAge=10.0, totalRooms=2229.0, totalBedrooms=601.0, population=877.0, households=485.0, medianIncome=3.3431, medianHouseValue=137500.0),\n",
              " Row(longitude=-122.15, latitude=37.73, housingMedianAge=28.0, totalRooms=2215.0, totalBedrooms=587.0, population=830.0, households=573.0, medianIncome=2.1898, medianHouseValue=141700.0),\n",
              " Row(longitude=-122.15, latitude=37.72, housingMedianAge=31.0, totalRooms=1616.0, totalBedrooms=372.0, population=739.0, households=379.0, medianIncome=2.9097, medianHouseValue=210900.0),\n",
              " Row(longitude=-122.15, latitude=37.72, housingMedianAge=47.0, totalRooms=1190.0, totalBedrooms=251.0, population=540.0, households=266.0, medianIncome=3.375, medianHouseValue=198300.0),\n",
              " Row(longitude=-122.15, latitude=37.72, housingMedianAge=29.0, totalRooms=4169.0, totalBedrooms=1047.0, population=2024.0, households=962.0, medianIncome=2.8125, medianHouseValue=157400.0),\n",
              " Row(longitude=-122.14, latitude=37.73, housingMedianAge=52.0, totalRooms=2024.0, totalBedrooms=320.0, population=823.0, households=334.0, medianIncome=5.0, medianHouseValue=264700.0),\n",
              " Row(longitude=-122.14, latitude=37.73, housingMedianAge=38.0, totalRooms=1723.0, totalBedrooms=394.0, population=711.0, households=353.0, medianIncome=3.0673, medianHouseValue=218400.0),\n",
              " Row(longitude=-122.14, latitude=37.73, housingMedianAge=43.0, totalRooms=2264.0, totalBedrooms=390.0, population=931.0, households=368.0, medianIncome=3.8125, medianHouseValue=235100.0),\n",
              " Row(longitude=-122.13, latitude=37.73, housingMedianAge=33.0, totalRooms=1996.0, totalBedrooms=268.0, population=686.0, households=270.0, medianIncome=6.9096, medianHouseValue=341800.0),\n",
              " Row(longitude=-122.13, latitude=37.72, housingMedianAge=26.0, totalRooms=2862.0, totalBedrooms=394.0, population=1030.0, households=397.0, medianIncome=7.912, medianHouseValue=367300.0),\n",
              " Row(longitude=-122.13, latitude=37.72, housingMedianAge=35.0, totalRooms=2183.0, totalBedrooms=383.0, population=976.0, households=392.0, medianIncome=3.8393, medianHouseValue=243500.0),\n",
              " Row(longitude=-122.12, latitude=37.71, housingMedianAge=35.0, totalRooms=1037.0, totalBedrooms=207.0, population=552.0, households=210.0, medianIncome=4.0, medianHouseValue=167900.0),\n",
              " Row(longitude=-122.13, latitude=37.72, housingMedianAge=25.0, totalRooms=1134.0, totalBedrooms=153.0, population=340.0, households=171.0, medianIncome=6.5095, medianHouseValue=371200.0),\n",
              " Row(longitude=-122.14, latitude=37.72, housingMedianAge=39.0, totalRooms=786.0, totalBedrooms=132.0, population=288.0, households=132.0, medianIncome=3.5156, medianHouseValue=218900.0),\n",
              " Row(longitude=-122.14, latitude=37.72, housingMedianAge=45.0, totalRooms=1397.0, totalBedrooms=253.0, population=555.0, households=248.0, medianIncome=2.983, medianHouseValue=202700.0),\n",
              " Row(longitude=-122.13, latitude=37.72, housingMedianAge=45.0, totalRooms=2315.0, totalBedrooms=451.0, population=1006.0, households=444.0, medianIncome=3.524, medianHouseValue=186200.0),\n",
              " Row(longitude=-122.13, latitude=37.71, housingMedianAge=44.0, totalRooms=1613.0, totalBedrooms=339.0, population=776.0, households=346.0, medianIncome=3.1103, medianHouseValue=188900.0),\n",
              " Row(longitude=-122.13, latitude=37.71, housingMedianAge=44.0, totalRooms=1421.0, totalBedrooms=298.0, population=609.0, households=270.0, medianIncome=3.5781, medianHouseValue=180000.0),\n",
              " Row(longitude=-122.15, latitude=37.71, housingMedianAge=18.0, totalRooms=5778.0, totalBedrooms=1526.0, population=2441.0, households=1352.0, medianIncome=3.1682, medianHouseValue=202700.0),\n",
              " Row(longitude=-122.14, latitude=37.71, housingMedianAge=27.0, totalRooms=3094.0, totalBedrooms=866.0, population=1364.0, households=789.0, medianIncome=2.6101, medianHouseValue=181700.0),\n",
              " Row(longitude=-122.14, latitude=37.71, housingMedianAge=18.0, totalRooms=3905.0, totalBedrooms=1007.0, population=2197.0, households=1044.0, medianIncome=3.6932, medianHouseValue=166800.0),\n",
              " Row(longitude=-122.13, latitude=37.7, housingMedianAge=43.0, totalRooms=3046.0, totalBedrooms=557.0, population=1333.0, households=544.0, medianIncome=3.4583, medianHouseValue=183700.0),\n",
              " Row(longitude=-122.13, latitude=37.7, housingMedianAge=19.0, totalRooms=3516.0, totalBedrooms=710.0, population=1810.0, households=703.0, medianIncome=3.9032, medianHouseValue=218000.0),\n",
              " Row(longitude=-122.15, latitude=37.71, housingMedianAge=36.0, totalRooms=998.0, totalBedrooms=178.0, population=531.0, households=183.0, medianIncome=4.0208, medianHouseValue=191500.0),\n",
              " Row(longitude=-122.15, latitude=37.7, housingMedianAge=36.0, totalRooms=1464.0, totalBedrooms=244.0, population=672.0, households=261.0, medianIncome=3.5547, medianHouseValue=194700.0),\n",
              " Row(longitude=-122.14, latitude=37.7, housingMedianAge=17.0, totalRooms=1463.0, totalBedrooms=292.0, population=695.0, households=330.0, medianIncome=4.5859, medianHouseValue=187200.0),\n",
              " Row(longitude=-122.13, latitude=37.7, housingMedianAge=21.0, totalRooms=4124.0, totalBedrooms=1054.0, population=2162.0, households=998.0, medianIncome=2.6321, medianHouseValue=223100.0),\n",
              " Row(longitude=-122.13, latitude=37.69, housingMedianAge=17.0, totalRooms=2380.0, totalBedrooms=769.0, population=1216.0, households=643.0, medianIncome=3.395, medianHouseValue=271300.0),\n",
              " Row(longitude=-122.14, latitude=37.7, housingMedianAge=36.0, totalRooms=1266.0, totalBedrooms=228.0, population=606.0, households=239.0, medianIncome=3.9702, medianHouseValue=194100.0),\n",
              " Row(longitude=-122.16, latitude=37.7, housingMedianAge=36.0, totalRooms=2239.0, totalBedrooms=391.0, population=1203.0, households=379.0, medianIncome=5.0043, medianHouseValue=190400.0),\n",
              " Row(longitude=-122.14, latitude=37.69, housingMedianAge=38.0, totalRooms=1571.0, totalBedrooms=317.0, population=874.0, households=301.0, medianIncome=4.4659, medianHouseValue=189100.0),\n",
              " Row(longitude=-122.15, latitude=37.69, housingMedianAge=38.0, totalRooms=1246.0, totalBedrooms=221.0, population=637.0, households=222.0, medianIncome=3.6625, medianHouseValue=184600.0),\n",
              " Row(longitude=-122.15, latitude=37.69, housingMedianAge=36.0, totalRooms=1501.0, totalBedrooms=287.0, population=703.0, households=276.0, medianIncome=3.8864, medianHouseValue=197300.0),\n",
              " Row(longitude=-122.15, latitude=37.7, housingMedianAge=36.0, totalRooms=1468.0, totalBedrooms=252.0, population=733.0, households=229.0, medianIncome=3.4583, medianHouseValue=192600.0),\n",
              " Row(longitude=-122.16, latitude=37.69, housingMedianAge=36.0, totalRooms=1118.0, totalBedrooms=219.0, population=625.0, households=228.0, medianIncome=3.7813, medianHouseValue=192200.0),\n",
              " Row(longitude=-122.16, latitude=37.7, housingMedianAge=36.0, totalRooms=1097.0, totalBedrooms=208.0, population=568.0, households=225.0, medianIncome=2.9917, medianHouseValue=194600.0),\n",
              " Row(longitude=-122.16, latitude=37.7, housingMedianAge=36.0, totalRooms=1719.0, totalBedrooms=303.0, population=836.0, households=311.0, medianIncome=4.4375, medianHouseValue=193500.0),\n",
              " Row(longitude=-122.17, latitude=37.7, housingMedianAge=24.0, totalRooms=1755.0, totalBedrooms=365.0, population=952.0, households=362.0, medianIncome=4.0, medianHouseValue=202600.0),\n",
              " Row(longitude=-122.16, latitude=37.68, housingMedianAge=16.0, totalRooms=1687.0, totalBedrooms=348.0, population=568.0, households=352.0, medianIncome=2.3869, medianHouseValue=83300.0),\n",
              " Row(longitude=-122.17, latitude=37.69, housingMedianAge=24.0, totalRooms=2262.0, totalBedrooms=391.0, population=1125.0, households=366.0, medianIncome=4.7609, medianHouseValue=212600.0),\n",
              " Row(longitude=-122.18, latitude=37.68, housingMedianAge=5.0, totalRooms=2087.0, totalBedrooms=407.0, population=840.0, households=401.0, medianIncome=5.4858, medianHouseValue=187800.0),\n",
              " Row(longitude=-122.16, latitude=37.69, housingMedianAge=36.0, totalRooms=1480.0, totalBedrooms=278.0, population=796.0, households=283.0, medianIncome=4.3971, medianHouseValue=205700.0),\n",
              " Row(longitude=-122.15, latitude=37.69, housingMedianAge=36.0, totalRooms=1545.0, totalBedrooms=273.0, population=863.0, households=267.0, medianIncome=4.0109, medianHouseValue=192900.0),\n",
              " Row(longitude=-122.15, latitude=37.68, housingMedianAge=35.0, totalRooms=2632.0, totalBedrooms=447.0, population=1349.0, households=486.0, medianIncome=4.3864, medianHouseValue=205200.0),\n",
              " Row(longitude=-122.15, latitude=37.68, housingMedianAge=30.0, totalRooms=2261.0, totalBedrooms=443.0, population=929.0, households=383.0, medianIncome=4.2841, medianHouseValue=213400.0),\n",
              " Row(longitude=-122.15, latitude=37.69, housingMedianAge=39.0, totalRooms=1670.0, totalBedrooms=308.0, population=957.0, households=335.0, medianIncome=5.1312, medianHouseValue=183600.0),\n",
              " Row(longitude=-122.14, latitude=37.69, housingMedianAge=37.0, totalRooms=2141.0, totalBedrooms=535.0, population=1093.0, households=555.0, medianIncome=2.9958, medianHouseValue=178400.0),\n",
              " Row(longitude=-122.14, latitude=37.68, housingMedianAge=27.0, totalRooms=3337.0, totalBedrooms=613.0, population=1489.0, households=607.0, medianIncome=3.6364, medianHouseValue=219200.0),\n",
              " Row(longitude=-122.14, latitude=37.68, housingMedianAge=31.0, totalRooms=3184.0, totalBedrooms=716.0, population=1561.0, households=628.0, medianIncome=2.7955, medianHouseValue=183100.0),\n",
              " Row(longitude=-122.1, latitude=37.69, housingMedianAge=44.0, totalRooms=2341.0, totalBedrooms=500.0, population=1256.0, households=485.0, medianIncome=2.9507, medianHouseValue=157100.0),\n",
              " Row(longitude=-122.12, latitude=37.69, housingMedianAge=30.0, totalRooms=1197.0, totalBedrooms=269.0, population=695.0, households=279.0, medianIncome=3.4375, medianHouseValue=157800.0),\n",
              " Row(longitude=-122.13, latitude=37.69, housingMedianAge=34.0, totalRooms=1131.0, totalBedrooms=278.0, population=560.0, households=237.0, medianIncome=2.875, medianHouseValue=161700.0),\n",
              " Row(longitude=-122.12, latitude=37.71, housingMedianAge=38.0, totalRooms=1164.0, totalBedrooms=284.0, population=632.0, households=289.0, medianIncome=3.0345, medianHouseValue=152100.0),\n",
              " Row(longitude=-122.12, latitude=37.7, housingMedianAge=41.0, totalRooms=3495.0, totalBedrooms=787.0, population=1849.0, households=750.0, medianIncome=2.679, medianHouseValue=144900.0),\n",
              " Row(longitude=-122.12, latitude=37.7, housingMedianAge=17.0, totalRooms=2488.0, totalBedrooms=617.0, population=1287.0, households=538.0, medianIncome=2.9922, medianHouseValue=179900.0),\n",
              " Row(longitude=-122.12, latitude=37.69, housingMedianAge=35.0, totalRooms=2681.0, totalBedrooms=508.0, population=1580.0, households=536.0, medianIncome=4.1042, medianHouseValue=179100.0),\n",
              " Row(longitude=-122.12, latitude=37.7, housingMedianAge=19.0, totalRooms=2495.0, totalBedrooms=635.0, population=1571.0, households=579.0, medianIncome=2.5833, medianHouseValue=159900.0),\n",
              " Row(longitude=-122.11, latitude=37.7, housingMedianAge=23.0, totalRooms=1689.0, totalBedrooms=461.0, population=828.0, households=443.0, medianIncome=2.1552, medianHouseValue=161400.0),\n",
              " Row(longitude=-122.11, latitude=37.7, housingMedianAge=29.0, totalRooms=1298.0, totalBedrooms=306.0, population=835.0, households=338.0, medianIncome=2.3274, medianHouseValue=170400.0),\n",
              " Row(longitude=-122.11, latitude=37.7, housingMedianAge=19.0, totalRooms=2693.0, totalBedrooms=789.0, population=1765.0, households=724.0, medianIncome=2.4206, medianHouseValue=137500.0),\n",
              " Row(longitude=-122.1, latitude=37.69, housingMedianAge=41.0, totalRooms=746.0, totalBedrooms=145.0, population=387.0, households=161.0, medianIncome=3.9063, medianHouseValue=178400.0),\n",
              " Row(longitude=-122.11, latitude=37.69, housingMedianAge=37.0, totalRooms=2444.0, totalBedrooms=651.0, population=1562.0, households=618.0, medianIncome=2.6464, medianHouseValue=155200.0),\n",
              " Row(longitude=-122.11, latitude=37.69, housingMedianAge=42.0, totalRooms=1472.0, totalBedrooms=310.0, population=768.0, households=309.0, medianIncome=3.4643, medianHouseValue=160900.0),\n",
              " Row(longitude=-122.12, latitude=37.69, housingMedianAge=10.0, totalRooms=2227.0, totalBedrooms=560.0, population=1140.0, households=472.0, medianIncome=2.3973, medianHouseValue=167300.0),\n",
              " Row(longitude=-122.03, latitude=37.69, housingMedianAge=20.0, totalRooms=200.0, totalBedrooms=25.0, population=83.0, households=31.0, medianIncome=6.5, medianHouseValue=340000.0),\n",
              " Row(longitude=-121.97, latitude=37.64, housingMedianAge=32.0, totalRooms=1283.0, totalBedrooms=194.0, population=485.0, households=171.0, medianIncome=6.0574, medianHouseValue=431000.0),\n",
              " Row(longitude=-122.02, latitude=37.63, housingMedianAge=6.0, totalRooms=2445.0, totalBedrooms=590.0, population=1189.0, households=573.0, medianIncome=3.8958, medianHouseValue=301100.0),\n",
              " Row(longitude=-122.04, latitude=37.63, housingMedianAge=21.0, totalRooms=1307.0, totalBedrooms=236.0, population=586.0, households=249.0, medianIncome=4.7813, medianHouseValue=241900.0),\n",
              " Row(longitude=-122.05, latitude=37.63, housingMedianAge=5.0, totalRooms=3785.0, totalBedrooms=936.0, population=2240.0, households=792.0, medianIncome=3.2829, medianHouseValue=162500.0),\n",
              " Row(longitude=-122.04, latitude=37.66, housingMedianAge=10.0, totalRooms=2031.0, totalBedrooms=357.0, population=867.0, households=352.0, medianIncome=5.3169, medianHouseValue=299200.0),\n",
              " Row(longitude=-122.04, latitude=37.65, housingMedianAge=10.0, totalRooms=8299.0, totalBedrooms=1326.0, population=3827.0, households=1288.0, medianIncome=6.2579, medianHouseValue=315500.0),\n",
              " Row(longitude=-122.05, latitude=37.68, housingMedianAge=23.0, totalRooms=7518.0, totalBedrooms=1279.0, population=3827.0, households=1294.0, medianIncome=5.1701, medianHouseValue=216800.0),\n",
              " Row(longitude=-122.07, latitude=37.68, housingMedianAge=36.0, totalRooms=1815.0, totalBedrooms=426.0, population=1280.0, households=431.0, medianIncome=3.25, medianHouseValue=218100.0),\n",
              " Row(longitude=-122.06, latitude=37.68, housingMedianAge=30.0, totalRooms=5367.0, totalBedrooms=1207.0, population=2667.0, households=1047.0, medianIncome=3.1796, medianHouseValue=170300.0),\n",
              " Row(longitude=-122.08, latitude=37.68, housingMedianAge=26.0, totalRooms=1167.0, totalBedrooms=370.0, population=253.0, households=137.0, medianIncome=2.4196, medianHouseValue=275000.0),\n",
              " Row(longitude=-122.08, latitude=37.68, housingMedianAge=26.0, totalRooms=2607.0, totalBedrooms=682.0, population=1401.0, households=607.0, medianIncome=2.6563, medianHouseValue=184100.0),\n",
              " Row(longitude=-122.08, latitude=37.67, housingMedianAge=29.0, totalRooms=493.0, totalBedrooms=168.0, population=233.0, households=152.0, medianIncome=0.9637, medianHouseValue=160000.0),\n",
              " Row(longitude=-122.09, latitude=37.67, housingMedianAge=48.0, totalRooms=1252.0, totalBedrooms=305.0, population=673.0, households=308.0, medianIncome=2.3357, medianHouseValue=175000.0),\n",
              " Row(longitude=-122.09, latitude=37.68, housingMedianAge=41.0, totalRooms=1382.0, totalBedrooms=353.0, population=704.0, households=314.0, medianIncome=3.5114, medianHouseValue=197500.0),\n",
              " Row(longitude=-122.09, latitude=37.69, housingMedianAge=43.0, totalRooms=500.0, totalBedrooms=110.0, population=273.0, households=120.0, medianIncome=3.3125, medianHouseValue=150000.0),\n",
              " Row(longitude=-122.09, latitude=37.68, housingMedianAge=29.0, totalRooms=2333.0, totalBedrooms=538.0, population=1120.0, households=540.0, medianIncome=2.4042, medianHouseValue=205600.0),\n",
              " Row(longitude=-122.09, latitude=37.68, housingMedianAge=41.0, totalRooms=1834.0, totalBedrooms=463.0, population=1105.0, households=467.0, medianIncome=2.8322, medianHouseValue=170300.0),\n",
              " Row(longitude=-122.09, latitude=37.68, housingMedianAge=43.0, totalRooms=1415.0, totalBedrooms=348.0, population=569.0, households=293.0, medianIncome=2.5156, medianHouseValue=190900.0),\n",
              " Row(longitude=-122.1, latitude=37.68, housingMedianAge=37.0, totalRooms=1352.0, totalBedrooms=342.0, population=691.0, households=324.0, medianIncome=3.4032, medianHouseValue=196900.0),\n",
              " Row(longitude=-122.1, latitude=37.68, housingMedianAge=37.0, totalRooms=2116.0, totalBedrooms=503.0, population=1109.0, households=448.0, medianIncome=2.535, medianHouseValue=174000.0),\n",
              " Row(longitude=-122.11, latitude=37.68, housingMedianAge=37.0, totalRooms=1976.0, totalBedrooms=481.0, population=1197.0, households=465.0, medianIncome=2.5772, medianHouseValue=170200.0),\n",
              " Row(longitude=-122.1, latitude=37.68, housingMedianAge=38.0, totalRooms=1779.0, totalBedrooms=413.0, population=1061.0, households=400.0, medianIncome=3.0962, medianHouseValue=180900.0),\n",
              " Row(longitude=-122.1, latitude=37.67, housingMedianAge=34.0, totalRooms=3659.0, totalBedrooms=897.0, population=2479.0, households=903.0, medianIncome=2.9564, medianHouseValue=150500.0),\n",
              " Row(longitude=-122.1, latitude=37.68, housingMedianAge=31.0, totalRooms=1892.0, totalBedrooms=428.0, population=1162.0, households=389.0, medianIncome=3.125, medianHouseValue=167100.0),\n",
              " Row(longitude=-122.12, latitude=37.68, housingMedianAge=35.0, totalRooms=1958.0, totalBedrooms=484.0, population=1146.0, households=448.0, medianIncome=2.95, medianHouseValue=148900.0),\n",
              " Row(longitude=-122.12, latitude=37.68, housingMedianAge=40.0, totalRooms=1553.0, totalBedrooms=253.0, population=724.0, households=267.0, medianIncome=4.38, medianHouseValue=196400.0),\n",
              " Row(longitude=-122.12, latitude=37.68, housingMedianAge=37.0, totalRooms=2412.0, totalBedrooms=394.0, population=975.0, households=375.0, medianIncome=4.0417, medianHouseValue=191100.0),\n",
              " Row(longitude=-122.11, latitude=37.67, housingMedianAge=36.0, totalRooms=2110.0, totalBedrooms=389.0, population=952.0, households=370.0, medianIncome=3.8, medianHouseValue=187500.0),\n",
              " Row(longitude=-122.12, latitude=37.68, housingMedianAge=45.0, totalRooms=2179.0, totalBedrooms=401.0, population=1159.0, households=399.0, medianIncome=3.4839, medianHouseValue=180600.0),\n",
              " Row(longitude=-122.13, latitude=37.68, housingMedianAge=45.0, totalRooms=2457.0, totalBedrooms=445.0, population=1129.0, households=422.0, medianIncome=4.0588, medianHouseValue=182800.0),\n",
              " Row(longitude=-122.13, latitude=37.68, housingMedianAge=44.0, totalRooms=2147.0, totalBedrooms=399.0, population=1175.0, households=401.0, medianIncome=4.1974, medianHouseValue=179300.0),\n",
              " Row(longitude=-122.13, latitude=37.68, housingMedianAge=43.0, totalRooms=1676.0, totalBedrooms=340.0, population=924.0, households=328.0, medianIncome=3.6, medianHouseValue=179400.0),\n",
              " Row(longitude=-122.14, latitude=37.68, housingMedianAge=35.0, totalRooms=2976.0, totalBedrooms=518.0, population=1424.0, households=538.0, medianIncome=4.267, medianHouseValue=210300.0),\n",
              " Row(longitude=-122.14, latitude=37.67, housingMedianAge=34.0, totalRooms=3036.0, totalBedrooms=533.0, population=1366.0, households=500.0, medianIncome=4.2386, medianHouseValue=192300.0),\n",
              " Row(longitude=-122.15, latitude=37.67, housingMedianAge=35.0, totalRooms=2472.0, totalBedrooms=398.0, population=1171.0, households=390.0, medianIncome=5.5797, medianHouseValue=198100.0),\n",
              " Row(longitude=-122.14, latitude=37.67, housingMedianAge=36.0, totalRooms=1487.0, totalBedrooms=249.0, population=641.0, households=243.0, medianIncome=4.0682, medianHouseValue=196200.0),\n",
              " Row(longitude=-122.13, latitude=37.67, housingMedianAge=38.0, totalRooms=2012.0, totalBedrooms=347.0, population=880.0, households=332.0, medianIncome=3.1734, medianHouseValue=181600.0),\n",
              " Row(longitude=-122.14, latitude=37.67, housingMedianAge=37.0, totalRooms=3342.0, totalBedrooms=569.0, population=1635.0, households=557.0, medianIncome=4.7933, medianHouseValue=186900.0),\n",
              " Row(longitude=-122.14, latitude=37.67, housingMedianAge=37.0, totalRooms=3156.0, totalBedrooms=534.0, population=1495.0, households=543.0, medianIncome=4.8125, medianHouseValue=188300.0),\n",
              " Row(longitude=-122.13, latitude=37.67, housingMedianAge=40.0, totalRooms=1748.0, totalBedrooms=318.0, population=914.0, households=317.0, medianIncome=3.8676, medianHouseValue=184000.0),\n",
              " Row(longitude=-122.12, latitude=37.67, housingMedianAge=33.0, totalRooms=3429.0, totalBedrooms=681.0, population=1798.0, households=694.0, medianIncome=3.9395, medianHouseValue=184700.0),\n",
              " Row(longitude=-122.13, latitude=37.67, housingMedianAge=42.0, totalRooms=3592.0, totalBedrooms=703.0, population=1625.0, households=665.0, medianIncome=3.2434, medianHouseValue=179900.0),\n",
              " Row(longitude=-122.11, latitude=37.67, housingMedianAge=38.0, totalRooms=1035.0, totalBedrooms=247.0, population=599.0, households=224.0, medianIncome=3.0917, medianHouseValue=167200.0),\n",
              " Row(longitude=-122.11, latitude=37.67, housingMedianAge=32.0, totalRooms=3028.0, totalBedrooms=811.0, population=2037.0, households=703.0, medianIncome=3.0645, medianHouseValue=165400.0),\n",
              " Row(longitude=-122.09, latitude=37.67, housingMedianAge=33.0, totalRooms=2431.0, totalBedrooms=655.0, population=1854.0, households=603.0, medianIncome=2.7019, medianHouseValue=154000.0),\n",
              " Row(longitude=-122.09, latitude=37.67, housingMedianAge=39.0, totalRooms=2069.0, totalBedrooms=500.0, population=1408.0, households=478.0, medianIncome=3.1115, medianHouseValue=153500.0),\n",
              " Row(longitude=-122.09, latitude=37.66, housingMedianAge=40.0, totalRooms=1340.0, totalBedrooms=313.0, population=766.0, households=271.0, medianIncome=3.4722, medianHouseValue=135400.0),\n",
              " Row(longitude=-122.09, latitude=37.66, housingMedianAge=39.0, totalRooms=1160.0, totalBedrooms=259.0, population=725.0, households=274.0, medianIncome=2.2222, medianHouseValue=158300.0),\n",
              " Row(longitude=-122.05, latitude=37.68, housingMedianAge=32.0, totalRooms=2015.0, totalBedrooms=318.0, population=1019.0, households=340.0, medianIncome=6.1104, medianHouseValue=240700.0),\n",
              " Row(longitude=-122.06, latitude=37.67, housingMedianAge=22.0, totalRooms=3882.0, totalBedrooms=816.0, population=1830.0, households=743.0, medianIncome=4.2733, medianHouseValue=180700.0),\n",
              " Row(longitude=-122.07, latitude=37.67, housingMedianAge=27.0, totalRooms=3239.0, totalBedrooms=671.0, population=1469.0, households=616.0, medianIncome=3.2465, medianHouseValue=230600.0),\n",
              " Row(longitude=-122.07, latitude=37.67, housingMedianAge=28.0, totalRooms=2932.0, totalBedrooms=739.0, population=1198.0, households=624.0, medianIncome=3.2417, medianHouseValue=210800.0),\n",
              " Row(longitude=-122.07, latitude=37.67, housingMedianAge=38.0, totalRooms=2104.0, totalBedrooms=409.0, population=1039.0, households=394.0, medianIncome=3.875, medianHouseValue=165300.0),\n",
              " Row(longitude=-122.04, latitude=37.67, housingMedianAge=29.0, totalRooms=1694.0, totalBedrooms=251.0, population=690.0, households=242.0, medianIncome=6.0501, medianHouseValue=254200.0),\n",
              " Row(longitude=-122.04, latitude=37.67, housingMedianAge=18.0, totalRooms=3000.0, totalBedrooms=419.0, population=1155.0, households=415.0, medianIncome=6.8233, medianHouseValue=332600.0),\n",
              " Row(longitude=-122.04, latitude=37.66, housingMedianAge=23.0, totalRooms=2419.0, totalBedrooms=348.0, population=1066.0, households=384.0, medianIncome=6.3501, medianHouseValue=350000.0),\n",
              " Row(longitude=-122.07, latitude=37.66, housingMedianAge=28.0, totalRooms=2280.0, totalBedrooms=610.0, population=1255.0, households=587.0, medianIncome=2.6719, medianHouseValue=161200.0),\n",
              " Row(longitude=-122.07, latitude=37.66, housingMedianAge=21.0, totalRooms=5031.0, totalBedrooms=1168.0, population=2461.0, households=1042.0, medianIncome=3.875, medianHouseValue=179300.0),\n",
              " Row(longitude=-122.08, latitude=37.66, housingMedianAge=33.0, totalRooms=1547.0, totalBedrooms=372.0, population=1063.0, households=356.0, medianIncome=2.5625, medianHouseValue=154300.0),\n",
              " Row(longitude=-122.07, latitude=37.65, housingMedianAge=31.0, totalRooms=3300.0, totalBedrooms=790.0, population=2181.0, households=740.0, medianIncome=3.016, medianHouseValue=161800.0),\n",
              " Row(longitude=-122.08, latitude=37.65, housingMedianAge=17.0, totalRooms=5018.0, totalBedrooms=1439.0, population=3069.0, households=1299.0, medianIncome=2.7694, medianHouseValue=161900.0),\n",
              " Row(longitude=-122.08, latitude=37.65, housingMedianAge=35.0, totalRooms=1813.0, totalBedrooms=393.0, population=1093.0, households=374.0, medianIncome=3.6818, medianHouseValue=165400.0),\n",
              " Row(longitude=-122.08, latitude=37.66, housingMedianAge=37.0, totalRooms=1997.0, totalBedrooms=436.0, population=1349.0, households=437.0, medianIncome=2.1382, medianHouseValue=166600.0),\n",
              " Row(longitude=-122.1, latitude=37.66, housingMedianAge=37.0, totalRooms=901.0, totalBedrooms=191.0, population=599.0, households=206.0, medianIncome=3.7303, medianHouseValue=149700.0),\n",
              " Row(longitude=-122.1, latitude=37.66, housingMedianAge=35.0, totalRooms=686.0, totalBedrooms=142.0, population=480.0, households=149.0, medianIncome=3.875, medianHouseValue=162100.0),\n",
              " Row(longitude=-122.1, latitude=37.66, housingMedianAge=33.0, totalRooms=1954.0, totalBedrooms=464.0, population=1293.0, households=448.0, medianIncome=3.0489, medianHouseValue=152600.0),\n",
              " Row(longitude=-122.09, latitude=37.65, housingMedianAge=27.0, totalRooms=2630.0, totalBedrooms=722.0, population=1414.0, households=634.0, medianIncome=2.8203, medianHouseValue=195200.0),\n",
              " Row(longitude=-122.09, latitude=37.65, housingMedianAge=35.0, totalRooms=1130.0, totalBedrooms=192.0, population=543.0, households=184.0, medianIncome=4.3897, medianHouseValue=190600.0),\n",
              " Row(longitude=-122.09, latitude=37.65, housingMedianAge=35.0, totalRooms=1184.0, totalBedrooms=200.0, population=572.0, households=194.0, medianIncome=4.7143, medianHouseValue=193800.0),\n",
              " Row(longitude=-122.1, latitude=37.66, housingMedianAge=34.0, totalRooms=656.0, totalBedrooms=115.0, population=342.0, households=112.0, medianIncome=4.6875, medianHouseValue=200600.0),\n",
              " Row(longitude=-122.11, latitude=37.66, housingMedianAge=29.0, totalRooms=2544.0, totalBedrooms=643.0, population=2332.0, households=603.0, medianIncome=3.2091, medianHouseValue=150000.0),\n",
              " Row(longitude=-122.1, latitude=37.66, housingMedianAge=36.0, totalRooms=1305.0, totalBedrooms=225.0, population=768.0, households=234.0, medianIncome=4.275, medianHouseValue=185300.0),\n",
              " Row(longitude=-122.11, latitude=37.66, housingMedianAge=36.0, totalRooms=1755.0, totalBedrooms=316.0, population=913.0, households=299.0, medianIncome=4.1302, medianHouseValue=172700.0),\n",
              " Row(longitude=-122.11, latitude=37.66, housingMedianAge=35.0, totalRooms=2843.0, totalBedrooms=652.0, population=1726.0, households=643.0, medianIncome=3.09, medianHouseValue=174100.0),\n",
              " Row(longitude=-122.1, latitude=37.65, housingMedianAge=25.0, totalRooms=2538.0, totalBedrooms=494.0, population=1185.0, households=501.0, medianIncome=4.5417, medianHouseValue=194400.0),\n",
              " Row(longitude=-122.1, latitude=37.64, housingMedianAge=28.0, totalRooms=1784.0, totalBedrooms=311.0, population=735.0, households=278.0, medianIncome=4.6635, medianHouseValue=206700.0),\n",
              " Row(longitude=-122.1, latitude=37.65, housingMedianAge=31.0, totalRooms=1797.0, totalBedrooms=327.0, population=796.0, households=319.0, medianIncome=4.4427, medianHouseValue=204500.0),\n",
              " Row(longitude=-122.1, latitude=37.65, housingMedianAge=36.0, totalRooms=410.0, totalBedrooms=76.0, population=252.0, households=82.0, medianIncome=4.5303, medianHouseValue=175000.0),\n",
              " Row(longitude=-122.12, latitude=37.65, housingMedianAge=26.0, totalRooms=162.0, totalBedrooms=27.0, population=86.0, households=25.0, medianIncome=2.375, medianHouseValue=137500.0),\n",
              " Row(longitude=-122.1, latitude=37.63, housingMedianAge=18.0, totalRooms=9963.0, totalBedrooms=2031.0, population=5613.0, households=1946.0, medianIncome=3.8171, medianHouseValue=187200.0),\n",
              " Row(longitude=-122.1, latitude=37.61, housingMedianAge=35.0, totalRooms=2361.0, totalBedrooms=458.0, population=1727.0, households=467.0, medianIncome=4.5281, medianHouseValue=173600.0),\n",
              " Row(longitude=-122.13, latitude=37.66, housingMedianAge=19.0, totalRooms=862.0, totalBedrooms=167.0, population=407.0, households=183.0, medianIncome=4.3456, medianHouseValue=163000.0),\n",
              " Row(longitude=-122.11, latitude=37.65, housingMedianAge=18.0, totalRooms=4335.0, totalBedrooms=808.0, population=2041.0, households=734.0, medianIncome=3.4861, medianHouseValue=331600.0),\n",
              " Row(longitude=-122.11, latitude=37.64, housingMedianAge=31.0, totalRooms=1487.0, totalBedrooms=280.0, population=854.0, households=301.0, medianIncome=5.2312, medianHouseValue=197600.0),\n",
              " Row(longitude=-122.11, latitude=37.64, housingMedianAge=8.0, totalRooms=3592.0, totalBedrooms=849.0, population=1907.0, households=746.0, medianIncome=3.6708, medianHouseValue=197900.0),\n",
              " Row(longitude=-122.12, latitude=37.64, housingMedianAge=40.0, totalRooms=432.0, totalBedrooms=102.0, population=264.0, households=77.0, medianIncome=3.8875, medianHouseValue=228100.0),\n",
              " Row(longitude=-122.09, latitude=37.63, housingMedianAge=34.0, totalRooms=1457.0, totalBedrooms=242.0, population=735.0, households=249.0, medianIncome=3.9167, medianHouseValue=189500.0),\n",
              " Row(longitude=-122.09, latitude=37.64, housingMedianAge=32.0, totalRooms=1578.0, totalBedrooms=284.0, population=836.0, households=292.0, medianIncome=3.9063, medianHouseValue=184200.0),\n",
              " Row(longitude=-122.1, latitude=37.63, housingMedianAge=29.0, totalRooms=2172.0, totalBedrooms=435.0, population=1377.0, households=408.0, medianIncome=3.7895, medianHouseValue=180900.0),\n",
              " Row(longitude=-122.08, latitude=37.64, housingMedianAge=36.0, totalRooms=1340.0, totalBedrooms=245.0, population=789.0, households=248.0, medianIncome=3.8, medianHouseValue=172000.0),\n",
              " Row(longitude=-122.08, latitude=37.64, housingMedianAge=36.0, totalRooms=1116.0, totalBedrooms=199.0, population=662.0, households=226.0, medianIncome=5.7309, medianHouseValue=177900.0),\n",
              " Row(longitude=-122.09, latitude=37.64, housingMedianAge=36.0, totalRooms=1885.0, totalBedrooms=307.0, population=853.0, households=271.0, medianIncome=4.1141, medianHouseValue=173100.0),\n",
              " Row(longitude=-122.09, latitude=37.64, housingMedianAge=36.0, totalRooms=1180.0, totalBedrooms=212.0, population=664.0, households=200.0, medianIncome=5.2838, medianHouseValue=172600.0),\n",
              " Row(longitude=-122.08, latitude=37.64, housingMedianAge=30.0, totalRooms=5267.0, totalBedrooms=1253.0, population=4065.0, households=1113.0, medianIncome=3.3479, medianHouseValue=182100.0),\n",
              " Row(longitude=-122.08, latitude=37.64, housingMedianAge=23.0, totalRooms=1897.0, totalBedrooms=440.0, population=1109.0, households=418.0, medianIncome=3.142, medianHouseValue=179500.0),\n",
              " Row(longitude=-122.08, latitude=37.63, housingMedianAge=31.0, totalRooms=767.0, totalBedrooms=171.0, population=548.0, households=185.0, medianIncome=3.7614, medianHouseValue=176000.0),\n",
              " Row(longitude=-122.08, latitude=37.63, housingMedianAge=33.0, totalRooms=691.0, totalBedrooms=127.0, population=431.0, households=149.0, medianIncome=4.25, medianHouseValue=192600.0),\n",
              " Row(longitude=-122.08, latitude=37.64, housingMedianAge=36.0, totalRooms=786.0, totalBedrooms=133.0, population=463.0, households=160.0, medianIncome=3.9338, medianHouseValue=182700.0),\n",
              " Row(longitude=-122.07, latitude=37.64, housingMedianAge=22.0, totalRooms=5861.0, totalBedrooms=1516.0, population=5436.0, households=1463.0, medianIncome=2.5158, medianHouseValue=134900.0),\n",
              " Row(longitude=-122.07, latitude=37.63, housingMedianAge=27.0, totalRooms=2784.0, totalBedrooms=723.0, population=2028.0, households=693.0, medianIncome=2.4808, medianHouseValue=157600.0),\n",
              " Row(longitude=-122.07, latitude=37.64, housingMedianAge=25.0, totalRooms=4524.0, totalBedrooms=860.0, population=2426.0, households=862.0, medianIncome=4.7083, medianHouseValue=190900.0),\n",
              " Row(longitude=-122.06, latitude=37.64, housingMedianAge=37.0, totalRooms=1468.0, totalBedrooms=304.0, population=1038.0, households=282.0, medianIncome=4.1652, medianHouseValue=158200.0),\n",
              " Row(longitude=-122.06, latitude=37.64, housingMedianAge=20.0, totalRooms=1655.0, totalBedrooms=450.0, population=857.0, households=430.0, medianIncome=3.5541, medianHouseValue=350000.0),\n",
              " Row(longitude=-122.06, latitude=37.65, housingMedianAge=33.0, totalRooms=1227.0, totalBedrooms=286.0, population=848.0, households=291.0, medianIncome=3.8036, medianHouseValue=158200.0),\n",
              " Row(longitude=-122.06, latitude=37.64, housingMedianAge=33.0, totalRooms=1160.0, totalBedrooms=252.0, population=729.0, households=220.0, medianIncome=3.8259, medianHouseValue=146100.0),\n",
              " Row(longitude=-122.04, latitude=37.63, housingMedianAge=33.0, totalRooms=952.0, totalBedrooms=172.0, population=369.0, households=159.0, medianIncome=3.2331, medianHouseValue=226700.0),\n",
              " Row(longitude=-122.03, latitude=37.62, housingMedianAge=35.0, totalRooms=2072.0, totalBedrooms=352.0, population=1001.0, households=350.0, medianIncome=4.7109, medianHouseValue=198700.0),\n",
              " Row(longitude=-122.03, latitude=37.62, housingMedianAge=32.0, totalRooms=2964.0, totalBedrooms=547.0, population=1472.0, households=527.0, medianIncome=4.2468, medianHouseValue=221200.0),\n",
              " Row(longitude=-122.04, latitude=37.62, housingMedianAge=35.0, totalRooms=1032.0, totalBedrooms=173.0, population=453.0, households=176.0, medianIncome=6.396, medianHouseValue=208500.0),\n",
              " Row(longitude=-122.04, latitude=37.62, housingMedianAge=35.0, totalRooms=657.0, totalBedrooms=118.0, population=328.0, households=134.0, medianIncome=3.8125, medianHouseValue=204200.0),\n",
              " Row(longitude=-122.04, latitude=37.62, housingMedianAge=32.0, totalRooms=1540.0, totalBedrooms=324.0, population=793.0, households=302.0, medianIncome=3.2857, medianHouseValue=193200.0),\n",
              " Row(longitude=-122.03, latitude=37.62, housingMedianAge=35.0, totalRooms=1298.0, totalBedrooms=236.0, population=632.0, households=204.0, medianIncome=3.8929, medianHouseValue=209500.0),\n",
              " Row(longitude=-122.03, latitude=37.61, housingMedianAge=36.0, totalRooms=1409.0, totalBedrooms=271.0, population=1002.0, households=281.0, medianIncome=3.7262, medianHouseValue=164900.0),\n",
              " Row(longitude=-122.03, latitude=37.61, housingMedianAge=37.0, totalRooms=1383.0, totalBedrooms=259.0, population=808.0, households=241.0, medianIncome=4.0125, medianHouseValue=161400.0),\n",
              " Row(longitude=-122.04, latitude=37.61, housingMedianAge=36.0, totalRooms=1151.0, totalBedrooms=216.0, population=727.0, households=215.0, medianIncome=4.1719, medianHouseValue=187000.0),\n",
              " Row(longitude=-122.04, latitude=37.62, housingMedianAge=35.0, totalRooms=899.0, totalBedrooms=179.0, population=455.0, households=185.0, medianIncome=4.2857, medianHouseValue=190400.0),\n",
              " Row(longitude=-122.08, latitude=37.63, housingMedianAge=37.0, totalRooms=1793.0, totalBedrooms=364.0, population=1534.0, households=346.0, medianIncome=3.6458, medianHouseValue=156600.0),\n",
              " Row(longitude=-122.08, latitude=37.62, housingMedianAge=17.0, totalRooms=2485.0, totalBedrooms=518.0, population=1139.0, households=550.0, medianIncome=2.6875, medianHouseValue=157300.0),\n",
              " Row(longitude=-122.07, latitude=37.63, housingMedianAge=35.0, totalRooms=1931.0, totalBedrooms=376.0, population=1175.0, households=337.0, medianIncome=3.7292, medianHouseValue=168100.0),\n",
              " Row(longitude=-122.07, latitude=37.63, housingMedianAge=24.0, totalRooms=2329.0, totalBedrooms=465.0, population=1401.0, households=453.0, medianIncome=4.5913, medianHouseValue=177600.0),\n",
              " Row(longitude=-122.06, latitude=37.63, housingMedianAge=12.0, totalRooms=6711.0, totalBedrooms=1374.0, population=3388.0, households=1289.0, medianIncome=3.8625, medianHouseValue=208900.0),\n",
              " Row(longitude=-122.06, latitude=37.63, housingMedianAge=23.0, totalRooms=1939.0, totalBedrooms=356.0, population=841.0, households=364.0, medianIncome=3.3611, medianHouseValue=169200.0),\n",
              " Row(longitude=-122.05, latitude=37.61, housingMedianAge=16.0, totalRooms=1642.0, totalBedrooms=346.0, population=705.0, households=351.0, medianIncome=2.8971, medianHouseValue=163900.0),\n",
              " Row(longitude=-122.08, latitude=37.63, housingMedianAge=34.0, totalRooms=1619.0, totalBedrooms=293.0, population=1148.0, households=310.0, medianIncome=4.0326, medianHouseValue=164700.0),\n",
              " Row(longitude=-122.08, latitude=37.63, housingMedianAge=35.0, totalRooms=517.0, totalBedrooms=108.0, population=391.0, households=107.0, medianIncome=4.0682, medianHouseValue=156900.0),\n",
              " Row(longitude=-122.09, latitude=37.63, housingMedianAge=36.0, totalRooms=1570.0, totalBedrooms=274.0, population=992.0, households=249.0, medianIncome=5.3644, medianHouseValue=168800.0),\n",
              " Row(longitude=-122.09, latitude=37.63, housingMedianAge=35.0, totalRooms=1213.0, totalBedrooms=221.0, population=790.0, households=243.0, medianIncome=4.7019, medianHouseValue=174100.0),\n",
              " Row(longitude=-122.08, latitude=37.62, housingMedianAge=27.0, totalRooms=1826.0, totalBedrooms=309.0, population=1016.0, households=313.0, medianIncome=5.64, medianHouseValue=206500.0),\n",
              " Row(longitude=-122.08, latitude=37.61, housingMedianAge=26.0, totalRooms=2261.0, totalBedrooms=443.0, population=1039.0, households=395.0, medianIncome=3.7931, medianHouseValue=203900.0),\n",
              " Row(longitude=-121.99, latitude=37.61, housingMedianAge=9.0, totalRooms=3666.0, totalBedrooms=711.0, population=2341.0, households=703.0, medianIncome=4.6458, medianHouseValue=217000.0),\n",
              " Row(longitude=-122.02, latitude=37.6, housingMedianAge=36.0, totalRooms=1633.0, totalBedrooms=345.0, population=1382.0, households=338.0, medianIncome=3.694, medianHouseValue=159600.0),\n",
              " Row(longitude=-122.02, latitude=37.6, housingMedianAge=31.0, totalRooms=2155.0, totalBedrooms=522.0, population=1858.0, households=437.0, medianIncome=2.652, medianHouseValue=159800.0),\n",
              " Row(longitude=-122.02, latitude=37.6, housingMedianAge=32.0, totalRooms=1295.0, totalBedrooms=280.0, population=1156.0, households=300.0, medianIncome=3.5, medianHouseValue=154300.0),\n",
              " Row(longitude=-122.02, latitude=37.6, housingMedianAge=32.0, totalRooms=1295.0, totalBedrooms=295.0, population=1097.0, households=328.0, medianIncome=3.2386, medianHouseValue=149600.0),\n",
              " Row(longitude=-122.03, latitude=37.61, housingMedianAge=33.0, totalRooms=1518.0, totalBedrooms=302.0, population=831.0, households=268.0, medianIncome=5.097, medianHouseValue=188600.0),\n",
              " Row(longitude=-122.04, latitude=37.6, housingMedianAge=17.0, totalRooms=3314.0, totalBedrooms=638.0, population=1873.0, households=602.0, medianIncome=4.3875, medianHouseValue=238500.0),\n",
              " Row(longitude=-122.06, latitude=37.6, housingMedianAge=22.0, totalRooms=3009.0, totalBedrooms=497.0, population=1640.0, households=514.0, medianIncome=4.625, medianHouseValue=235300.0),\n",
              " Row(longitude=-122.08, latitude=37.61, housingMedianAge=6.0, totalRooms=2605.0, totalBedrooms=474.0, population=1568.0, households=433.0, medianIncome=5.0406, medianHouseValue=261400.0),\n",
              " Row(longitude=-122.06, latitude=37.6, housingMedianAge=17.0, totalRooms=5159.0, totalBedrooms=832.0, population=3174.0, households=817.0, medianIncome=5.8704, medianHouseValue=234400.0),\n",
              " Row(longitude=-122.06, latitude=37.6, housingMedianAge=18.0, totalRooms=1726.0, totalBedrooms=276.0, population=1186.0, households=310.0, medianIncome=5.3226, medianHouseValue=231700.0),\n",
              " Row(longitude=-122.08, latitude=37.59, housingMedianAge=16.0, totalRooms=1816.0, totalBedrooms=365.0, population=1367.0, households=355.0, medianIncome=4.235, medianHouseValue=156300.0),\n",
              " Row(longitude=-122.07, latitude=37.59, housingMedianAge=13.0, totalRooms=2578.0, totalBedrooms=551.0, population=1680.0, households=528.0, medianIncome=4.825, medianHouseValue=222000.0),\n",
              " Row(longitude=-122.08, latitude=37.58, housingMedianAge=15.0, totalRooms=2576.0, totalBedrooms=418.0, population=1657.0, households=410.0, medianIncome=5.5218, medianHouseValue=254400.0),\n",
              " Row(longitude=-122.07, latitude=37.58, housingMedianAge=16.0, totalRooms=1644.0, totalBedrooms=251.0, population=1033.0, households=267.0, medianIncome=6.5116, medianHouseValue=244300.0),\n",
              " Row(longitude=-122.07, latitude=37.58, housingMedianAge=16.0, totalRooms=1606.0, totalBedrooms=240.0, population=1117.0, households=268.0, medianIncome=6.0661, medianHouseValue=247000.0),\n",
              " Row(longitude=-122.08, latitude=37.58, housingMedianAge=16.0, totalRooms=3349.0, totalBedrooms=544.0, population=2003.0, households=488.0, medianIncome=6.0074, medianHouseValue=236500.0),\n",
              " Row(longitude=-122.07, latitude=37.59, housingMedianAge=15.0, totalRooms=3475.0, totalBedrooms=686.0, population=2568.0, households=653.0, medianIncome=4.6211, medianHouseValue=151400.0),\n",
              " Row(longitude=-122.07, latitude=37.58, housingMedianAge=16.0, totalRooms=1893.0, totalBedrooms=338.0, population=1461.0, households=344.0, medianIncome=5.225, medianHouseValue=213700.0),\n",
              " Row(longitude=-122.04, latitude=37.59, housingMedianAge=14.0, totalRooms=1727.0, totalBedrooms=302.0, population=1116.0, households=273.0, medianIncome=5.3428, medianHouseValue=243600.0),\n",
              " Row(longitude=-122.05, latitude=37.59, housingMedianAge=15.0, totalRooms=6243.0, totalBedrooms=1273.0, population=3163.0, households=1274.0, medianIncome=3.7462, medianHouseValue=212500.0),\n",
              " Row(longitude=-122.03, latitude=37.6, housingMedianAge=24.0, totalRooms=2077.0, totalBedrooms=383.0, population=1488.0, households=389.0, medianIncome=4.5721, medianHouseValue=214700.0),\n",
              " Row(longitude=-122.02, latitude=37.59, housingMedianAge=18.0, totalRooms=1165.0, totalBedrooms=333.0, population=855.0, households=319.0, medianIncome=3.6923, medianHouseValue=213200.0),\n",
              " Row(longitude=-122.03, latitude=37.59, housingMedianAge=16.0, totalRooms=4371.0, totalBedrooms=889.0, population=2530.0, households=817.0, medianIncome=4.6786, medianHouseValue=256000.0),\n",
              " Row(longitude=-122.01, latitude=37.59, housingMedianAge=2.0, totalRooms=838.0, totalBedrooms=295.0, population=240.0, households=149.0, medianIncome=2.875, medianHouseValue=237500.0),\n",
              " Row(longitude=-122.02, latitude=37.58, housingMedianAge=15.0, totalRooms=3052.0, totalBedrooms=760.0, population=2097.0, households=728.0, medianIncome=3.3617, medianHouseValue=178100.0),\n",
              " Row(longitude=-122.01, latitude=37.58, housingMedianAge=17.0, totalRooms=4313.0, totalBedrooms=717.0, population=2629.0, households=721.0, medianIncome=5.7579, medianHouseValue=231800.0),\n",
              " Row(longitude=-122.09, latitude=37.6, housingMedianAge=36.0, totalRooms=385.0, totalBedrooms=94.0, population=295.0, households=92.0, medianIncome=2.9706, medianHouseValue=147900.0),\n",
              " Row(longitude=-122.08, latitude=37.6, housingMedianAge=10.0, totalRooms=3046.0, totalBedrooms=678.0, population=2056.0, households=628.0, medianIncome=3.9022, medianHouseValue=191700.0),\n",
              " Row(longitude=-121.97, latitude=37.57, housingMedianAge=21.0, totalRooms=4342.0, totalBedrooms=783.0, population=2172.0, households=789.0, medianIncome=4.6146, medianHouseValue=247600.0),\n",
              " Row(longitude=-121.96, latitude=37.58, housingMedianAge=15.0, totalRooms=3575.0, totalBedrooms=597.0, population=1777.0, households=559.0, medianIncome=5.7192, medianHouseValue=283500.0),\n",
              " Row(longitude=-121.98, latitude=37.58, housingMedianAge=20.0, totalRooms=4126.0, totalBedrooms=1031.0, population=2079.0, households=975.0, medianIncome=3.6832, medianHouseValue=216900.0),\n",
              " Row(longitude=-121.99, latitude=37.58, housingMedianAge=31.0, totalRooms=2878.0, totalBedrooms=478.0, population=1276.0, households=485.0, medianIncome=6.2073, medianHouseValue=282500.0),\n",
              " Row(longitude=-122.0, latitude=37.58, housingMedianAge=6.0, totalRooms=4405.0, totalBedrooms=717.0, population=2071.0, households=688.0, medianIncome=5.8151, medianHouseValue=295600.0),\n",
              " Row(longitude=-122.01, latitude=37.57, housingMedianAge=14.0, totalRooms=16199.0, totalBedrooms=2993.0, population=8117.0, households=2847.0, medianIncome=5.8322, medianHouseValue=281800.0),\n",
              " Row(longitude=-122.04, latitude=37.58, housingMedianAge=14.0, totalRooms=14917.0, totalBedrooms=2708.0, population=8012.0, households=2606.0, medianIncome=5.6277, medianHouseValue=269800.0),\n",
              " Row(longitude=-122.04, latitude=37.57, housingMedianAge=12.0, totalRooms=5719.0, totalBedrooms=1064.0, population=3436.0, households=1057.0, medianIncome=5.2879, medianHouseValue=231200.0),\n",
              " Row(longitude=-122.07, latitude=37.57, housingMedianAge=8.0, totalRooms=8647.0, totalBedrooms=1407.0, population=5019.0, households=1379.0, medianIncome=6.5615, medianHouseValue=318300.0),\n",
              " Row(longitude=-122.06, latitude=37.58, housingMedianAge=15.0, totalRooms=8112.0, totalBedrooms=1376.0, population=4576.0, households=1348.0, medianIncome=5.6758, medianHouseValue=253400.0),\n",
              " Row(longitude=-122.05, latitude=37.57, housingMedianAge=7.0, totalRooms=10648.0, totalBedrooms=1818.0, population=6075.0, households=1797.0, medianIncome=6.1047, medianHouseValue=278200.0),\n",
              " Row(longitude=-121.93, latitude=37.49, housingMedianAge=5.0, totalRooms=1150.0, totalBedrooms=311.0, population=648.0, households=245.0, medianIncome=3.5714, medianHouseValue=300000.0),\n",
              " Row(longitude=-122.07, latitude=37.52, housingMedianAge=3.0, totalRooms=14014.0, totalBedrooms=2861.0, population=7205.0, households=2753.0, medianIncome=6.0824, medianHouseValue=273500.0),\n",
              " Row(longitude=-122.02, latitude=37.56, housingMedianAge=23.0, totalRooms=4332.0, totalBedrooms=857.0, population=2461.0, households=829.0, medianIncome=4.3594, medianHouseValue=223400.0),\n",
              " Row(longitude=-122.02, latitude=37.56, housingMedianAge=35.0, totalRooms=1716.0, totalBedrooms=312.0, population=914.0, households=316.0, medianIncome=5.5737, medianHouseValue=214500.0),\n",
              " Row(longitude=-122.03, latitude=37.56, housingMedianAge=31.0, totalRooms=4981.0, totalBedrooms=964.0, population=2841.0, households=924.0, medianIncome=4.8962, medianHouseValue=220200.0),\n",
              " Row(longitude=-122.03, latitude=37.56, housingMedianAge=24.0, totalRooms=8444.0, totalBedrooms=1492.0, population=4446.0, households=1491.0, medianIncome=4.6978, medianHouseValue=240300.0),\n",
              " Row(longitude=-122.01, latitude=37.56, housingMedianAge=6.0, totalRooms=3028.0, totalBedrooms=778.0, population=1531.0, households=736.0, medianIncome=4.4259, medianHouseValue=158000.0),\n",
              " Row(longitude=-122.01, latitude=37.55, housingMedianAge=26.0, totalRooms=2068.0, totalBedrooms=532.0, population=1434.0, households=495.0, medianIncome=3.3008, medianHouseValue=224200.0),\n",
              " Row(longitude=-122.02, latitude=37.55, housingMedianAge=33.0, totalRooms=1325.0, totalBedrooms=274.0, population=909.0, households=267.0, medianIncome=4.5687, medianHouseValue=177200.0),\n",
              " Row(longitude=-122.01, latitude=37.56, housingMedianAge=24.0, totalRooms=2563.0, totalBedrooms=485.0, population=1174.0, households=501.0, medianIncome=3.8179, medianHouseValue=216100.0),\n",
              " Row(longitude=-121.99, latitude=37.56, housingMedianAge=18.0, totalRooms=5505.0, totalBedrooms=1005.0, population=2641.0, households=971.0, medianIncome=5.0, medianHouseValue=269700.0),\n",
              " Row(longitude=-121.99, latitude=37.56, housingMedianAge=20.0, totalRooms=6462.0, totalBedrooms=1294.0, population=3288.0, households=1235.0, medianIncome=4.3393, medianHouseValue=231200.0),\n",
              " Row(longitude=-121.96, latitude=37.55, housingMedianAge=4.0, totalRooms=3746.0, totalBedrooms=993.0, population=1606.0, households=838.0, medianIncome=4.1387, medianHouseValue=162500.0),\n",
              " Row(longitude=-121.97, latitude=37.56, housingMedianAge=13.0, totalRooms=8918.0, totalBedrooms=1823.0, population=4518.0, households=1772.0, medianIncome=4.8052, medianHouseValue=254000.0),\n",
              " Row(longitude=-121.97, latitude=37.54, housingMedianAge=31.0, totalRooms=1949.0, totalBedrooms=344.0, population=986.0, households=322.0, medianIncome=4.6349, medianHouseValue=196200.0),\n",
              " Row(longitude=-121.97, latitude=37.55, housingMedianAge=17.0, totalRooms=4924.0, totalBedrooms=1247.0, population=3080.0, households=1182.0, medianIncome=3.168, medianHouseValue=189400.0),\n",
              " Row(longitude=-121.98, latitude=37.54, housingMedianAge=17.0, totalRooms=5133.0, totalBedrooms=1375.0, population=3386.0, households=1339.0, medianIncome=3.1326, medianHouseValue=220800.0),\n",
              " Row(longitude=-121.99, latitude=37.55, housingMedianAge=16.0, totalRooms=6647.0, totalBedrooms=2098.0, population=4649.0, households=1903.0, medianIncome=2.9074, medianHouseValue=213800.0),\n",
              " Row(longitude=-121.94, latitude=37.56, housingMedianAge=15.0, totalRooms=5674.0, totalBedrooms=748.0, population=2412.0, households=714.0, medianIncome=8.3996, medianHouseValue=442900.0),\n",
              " Row(longitude=-121.95, latitude=37.55, housingMedianAge=21.0, totalRooms=10687.0, totalBedrooms=1540.0, population=4552.0, households=1520.0, medianIncome=6.6478, medianHouseValue=333400.0),\n",
              " Row(longitude=-121.93, latitude=37.54, housingMedianAge=25.0, totalRooms=1354.0, totalBedrooms=192.0, population=596.0, households=220.0, medianIncome=6.629, medianHouseValue=352400.0),\n",
              " Row(longitude=-121.94, latitude=37.54, housingMedianAge=27.0, totalRooms=3715.0, totalBedrooms=526.0, population=1631.0, households=538.0, medianIncome=6.2179, medianHouseValue=305300.0),\n",
              " Row(longitude=-121.94, latitude=37.53, housingMedianAge=33.0, totalRooms=2095.0, totalBedrooms=342.0, population=941.0, households=304.0, medianIncome=5.761, medianHouseValue=259600.0),\n",
              " Row(longitude=-121.95, latitude=37.54, housingMedianAge=29.0, totalRooms=3517.0, totalBedrooms=645.0, population=1724.0, households=585.0, medianIncome=4.6641, medianHouseValue=248900.0),\n",
              " Row(longitude=-121.94, latitude=37.54, housingMedianAge=31.0, totalRooms=2537.0, totalBedrooms=382.0, population=1067.0, households=410.0, medianIncome=6.7599, medianHouseValue=356000.0),\n",
              " Row(longitude=-121.96, latitude=37.54, housingMedianAge=14.0, totalRooms=5106.0, totalBedrooms=1207.0, population=2738.0, households=1108.0, medianIncome=3.9909, medianHouseValue=236000.0),\n",
              " Row(longitude=-121.96, latitude=37.53, housingMedianAge=23.0, totalRooms=2215.0, totalBedrooms=475.0, population=1278.0, households=492.0, medianIncome=4.2955, medianHouseValue=218800.0),\n",
              " Row(longitude=-121.96, latitude=37.53, housingMedianAge=28.0, totalRooms=2949.0, totalBedrooms=529.0, population=1538.0, households=545.0, medianIncome=4.9615, medianHouseValue=228000.0),\n",
              " Row(longitude=-121.96, latitude=37.53, housingMedianAge=18.0, totalRooms=2375.0, totalBedrooms=652.0, population=1252.0, households=586.0, medianIncome=2.6198, medianHouseValue=235900.0),\n",
              " Row(longitude=-121.97, latitude=37.54, housingMedianAge=28.0, totalRooms=2312.0, totalBedrooms=496.0, population=1344.0, households=467.0, medianIncome=4.7135, medianHouseValue=203200.0),\n",
              " Row(longitude=-121.97, latitude=37.53, housingMedianAge=35.0, totalRooms=2277.0, totalBedrooms=420.0, population=1353.0, households=413.0, medianIncome=4.75, medianHouseValue=197000.0),\n",
              " Row(longitude=-121.97, latitude=37.53, housingMedianAge=26.0, totalRooms=2506.0, totalBedrooms=387.0, population=1273.0, households=406.0, medianIncome=5.4299, medianHouseValue=236400.0),\n",
              " Row(longitude=-121.98, latitude=37.53, housingMedianAge=28.0, totalRooms=2829.0, totalBedrooms=566.0, population=1610.0, households=540.0, medianIncome=4.6, medianHouseValue=223200.0),\n",
              " Row(longitude=-121.98, latitude=37.53, housingMedianAge=26.0, totalRooms=3179.0, totalBedrooms=703.0, population=2142.0, households=639.0, medianIncome=4.1947, medianHouseValue=222700.0),\n",
              " Row(longitude=-121.99, latitude=37.54, housingMedianAge=26.0, totalRooms=2332.0, totalBedrooms=371.0, population=1285.0, households=404.0, medianIncome=5.388, medianHouseValue=225000.0),\n",
              " Row(longitude=-121.99, latitude=37.54, housingMedianAge=18.0, totalRooms=3584.0, totalBedrooms=715.0, population=1673.0, households=661.0, medianIncome=3.9444, medianHouseValue=240100.0),\n",
              " Row(longitude=-121.99, latitude=37.54, housingMedianAge=28.0, totalRooms=3046.0, totalBedrooms=507.0, population=1772.0, households=516.0, medianIncome=5.3283, medianHouseValue=227900.0),\n",
              " Row(longitude=-121.99, latitude=37.55, housingMedianAge=28.0, totalRooms=2414.0, totalBedrooms=415.0, population=1106.0, households=453.0, medianIncome=4.8403, medianHouseValue=268600.0),\n",
              " Row(longitude=-122.0, latitude=37.54, housingMedianAge=29.0, totalRooms=4133.0, totalBedrooms=744.0, population=2023.0, households=749.0, medianIncome=5.1616, medianHouseValue=275100.0),\n",
              " Row(longitude=-122.01, latitude=37.55, housingMedianAge=34.0, totalRooms=2791.0, totalBedrooms=495.0, population=1276.0, households=468.0, medianIncome=4.9167, medianHouseValue=256300.0),\n",
              " Row(longitude=-122.0, latitude=37.55, housingMedianAge=27.0, totalRooms=6103.0, totalBedrooms=1249.0, population=3026.0, households=1134.0, medianIncome=4.1591, medianHouseValue=332400.0),\n",
              " Row(longitude=-122.01, latitude=37.54, housingMedianAge=32.0, totalRooms=2572.0, totalBedrooms=406.0, population=1128.0, households=395.0, medianIncome=5.0, medianHouseValue=287600.0),\n",
              " Row(longitude=-122.0, latitude=37.54, housingMedianAge=26.0, totalRooms=1910.0, totalBedrooms=371.0, population=852.0, households=357.0, medianIncome=5.8325, medianHouseValue=298900.0),\n",
              " Row(longitude=-122.01, latitude=37.53, housingMedianAge=27.0, totalRooms=1890.0, totalBedrooms=303.0, population=889.0, households=314.0, medianIncome=5.7057, medianHouseValue=287600.0),\n",
              " Row(longitude=-121.99, latitude=37.53, housingMedianAge=25.0, totalRooms=5405.0, totalBedrooms=939.0, population=2831.0, households=923.0, medianIncome=5.0423, medianHouseValue=222200.0),\n",
              " Row(longitude=-121.97, latitude=37.52, housingMedianAge=26.0, totalRooms=3761.0, totalBedrooms=623.0, population=1776.0, households=613.0, medianIncome=4.5317, medianHouseValue=232600.0),\n",
              " Row(longitude=-121.97, latitude=37.51, housingMedianAge=25.0, totalRooms=3333.0, totalBedrooms=511.0, population=1671.0, households=504.0, medianIncome=5.4359, medianHouseValue=258300.0),\n",
              " Row(longitude=-121.97, latitude=37.52, housingMedianAge=23.0, totalRooms=4925.0, totalBedrooms=948.0, population=2530.0, households=894.0, medianIncome=5.0824, medianHouseValue=230900.0),\n",
              " Row(longitude=-121.95, latitude=37.52, housingMedianAge=33.0, totalRooms=3994.0, totalBedrooms=764.0, population=2721.0, households=763.0, medianIncome=5.2308, medianHouseValue=196900.0),\n",
              " Row(longitude=-121.96, latitude=37.51, housingMedianAge=22.0, totalRooms=5811.0, totalBedrooms=1125.0, population=3215.0, households=1086.0, medianIncome=4.4107, medianHouseValue=223500.0),\n",
              " Row(longitude=-121.96, latitude=37.52, housingMedianAge=26.0, totalRooms=4211.0, totalBedrooms=741.0, population=2352.0, households=734.0, medianIncome=5.2396, medianHouseValue=223900.0),\n",
              " Row(longitude=-121.93, latitude=37.53, housingMedianAge=27.0, totalRooms=5532.0, totalBedrooms=973.0, population=2855.0, households=960.0, medianIncome=4.7478, medianHouseValue=243500.0),\n",
              " Row(longitude=-121.92, latitude=37.53, housingMedianAge=7.0, totalRooms=28258.0, totalBedrooms=3864.0, population=12203.0, households=3701.0, medianIncome=8.4045, medianHouseValue=451100.0),\n",
              " Row(longitude=-121.89, latitude=37.49, housingMedianAge=9.0, totalRooms=4909.0, totalBedrooms=577.0, population=1981.0, households=591.0, medianIncome=9.7194, medianHouseValue=500001.0),\n",
              " Row(longitude=-121.92, latitude=37.49, housingMedianAge=10.0, totalRooms=7441.0, totalBedrooms=1588.0, population=3571.0, households=1466.0, medianIncome=5.1643, medianHouseValue=193100.0),\n",
              " Row(longitude=-121.92, latitude=37.48, housingMedianAge=23.0, totalRooms=4314.0, totalBedrooms=676.0, population=1972.0, households=623.0, medianIncome=5.3813, medianHouseValue=264400.0),\n",
              " Row(longitude=-121.92, latitude=37.47, housingMedianAge=26.0, totalRooms=2016.0, totalBedrooms=322.0, population=1105.0, households=357.0, medianIncome=6.0878, medianHouseValue=246900.0),\n",
              " Row(longitude=-121.91, latitude=37.47, housingMedianAge=13.0, totalRooms=5377.0, totalBedrooms=744.0, population=2759.0, households=760.0, medianIncome=6.868, medianHouseValue=337300.0),\n",
              " Row(longitude=-122.03, latitude=37.55, housingMedianAge=22.0, totalRooms=9167.0, totalBedrooms=1373.0, population=4319.0, households=1404.0, medianIncome=6.992, medianHouseValue=284800.0),\n",
              " Row(longitude=-122.03, latitude=37.55, housingMedianAge=26.0, totalRooms=3087.0, totalBedrooms=532.0, population=1597.0, households=483.0, medianIncome=4.9118, medianHouseValue=217300.0),\n",
              " Row(longitude=-122.04, latitude=37.55, housingMedianAge=23.0, totalRooms=3170.0, totalBedrooms=532.0, population=1446.0, households=515.0, medianIncome=4.4357, medianHouseValue=291700.0),\n",
              " Row(longitude=-122.04, latitude=37.54, housingMedianAge=26.0, totalRooms=2145.0, totalBedrooms=369.0, population=1285.0, households=377.0, medianIncome=4.9464, medianHouseValue=223800.0),\n",
              " Row(longitude=-122.05, latitude=37.54, housingMedianAge=25.0, totalRooms=4209.0, totalBedrooms=731.0, population=2568.0, households=703.0, medianIncome=5.2882, medianHouseValue=223100.0),\n",
              " Row(longitude=-122.05, latitude=37.55, housingMedianAge=23.0, totalRooms=4247.0, totalBedrooms=835.0, population=2357.0, households=823.0, medianIncome=5.1321, medianHouseValue=211300.0),\n",
              " Row(longitude=-122.04, latitude=37.53, housingMedianAge=25.0, totalRooms=4458.0, totalBedrooms=922.0, population=2998.0, households=890.0, medianIncome=3.9667, medianHouseValue=218500.0),\n",
              " Row(longitude=-122.04, latitude=37.5, housingMedianAge=17.0, totalRooms=407.0, totalBedrooms=97.0, population=307.0, households=100.0, medianIncome=3.1696, medianHouseValue=156300.0),\n",
              " Row(longitude=-122.06, latitude=37.54, housingMedianAge=20.0, totalRooms=6483.0, totalBedrooms=1068.0, population=3526.0, households=1060.0, medianIncome=5.0838, medianHouseValue=248200.0),\n",
              " Row(longitude=-122.03, latitude=37.54, housingMedianAge=35.0, totalRooms=1867.0, totalBedrooms=343.0, population=1213.0, households=338.0, medianIncome=4.8214, medianHouseValue=186000.0),\n",
              " Row(longitude=-122.03, latitude=37.54, housingMedianAge=6.0, totalRooms=2918.0, totalBedrooms=672.0, population=1911.0, households=639.0, medianIncome=4.1406, medianHouseValue=178200.0),\n",
              " Row(longitude=-122.04, latitude=37.53, housingMedianAge=34.0, totalRooms=2316.0, totalBedrooms=478.0, population=1524.0, households=467.0, medianIncome=3.7364, medianHouseValue=190400.0),\n",
              " Row(longitude=-122.02, latitude=37.54, housingMedianAge=31.0, totalRooms=1240.0, totalBedrooms=264.0, population=719.0, households=236.0, medianIncome=3.535, medianHouseValue=210300.0),\n",
              " Row(longitude=-122.03, latitude=37.54, housingMedianAge=16.0, totalRooms=4458.0, totalBedrooms=856.0, population=3038.0, households=870.0, medianIncome=5.0739, medianHouseValue=208000.0),\n",
              " Row(longitude=-122.03, latitude=37.53, housingMedianAge=18.0, totalRooms=1746.0, totalBedrooms=437.0, population=1268.0, households=404.0, medianIncome=3.256, medianHouseValue=183300.0),\n",
              " Row(longitude=-122.01, latitude=37.53, housingMedianAge=19.0, totalRooms=4572.0, totalBedrooms=712.0, population=2346.0, households=709.0, medianIncome=6.0667, medianHouseValue=245700.0),\n",
              " Row(longitude=-122.02, latitude=37.53, housingMedianAge=21.0, totalRooms=4280.0, totalBedrooms=673.0, population=2216.0, households=681.0, medianIncome=5.7072, medianHouseValue=242200.0),\n",
              " Row(longitude=-122.0, latitude=37.51, housingMedianAge=7.0, totalRooms=6352.0, totalBedrooms=1390.0, population=3223.0, households=1316.0, medianIncome=4.9867, medianHouseValue=181700.0),\n",
              " Row(longitude=-121.92, latitude=37.72, housingMedianAge=4.0, totalRooms=7477.0, totalBedrooms=1576.0, population=2937.0, households=1506.0, medianIncome=5.1437, medianHouseValue=299400.0),\n",
              " Row(longitude=-121.92, latitude=37.72, housingMedianAge=22.0, totalRooms=4638.0, totalBedrooms=716.0, population=2302.0, households=687.0, medianIncome=5.347, medianHouseValue=219500.0),\n",
              " Row(longitude=-121.91, latitude=37.71, housingMedianAge=25.0, totalRooms=4377.0, totalBedrooms=668.0, population=2038.0, households=671.0, medianIncome=5.7233, medianHouseValue=231800.0),\n",
              " Row(longitude=-121.93, latitude=37.72, housingMedianAge=26.0, totalRooms=3816.0, totalBedrooms=637.0, population=1935.0, households=642.0, medianIncome=4.4697, medianHouseValue=221300.0),\n",
              " Row(longitude=-121.93, latitude=37.72, housingMedianAge=26.0, totalRooms=2806.0, totalBedrooms=459.0, population=1453.0, households=444.0, medianIncome=4.9107, medianHouseValue=213800.0),\n",
              " Row(longitude=-121.93, latitude=37.71, housingMedianAge=26.0, totalRooms=4822.0, totalBedrooms=845.0, population=2288.0, households=805.0, medianIncome=4.2281, medianHouseValue=206000.0),\n",
              " Row(longitude=-121.94, latitude=37.71, housingMedianAge=15.0, totalRooms=6473.0, totalBedrooms=1027.0, population=2484.0, households=970.0, medianIncome=5.0143, medianHouseValue=271100.0),\n",
              " Row(longitude=-121.96, latitude=37.71, housingMedianAge=6.0, totalRooms=8072.0, totalBedrooms=1050.0, population=3386.0, households=1062.0, medianIncome=7.2494, medianHouseValue=336500.0),\n",
              " Row(longitude=-121.92, latitude=37.64, housingMedianAge=46.0, totalRooms=1280.0, totalBedrooms=209.0, population=512.0, households=208.0, medianIncome=5.1406, medianHouseValue=315600.0),\n",
              " Row(longitude=-121.93, latitude=37.66, housingMedianAge=24.0, totalRooms=3166.0, totalBedrooms=424.0, population=1081.0, households=400.0, medianIncome=8.3337, medianHouseValue=500001.0),\n",
              " Row(longitude=-121.92, latitude=37.69, housingMedianAge=13.0, totalRooms=3742.0, totalBedrooms=555.0, population=1590.0, households=559.0, medianIncome=7.316, medianHouseValue=285400.0),\n",
              " Row(longitude=-121.9, latitude=37.66, housingMedianAge=18.0, totalRooms=7397.0, totalBedrooms=1137.0, population=3126.0, households=1115.0, medianIncome=6.4994, medianHouseValue=323000.0),\n",
              " Row(longitude=-121.92, latitude=37.68, housingMedianAge=23.0, totalRooms=1655.0, totalBedrooms=223.0, population=706.0, households=219.0, medianIncome=7.2211, medianHouseValue=291900.0),\n",
              " Row(longitude=-121.93, latitude=37.7, housingMedianAge=3.0, totalRooms=2456.0, totalBedrooms=582.0, population=793.0, households=456.0, medianIncome=4.4087, medianHouseValue=225600.0),\n",
              " Row(longitude=-121.91, latitude=37.69, housingMedianAge=23.0, totalRooms=2179.0, totalBedrooms=308.0, population=926.0, households=299.0, medianIncome=5.9345, medianHouseValue=259600.0),\n",
              " Row(longitude=-121.91, latitude=37.68, housingMedianAge=20.0, totalRooms=1804.0, totalBedrooms=254.0, population=831.0, households=260.0, medianIncome=6.177, medianHouseValue=262900.0),\n",
              " Row(longitude=-121.91, latitude=37.68, housingMedianAge=18.0, totalRooms=3631.0, totalBedrooms=547.0, population=1700.0, households=520.0, medianIncome=5.817, medianHouseValue=257300.0),\n",
              " Row(longitude=-121.91, latitude=37.69, housingMedianAge=18.0, totalRooms=2876.0, totalBedrooms=423.0, population=1395.0, households=427.0, medianIncome=6.3132, medianHouseValue=259200.0),\n",
              " Row(longitude=-121.89, latitude=37.68, housingMedianAge=12.0, totalRooms=7490.0, totalBedrooms=1207.0, population=3329.0, households=1136.0, medianIncome=6.3373, medianHouseValue=339700.0),\n",
              " Row(longitude=-121.88, latitude=37.68, housingMedianAge=23.0, totalRooms=2234.0, totalBedrooms=270.0, population=854.0, households=286.0, medianIncome=7.333, medianHouseValue=337200.0),\n",
              " Row(longitude=-121.89, latitude=37.68, housingMedianAge=22.0, totalRooms=1898.0, totalBedrooms=239.0, population=734.0, households=245.0, medianIncome=6.2918, medianHouseValue=334100.0),\n",
              " Row(longitude=-121.88, latitude=37.67, housingMedianAge=16.0, totalRooms=4070.0, totalBedrooms=624.0, population=1543.0, households=577.0, medianIncome=6.5214, medianHouseValue=311500.0),\n",
              " Row(longitude=-121.88, latitude=37.67, housingMedianAge=25.0, totalRooms=2244.0, totalBedrooms=301.0, population=937.0, households=324.0, medianIncome=6.4524, medianHouseValue=296900.0),\n",
              " Row(longitude=-121.89, latitude=37.67, housingMedianAge=20.0, totalRooms=2948.0, totalBedrooms=471.0, population=1181.0, households=474.0, medianIncome=6.0604, medianHouseValue=247900.0),\n",
              " Row(longitude=-121.89, latitude=37.67, housingMedianAge=19.0, totalRooms=2034.0, totalBedrooms=288.0, population=852.0, households=295.0, medianIncome=6.5285, medianHouseValue=300400.0),\n",
              " Row(longitude=-121.9, latitude=37.67, housingMedianAge=15.0, totalRooms=2130.0, totalBedrooms=273.0, population=876.0, households=285.0, medianIncome=7.2639, medianHouseValue=332400.0),\n",
              " Row(longitude=-121.9, latitude=37.67, housingMedianAge=7.0, totalRooms=9540.0, totalBedrooms=1294.0, population=3926.0, households=1229.0, medianIncome=7.4353, medianHouseValue=389800.0),\n",
              " Row(longitude=-121.88, latitude=37.66, housingMedianAge=29.0, totalRooms=2702.0, totalBedrooms=680.0, population=1360.0, households=642.0, medianIncome=3.1127, medianHouseValue=233000.0),\n",
              " Row(longitude=-121.87, latitude=37.66, housingMedianAge=39.0, totalRooms=522.0, totalBedrooms=116.0, population=161.0, households=102.0, medianIncome=2.4896, medianHouseValue=238500.0),\n",
              " Row(longitude=-121.87, latitude=37.66, housingMedianAge=52.0, totalRooms=775.0, totalBedrooms=134.0, population=315.0, households=123.0, medianIncome=5.0677, medianHouseValue=233300.0),\n",
              " Row(longitude=-121.89, latitude=37.66, housingMedianAge=3.0, totalRooms=1565.0, totalBedrooms=464.0, population=769.0, households=461.0, medianIncome=2.1187, medianHouseValue=231300.0),\n",
              " Row(longitude=-121.88, latitude=37.64, housingMedianAge=20.0, totalRooms=1309.0, totalBedrooms=184.0, population=514.0, households=172.0, medianIncome=10.9506, medianHouseValue=475800.0),\n",
              " Row(longitude=-121.87, latitude=37.57, housingMedianAge=13.0, totalRooms=5519.0, totalBedrooms=833.0, population=2444.0, households=825.0, medianIncome=7.0691, medianHouseValue=393200.0),\n",
              " Row(longitude=-121.87, latitude=37.67, housingMedianAge=10.0, totalRooms=4337.0, totalBedrooms=800.0, population=1813.0, households=743.0, medianIncome=5.5, medianHouseValue=247200.0),\n",
              " Row(longitude=-121.87, latitude=37.67, housingMedianAge=28.0, totalRooms=1812.0, totalBedrooms=294.0, population=853.0, households=278.0, medianIncome=4.9879, medianHouseValue=229400.0),\n",
              " Row(longitude=-121.85, latitude=37.68, housingMedianAge=4.0, totalRooms=4719.0, totalBedrooms=741.0, population=1895.0, households=742.0, medianIncome=6.8132, medianHouseValue=282500.0),\n",
              " Row(longitude=-121.85, latitude=37.66, housingMedianAge=14.0, totalRooms=4236.0, totalBedrooms=701.0, population=1833.0, households=663.0, medianIncome=5.6399, medianHouseValue=300600.0),\n",
              " Row(longitude=-121.86, latitude=37.66, housingMedianAge=22.0, totalRooms=3634.0, totalBedrooms=664.0, population=1699.0, households=640.0, medianIncome=4.1597, medianHouseValue=293200.0),\n",
              " Row(longitude=-121.87, latitude=37.66, housingMedianAge=27.0, totalRooms=1569.0, totalBedrooms=242.0, population=583.0, households=214.0, medianIncome=5.7519, medianHouseValue=278500.0),\n",
              " Row(longitude=-121.84, latitude=37.66, housingMedianAge=13.0, totalRooms=13182.0, totalBedrooms=2074.0, population=4847.0, households=1950.0, medianIncome=5.6417, medianHouseValue=352900.0),\n",
              " Row(longitude=-121.85, latitude=37.72, housingMedianAge=43.0, totalRooms=228.0, totalBedrooms=40.0, population=83.0, households=42.0, medianIncome=10.3203, medianHouseValue=400000.0),\n",
              " Row(longitude=-121.82, latitude=37.73, housingMedianAge=47.0, totalRooms=127.0, totalBedrooms=23.0, population=51.0, households=21.0, medianIncome=4.3472, medianHouseValue=375000.0),\n",
              " Row(longitude=-121.86, latitude=37.7, housingMedianAge=13.0, totalRooms=9621.0, totalBedrooms=1344.0, population=4389.0, households=1391.0, medianIncome=6.6827, medianHouseValue=313700.0),\n",
              " Row(longitude=-121.89, latitude=37.69, housingMedianAge=4.0, totalRooms=6159.0, totalBedrooms=1510.0, population=2649.0, households=1241.0, medianIncome=3.62, medianHouseValue=139300.0),\n",
              " Row(longitude=-121.77, latitude=37.65, housingMedianAge=16.0, totalRooms=4290.0, totalBedrooms=554.0, population=1952.0, households=576.0, medianIncome=7.3588, medianHouseValue=327500.0),\n",
              " Row(longitude=-121.62, latitude=37.61, housingMedianAge=26.0, totalRooms=1786.0, totalBedrooms=306.0, population=771.0, households=279.0, medianIncome=5.7239, medianHouseValue=430600.0),\n",
              " Row(longitude=-121.61, latitude=37.77, housingMedianAge=32.0, totalRooms=404.0, totalBedrooms=74.0, population=144.0, households=58.0, medianIncome=4.2083, medianHouseValue=125000.0),\n",
              " Row(longitude=-121.72, latitude=37.7, housingMedianAge=17.0, totalRooms=1671.0, totalBedrooms=352.0, population=729.0, households=252.0, medianIncome=6.1023, medianHouseValue=450000.0),\n",
              " Row(longitude=-121.73, latitude=37.71, housingMedianAge=12.0, totalRooms=5608.0, totalBedrooms=1049.0, population=2595.0, households=1067.0, medianIncome=3.9864, medianHouseValue=200200.0),\n",
              " Row(longitude=-121.75, latitude=37.71, housingMedianAge=11.0, totalRooms=12070.0, totalBedrooms=2220.0, population=5826.0, households=2125.0, medianIncome=4.8624, medianHouseValue=192400.0),\n",
              " Row(longitude=-121.77, latitude=37.74, housingMedianAge=25.0, totalRooms=494.0, totalBedrooms=81.0, population=254.0, households=85.0, medianIncome=9.1531, medianHouseValue=418800.0),\n",
              " Row(longitude=-121.8, latitude=37.7, housingMedianAge=22.0, totalRooms=5533.0, totalBedrooms=943.0, population=2474.0, households=910.0, medianIncome=4.7361, medianHouseValue=216800.0),\n",
              " Row(longitude=-121.8, latitude=37.69, housingMedianAge=17.0, totalRooms=3956.0, totalBedrooms=639.0, population=2222.0, households=662.0, medianIncome=5.4324, medianHouseValue=215500.0),\n",
              " Row(longitude=-121.82, latitude=37.69, housingMedianAge=12.0, totalRooms=1906.0, totalBedrooms=351.0, population=802.0, households=319.0, medianIncome=4.9375, medianHouseValue=227700.0),\n",
              " ...]"
            ]
          },
          "metadata": {},
          "execution_count": 67
        }
      ]
    },
    {
      "cell_type": "code",
      "source": [
        "df = new_rdd.toDF()"
      ],
      "metadata": {
        "id": "zY66hCP_KaRx"
      },
      "execution_count": null,
      "outputs": []
    },
    {
      "cell_type": "code",
      "source": [
        "df.show()"
      ],
      "metadata": {
        "colab": {
          "base_uri": "https://localhost:8080/"
        },
        "id": "pa6dCZwHKb1-",
        "outputId": "e07ac16e-90d0-4608-c076-10e4fe2fea46"
      },
      "execution_count": null,
      "outputs": [
        {
          "output_type": "stream",
          "name": "stdout",
          "text": [
            "+---------+--------+----------------+----------+-------------+----------+----------+------------+----------------+\n",
            "|longitude|latitude|housingMedianAge|totalRooms|totalBedrooms|population|households|medianIncome|medianHouseValue|\n",
            "+---------+--------+----------------+----------+-------------+----------+----------+------------+----------------+\n",
            "|  -122.23|   37.88|            41.0|     880.0|        129.0|     322.0|     126.0|      8.3252|        452600.0|\n",
            "|  -122.22|   37.86|            21.0|    7099.0|       1106.0|    2401.0|    1138.0|      8.3014|        358500.0|\n",
            "|  -122.24|   37.85|            52.0|    1467.0|        190.0|     496.0|     177.0|      7.2574|        352100.0|\n",
            "|  -122.25|   37.85|            52.0|    1274.0|        235.0|     558.0|     219.0|      5.6431|        341300.0|\n",
            "|  -122.25|   37.85|            52.0|    1627.0|        280.0|     565.0|     259.0|      3.8462|        342200.0|\n",
            "|  -122.25|   37.85|            52.0|     919.0|        213.0|     413.0|     193.0|      4.0368|        269700.0|\n",
            "|  -122.25|   37.84|            52.0|    2535.0|        489.0|    1094.0|     514.0|      3.6591|        299200.0|\n",
            "|  -122.25|   37.84|            52.0|    3104.0|        687.0|    1157.0|     647.0|        3.12|        241400.0|\n",
            "|  -122.26|   37.84|            42.0|    2555.0|        665.0|    1206.0|     595.0|      2.0804|        226700.0|\n",
            "|  -122.25|   37.84|            52.0|    3549.0|        707.0|    1551.0|     714.0|      3.6912|        261100.0|\n",
            "|  -122.26|   37.85|            52.0|    2202.0|        434.0|     910.0|     402.0|      3.2031|        281500.0|\n",
            "|  -122.26|   37.85|            52.0|    3503.0|        752.0|    1504.0|     734.0|      3.2705|        241800.0|\n",
            "|  -122.26|   37.85|            52.0|    2491.0|        474.0|    1098.0|     468.0|       3.075|        213500.0|\n",
            "|  -122.26|   37.84|            52.0|     696.0|        191.0|     345.0|     174.0|      2.6736|        191300.0|\n",
            "|  -122.26|   37.85|            52.0|    2643.0|        626.0|    1212.0|     620.0|      1.9167|        159200.0|\n",
            "|  -122.26|   37.85|            50.0|    1120.0|        283.0|     697.0|     264.0|       2.125|        140000.0|\n",
            "|  -122.27|   37.85|            52.0|    1966.0|        347.0|     793.0|     331.0|       2.775|        152500.0|\n",
            "|  -122.27|   37.85|            52.0|    1228.0|        293.0|     648.0|     303.0|      2.1202|        155500.0|\n",
            "|  -122.26|   37.84|            50.0|    2239.0|        455.0|     990.0|     419.0|      1.9911|        158700.0|\n",
            "|  -122.27|   37.84|            52.0|    1503.0|        298.0|     690.0|     275.0|      2.6033|        162900.0|\n",
            "+---------+--------+----------------+----------+-------------+----------+----------+------------+----------------+\n",
            "only showing top 20 rows\n",
            "\n"
          ]
        }
      ]
    },
    {
      "cell_type": "code",
      "source": [
        "df.printSchema()"
      ],
      "metadata": {
        "colab": {
          "base_uri": "https://localhost:8080/"
        },
        "id": "mKAJsqs4Kk8h",
        "outputId": "94da9734-8f2c-4405-cb4c-0438b06e5b23"
      },
      "execution_count": null,
      "outputs": [
        {
          "output_type": "stream",
          "name": "stdout",
          "text": [
            "root\n",
            " |-- longitude: double (nullable = true)\n",
            " |-- latitude: double (nullable = true)\n",
            " |-- housingMedianAge: double (nullable = true)\n",
            " |-- totalRooms: double (nullable = true)\n",
            " |-- totalBedrooms: double (nullable = true)\n",
            " |-- population: double (nullable = true)\n",
            " |-- households: double (nullable = true)\n",
            " |-- medianIncome: double (nullable = true)\n",
            " |-- medianHouseValue: double (nullable = true)\n",
            "\n"
          ]
        }
      ]
    },
    {
      "cell_type": "code",
      "source": [
        "df.select('longitude', 'latitude').show(20)"
      ],
      "metadata": {
        "colab": {
          "base_uri": "https://localhost:8080/"
        },
        "id": "r4e4fFWyM2AU",
        "outputId": "4ea2b114-ecfd-4cd7-8eaf-0830396bf689"
      },
      "execution_count": null,
      "outputs": [
        {
          "output_type": "stream",
          "name": "stdout",
          "text": [
            "+---------+--------+\n",
            "|longitude|latitude|\n",
            "+---------+--------+\n",
            "|  -122.23|   37.88|\n",
            "|  -122.22|   37.86|\n",
            "|  -122.24|   37.85|\n",
            "|  -122.25|   37.85|\n",
            "|  -122.25|   37.85|\n",
            "|  -122.25|   37.85|\n",
            "|  -122.25|   37.84|\n",
            "|  -122.25|   37.84|\n",
            "|  -122.26|   37.84|\n",
            "|  -122.25|   37.84|\n",
            "|  -122.26|   37.85|\n",
            "|  -122.26|   37.85|\n",
            "|  -122.26|   37.85|\n",
            "|  -122.26|   37.84|\n",
            "|  -122.26|   37.85|\n",
            "|  -122.26|   37.85|\n",
            "|  -122.27|   37.85|\n",
            "|  -122.27|   37.85|\n",
            "|  -122.26|   37.84|\n",
            "|  -122.27|   37.84|\n",
            "+---------+--------+\n",
            "only showing top 20 rows\n",
            "\n"
          ]
        }
      ]
    },
    {
      "cell_type": "code",
      "source": [
        "df = df.withColumn('roomsPerHousehold', col('totalRooms') / col('households'))"
      ],
      "metadata": {
        "id": "YQAmm7FdNF7J"
      },
      "execution_count": null,
      "outputs": []
    },
    {
      "cell_type": "code",
      "source": [
        "df.show()"
      ],
      "metadata": {
        "colab": {
          "base_uri": "https://localhost:8080/"
        },
        "id": "5mLdewdIN5K3",
        "outputId": "35755b5f-4443-4a23-d7a4-e474517f7778"
      },
      "execution_count": null,
      "outputs": [
        {
          "output_type": "stream",
          "name": "stdout",
          "text": [
            "+---------+--------+----------------+----------+-------------+----------+----------+------------+----------------+------------------+\n",
            "|longitude|latitude|housingMedianAge|totalRooms|totalBedrooms|population|households|medianIncome|medianHouseValue| roomsPerHousehold|\n",
            "+---------+--------+----------------+----------+-------------+----------+----------+------------+----------------+------------------+\n",
            "|  -122.23|   37.88|            41.0|     880.0|        129.0|     322.0|     126.0|      8.3252|        452600.0| 6.984126984126984|\n",
            "|  -122.22|   37.86|            21.0|    7099.0|       1106.0|    2401.0|    1138.0|      8.3014|        358500.0| 6.238137082601054|\n",
            "|  -122.24|   37.85|            52.0|    1467.0|        190.0|     496.0|     177.0|      7.2574|        352100.0| 8.288135593220339|\n",
            "|  -122.25|   37.85|            52.0|    1274.0|        235.0|     558.0|     219.0|      5.6431|        341300.0|5.8173515981735155|\n",
            "|  -122.25|   37.85|            52.0|    1627.0|        280.0|     565.0|     259.0|      3.8462|        342200.0| 6.281853281853282|\n",
            "|  -122.25|   37.85|            52.0|     919.0|        213.0|     413.0|     193.0|      4.0368|        269700.0| 4.761658031088083|\n",
            "|  -122.25|   37.84|            52.0|    2535.0|        489.0|    1094.0|     514.0|      3.6591|        299200.0|4.9319066147859925|\n",
            "|  -122.25|   37.84|            52.0|    3104.0|        687.0|    1157.0|     647.0|        3.12|        241400.0| 4.797527047913447|\n",
            "|  -122.26|   37.84|            42.0|    2555.0|        665.0|    1206.0|     595.0|      2.0804|        226700.0| 4.294117647058823|\n",
            "|  -122.25|   37.84|            52.0|    3549.0|        707.0|    1551.0|     714.0|      3.6912|        261100.0| 4.970588235294118|\n",
            "|  -122.26|   37.85|            52.0|    2202.0|        434.0|     910.0|     402.0|      3.2031|        281500.0| 5.477611940298507|\n",
            "|  -122.26|   37.85|            52.0|    3503.0|        752.0|    1504.0|     734.0|      3.2705|        241800.0| 4.772479564032698|\n",
            "|  -122.26|   37.85|            52.0|    2491.0|        474.0|    1098.0|     468.0|       3.075|        213500.0| 5.322649572649572|\n",
            "|  -122.26|   37.84|            52.0|     696.0|        191.0|     345.0|     174.0|      2.6736|        191300.0|               4.0|\n",
            "|  -122.26|   37.85|            52.0|    2643.0|        626.0|    1212.0|     620.0|      1.9167|        159200.0| 4.262903225806451|\n",
            "|  -122.26|   37.85|            50.0|    1120.0|        283.0|     697.0|     264.0|       2.125|        140000.0| 4.242424242424242|\n",
            "|  -122.27|   37.85|            52.0|    1966.0|        347.0|     793.0|     331.0|       2.775|        152500.0|5.9395770392749245|\n",
            "|  -122.27|   37.85|            52.0|    1228.0|        293.0|     648.0|     303.0|      2.1202|        155500.0| 4.052805280528053|\n",
            "|  -122.26|   37.84|            50.0|    2239.0|        455.0|     990.0|     419.0|      1.9911|        158700.0| 5.343675417661098|\n",
            "|  -122.27|   37.84|            52.0|    1503.0|        298.0|     690.0|     275.0|      2.6033|        162900.0| 5.465454545454546|\n",
            "+---------+--------+----------------+----------+-------------+----------+----------+------------+----------------+------------------+\n",
            "only showing top 20 rows\n",
            "\n"
          ]
        }
      ]
    },
    {
      "cell_type": "code",
      "source": [
        "df.groupBy('housingMedianAge').count().sort('count', ascending=False).show()"
      ],
      "metadata": {
        "colab": {
          "base_uri": "https://localhost:8080/"
        },
        "id": "I0-s4usRN6fO",
        "outputId": "1b089593-323d-46fb-b39e-ef647bc62345"
      },
      "execution_count": null,
      "outputs": [
        {
          "output_type": "stream",
          "name": "stdout",
          "text": [
            "+----------------+-----+\n",
            "|housingMedianAge|count|\n",
            "+----------------+-----+\n",
            "|            52.0| 1273|\n",
            "|            36.0|  862|\n",
            "|            35.0|  824|\n",
            "|            16.0|  771|\n",
            "|            17.0|  698|\n",
            "|            34.0|  689|\n",
            "|            26.0|  619|\n",
            "|            33.0|  615|\n",
            "|            18.0|  570|\n",
            "|            25.0|  566|\n",
            "|            32.0|  565|\n",
            "|            37.0|  537|\n",
            "|            15.0|  512|\n",
            "|            19.0|  502|\n",
            "|            27.0|  488|\n",
            "|            24.0|  478|\n",
            "|            30.0|  476|\n",
            "|            28.0|  471|\n",
            "|            20.0|  465|\n",
            "|            29.0|  461|\n",
            "+----------------+-----+\n",
            "only showing top 20 rows\n",
            "\n"
          ]
        }
      ]
    },
    {
      "cell_type": "code",
      "source": [
        "!wget https://raw.githubusercontent.com/piotrszul/spark-tutorial/master/data/artwar.1b.txt"
      ],
      "metadata": {
        "colab": {
          "base_uri": "https://localhost:8080/"
        },
        "id": "2YkgZOTIOIfA",
        "outputId": "068ac72c-d25a-4032-8553-b74f0ba32c7e"
      },
      "execution_count": null,
      "outputs": [
        {
          "output_type": "stream",
          "name": "stdout",
          "text": [
            "--2023-03-01 22:15:04--  https://raw.githubusercontent.com/piotrszul/spark-tutorial/master/data/artwar.1b.txt\n",
            "Resolving raw.githubusercontent.com (raw.githubusercontent.com)... 185.199.108.133, 185.199.109.133, 185.199.110.133, ...\n",
            "Connecting to raw.githubusercontent.com (raw.githubusercontent.com)|185.199.108.133|:443... connected.\n",
            "HTTP request sent, awaiting response... 200 OK\n",
            "Length: 63371 (62K) [text/plain]\n",
            "Saving to: ‘artwar.1b.txt’\n",
            "\n",
            "\rartwar.1b.txt         0%[                    ]       0  --.-KB/s               \rartwar.1b.txt       100%[===================>]  61.89K  --.-KB/s    in 0.01s   \n",
            "\n",
            "2023-03-01 22:15:04 (5.54 MB/s) - ‘artwar.1b.txt’ saved [63371/63371]\n",
            "\n"
          ]
        }
      ]
    },
    {
      "cell_type": "code",
      "source": [
        "%%sh\n",
        "\n",
        "echo \"BEGINNING:\"\n",
        "head -n 22 'artwar.1b.txt' | tail -n 10\n",
        "echo \n",
        "echo \"ENDING:\"\n",
        "tail -n 20 'artwar.1b.txt' | head -n 12"
      ],
      "metadata": {
        "colab": {
          "base_uri": "https://localhost:8080/"
        },
        "id": "cDhNjYA0PkOc",
        "outputId": "a20bf9cf-d5e9-4dd9-e225-3b947497b407"
      },
      "execution_count": null,
      "outputs": [
        {
          "output_type": "stream",
          "name": "stdout",
          "text": [
            "BEGINNING:\n",
            "\n",
            "Translated by Lionel Giles\n",
            "\n",
            "I. Laying Plans\n",
            "\n",
            "1. Sun Tzu said: The art of war is of vital importance to the State.\n",
            "\n",
            "2. It is a matter of life and death, a road either to safety or to\n",
            "ruin. Hence it is a subject of inquiry which can on no account be\n",
            "neglected. \n",
            "\n",
            "ENDING:\n",
            "\n",
            "27. Hence it is only the enlightened ruler and the wise general who\n",
            "will use the highest intelligence of the army for purposes of spying\n",
            "and thereby they achieve great results. Spies are a most important\n",
            "element in water, because on them depends an army's ability to move.\n",
            "\n",
            "THE END\n",
            "\n",
            "----------------------------------------------------------------------\n",
            "\n",
            "Copyright statement:\n",
            "The Internet Classics Archive by Daniel C. Stevenson, Web Atomics.\n"
          ]
        }
      ]
    },
    {
      "cell_type": "code",
      "source": [
        "art_of_war = sc.textFile('/content/artwar.1b.txt')"
      ],
      "metadata": {
        "id": "Du39p9MfPpLk"
      },
      "execution_count": null,
      "outputs": []
    },
    {
      "cell_type": "code",
      "source": [
        "art_of_war.take(30)"
      ],
      "metadata": {
        "colab": {
          "base_uri": "https://localhost:8080/"
        },
        "id": "8gD_keF0QQgC",
        "outputId": "724b4b05-a01a-42c8-d975-35df4e2adcc1"
      },
      "execution_count": null,
      "outputs": [
        {
          "output_type": "execute_result",
          "data": {
            "text/plain": [
              "['',\n",
              " '<BASE HREF=\"http://classics.mit.edu/Tzu/artwar.1b.txt\"><table border=1 width=100%><tr><td><table border=1 bgcolor=#ffffff cellpadding=10 cellspacing=0 width=100% color=#ffffff><tr><td><font face=arial,sans-serif color=black size=-1>This is <b><font color=#0039b6>G</font><font color=#c41200>o</font><font color=#f3c518>o</font><font color=#0039b6>g</font><font color=#30a72f>l</font><font color=#c41200>e</font></b>\\'s <a href=\"http://www.google.com/intl/en_extra/help/features.html#cached\">cache</a> of <A HREF=\"http://classics.mit.edu/Tzu/artwar.1b.txt\"><font color=blue>classics.mit.edu/Tzu/artwar.1b.txt</font></a>.<br>',\n",
              " \"<b><font color=#0039b6>G</font><font color=#c41200>o</font><font color=#f3c518>o</font><font color=#0039b6>g</font><font color=#30a72f>l</font><font color=#c41200>e</font></b>'s cache is the snapshot that we took of the page as we crawled the web.<br>\",\n",
              " 'The page may have changed since that time.  Click here for the <A HREF=\"http://classics.mit.edu/Tzu/artwar.1b.txt\"><font color=blue>current page</font></a> without highlighting.</font><br><br><center><font size=-2 color=black><i>Google is not affiliated with the authors of this page nor responsible for its content.</i></font></center></td></tr></table></td></tr></table><hr>',\n",
              " '<html><body><pre>',\n",
              " 'Provided by The Internet Classics Archive.',\n",
              " 'See bottom for copyright. Available online at',\n",
              " '    http://classics.mit.edu//Tzu/artwar.html',\n",
              " '',\n",
              " 'The Art of War',\n",
              " 'By Sun Tzu',\n",
              " '',\n",
              " '',\n",
              " 'Translated by Lionel Giles',\n",
              " '',\n",
              " 'I. Laying Plans',\n",
              " '',\n",
              " '1. Sun Tzu said: The art of war is of vital importance to the State.',\n",
              " '',\n",
              " '2. It is a matter of life and death, a road either to safety or to',\n",
              " 'ruin. Hence it is a subject of inquiry which can on no account be',\n",
              " 'neglected. ',\n",
              " '',\n",
              " '3. The art of war, then, is governed by five constant factors, to',\n",
              " \"be taken into account in one's deliberations, when seeking to determine\",\n",
              " 'the conditions obtaining in the field. ',\n",
              " '',\n",
              " '4. These are: (1) The Moral Law; (2) Heaven; (3) Earth; (4) The Commander;',\n",
              " '(5) Method and discipline. ',\n",
              " '']"
            ]
          },
          "metadata": {},
          "execution_count": 102
        }
      ]
    },
    {
      "cell_type": "code",
      "source": [
        "import re\n",
        "\n",
        "def is_chapter_heading(line):\n",
        "  match_group = (re.match(r'^[IVX]+\\.', line))\n",
        "  return match_group is not None \n",
        "\n",
        "chapter_headings = art_of_war.filter(is_chapter_heading)\n"
      ],
      "metadata": {
        "id": "79dRedP9QSnu"
      },
      "execution_count": null,
      "outputs": []
    },
    {
      "cell_type": "code",
      "source": [
        "chapter_headings.collect()"
      ],
      "metadata": {
        "colab": {
          "base_uri": "https://localhost:8080/"
        },
        "id": "NV4wiLRuQmib",
        "outputId": "b0825452-03e0-4223-9c71-66f098529427"
      },
      "execution_count": null,
      "outputs": [
        {
          "output_type": "execute_result",
          "data": {
            "text/plain": [
              "['I. Laying Plans',\n",
              " 'II. Waging War',\n",
              " 'III. Attack by Stratagem',\n",
              " 'IV. Tactical Dispositions',\n",
              " 'V. Energy',\n",
              " 'VI. Weak Points and Strong',\n",
              " 'VII. Maneuvering',\n",
              " 'VIII. Variation in Tactics',\n",
              " 'IX. The Army on the March',\n",
              " 'X. Terrain',\n",
              " 'XI. The Nine Situations',\n",
              " 'XII. The Attack by Fire',\n",
              " 'XIII. The Use of Spies']"
            ]
          },
          "metadata": {},
          "execution_count": 104
        }
      ]
    },
    {
      "cell_type": "code",
      "source": [
        "art_of_war = art_of_war.filter(lambda x: '<' not in x and len(x)> 0)"
      ],
      "metadata": {
        "id": "P-9m5zahRLP5"
      },
      "execution_count": null,
      "outputs": []
    },
    {
      "cell_type": "code",
      "source": [
        "words = art_of_war.flatMap(lambda line: map(lambda y: y.lower(), line.split(' '))).\\\n",
        "  map(lambda word: (word, 1)).reduceByKey(lambda x, y: x + y).sortBy(lambda pair: -pair[1])"
      ],
      "metadata": {
        "id": "uoYu9oszRqWf"
      },
      "execution_count": null,
      "outputs": []
    },
    {
      "cell_type": "code",
      "source": [
        "words.take(10)"
      ],
      "metadata": {
        "colab": {
          "base_uri": "https://localhost:8080/"
        },
        "id": "aJdvXDGOSQ-_",
        "outputId": "1f80ae1d-a7bc-444d-94db-1c5a775cd7d3"
      },
      "execution_count": null,
      "outputs": [
        {
          "output_type": "execute_result",
          "data": {
            "text/plain": [
              "[('the', 696),\n",
              " ('of', 361),\n",
              " ('to', 351),\n",
              " ('', 294),\n",
              " ('and', 287),\n",
              " ('is', 262),\n",
              " ('a', 207),\n",
              " ('in', 196),\n",
              " ('be', 181),\n",
              " ('will', 117)]"
            ]
          },
          "metadata": {},
          "execution_count": 128
        }
      ]
    },
    {
      "cell_type": "code",
      "source": [
        "!wget https://raw.githubusercontent.com/piotrszul/spark-tutorial/master/data/nsw_temp.csv"
      ],
      "metadata": {
        "colab": {
          "base_uri": "https://localhost:8080/"
        },
        "id": "WqPQeD5sSpwk",
        "outputId": "e30334e0-9953-4a2d-c9dd-4951f5cb0acd"
      },
      "execution_count": null,
      "outputs": [
        {
          "output_type": "stream",
          "name": "stdout",
          "text": [
            "--2023-03-01 22:37:33--  https://raw.githubusercontent.com/piotrszul/spark-tutorial/master/data/nsw_temp.csv\n",
            "Resolving raw.githubusercontent.com (raw.githubusercontent.com)... 185.199.111.133, 185.199.109.133, 185.199.110.133, ...\n",
            "Connecting to raw.githubusercontent.com (raw.githubusercontent.com)|185.199.111.133|:443... connected.\n",
            "HTTP request sent, awaiting response... 200 OK\n",
            "Length: 13529567 (13M) [text/plain]\n",
            "Saving to: ‘nsw_temp.csv’\n",
            "\n",
            "nsw_temp.csv        100%[===================>]  12.90M  --.-KB/s    in 0.1s    \n",
            "\n",
            "2023-03-01 22:37:33 (109 MB/s) - ‘nsw_temp.csv’ saved [13529567/13529567]\n",
            "\n"
          ]
        }
      ]
    },
    {
      "cell_type": "code",
      "source": [
        "nsw_temp = spark.read.csv('/content/nsw_temp.csv', inferSchema='True', header=True)"
      ],
      "metadata": {
        "id": "LIVSmsGpUtpl"
      },
      "execution_count": null,
      "outputs": []
    },
    {
      "cell_type": "code",
      "source": [
        "nsw_temp.printSchema()"
      ],
      "metadata": {
        "colab": {
          "base_uri": "https://localhost:8080/"
        },
        "id": "dtE9RYI5U840",
        "outputId": "a6b1ac7d-2e78-4c82-d451-ce17d63e6dab"
      },
      "execution_count": null,
      "outputs": [
        {
          "output_type": "stream",
          "name": "stdout",
          "text": [
            "root\n",
            " |-- Product code: string (nullable = true)\n",
            " |-- Bureau of Meteorology station number: integer (nullable = true)\n",
            " |-- Year: integer (nullable = true)\n",
            " |-- Month: integer (nullable = true)\n",
            " |-- Day: integer (nullable = true)\n",
            " |-- Maximum temperature (Degree C): double (nullable = true)\n",
            " |-- Days of accumulation of maximum temperature: integer (nullable = true)\n",
            " |-- Quality: string (nullable = true)\n",
            "\n"
          ]
        }
      ]
    },
    {
      "cell_type": "code",
      "source": [
        "nsw_temp.take(10)"
      ],
      "metadata": {
        "colab": {
          "base_uri": "https://localhost:8080/"
        },
        "id": "CvaJnvw_bFFJ",
        "outputId": "215ea9d9-e486-4f81-b345-9632fdda2621"
      },
      "execution_count": null,
      "outputs": [
        {
          "output_type": "execute_result",
          "data": {
            "text/plain": [
              "[Row(Product code='IDCJAC0010', Bureau of Meteorology station number=61087, Year=1965, Month=1, Day=1, Maximum temperature (Degree C)=25.6, Days of accumulation of maximum temperature=None, Quality='Y'),\n",
              " Row(Product code='IDCJAC0010', Bureau of Meteorology station number=61087, Year=1965, Month=1, Day=2, Maximum temperature (Degree C)=32.2, Days of accumulation of maximum temperature=1, Quality='Y'),\n",
              " Row(Product code='IDCJAC0010', Bureau of Meteorology station number=61087, Year=1965, Month=1, Day=3, Maximum temperature (Degree C)=23.1, Days of accumulation of maximum temperature=1, Quality='Y'),\n",
              " Row(Product code='IDCJAC0010', Bureau of Meteorology station number=61087, Year=1965, Month=1, Day=4, Maximum temperature (Degree C)=25.6, Days of accumulation of maximum temperature=1, Quality='Y'),\n",
              " Row(Product code='IDCJAC0010', Bureau of Meteorology station number=61087, Year=1965, Month=1, Day=5, Maximum temperature (Degree C)=26.7, Days of accumulation of maximum temperature=1, Quality='Y'),\n",
              " Row(Product code='IDCJAC0010', Bureau of Meteorology station number=61087, Year=1965, Month=1, Day=6, Maximum temperature (Degree C)=25.3, Days of accumulation of maximum temperature=1, Quality='Y'),\n",
              " Row(Product code='IDCJAC0010', Bureau of Meteorology station number=61087, Year=1965, Month=1, Day=7, Maximum temperature (Degree C)=20.3, Days of accumulation of maximum temperature=1, Quality='Y'),\n",
              " Row(Product code='IDCJAC0010', Bureau of Meteorology station number=61087, Year=1965, Month=1, Day=8, Maximum temperature (Degree C)=22.5, Days of accumulation of maximum temperature=1, Quality='Y'),\n",
              " Row(Product code='IDCJAC0010', Bureau of Meteorology station number=61087, Year=1965, Month=1, Day=9, Maximum temperature (Degree C)=24.2, Days of accumulation of maximum temperature=1, Quality='Y'),\n",
              " Row(Product code='IDCJAC0010', Bureau of Meteorology station number=61087, Year=1965, Month=1, Day=10, Maximum temperature (Degree C)=28.6, Days of accumulation of maximum temperature=1, Quality='Y')]"
            ]
          },
          "metadata": {},
          "execution_count": 204
        }
      ]
    },
    {
      "cell_type": "code",
      "source": [
        "nsw_temp_lines = sc.textFile('/content/nsw_temp.csv')"
      ],
      "metadata": {
        "id": "JzviGvJvVXKy"
      },
      "execution_count": null,
      "outputs": []
    },
    {
      "cell_type": "code",
      "source": [
        "nsw_temp_lines.take(10)"
      ],
      "metadata": {
        "colab": {
          "base_uri": "https://localhost:8080/"
        },
        "id": "WJoSHM7mV14K",
        "outputId": "e30ccab3-3314-43f4-bdbb-f099e11ffbc5"
      },
      "execution_count": null,
      "outputs": [
        {
          "output_type": "execute_result",
          "data": {
            "text/plain": [
              "['Product code,Bureau of Meteorology station number,Year,Month,Day,Maximum temperature (Degree C),Days of accumulation of maximum temperature,Quality',\n",
              " 'IDCJAC0010,061087,1965,01,01,25.6,,Y',\n",
              " 'IDCJAC0010,061087,1965,01,02,32.2,1,Y',\n",
              " 'IDCJAC0010,061087,1965,01,03,23.1,1,Y',\n",
              " 'IDCJAC0010,061087,1965,01,04,25.6,1,Y',\n",
              " 'IDCJAC0010,061087,1965,01,05,26.7,1,Y',\n",
              " 'IDCJAC0010,061087,1965,01,06,25.3,1,Y',\n",
              " 'IDCJAC0010,061087,1965,01,07,20.3,1,Y',\n",
              " 'IDCJAC0010,061087,1965,01,08,22.5,1,Y',\n",
              " 'IDCJAC0010,061087,1965,01,09,24.2,1,Y']"
            ]
          },
          "metadata": {},
          "execution_count": 140
        }
      ]
    },
    {
      "cell_type": "code",
      "source": [
        "correct_lines = nsw_temp_lines.filter(lambda l: l.startswith('IDC'))"
      ],
      "metadata": {
        "id": "EoPpWYjjV6C0"
      },
      "execution_count": null,
      "outputs": []
    },
    {
      "cell_type": "code",
      "source": [
        "def create_row(line):\n",
        "  return Row(product=line[0], station=line[1], \n",
        "             year=(line[2]), month=line[3], day=line[4], max_temp=float(line[5]),\n",
        "                      days_of_acc=(line[6]), quality=line[7])"
      ],
      "metadata": {
        "id": "MAQnvCWOWtxz"
      },
      "execution_count": null,
      "outputs": []
    },
    {
      "cell_type": "code",
      "source": [
        "data = correct_lines.map(lambda x: x.split(',')).map(create_row)"
      ],
      "metadata": {
        "id": "4O78sbIRWXar"
      },
      "execution_count": null,
      "outputs": []
    },
    {
      "cell_type": "code",
      "source": [
        "df = data.toDF()"
      ],
      "metadata": {
        "id": "4z7s3bvgWi3A"
      },
      "execution_count": null,
      "outputs": []
    },
    {
      "cell_type": "code",
      "source": [
        "df.show()"
      ],
      "metadata": {
        "colab": {
          "base_uri": "https://localhost:8080/"
        },
        "id": "xs8PfZJ_YER0",
        "outputId": "7c894ef1-ce5c-4743-f275-ab63e8825e9c"
      },
      "execution_count": null,
      "outputs": [
        {
          "output_type": "stream",
          "name": "stdout",
          "text": [
            "+----------+-------+----+-----+---+--------+-----------+-------+\n",
            "|   product|station|year|month|day|max_temp|days_of_acc|quality|\n",
            "+----------+-------+----+-----+---+--------+-----------+-------+\n",
            "|IDCJAC0010| 061087|1965|   01| 01|    25.6|           |      Y|\n",
            "|IDCJAC0010| 061087|1965|   01| 02|    32.2|          1|      Y|\n",
            "|IDCJAC0010| 061087|1965|   01| 03|    23.1|          1|      Y|\n",
            "|IDCJAC0010| 061087|1965|   01| 04|    25.6|          1|      Y|\n",
            "|IDCJAC0010| 061087|1965|   01| 05|    26.7|          1|      Y|\n",
            "|IDCJAC0010| 061087|1965|   01| 06|    25.3|          1|      Y|\n",
            "|IDCJAC0010| 061087|1965|   01| 07|    20.3|          1|      Y|\n",
            "|IDCJAC0010| 061087|1965|   01| 08|    22.5|          1|      Y|\n",
            "|IDCJAC0010| 061087|1965|   01| 09|    24.2|          1|      Y|\n",
            "|IDCJAC0010| 061087|1965|   01| 10|    28.6|          1|      Y|\n",
            "|IDCJAC0010| 061087|1965|   01| 11|    31.1|          1|      Y|\n",
            "|IDCJAC0010| 061087|1965|   01| 12|    24.4|          1|      Y|\n",
            "|IDCJAC0010| 061087|1965|   01| 13|    19.7|          1|      Y|\n",
            "|IDCJAC0010| 061087|1965|   01| 14|    22.2|          1|      Y|\n",
            "|IDCJAC0010| 061087|1965|   01| 15|    25.4|          1|      Y|\n",
            "|IDCJAC0010| 061087|1965|   01| 16|    27.5|          1|      Y|\n",
            "|IDCJAC0010| 061087|1965|   01| 17|    28.3|          1|      Y|\n",
            "|IDCJAC0010| 061087|1965|   01| 18|    29.4|          1|      Y|\n",
            "|IDCJAC0010| 061087|1965|   01| 19|    26.7|          1|      Y|\n",
            "|IDCJAC0010| 061087|1965|   01| 20|    22.2|          1|      Y|\n",
            "+----------+-------+----+-----+---+--------+-----------+-------+\n",
            "only showing top 20 rows\n",
            "\n"
          ]
        }
      ]
    },
    {
      "cell_type": "code",
      "source": [
        "df.printSchema()"
      ],
      "metadata": {
        "colab": {
          "base_uri": "https://localhost:8080/"
        },
        "id": "ybLXRA0hX-dt",
        "outputId": "49e0ea18-ed2d-4a51-8413-c9fd6045d38a"
      },
      "execution_count": null,
      "outputs": [
        {
          "output_type": "stream",
          "name": "stdout",
          "text": [
            "root\n",
            " |-- product: string (nullable = true)\n",
            " |-- station: string (nullable = true)\n",
            " |-- year: string (nullable = true)\n",
            " |-- month: string (nullable = true)\n",
            " |-- day: string (nullable = true)\n",
            " |-- max_temp: double (nullable = true)\n",
            " |-- days_of_acc: string (nullable = true)\n",
            " |-- quality: string (nullable = true)\n",
            "\n"
          ]
        }
      ]
    },
    {
      "cell_type": "code",
      "source": [
        "df = spark.createDataFrame(nsw_temp.rdd, schema = ['product_id', 'station_id', 'year', 'month', 'day', 'max_temp', 'days_of_acc', 'quality'])\n",
        "df.show()"
      ],
      "metadata": {
        "colab": {
          "base_uri": "https://localhost:8080/"
        },
        "id": "g-QNrOOlYxnN",
        "outputId": "c74fa808-4ec1-4147-a78a-74f6c8a29aa0"
      },
      "execution_count": null,
      "outputs": [
        {
          "output_type": "stream",
          "name": "stdout",
          "text": [
            "+----------+----------+----+-----+---+--------+-----------+-------+\n",
            "|product_id|station_id|year|month|day|max_temp|days_of_acc|quality|\n",
            "+----------+----------+----+-----+---+--------+-----------+-------+\n",
            "|IDCJAC0010|     61087|1965|    1|  1|    25.6|       null|      Y|\n",
            "|IDCJAC0010|     61087|1965|    1|  2|    32.2|          1|      Y|\n",
            "|IDCJAC0010|     61087|1965|    1|  3|    23.1|          1|      Y|\n",
            "|IDCJAC0010|     61087|1965|    1|  4|    25.6|          1|      Y|\n",
            "|IDCJAC0010|     61087|1965|    1|  5|    26.7|          1|      Y|\n",
            "|IDCJAC0010|     61087|1965|    1|  6|    25.3|          1|      Y|\n",
            "|IDCJAC0010|     61087|1965|    1|  7|    20.3|          1|      Y|\n",
            "|IDCJAC0010|     61087|1965|    1|  8|    22.5|          1|      Y|\n",
            "|IDCJAC0010|     61087|1965|    1|  9|    24.2|          1|      Y|\n",
            "|IDCJAC0010|     61087|1965|    1| 10|    28.6|          1|      Y|\n",
            "|IDCJAC0010|     61087|1965|    1| 11|    31.1|          1|      Y|\n",
            "|IDCJAC0010|     61087|1965|    1| 12|    24.4|          1|      Y|\n",
            "|IDCJAC0010|     61087|1965|    1| 13|    19.7|          1|      Y|\n",
            "|IDCJAC0010|     61087|1965|    1| 14|    22.2|          1|      Y|\n",
            "|IDCJAC0010|     61087|1965|    1| 15|    25.4|          1|      Y|\n",
            "|IDCJAC0010|     61087|1965|    1| 16|    27.5|          1|      Y|\n",
            "|IDCJAC0010|     61087|1965|    1| 17|    28.3|          1|      Y|\n",
            "|IDCJAC0010|     61087|1965|    1| 18|    29.4|          1|      Y|\n",
            "|IDCJAC0010|     61087|1965|    1| 19|    26.7|          1|      Y|\n",
            "|IDCJAC0010|     61087|1965|    1| 20|    22.2|          1|      Y|\n",
            "+----------+----------+----+-----+---+--------+-----------+-------+\n",
            "only showing top 20 rows\n",
            "\n"
          ]
        }
      ]
    },
    {
      "cell_type": "code",
      "source": [
        "df.groupBy('Year').avg('max_temp').sort('Year').show()"
      ],
      "metadata": {
        "colab": {
          "base_uri": "https://localhost:8080/"
        },
        "id": "hrtLKwDdXUFq",
        "outputId": "3623f361-3237-44b6-e0c1-9817b1526113"
      },
      "execution_count": null,
      "outputs": [
        {
          "output_type": "stream",
          "name": "stdout",
          "text": [
            "+----+------------------+\n",
            "|Year|     avg(max_temp)|\n",
            "+----+------------------+\n",
            "|null|              null|\n",
            "|1859|21.399452054794523|\n",
            "|1860|20.276986301369863|\n",
            "|1861|20.864657534246582|\n",
            "|1862|21.353150684931535|\n",
            "|1863| 20.95917808219179|\n",
            "|1864|20.579452054794523|\n",
            "|1865|21.692032967032958|\n",
            "|1866|21.217808219178075|\n",
            "|1867|21.784657534246573|\n",
            "|1868|21.434246575342463|\n",
            "|1869|21.035989010989006|\n",
            "|1870| 20.63204419889505|\n",
            "|1871|20.800000000000015|\n",
            "|1872|20.673770491803285|\n",
            "|1873| 20.90851648351649|\n",
            "|1874| 21.04931129476586|\n",
            "|1875|21.415977961432496|\n",
            "|1876|21.280165289256207|\n",
            "|1877| 21.39478021978022|\n",
            "+----+------------------+\n",
            "only showing top 20 rows\n",
            "\n"
          ]
        }
      ]
    },
    {
      "cell_type": "code",
      "source": [
        "df.where(col('station_id') == 61087).groupBy('Year').agg(avg('max_temp').alias('avg_max_temp'), stddev('max_temp').alias('std_max_temp')).show()"
      ],
      "metadata": {
        "colab": {
          "base_uri": "https://localhost:8080/"
        },
        "id": "0-gemoefY2Os",
        "outputId": "999623a1-5f2a-433b-eb2b-81cb8f021785"
      },
      "execution_count": null,
      "outputs": [
        {
          "output_type": "stream",
          "name": "stdout",
          "text": [
            "+----+------------------+------------------+\n",
            "|Year|      avg_max_temp|      std_max_temp|\n",
            "+----+------------------+------------------+\n",
            "|1983|              null|              null|\n",
            "|1972|22.601657458563547|4.7476715405402246|\n",
            "|1979|              null|              null|\n",
            "|2007|23.507558139534893| 4.811775021713264|\n",
            "|1988|              null|              null|\n",
            "|1986|              null|              null|\n",
            "|1969| 22.89364640883978|5.2434143859801345|\n",
            "|1967| 22.43777777777779| 5.465446338870251|\n",
            "|2012|22.795081967213118| 4.726500964045812|\n",
            "|1991|              null|              null|\n",
            "|1975|  23.2804469273743| 5.144005547917628|\n",
            "|1994|              null|              null|\n",
            "|1987|              null|              null|\n",
            "|1999|22.714887640449437| 4.402723579435488|\n",
            "|1997|21.651931330472113| 5.494119752729564|\n",
            "|2009|23.686538461538472| 5.121693729854265|\n",
            "|2010|22.985753424657517| 4.989831946180297|\n",
            "|2006| 23.51514285714285| 5.272328624045975|\n",
            "|1970|22.595833333333335| 4.892403226582647|\n",
            "|1998|23.226704545454524|  5.47074815773267|\n",
            "+----+------------------+------------------+\n",
            "only showing top 20 rows\n",
            "\n"
          ]
        }
      ]
    },
    {
      "cell_type": "code",
      "source": [
        "df_pandas = df.where(col('station_id') == 61087).groupBy('Year').agg(avg('max_temp').alias('avg_max_temp'), stddev('max_temp').alias('std_max_temp')).toPandas()"
      ],
      "metadata": {
        "id": "t7KdrE4LZotn"
      },
      "execution_count": null,
      "outputs": []
    },
    {
      "cell_type": "code",
      "source": [
        "df_pandas.sort_values(by='Year', inplace=True)"
      ],
      "metadata": {
        "id": "PnXqxQteZ692"
      },
      "execution_count": null,
      "outputs": []
    },
    {
      "cell_type": "code",
      "source": [
        "import matplotlib.pyplot as plt\n"
      ],
      "metadata": {
        "id": "d4lKgNcOaMEt"
      },
      "execution_count": null,
      "outputs": []
    },
    {
      "cell_type": "code",
      "source": [
        "plt.plot(df_pandas['Year'], df_pandas['avg_max_temp'])"
      ],
      "metadata": {
        "colab": {
          "base_uri": "https://localhost:8080/",
          "height": 283
        },
        "id": "KxjLDxT6aAgt",
        "outputId": "c2c193da-2e03-431d-d220-f749a12ab266"
      },
      "execution_count": null,
      "outputs": [
        {
          "output_type": "execute_result",
          "data": {
            "text/plain": [
              "[<matplotlib.lines.Line2D at 0x7fe9acdef6d0>]"
            ]
          },
          "metadata": {},
          "execution_count": 202
        },
        {
          "output_type": "display_data",
          "data": {
            "text/plain": [
              "<Figure size 432x288 with 1 Axes>"
            ],
            "image/png": "[encoded data removed]"
          },
          "metadata": {
            "needs_background": "light"
          }
        }
      ]
    },
    {
      "cell_type": "code",
      "source": [
        "df = spark.createDataFrame(correct_lines, schema = ['product_id', 'station_id', 'year', 'month', 'day', 'max_temp', 'days_of_acc', 'quality'])"
      ],
      "metadata": {
        "colab": {
          "base_uri": "https://localhost:8080/",
          "height": 318
        },
        "id": "y75dRaXGWG1R",
        "outputId": "6114176a-759e-4b91-b9b5-717841aa78be"
      },
      "execution_count": null,
      "outputs": [
        {
          "output_type": "error",
          "ename": "TypeError",
          "evalue": "ignored",
          "traceback": [
            "\u001b[0;31m---------------------------------------------------------------------------\u001b[0m",
            "\u001b[0;31mTypeError\u001b[0m                                 Traceback (most recent call last)",
            "\u001b[0;32m<ipython-input-142-3173f267f23e>\u001b[0m in \u001b[0;36m<module>\u001b[0;34m\u001b[0m\n\u001b[0;32m----> 1\u001b[0;31m \u001b[0mdf\u001b[0m \u001b[0;34m=\u001b[0m \u001b[0mspark\u001b[0m\u001b[0;34m.\u001b[0m\u001b[0mcreateDataFrame\u001b[0m\u001b[0;34m(\u001b[0m\u001b[0mcorrect_lines\u001b[0m\u001b[0;34m,\u001b[0m \u001b[0mschema\u001b[0m \u001b[0;34m=\u001b[0m \u001b[0;34m[\u001b[0m\u001b[0;34m'product_id'\u001b[0m\u001b[0;34m,\u001b[0m \u001b[0;34m'station_id'\u001b[0m\u001b[0;34m,\u001b[0m \u001b[0;34m'year'\u001b[0m\u001b[0;34m,\u001b[0m \u001b[0;34m'month'\u001b[0m\u001b[0;34m,\u001b[0m \u001b[0;34m'day'\u001b[0m\u001b[0;34m,\u001b[0m \u001b[0;34m'max_temp'\u001b[0m\u001b[0;34m,\u001b[0m \u001b[0;34m'days_of_acc'\u001b[0m\u001b[0;34m,\u001b[0m \u001b[0;34m'quality'\u001b[0m\u001b[0;34m]\u001b[0m\u001b[0;34m)\u001b[0m\u001b[0;34m\u001b[0m\u001b[0;34m\u001b[0m\u001b[0m\n\u001b[0m",
            "\u001b[0;32m/content/spark-3.0.0-bin-hadoop3.2/python/pyspark/sql/session.py\u001b[0m in \u001b[0;36mcreateDataFrame\u001b[0;34m(self, data, schema, samplingRatio, verifySchema)\u001b[0m\n\u001b[1;32m    600\u001b[0m             return super(SparkSession, self).createDataFrame(\n\u001b[1;32m    601\u001b[0m                 data, schema, samplingRatio, verifySchema)\n\u001b[0;32m--> 602\u001b[0;31m         \u001b[0;32mreturn\u001b[0m \u001b[0mself\u001b[0m\u001b[0;34m.\u001b[0m\u001b[0m_create_dataframe\u001b[0m\u001b[0;34m(\u001b[0m\u001b[0mdata\u001b[0m\u001b[0;34m,\u001b[0m \u001b[0mschema\u001b[0m\u001b[0;34m,\u001b[0m \u001b[0msamplingRatio\u001b[0m\u001b[0;34m,\u001b[0m \u001b[0mverifySchema\u001b[0m\u001b[0;34m)\u001b[0m\u001b[0;34m\u001b[0m\u001b[0;34m\u001b[0m\u001b[0m\n\u001b[0m\u001b[1;32m    603\u001b[0m \u001b[0;34m\u001b[0m\u001b[0m\n\u001b[1;32m    604\u001b[0m     \u001b[0;32mdef\u001b[0m \u001b[0m_create_dataframe\u001b[0m\u001b[0;34m(\u001b[0m\u001b[0mself\u001b[0m\u001b[0;34m,\u001b[0m \u001b[0mdata\u001b[0m\u001b[0;34m,\u001b[0m \u001b[0mschema\u001b[0m\u001b[0;34m,\u001b[0m \u001b[0msamplingRatio\u001b[0m\u001b[0;34m,\u001b[0m \u001b[0mverifySchema\u001b[0m\u001b[0;34m)\u001b[0m\u001b[0;34m:\u001b[0m\u001b[0;34m\u001b[0m\u001b[0;34m\u001b[0m\u001b[0m\n",
            "\u001b[0;32m/content/spark-3.0.0-bin-hadoop3.2/python/pyspark/sql/session.py\u001b[0m in \u001b[0;36m_create_dataframe\u001b[0;34m(self, data, schema, samplingRatio, verifySchema)\u001b[0m\n\u001b[1;32m    623\u001b[0m \u001b[0;34m\u001b[0m\u001b[0m\n\u001b[1;32m    624\u001b[0m         \u001b[0;32mif\u001b[0m \u001b[0misinstance\u001b[0m\u001b[0;34m(\u001b[0m\u001b[0mdata\u001b[0m\u001b[0;34m,\u001b[0m \u001b[0mRDD\u001b[0m\u001b[0;34m)\u001b[0m\u001b[0;34m:\u001b[0m\u001b[0;34m\u001b[0m\u001b[0;34m\u001b[0m\u001b[0m\n\u001b[0;32m--> 625\u001b[0;31m             \u001b[0mrdd\u001b[0m\u001b[0;34m,\u001b[0m \u001b[0mschema\u001b[0m \u001b[0;34m=\u001b[0m \u001b[0mself\u001b[0m\u001b[0;34m.\u001b[0m\u001b[0m_createFromRDD\u001b[0m\u001b[0;34m(\u001b[0m\u001b[0mdata\u001b[0m\u001b[0;34m.\u001b[0m\u001b[0mmap\u001b[0m\u001b[0;34m(\u001b[0m\u001b[0mprepare\u001b[0m\u001b[0;34m)\u001b[0m\u001b[0;34m,\u001b[0m \u001b[0mschema\u001b[0m\u001b[0;34m,\u001b[0m \u001b[0msamplingRatio\u001b[0m\u001b[0;34m)\u001b[0m\u001b[0;34m\u001b[0m\u001b[0;34m\u001b[0m\u001b[0m\n\u001b[0m\u001b[1;32m    626\u001b[0m         \u001b[0;32melse\u001b[0m\u001b[0;34m:\u001b[0m\u001b[0;34m\u001b[0m\u001b[0;34m\u001b[0m\u001b[0m\n\u001b[1;32m    627\u001b[0m             \u001b[0mrdd\u001b[0m\u001b[0;34m,\u001b[0m \u001b[0mschema\u001b[0m \u001b[0;34m=\u001b[0m \u001b[0mself\u001b[0m\u001b[0;34m.\u001b[0m\u001b[0m_createFromLocal\u001b[0m\u001b[0;34m(\u001b[0m\u001b[0mmap\u001b[0m\u001b[0;34m(\u001b[0m\u001b[0mprepare\u001b[0m\u001b[0;34m,\u001b[0m \u001b[0mdata\u001b[0m\u001b[0;34m)\u001b[0m\u001b[0;34m,\u001b[0m \u001b[0mschema\u001b[0m\u001b[0;34m)\u001b[0m\u001b[0;34m\u001b[0m\u001b[0;34m\u001b[0m\u001b[0m\n",
            "\u001b[0;32m/content/spark-3.0.0-bin-hadoop3.2/python/pyspark/sql/session.py\u001b[0m in \u001b[0;36m_createFromRDD\u001b[0;34m(self, rdd, schema, samplingRatio)\u001b[0m\n\u001b[1;32m    420\u001b[0m         \"\"\"\n\u001b[1;32m    421\u001b[0m         \u001b[0;32mif\u001b[0m \u001b[0mschema\u001b[0m \u001b[0;32mis\u001b[0m \u001b[0;32mNone\u001b[0m \u001b[0;32mor\u001b[0m \u001b[0misinstance\u001b[0m\u001b[0;34m(\u001b[0m\u001b[0mschema\u001b[0m\u001b[0;34m,\u001b[0m \u001b[0;34m(\u001b[0m\u001b[0mlist\u001b[0m\u001b[0;34m,\u001b[0m \u001b[0mtuple\u001b[0m\u001b[0;34m)\u001b[0m\u001b[0;34m)\u001b[0m\u001b[0;34m:\u001b[0m\u001b[0;34m\u001b[0m\u001b[0;34m\u001b[0m\u001b[0m\n\u001b[0;32m--> 422\u001b[0;31m             \u001b[0mstruct\u001b[0m \u001b[0;34m=\u001b[0m \u001b[0mself\u001b[0m\u001b[0;34m.\u001b[0m\u001b[0m_inferSchema\u001b[0m\u001b[0;34m(\u001b[0m\u001b[0mrdd\u001b[0m\u001b[0;34m,\u001b[0m \u001b[0msamplingRatio\u001b[0m\u001b[0;34m,\u001b[0m \u001b[0mnames\u001b[0m\u001b[0;34m=\u001b[0m\u001b[0mschema\u001b[0m\u001b[0;34m)\u001b[0m\u001b[0;34m\u001b[0m\u001b[0;34m\u001b[0m\u001b[0m\n\u001b[0m\u001b[1;32m    423\u001b[0m             \u001b[0mconverter\u001b[0m \u001b[0;34m=\u001b[0m \u001b[0m_create_converter\u001b[0m\u001b[0;34m(\u001b[0m\u001b[0mstruct\u001b[0m\u001b[0;34m)\u001b[0m\u001b[0;34m\u001b[0m\u001b[0;34m\u001b[0m\u001b[0m\n\u001b[1;32m    424\u001b[0m             \u001b[0mrdd\u001b[0m \u001b[0;34m=\u001b[0m \u001b[0mrdd\u001b[0m\u001b[0;34m.\u001b[0m\u001b[0mmap\u001b[0m\u001b[0;34m(\u001b[0m\u001b[0mconverter\u001b[0m\u001b[0;34m)\u001b[0m\u001b[0;34m\u001b[0m\u001b[0;34m\u001b[0m\u001b[0m\n",
            "\u001b[0;32m/content/spark-3.0.0-bin-hadoop3.2/python/pyspark/sql/session.py\u001b[0m in \u001b[0;36m_inferSchema\u001b[0;34m(self, rdd, samplingRatio, names)\u001b[0m\n\u001b[1;32m    400\u001b[0m \u001b[0;34m\u001b[0m\u001b[0m\n\u001b[1;32m    401\u001b[0m         \u001b[0;32mif\u001b[0m \u001b[0msamplingRatio\u001b[0m \u001b[0;32mis\u001b[0m \u001b[0;32mNone\u001b[0m\u001b[0;34m:\u001b[0m\u001b[0;34m\u001b[0m\u001b[0;34m\u001b[0m\u001b[0m\n\u001b[0;32m--> 402\u001b[0;31m             \u001b[0mschema\u001b[0m \u001b[0;34m=\u001b[0m \u001b[0m_infer_schema\u001b[0m\u001b[0;34m(\u001b[0m\u001b[0mfirst\u001b[0m\u001b[0;34m,\u001b[0m \u001b[0mnames\u001b[0m\u001b[0;34m=\u001b[0m\u001b[0mnames\u001b[0m\u001b[0;34m)\u001b[0m\u001b[0;34m\u001b[0m\u001b[0;34m\u001b[0m\u001b[0m\n\u001b[0m\u001b[1;32m    403\u001b[0m             \u001b[0;32mif\u001b[0m \u001b[0m_has_nulltype\u001b[0m\u001b[0;34m(\u001b[0m\u001b[0mschema\u001b[0m\u001b[0;34m)\u001b[0m\u001b[0;34m:\u001b[0m\u001b[0;34m\u001b[0m\u001b[0;34m\u001b[0m\u001b[0m\n\u001b[1;32m    404\u001b[0m                 \u001b[0;32mfor\u001b[0m \u001b[0mrow\u001b[0m \u001b[0;32min\u001b[0m \u001b[0mrdd\u001b[0m\u001b[0;34m.\u001b[0m\u001b[0mtake\u001b[0m\u001b[0;34m(\u001b[0m\u001b[0;36m100\u001b[0m\u001b[0;34m)\u001b[0m\u001b[0;34m[\u001b[0m\u001b[0;36m1\u001b[0m\u001b[0;34m:\u001b[0m\u001b[0;34m]\u001b[0m\u001b[0;34m:\u001b[0m\u001b[0;34m\u001b[0m\u001b[0;34m\u001b[0m\u001b[0m\n",
            "\u001b[0;32m/content/spark-3.0.0-bin-hadoop3.2/python/pyspark/sql/types.py\u001b[0m in \u001b[0;36m_infer_schema\u001b[0;34m(row, names)\u001b[0m\n\u001b[1;32m   1065\u001b[0m \u001b[0;34m\u001b[0m\u001b[0m\n\u001b[1;32m   1066\u001b[0m     \u001b[0;32melse\u001b[0m\u001b[0;34m:\u001b[0m\u001b[0;34m\u001b[0m\u001b[0;34m\u001b[0m\u001b[0m\n\u001b[0;32m-> 1067\u001b[0;31m         \u001b[0;32mraise\u001b[0m \u001b[0mTypeError\u001b[0m\u001b[0;34m(\u001b[0m\u001b[0;34m\"Can not infer schema for type: %s\"\u001b[0m \u001b[0;34m%\u001b[0m \u001b[0mtype\u001b[0m\u001b[0;34m(\u001b[0m\u001b[0mrow\u001b[0m\u001b[0;34m)\u001b[0m\u001b[0;34m)\u001b[0m\u001b[0;34m\u001b[0m\u001b[0;34m\u001b[0m\u001b[0m\n\u001b[0m\u001b[1;32m   1068\u001b[0m \u001b[0;34m\u001b[0m\u001b[0m\n\u001b[1;32m   1069\u001b[0m     \u001b[0mfields\u001b[0m \u001b[0;34m=\u001b[0m \u001b[0;34m[\u001b[0m\u001b[0mStructField\u001b[0m\u001b[0;34m(\u001b[0m\u001b[0mk\u001b[0m\u001b[0;34m,\u001b[0m \u001b[0m_infer_type\u001b[0m\u001b[0;34m(\u001b[0m\u001b[0mv\u001b[0m\u001b[0;34m)\u001b[0m\u001b[0;34m,\u001b[0m \u001b[0;32mTrue\u001b[0m\u001b[0;34m)\u001b[0m \u001b[0;32mfor\u001b[0m \u001b[0mk\u001b[0m\u001b[0;34m,\u001b[0m \u001b[0mv\u001b[0m \u001b[0;32min\u001b[0m \u001b[0mitems\u001b[0m\u001b[0;34m]\u001b[0m\u001b[0;34m\u001b[0m\u001b[0;34m\u001b[0m\u001b[0m\n",
            "\u001b[0;31mTypeError\u001b[0m: Can not infer schema for type: <class 'str'>"
          ]
        }
      ]
    },
    {
      "cell_type": "code",
      "source": [
        "nsw_temp.groupBy().avg('max_temp')"
      ],
      "metadata": {
        "colab": {
          "base_uri": "https://localhost:8080/",
          "height": 246
        },
        "id": "5wKfsP7fVAFx",
        "outputId": "44460b2e-41b6-4c67-a4a7-eda353d25481"
      },
      "execution_count": null,
      "outputs": [
        {
          "output_type": "error",
          "ename": "AnalysisException",
          "evalue": "ignored",
          "traceback": [
            "\u001b[0;31m---------------------------------------------------------------------------\u001b[0m",
            "\u001b[0;31mAnalysisException\u001b[0m                         Traceback (most recent call last)",
            "\u001b[0;32m<ipython-input-134-108eed8aafbe>\u001b[0m in \u001b[0;36m<module>\u001b[0;34m\u001b[0m\n\u001b[0;32m----> 1\u001b[0;31m \u001b[0mnsw_temp\u001b[0m\u001b[0;34m.\u001b[0m\u001b[0mgroupBy\u001b[0m\u001b[0;34m(\u001b[0m\u001b[0;34m)\u001b[0m\u001b[0;34m.\u001b[0m\u001b[0mavg\u001b[0m\u001b[0;34m(\u001b[0m\u001b[0;34m'max_temp'\u001b[0m\u001b[0;34m)\u001b[0m\u001b[0;34m\u001b[0m\u001b[0;34m\u001b[0m\u001b[0m\n\u001b[0m",
            "\u001b[0;32m/content/spark-3.0.0-bin-hadoop3.2/python/pyspark/sql/group.py\u001b[0m in \u001b[0;36m_api\u001b[0;34m(self, *cols)\u001b[0m\n\u001b[1;32m     41\u001b[0m     \u001b[0;32mdef\u001b[0m \u001b[0m_api\u001b[0m\u001b[0;34m(\u001b[0m\u001b[0mself\u001b[0m\u001b[0;34m,\u001b[0m \u001b[0;34m*\u001b[0m\u001b[0mcols\u001b[0m\u001b[0;34m)\u001b[0m\u001b[0;34m:\u001b[0m\u001b[0;34m\u001b[0m\u001b[0;34m\u001b[0m\u001b[0m\n\u001b[1;32m     42\u001b[0m         \u001b[0mname\u001b[0m \u001b[0;34m=\u001b[0m \u001b[0mf\u001b[0m\u001b[0;34m.\u001b[0m\u001b[0m__name__\u001b[0m\u001b[0;34m\u001b[0m\u001b[0;34m\u001b[0m\u001b[0m\n\u001b[0;32m---> 43\u001b[0;31m         \u001b[0mjdf\u001b[0m \u001b[0;34m=\u001b[0m \u001b[0mgetattr\u001b[0m\u001b[0;34m(\u001b[0m\u001b[0mself\u001b[0m\u001b[0;34m.\u001b[0m\u001b[0m_jgd\u001b[0m\u001b[0;34m,\u001b[0m \u001b[0mname\u001b[0m\u001b[0;34m)\u001b[0m\u001b[0;34m(\u001b[0m\u001b[0m_to_seq\u001b[0m\u001b[0;34m(\u001b[0m\u001b[0mself\u001b[0m\u001b[0;34m.\u001b[0m\u001b[0msql_ctx\u001b[0m\u001b[0;34m.\u001b[0m\u001b[0m_sc\u001b[0m\u001b[0;34m,\u001b[0m \u001b[0mcols\u001b[0m\u001b[0;34m)\u001b[0m\u001b[0;34m)\u001b[0m\u001b[0;34m\u001b[0m\u001b[0;34m\u001b[0m\u001b[0m\n\u001b[0m\u001b[1;32m     44\u001b[0m         \u001b[0;32mreturn\u001b[0m \u001b[0mDataFrame\u001b[0m\u001b[0;34m(\u001b[0m\u001b[0mjdf\u001b[0m\u001b[0;34m,\u001b[0m \u001b[0mself\u001b[0m\u001b[0;34m.\u001b[0m\u001b[0msql_ctx\u001b[0m\u001b[0;34m)\u001b[0m\u001b[0;34m\u001b[0m\u001b[0;34m\u001b[0m\u001b[0m\n\u001b[1;32m     45\u001b[0m     \u001b[0m_api\u001b[0m\u001b[0;34m.\u001b[0m\u001b[0m__name__\u001b[0m \u001b[0;34m=\u001b[0m \u001b[0mf\u001b[0m\u001b[0;34m.\u001b[0m\u001b[0m__name__\u001b[0m\u001b[0;34m\u001b[0m\u001b[0;34m\u001b[0m\u001b[0m\n",
            "\u001b[0;32m/content/spark-3.0.0-bin-hadoop3.2/python/lib/py4j-0.10.9-src.zip/py4j/java_gateway.py\u001b[0m in \u001b[0;36m__call__\u001b[0;34m(self, *args)\u001b[0m\n\u001b[1;32m   1302\u001b[0m \u001b[0;34m\u001b[0m\u001b[0m\n\u001b[1;32m   1303\u001b[0m         \u001b[0manswer\u001b[0m \u001b[0;34m=\u001b[0m \u001b[0mself\u001b[0m\u001b[0;34m.\u001b[0m\u001b[0mgateway_client\u001b[0m\u001b[0;34m.\u001b[0m\u001b[0msend_command\u001b[0m\u001b[0;34m(\u001b[0m\u001b[0mcommand\u001b[0m\u001b[0;34m)\u001b[0m\u001b[0;34m\u001b[0m\u001b[0;34m\u001b[0m\u001b[0m\n\u001b[0;32m-> 1304\u001b[0;31m         return_value = get_return_value(\n\u001b[0m\u001b[1;32m   1305\u001b[0m             answer, self.gateway_client, self.target_id, self.name)\n\u001b[1;32m   1306\u001b[0m \u001b[0;34m\u001b[0m\u001b[0m\n",
            "\u001b[0;32m/content/spark-3.0.0-bin-hadoop3.2/python/pyspark/sql/utils.py\u001b[0m in \u001b[0;36mdeco\u001b[0;34m(*a, **kw)\u001b[0m\n\u001b[1;32m    135\u001b[0m                 \u001b[0;31m# Hide where the exception came from that shows a non-Pythonic\u001b[0m\u001b[0;34m\u001b[0m\u001b[0;34m\u001b[0m\u001b[0;34m\u001b[0m\u001b[0m\n\u001b[1;32m    136\u001b[0m                 \u001b[0;31m# JVM exception message.\u001b[0m\u001b[0;34m\u001b[0m\u001b[0;34m\u001b[0m\u001b[0;34m\u001b[0m\u001b[0m\n\u001b[0;32m--> 137\u001b[0;31m                 \u001b[0mraise_from\u001b[0m\u001b[0;34m(\u001b[0m\u001b[0mconverted\u001b[0m\u001b[0;34m)\u001b[0m\u001b[0;34m\u001b[0m\u001b[0;34m\u001b[0m\u001b[0m\n\u001b[0m\u001b[1;32m    138\u001b[0m             \u001b[0;32melse\u001b[0m\u001b[0;34m:\u001b[0m\u001b[0;34m\u001b[0m\u001b[0;34m\u001b[0m\u001b[0m\n\u001b[1;32m    139\u001b[0m                 \u001b[0;32mraise\u001b[0m\u001b[0;34m\u001b[0m\u001b[0;34m\u001b[0m\u001b[0m\n",
            "\u001b[0;32m/content/spark-3.0.0-bin-hadoop3.2/python/pyspark/sql/utils.py\u001b[0m in \u001b[0;36mraise_from\u001b[0;34m(e)\u001b[0m\n",
            "\u001b[0;31mAnalysisException\u001b[0m: Cannot resolve column name \"max_temp\" among (Product code, Bureau of Meteorology station number, Year, Month, Day, Maximum temperature (Degree C), Days of accumulation of maximum temperature, Quality);"
          ]
        }
      ]
    },
    {
      "cell_type": "code",
      "source": [],
      "metadata": {
        "id": "Q2YZADHAVPk3"
      },
      "execution_count": null,
      "outputs": []
    }
  ]
}