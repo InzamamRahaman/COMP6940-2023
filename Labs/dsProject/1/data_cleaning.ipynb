{
 "cells": [
  {
   "cell_type": "code",
   "execution_count": 2,
   "outputs": [],
   "source": [
    "import pandas as pd # for dataframes\n",
    "from matplotlib import pyplot as plt # for simple plots\n",
    "import seaborn as sns # for slightly more complicated plots\n",
    "import numpy as np # for numerical computing and linear algebra data structures and algorithms\n",
    "from numba import jit # for JIT compilation facilties for improved efficiency"
   ],
   "metadata": {
    "collapsed": false,
    "pycharm": {
     "name": "#%%\n"
    }
   }
  },
  {
   "cell_type": "code",
   "execution_count": 3,
   "outputs": [],
   "source": [
    "# first let us clean some of the data that we just collected\n",
    "earthquakes = pd.read_csv('./data/earthquakes.csv')"
   ],
   "metadata": {
    "collapsed": false,
    "pycharm": {
     "name": "#%%\n"
    }
   }
  },
  {
   "cell_type": "code",
   "execution_count": 4,
   "outputs": [
    {
     "data": {
      "text/plain": "                                     title  magnitude  \\\n0  M 4.2 - 4 km NNE of Jayapura, Indonesia       4.20   \n1  M 3.6 - 103 km N of Suárez, Puerto Rico       3.62   \n2     M -0.8 - 85 km NNW of Karluk, Alaska      -0.76   \n3       M 0.6 - 10km NW of The Geysers, CA       0.57   \n4                                 M 2.3 -        2.28   \n\n                             place           time        long        lat  \n0  4 km NNE of Jayapura, Indonesia  1672617572846  140.727800  -2.490600  \n1  103 km N of Suárez, Puerto Rico  1672617413930  -65.725600  19.360100  \n2      85 km NNW of Karluk, Alaska  1672617277550 -155.180333  58.227500  \n3       10km NW of The Geysers, CA  1672617223560 -122.841500  38.844500  \n4                              NaN  1672617148580  -66.856500  17.884833  ",
      "text/html": "<div>\n<style scoped>\n    .dataframe tbody tr th:only-of-type {\n        vertical-align: middle;\n    }\n\n    .dataframe tbody tr th {\n        vertical-align: top;\n    }\n\n    .dataframe thead th {\n        text-align: right;\n    }\n</style>\n<table border=\"1\" class=\"dataframe\">\n  <thead>\n    <tr style=\"text-align: right;\">\n      <th></th>\n      <th>title</th>\n      <th>magnitude</th>\n      <th>place</th>\n      <th>time</th>\n      <th>long</th>\n      <th>lat</th>\n    </tr>\n  </thead>\n  <tbody>\n    <tr>\n      <th>0</th>\n      <td>M 4.2 - 4 km NNE of Jayapura, Indonesia</td>\n      <td>4.20</td>\n      <td>4 km NNE of Jayapura, Indonesia</td>\n      <td>1672617572846</td>\n      <td>140.727800</td>\n      <td>-2.490600</td>\n    </tr>\n    <tr>\n      <th>1</th>\n      <td>M 3.6 - 103 km N of Suárez, Puerto Rico</td>\n      <td>3.62</td>\n      <td>103 km N of Suárez, Puerto Rico</td>\n      <td>1672617413930</td>\n      <td>-65.725600</td>\n      <td>19.360100</td>\n    </tr>\n    <tr>\n      <th>2</th>\n      <td>M -0.8 - 85 km NNW of Karluk, Alaska</td>\n      <td>-0.76</td>\n      <td>85 km NNW of Karluk, Alaska</td>\n      <td>1672617277550</td>\n      <td>-155.180333</td>\n      <td>58.227500</td>\n    </tr>\n    <tr>\n      <th>3</th>\n      <td>M 0.6 - 10km NW of The Geysers, CA</td>\n      <td>0.57</td>\n      <td>10km NW of The Geysers, CA</td>\n      <td>1672617223560</td>\n      <td>-122.841500</td>\n      <td>38.844500</td>\n    </tr>\n    <tr>\n      <th>4</th>\n      <td>M 2.3 -</td>\n      <td>2.28</td>\n      <td>NaN</td>\n      <td>1672617148580</td>\n      <td>-66.856500</td>\n      <td>17.884833</td>\n    </tr>\n  </tbody>\n</table>\n</div>"
     },
     "execution_count": 4,
     "metadata": {},
     "output_type": "execute_result"
    }
   ],
   "source": [
    "earthquakes.head()"
   ],
   "metadata": {
    "collapsed": false,
    "pycharm": {
     "name": "#%%\n"
    }
   }
  },
  {
   "cell_type": "code",
   "execution_count": 8,
   "outputs": [
    {
     "data": {
      "text/plain": "0    M 4.2 - 4 km NNE of Jayapura, Indonesia\n1    M 3.6 - 103 km N of Suárez, Puerto Rico\n2       M -0.8 - 85 km NNW of Karluk, Alaska\n3         M 0.6 - 10km NW of The Geysers, CA\n4                                   M 2.3 - \nName: title, dtype: object"
     },
     "execution_count": 8,
     "metadata": {},
     "output_type": "execute_result"
    }
   ],
   "source": [
    "# access columns of pandas dataframe by indexing\n",
    "earthquakes['title'].head()"
   ],
   "metadata": {
    "collapsed": false,
    "pycharm": {
     "name": "#%%\n"
    }
   }
  },
  {
   "cell_type": "code",
   "execution_count": 9,
   "outputs": [
    {
     "data": {
      "text/plain": "                                     title  magnitude\n0  M 4.2 - 4 km NNE of Jayapura, Indonesia       4.20\n1  M 3.6 - 103 km N of Suárez, Puerto Rico       3.62\n2     M -0.8 - 85 km NNW of Karluk, Alaska      -0.76\n3       M 0.6 - 10km NW of The Geysers, CA       0.57\n4                                 M 2.3 -        2.28",
      "text/html": "<div>\n<style scoped>\n    .dataframe tbody tr th:only-of-type {\n        vertical-align: middle;\n    }\n\n    .dataframe tbody tr th {\n        vertical-align: top;\n    }\n\n    .dataframe thead th {\n        text-align: right;\n    }\n</style>\n<table border=\"1\" class=\"dataframe\">\n  <thead>\n    <tr style=\"text-align: right;\">\n      <th></th>\n      <th>title</th>\n      <th>magnitude</th>\n    </tr>\n  </thead>\n  <tbody>\n    <tr>\n      <th>0</th>\n      <td>M 4.2 - 4 km NNE of Jayapura, Indonesia</td>\n      <td>4.20</td>\n    </tr>\n    <tr>\n      <th>1</th>\n      <td>M 3.6 - 103 km N of Suárez, Puerto Rico</td>\n      <td>3.62</td>\n    </tr>\n    <tr>\n      <th>2</th>\n      <td>M -0.8 - 85 km NNW of Karluk, Alaska</td>\n      <td>-0.76</td>\n    </tr>\n    <tr>\n      <th>3</th>\n      <td>M 0.6 - 10km NW of The Geysers, CA</td>\n      <td>0.57</td>\n    </tr>\n    <tr>\n      <th>4</th>\n      <td>M 2.3 -</td>\n      <td>2.28</td>\n    </tr>\n  </tbody>\n</table>\n</div>"
     },
     "execution_count": 9,
     "metadata": {},
     "output_type": "execute_result"
    }
   ],
   "source": [
    "earthquakes[['title', 'magnitude']].head()"
   ],
   "metadata": {
    "collapsed": false,
    "pycharm": {
     "name": "#%%\n"
    }
   }
  },
  {
   "cell_type": "code",
   "execution_count": 10,
   "outputs": [
    {
     "data": {
      "text/plain": "title        M 4.2 - 4 km NNE of Jayapura, Indonesia\nmagnitude                                        4.2\nplace                4 km NNE of Jayapura, Indonesia\ntime                                   1672617572846\nlong                                        140.7278\nlat                                          -2.4906\nName: 0, dtype: object"
     },
     "execution_count": 10,
     "metadata": {},
     "output_type": "execute_result"
    }
   ],
   "source": [
    "# loc allows access by row index - we can change the row index, but by default is row number\n",
    "earthquakes.loc[0]"
   ],
   "metadata": {
    "collapsed": false,
    "pycharm": {
     "name": "#%%\n"
    }
   }
  },
  {
   "cell_type": "code",
   "execution_count": 11,
   "outputs": [
    {
     "data": {
      "text/plain": "time    1672617572846\nlong         140.7278\nName: 0, dtype: object"
     },
     "execution_count": 11,
     "metadata": {},
     "output_type": "execute_result"
    }
   ],
   "source": [
    "earthquakes.loc[0, ['time', 'long']] # can get more arbitrary slices as need be"
   ],
   "metadata": {
    "collapsed": false,
    "pycharm": {
     "name": "#%%\n"
    }
   }
  },
  {
   "cell_type": "code",
   "execution_count": 12,
   "outputs": [
    {
     "data": {
      "text/plain": "            time      long\n0  1672617572846  140.7278\n1  1672617413930  -65.7256",
      "text/html": "<div>\n<style scoped>\n    .dataframe tbody tr th:only-of-type {\n        vertical-align: middle;\n    }\n\n    .dataframe tbody tr th {\n        vertical-align: top;\n    }\n\n    .dataframe thead th {\n        text-align: right;\n    }\n</style>\n<table border=\"1\" class=\"dataframe\">\n  <thead>\n    <tr style=\"text-align: right;\">\n      <th></th>\n      <th>time</th>\n      <th>long</th>\n    </tr>\n  </thead>\n  <tbody>\n    <tr>\n      <th>0</th>\n      <td>1672617572846</td>\n      <td>140.7278</td>\n    </tr>\n    <tr>\n      <th>1</th>\n      <td>1672617413930</td>\n      <td>-65.7256</td>\n    </tr>\n  </tbody>\n</table>\n</div>"
     },
     "execution_count": 12,
     "metadata": {},
     "output_type": "execute_result"
    }
   ],
   "source": [
    "earthquakes.loc[[0, 1], ['time', 'long']]"
   ],
   "metadata": {
    "collapsed": false,
    "pycharm": {
     "name": "#%%\n"
    }
   }
  },
  {
   "cell_type": "code",
   "execution_count": 13,
   "outputs": [
    {
     "data": {
      "text/plain": "0      8.40\n1      7.24\n2     -1.52\n3      1.14\n4      4.56\n       ... \n332    1.68\n333    3.40\n334    2.40\n335    1.38\n336    0.18\nName: magnitude, Length: 337, dtype: float64"
     },
     "execution_count": 13,
     "metadata": {},
     "output_type": "execute_result"
    }
   ],
   "source": [
    "# can perform operations on all rows of column through vectorization\n",
    "earthquakes['magnitude'] * 2"
   ],
   "metadata": {
    "collapsed": false,
    "pycharm": {
     "name": "#%%\n"
    }
   }
  },
  {
   "cell_type": "code",
   "execution_count": 14,
   "outputs": [],
   "source": [
    "# useful for filtering\n",
    "above_5 = earthquakes['magnitude'] > 5\n",
    "earthquakes_above_5 = earthquakes[above_5]"
   ],
   "metadata": {
    "collapsed": false,
    "pycharm": {
     "name": "#%%\n"
    }
   }
  },
  {
   "cell_type": "code",
   "execution_count": 15,
   "outputs": [
    {
     "data": {
      "text/plain": "                                             title  magnitude  \\\n83                 M 5.4 - 15km SE of Rio Dell, CA       5.35   \n87              M 5.8 - southern East Pacific Rise       5.80   \n88          M 5.5 - 10 km E of Jayapura, Indonesia       5.50   \n122              M 5.3 - south of the Fiji Islands       5.30   \n247          M 5.2 - South Sandwich Islands region       5.20   \n301  M 5.4 - Bougainville region, Papua New Guinea       5.40   \n\n                                     place           time      long      lat  \n83                 15km SE of Rio Dell, CA  1672598104510 -123.9710  40.4090  \n87              southern East Pacific Rise  1672597602715 -123.4337 -56.2046  \n88          10 km E of Jayapura, Indonesia  1672597469990  140.8085  -2.5298  \n122              south of the Fiji Islands  1672590266828  178.5519 -25.1974  \n247          South Sandwich Islands region  1672556581555  -25.5621 -58.8341  \n301  Bougainville region, Papua New Guinea  1672542976153  155.1723  -6.6469  ",
      "text/html": "<div>\n<style scoped>\n    .dataframe tbody tr th:only-of-type {\n        vertical-align: middle;\n    }\n\n    .dataframe tbody tr th {\n        vertical-align: top;\n    }\n\n    .dataframe thead th {\n        text-align: right;\n    }\n</style>\n<table border=\"1\" class=\"dataframe\">\n  <thead>\n    <tr style=\"text-align: right;\">\n      <th></th>\n      <th>title</th>\n      <th>magnitude</th>\n      <th>place</th>\n      <th>time</th>\n      <th>long</th>\n      <th>lat</th>\n    </tr>\n  </thead>\n  <tbody>\n    <tr>\n      <th>83</th>\n      <td>M 5.4 - 15km SE of Rio Dell, CA</td>\n      <td>5.35</td>\n      <td>15km SE of Rio Dell, CA</td>\n      <td>1672598104510</td>\n      <td>-123.9710</td>\n      <td>40.4090</td>\n    </tr>\n    <tr>\n      <th>87</th>\n      <td>M 5.8 - southern East Pacific Rise</td>\n      <td>5.80</td>\n      <td>southern East Pacific Rise</td>\n      <td>1672597602715</td>\n      <td>-123.4337</td>\n      <td>-56.2046</td>\n    </tr>\n    <tr>\n      <th>88</th>\n      <td>M 5.5 - 10 km E of Jayapura, Indonesia</td>\n      <td>5.50</td>\n      <td>10 km E of Jayapura, Indonesia</td>\n      <td>1672597469990</td>\n      <td>140.8085</td>\n      <td>-2.5298</td>\n    </tr>\n    <tr>\n      <th>122</th>\n      <td>M 5.3 - south of the Fiji Islands</td>\n      <td>5.30</td>\n      <td>south of the Fiji Islands</td>\n      <td>1672590266828</td>\n      <td>178.5519</td>\n      <td>-25.1974</td>\n    </tr>\n    <tr>\n      <th>247</th>\n      <td>M 5.2 - South Sandwich Islands region</td>\n      <td>5.20</td>\n      <td>South Sandwich Islands region</td>\n      <td>1672556581555</td>\n      <td>-25.5621</td>\n      <td>-58.8341</td>\n    </tr>\n    <tr>\n      <th>301</th>\n      <td>M 5.4 - Bougainville region, Papua New Guinea</td>\n      <td>5.40</td>\n      <td>Bougainville region, Papua New Guinea</td>\n      <td>1672542976153</td>\n      <td>155.1723</td>\n      <td>-6.6469</td>\n    </tr>\n  </tbody>\n</table>\n</div>"
     },
     "execution_count": 15,
     "metadata": {},
     "output_type": "execute_result"
    }
   ],
   "source": [
    "earthquakes_above_5"
   ],
   "metadata": {
    "collapsed": false,
    "pycharm": {
     "name": "#%%\n"
    }
   }
  },
  {
   "cell_type": "code",
   "execution_count": 5,
   "outputs": [
    {
     "data": {
      "text/plain": "title         object\nmagnitude    float64\nplace         object\ntime           int64\nlong         float64\nlat          float64\ndtype: object"
     },
     "execution_count": 5,
     "metadata": {},
     "output_type": "execute_result"
    }
   ],
   "source": [
    "# one of the fist things to do with a dataframe is to check the types\n",
    "earthquakes.dtypes"
   ],
   "metadata": {
    "collapsed": false,
    "pycharm": {
     "name": "#%%\n"
    }
   }
  },
  {
   "cell_type": "code",
   "execution_count": 6,
   "outputs": [],
   "source": [
    "# all of the types above seem appropriate, so have little to correct there. After checking types, it is useful to check the missing values\n",
    "def produce_missing_report(df):\n",
    "    percent_missing = df.isnull().sum() * 100 / len(df)\n",
    "    missing_value_df = pd.DataFrame({'column_name': df.columns,\n",
    "                                     'percent_missing': percent_missing})\n",
    "    return missing_value_df"
   ],
   "metadata": {
    "collapsed": false,
    "pycharm": {
     "name": "#%%\n"
    }
   }
  },
  {
   "cell_type": "code",
   "execution_count": 7,
   "outputs": [
    {
     "data": {
      "text/plain": "          column_name  percent_missing\ntitle           title         0.000000\nmagnitude   magnitude         0.296736\nplace           place         6.528190\ntime             time         0.000000\nlong             long         0.000000\nlat               lat         0.000000",
      "text/html": "<div>\n<style scoped>\n    .dataframe tbody tr th:only-of-type {\n        vertical-align: middle;\n    }\n\n    .dataframe tbody tr th {\n        vertical-align: top;\n    }\n\n    .dataframe thead th {\n        text-align: right;\n    }\n</style>\n<table border=\"1\" class=\"dataframe\">\n  <thead>\n    <tr style=\"text-align: right;\">\n      <th></th>\n      <th>column_name</th>\n      <th>percent_missing</th>\n    </tr>\n  </thead>\n  <tbody>\n    <tr>\n      <th>title</th>\n      <td>title</td>\n      <td>0.000000</td>\n    </tr>\n    <tr>\n      <th>magnitude</th>\n      <td>magnitude</td>\n      <td>0.296736</td>\n    </tr>\n    <tr>\n      <th>place</th>\n      <td>place</td>\n      <td>6.528190</td>\n    </tr>\n    <tr>\n      <th>time</th>\n      <td>time</td>\n      <td>0.000000</td>\n    </tr>\n    <tr>\n      <th>long</th>\n      <td>long</td>\n      <td>0.000000</td>\n    </tr>\n    <tr>\n      <th>lat</th>\n      <td>lat</td>\n      <td>0.000000</td>\n    </tr>\n  </tbody>\n</table>\n</div>"
     },
     "execution_count": 7,
     "metadata": {},
     "output_type": "execute_result"
    }
   ],
   "source": [
    "produce_missing_report(earthquakes)"
   ],
   "metadata": {
    "collapsed": false,
    "pycharm": {
     "name": "#%%\n"
    }
   }
  },
  {
   "cell_type": "code",
   "execution_count": 27,
   "outputs": [],
   "source": [
    "# whether we drop rows or columns with missing values is domain and problem dependent. Suppose that we want to analyse earthquake magnitudes within countries\n",
    "# hence, rows without magnitude and places hold no value - we can drop them\n",
    "\n",
    "missing_magnitude = earthquakes['magnitude'].isnull() # get rows with magnitude is null\n",
    "missing_place = earthquakes['place'].isnull() # get rows with place is null\n",
    "at_least_one_missing = missing_magnitude | missing_place\n",
    "earthquakes_cleaned = earthquakes[~at_least_one_missing] # ~ operation is boolean negation"
   ],
   "metadata": {
    "collapsed": false,
    "pycharm": {
     "name": "#%%\n"
    }
   }
  },
  {
   "cell_type": "code",
   "execution_count": 28,
   "outputs": [
    {
     "name": "stdout",
     "output_type": "stream",
     "text": [
      "2023-01-01 14:35:04.510000\n"
     ]
    }
   ],
   "source": [
    "# suppose that we want to convert timestamp to actual time? Can use datetime function\n",
    "from datetime import datetime\n",
    "dt = datetime.fromtimestamp(1672598104510 / 1000)\n",
    "print(dt)"
   ],
   "metadata": {
    "collapsed": false,
    "pycharm": {
     "name": "#%%\n"
    }
   }
  },
  {
   "cell_type": "code",
   "execution_count": 29,
   "outputs": [
    {
     "data": {
      "text/plain": "14"
     },
     "execution_count": 29,
     "metadata": {},
     "output_type": "execute_result"
    }
   ],
   "source": [
    "dt.hour"
   ],
   "metadata": {
    "collapsed": false,
    "pycharm": {
     "name": "#%%\n"
    }
   }
  },
  {
   "cell_type": "code",
   "execution_count": 30,
   "outputs": [],
   "source": [
    "def get_hour(timestamp):\n",
    "    dt = datetime.fromtimestamp(timestamp / 1000)\n",
    "    return dt.hour"
   ],
   "metadata": {
    "collapsed": false,
    "pycharm": {
     "name": "#%%\n"
    }
   }
  },
  {
   "cell_type": "code",
   "execution_count": 31,
   "outputs": [
    {
     "name": "stderr",
     "output_type": "stream",
     "text": [
      "/var/folders/ry/rldp3n656rzcztkx2086tz2c0000gn/T/ipykernel_59188/1237606570.py:2: SettingWithCopyWarning: \n",
      "A value is trying to be set on a copy of a slice from a DataFrame.\n",
      "Try using .loc[row_indexer,col_indexer] = value instead\n",
      "\n",
      "See the caveats in the documentation: https://pandas.pydata.org/pandas-docs/stable/user_guide/indexing.html#returning-a-view-versus-a-copy\n",
      "  earthquakes_cleaned['hour'] = earthquakes_cleaned['time'].apply(get_hour)\n"
     ]
    }
   ],
   "source": [
    "# our get_hour function is not inherently vectorized, so we can apply to each row using apply method on dataframe\n",
    "earthquakes_cleaned['hour'] = earthquakes_cleaned['time'].apply(get_hour)"
   ],
   "metadata": {
    "collapsed": false,
    "pycharm": {
     "name": "#%%\n"
    }
   }
  },
  {
   "cell_type": "code",
   "execution_count": 32,
   "outputs": [
    {
     "data": {
      "text/plain": "                                     title  magnitude  \\\n0  M 4.2 - 4 km NNE of Jayapura, Indonesia       4.20   \n1  M 3.6 - 103 km N of Suárez, Puerto Rico       3.62   \n2     M -0.8 - 85 km NNW of Karluk, Alaska      -0.76   \n3       M 0.6 - 10km NW of The Geysers, CA       0.57   \n5           M 1.2 - 3km NNW of Fontana, CA       1.20   \n\n                             place           time        long      lat  hour  \n0  4 km NNE of Jayapura, Indonesia  1672617572846  140.727800  -2.4906    19  \n1  103 km N of Suárez, Puerto Rico  1672617413930  -65.725600  19.3601    19  \n2      85 km NNW of Karluk, Alaska  1672617277550 -155.180333  58.2275    19  \n3       10km NW of The Geysers, CA  1672617223560 -122.841500  38.8445    19  \n5           3km NNW of Fontana, CA  1672616861690 -117.470833  34.1210    19  ",
      "text/html": "<div>\n<style scoped>\n    .dataframe tbody tr th:only-of-type {\n        vertical-align: middle;\n    }\n\n    .dataframe tbody tr th {\n        vertical-align: top;\n    }\n\n    .dataframe thead th {\n        text-align: right;\n    }\n</style>\n<table border=\"1\" class=\"dataframe\">\n  <thead>\n    <tr style=\"text-align: right;\">\n      <th></th>\n      <th>title</th>\n      <th>magnitude</th>\n      <th>place</th>\n      <th>time</th>\n      <th>long</th>\n      <th>lat</th>\n      <th>hour</th>\n    </tr>\n  </thead>\n  <tbody>\n    <tr>\n      <th>0</th>\n      <td>M 4.2 - 4 km NNE of Jayapura, Indonesia</td>\n      <td>4.20</td>\n      <td>4 km NNE of Jayapura, Indonesia</td>\n      <td>1672617572846</td>\n      <td>140.727800</td>\n      <td>-2.4906</td>\n      <td>19</td>\n    </tr>\n    <tr>\n      <th>1</th>\n      <td>M 3.6 - 103 km N of Suárez, Puerto Rico</td>\n      <td>3.62</td>\n      <td>103 km N of Suárez, Puerto Rico</td>\n      <td>1672617413930</td>\n      <td>-65.725600</td>\n      <td>19.3601</td>\n      <td>19</td>\n    </tr>\n    <tr>\n      <th>2</th>\n      <td>M -0.8 - 85 km NNW of Karluk, Alaska</td>\n      <td>-0.76</td>\n      <td>85 km NNW of Karluk, Alaska</td>\n      <td>1672617277550</td>\n      <td>-155.180333</td>\n      <td>58.2275</td>\n      <td>19</td>\n    </tr>\n    <tr>\n      <th>3</th>\n      <td>M 0.6 - 10km NW of The Geysers, CA</td>\n      <td>0.57</td>\n      <td>10km NW of The Geysers, CA</td>\n      <td>1672617223560</td>\n      <td>-122.841500</td>\n      <td>38.8445</td>\n      <td>19</td>\n    </tr>\n    <tr>\n      <th>5</th>\n      <td>M 1.2 - 3km NNW of Fontana, CA</td>\n      <td>1.20</td>\n      <td>3km NNW of Fontana, CA</td>\n      <td>1672616861690</td>\n      <td>-117.470833</td>\n      <td>34.1210</td>\n      <td>19</td>\n    </tr>\n  </tbody>\n</table>\n</div>"
     },
     "execution_count": 32,
     "metadata": {},
     "output_type": "execute_result"
    }
   ],
   "source": [
    "earthquakes_cleaned.head()"
   ],
   "metadata": {
    "collapsed": false,
    "pycharm": {
     "name": "#%%\n"
    }
   }
  },
  {
   "cell_type": "code",
   "execution_count": 39,
   "outputs": [
    {
     "name": "stderr",
     "output_type": "stream",
     "text": [
      "/var/folders/ry/rldp3n656rzcztkx2086tz2c0000gn/T/ipykernel_59188/2424879410.py:7: SettingWithCopyWarning: \n",
      "A value is trying to be set on a copy of a slice from a DataFrame.\n",
      "Try using .loc[row_indexer,col_indexer] = value instead\n",
      "\n",
      "See the caveats in the documentation: https://pandas.pydata.org/pandas-docs/stable/user_guide/indexing.html#returning-a-view-versus-a-copy\n",
      "  earthquakes_cleaned['country'] = earthquakes_cleaned['place'].apply(extract_country)\n"
     ]
    }
   ],
   "source": [
    "# place gives our country + extra info - but we just want country\n",
    "def extract_country(place):\n",
    "    components = place.split(',')\n",
    "    country = components[-1].strip()\n",
    "    return country\n",
    "\n",
    "earthquakes_cleaned['country'] = earthquakes_cleaned['place'].apply(extract_country)"
   ],
   "metadata": {
    "collapsed": false,
    "pycharm": {
     "name": "#%%\n"
    }
   }
  },
  {
   "cell_type": "code",
   "execution_count": 40,
   "outputs": [
    {
     "data": {
      "text/plain": "                                        title  magnitude  \\\n0     M 4.2 - 4 km NNE of Jayapura, Indonesia       4.20   \n1     M 3.6 - 103 km N of Suárez, Puerto Rico       3.62   \n2        M -0.8 - 85 km NNW of Karluk, Alaska      -0.76   \n3          M 0.6 - 10km NW of The Geysers, CA       0.57   \n5              M 1.2 - 3km NNW of Fontana, CA       1.20   \n..                                        ...        ...   \n332      M 0.8 - 14km N of Warner Springs, CA       0.84   \n333        M 1.7 - 31 km NE of Paxson, Alaska       1.70   \n334  M 1.2 - 7 km NNW of Meadow Lakes, Alaska       1.20   \n335        M 0.7 - 1km NNE of The Geysers, CA       0.69   \n336        M 0.1 - 1km NNE of The Geysers, CA       0.09   \n\n                                place           time        long        lat  \\\n0     4 km NNE of Jayapura, Indonesia  1672617572846  140.727800  -2.490600   \n1     103 km N of Suárez, Puerto Rico  1672617413930  -65.725600  19.360100   \n2         85 km NNW of Karluk, Alaska  1672617277550 -155.180333  58.227500   \n3          10km NW of The Geysers, CA  1672617223560 -122.841500  38.844500   \n5              3km NNW of Fontana, CA  1672616861690 -117.470833  34.121000   \n..                                ...            ...         ...        ...   \n332      14km N of Warner Springs, CA  1672533142630 -116.616833  33.408000   \n333        31 km NE of Paxson, Alaska  1672532746311 -145.178900  63.297000   \n334  7 km NNW of Meadow Lakes, Alaska  1672532015730 -149.669200  61.685400   \n335        1km NNE of The Geysers, CA  1672531625430 -122.754500  38.783500   \n336        1km NNE of The Geysers, CA  1672531574840 -122.753667  38.783667   \n\n     hour      country  \n0      19    Indonesia  \n1      19  Puerto Rico  \n2      19       Alaska  \n3      19           CA  \n5      19           CA  \n..    ...          ...  \n332    20           CA  \n333    20       Alaska  \n334    20       Alaska  \n335    20           CA  \n336    20           CA  \n\n[314 rows x 8 columns]",
      "text/html": "<div>\n<style scoped>\n    .dataframe tbody tr th:only-of-type {\n        vertical-align: middle;\n    }\n\n    .dataframe tbody tr th {\n        vertical-align: top;\n    }\n\n    .dataframe thead th {\n        text-align: right;\n    }\n</style>\n<table border=\"1\" class=\"dataframe\">\n  <thead>\n    <tr style=\"text-align: right;\">\n      <th></th>\n      <th>title</th>\n      <th>magnitude</th>\n      <th>place</th>\n      <th>time</th>\n      <th>long</th>\n      <th>lat</th>\n      <th>hour</th>\n      <th>country</th>\n    </tr>\n  </thead>\n  <tbody>\n    <tr>\n      <th>0</th>\n      <td>M 4.2 - 4 km NNE of Jayapura, Indonesia</td>\n      <td>4.20</td>\n      <td>4 km NNE of Jayapura, Indonesia</td>\n      <td>1672617572846</td>\n      <td>140.727800</td>\n      <td>-2.490600</td>\n      <td>19</td>\n      <td>Indonesia</td>\n    </tr>\n    <tr>\n      <th>1</th>\n      <td>M 3.6 - 103 km N of Suárez, Puerto Rico</td>\n      <td>3.62</td>\n      <td>103 km N of Suárez, Puerto Rico</td>\n      <td>1672617413930</td>\n      <td>-65.725600</td>\n      <td>19.360100</td>\n      <td>19</td>\n      <td>Puerto Rico</td>\n    </tr>\n    <tr>\n      <th>2</th>\n      <td>M -0.8 - 85 km NNW of Karluk, Alaska</td>\n      <td>-0.76</td>\n      <td>85 km NNW of Karluk, Alaska</td>\n      <td>1672617277550</td>\n      <td>-155.180333</td>\n      <td>58.227500</td>\n      <td>19</td>\n      <td>Alaska</td>\n    </tr>\n    <tr>\n      <th>3</th>\n      <td>M 0.6 - 10km NW of The Geysers, CA</td>\n      <td>0.57</td>\n      <td>10km NW of The Geysers, CA</td>\n      <td>1672617223560</td>\n      <td>-122.841500</td>\n      <td>38.844500</td>\n      <td>19</td>\n      <td>CA</td>\n    </tr>\n    <tr>\n      <th>5</th>\n      <td>M 1.2 - 3km NNW of Fontana, CA</td>\n      <td>1.20</td>\n      <td>3km NNW of Fontana, CA</td>\n      <td>1672616861690</td>\n      <td>-117.470833</td>\n      <td>34.121000</td>\n      <td>19</td>\n      <td>CA</td>\n    </tr>\n    <tr>\n      <th>...</th>\n      <td>...</td>\n      <td>...</td>\n      <td>...</td>\n      <td>...</td>\n      <td>...</td>\n      <td>...</td>\n      <td>...</td>\n      <td>...</td>\n    </tr>\n    <tr>\n      <th>332</th>\n      <td>M 0.8 - 14km N of Warner Springs, CA</td>\n      <td>0.84</td>\n      <td>14km N of Warner Springs, CA</td>\n      <td>1672533142630</td>\n      <td>-116.616833</td>\n      <td>33.408000</td>\n      <td>20</td>\n      <td>CA</td>\n    </tr>\n    <tr>\n      <th>333</th>\n      <td>M 1.7 - 31 km NE of Paxson, Alaska</td>\n      <td>1.70</td>\n      <td>31 km NE of Paxson, Alaska</td>\n      <td>1672532746311</td>\n      <td>-145.178900</td>\n      <td>63.297000</td>\n      <td>20</td>\n      <td>Alaska</td>\n    </tr>\n    <tr>\n      <th>334</th>\n      <td>M 1.2 - 7 km NNW of Meadow Lakes, Alaska</td>\n      <td>1.20</td>\n      <td>7 km NNW of Meadow Lakes, Alaska</td>\n      <td>1672532015730</td>\n      <td>-149.669200</td>\n      <td>61.685400</td>\n      <td>20</td>\n      <td>Alaska</td>\n    </tr>\n    <tr>\n      <th>335</th>\n      <td>M 0.7 - 1km NNE of The Geysers, CA</td>\n      <td>0.69</td>\n      <td>1km NNE of The Geysers, CA</td>\n      <td>1672531625430</td>\n      <td>-122.754500</td>\n      <td>38.783500</td>\n      <td>20</td>\n      <td>CA</td>\n    </tr>\n    <tr>\n      <th>336</th>\n      <td>M 0.1 - 1km NNE of The Geysers, CA</td>\n      <td>0.09</td>\n      <td>1km NNE of The Geysers, CA</td>\n      <td>1672531574840</td>\n      <td>-122.753667</td>\n      <td>38.783667</td>\n      <td>20</td>\n      <td>CA</td>\n    </tr>\n  </tbody>\n</table>\n<p>314 rows × 8 columns</p>\n</div>"
     },
     "execution_count": 40,
     "metadata": {},
     "output_type": "execute_result"
    }
   ],
   "source": [
    "earthquakes_cleaned"
   ],
   "metadata": {
    "collapsed": false,
    "pycharm": {
     "name": "#%%\n"
    }
   }
  },
  {
   "cell_type": "code",
   "execution_count": 41,
   "outputs": [
    {
     "data": {
      "text/plain": "Alaska                            111\nCA                                102\nHawaii                             24\nPuerto Rico                        15\nIndonesia                           6\nNevada                              5\nPuerto Rico region                  4\nTexas                               4\nAlaska Peninsula                    3\nPhilippines                         3\nNew Mexico                          2\nWashington                          2\nOklahoma                            2\nCentral Alaska                      2\nSouthern Alaska                     2\nPapua New Guinea                    2\nUtah                                1\nWyoming                             1\nsouth of the Fiji Islands           1\nCalifornia                          1\nChina                               1\nBay of Bengal                       1\nMissouri                            1\nSouth Sandwich Islands region       1\nnorthwest of the Kuril Islands      1\nAfghanistan                         1\nMexico                              1\nwestern Texas                       1\nVanuatu                             1\nsouthern East Pacific Rise          1\nAzores Islands region               1\nNorthern Mariana Islands            1\nPakistan                            1\nBolivia                             1\nJapan region                        1\nTajikistan                          1\nCanada                              1\nFiji region                         1\nDominican Republic                  1\nJapan                               1\nIdaho                               1\nName: country, dtype: int64"
     },
     "execution_count": 41,
     "metadata": {},
     "output_type": "execute_result"
    }
   ],
   "source": [
    "earthquakes_cleaned['country'].value_counts() # useful to get counts of categorical variables"
   ],
   "metadata": {
    "collapsed": false,
    "pycharm": {
     "name": "#%%\n"
    }
   }
  },
  {
   "cell_type": "code",
   "execution_count": 42,
   "outputs": [],
   "source": [
    "# we notice that US states are listed, and inconsistently - depending on the analysis, the state listing is fine, but not the inconsistency. Alaska is coming up a lot\n",
    "# there is a package called fuzzywuzzy that can help in much more complicated instances\n",
    "countries = set(earthquakes_cleaned['country'])"
   ],
   "metadata": {
    "collapsed": false,
    "pycharm": {
     "name": "#%%\n"
    }
   }
  },
  {
   "cell_type": "code",
   "execution_count": 43,
   "outputs": [
    {
     "data": {
      "text/plain": "{'Afghanistan',\n 'Alaska',\n 'Alaska Peninsula',\n 'Azores Islands region',\n 'Bay of Bengal',\n 'Bolivia',\n 'CA',\n 'California',\n 'Canada',\n 'Central Alaska',\n 'China',\n 'Dominican Republic',\n 'Fiji region',\n 'Hawaii',\n 'Idaho',\n 'Indonesia',\n 'Japan',\n 'Japan region',\n 'Mexico',\n 'Missouri',\n 'Nevada',\n 'New Mexico',\n 'Northern Mariana Islands',\n 'Oklahoma',\n 'Pakistan',\n 'Papua New Guinea',\n 'Philippines',\n 'Puerto Rico',\n 'Puerto Rico region',\n 'South Sandwich Islands region',\n 'Southern Alaska',\n 'Tajikistan',\n 'Texas',\n 'Utah',\n 'Vanuatu',\n 'Washington',\n 'Wyoming',\n 'northwest of the Kuril Islands',\n 'south of the Fiji Islands',\n 'southern East Pacific Rise',\n 'western Texas'}"
     },
     "execution_count": 43,
     "metadata": {},
     "output_type": "execute_result"
    }
   ],
   "source": [
    "countries"
   ],
   "metadata": {
    "collapsed": false,
    "pycharm": {
     "name": "#%%\n"
    }
   }
  },
  {
   "cell_type": "code",
   "execution_count": 44,
   "outputs": [
    {
     "name": "stderr",
     "output_type": "stream",
     "text": [
      "/var/folders/ry/rldp3n656rzcztkx2086tz2c0000gn/T/ipykernel_59188/1903179309.py:18: SettingWithCopyWarning: \n",
      "A value is trying to be set on a copy of a slice from a DataFrame.\n",
      "Try using .loc[row_indexer,col_indexer] = value instead\n",
      "\n",
      "See the caveats in the documentation: https://pandas.pydata.org/pandas-docs/stable/user_guide/indexing.html#returning-a-view-versus-a-copy\n",
      "  earthquakes_cleaned['country'] = earthquakes_cleaned['country'].apply(repair_countries)\n"
     ]
    }
   ],
   "source": [
    "# if contains Alaska then map to Alaska\n",
    "# map CA to California\n",
    "# if region, map to country instead - remove the word region\n",
    "# remove all words starting with common letters\n",
    "\n",
    "def repair_countries(country):\n",
    "    if 'Alaska' in country:\n",
    "        return 'Alaska'\n",
    "    if country == 'CA':\n",
    "        return 'California'\n",
    "    components = country.split()\n",
    "    corrected = []\n",
    "    for word in components:\n",
    "        if word[0] != word[0].lower():\n",
    "            corrected.append(word)\n",
    "    return ' '.join(corrected)\n",
    "\n",
    "earthquakes_cleaned['country'] = earthquakes_cleaned['country'].apply(repair_countries)"
   ],
   "metadata": {
    "collapsed": false,
    "pycharm": {
     "name": "#%%\n"
    }
   }
  },
  {
   "cell_type": "code",
   "execution_count": 45,
   "outputs": [
    {
     "data": {
      "text/plain": "                                        title  magnitude  \\\n0     M 4.2 - 4 km NNE of Jayapura, Indonesia       4.20   \n1     M 3.6 - 103 km N of Suárez, Puerto Rico       3.62   \n2        M -0.8 - 85 km NNW of Karluk, Alaska      -0.76   \n3          M 0.6 - 10km NW of The Geysers, CA       0.57   \n5              M 1.2 - 3km NNW of Fontana, CA       1.20   \n..                                        ...        ...   \n332      M 0.8 - 14km N of Warner Springs, CA       0.84   \n333        M 1.7 - 31 km NE of Paxson, Alaska       1.70   \n334  M 1.2 - 7 km NNW of Meadow Lakes, Alaska       1.20   \n335        M 0.7 - 1km NNE of The Geysers, CA       0.69   \n336        M 0.1 - 1km NNE of The Geysers, CA       0.09   \n\n                                place           time        long        lat  \\\n0     4 km NNE of Jayapura, Indonesia  1672617572846  140.727800  -2.490600   \n1     103 km N of Suárez, Puerto Rico  1672617413930  -65.725600  19.360100   \n2         85 km NNW of Karluk, Alaska  1672617277550 -155.180333  58.227500   \n3          10km NW of The Geysers, CA  1672617223560 -122.841500  38.844500   \n5              3km NNW of Fontana, CA  1672616861690 -117.470833  34.121000   \n..                                ...            ...         ...        ...   \n332      14km N of Warner Springs, CA  1672533142630 -116.616833  33.408000   \n333        31 km NE of Paxson, Alaska  1672532746311 -145.178900  63.297000   \n334  7 km NNW of Meadow Lakes, Alaska  1672532015730 -149.669200  61.685400   \n335        1km NNE of The Geysers, CA  1672531625430 -122.754500  38.783500   \n336        1km NNE of The Geysers, CA  1672531574840 -122.753667  38.783667   \n\n     hour      country  \n0      19    Indonesia  \n1      19  Puerto Rico  \n2      19       Alaska  \n3      19   California  \n5      19   California  \n..    ...          ...  \n332    20   California  \n333    20       Alaska  \n334    20       Alaska  \n335    20   California  \n336    20   California  \n\n[314 rows x 8 columns]",
      "text/html": "<div>\n<style scoped>\n    .dataframe tbody tr th:only-of-type {\n        vertical-align: middle;\n    }\n\n    .dataframe tbody tr th {\n        vertical-align: top;\n    }\n\n    .dataframe thead th {\n        text-align: right;\n    }\n</style>\n<table border=\"1\" class=\"dataframe\">\n  <thead>\n    <tr style=\"text-align: right;\">\n      <th></th>\n      <th>title</th>\n      <th>magnitude</th>\n      <th>place</th>\n      <th>time</th>\n      <th>long</th>\n      <th>lat</th>\n      <th>hour</th>\n      <th>country</th>\n    </tr>\n  </thead>\n  <tbody>\n    <tr>\n      <th>0</th>\n      <td>M 4.2 - 4 km NNE of Jayapura, Indonesia</td>\n      <td>4.20</td>\n      <td>4 km NNE of Jayapura, Indonesia</td>\n      <td>1672617572846</td>\n      <td>140.727800</td>\n      <td>-2.490600</td>\n      <td>19</td>\n      <td>Indonesia</td>\n    </tr>\n    <tr>\n      <th>1</th>\n      <td>M 3.6 - 103 km N of Suárez, Puerto Rico</td>\n      <td>3.62</td>\n      <td>103 km N of Suárez, Puerto Rico</td>\n      <td>1672617413930</td>\n      <td>-65.725600</td>\n      <td>19.360100</td>\n      <td>19</td>\n      <td>Puerto Rico</td>\n    </tr>\n    <tr>\n      <th>2</th>\n      <td>M -0.8 - 85 km NNW of Karluk, Alaska</td>\n      <td>-0.76</td>\n      <td>85 km NNW of Karluk, Alaska</td>\n      <td>1672617277550</td>\n      <td>-155.180333</td>\n      <td>58.227500</td>\n      <td>19</td>\n      <td>Alaska</td>\n    </tr>\n    <tr>\n      <th>3</th>\n      <td>M 0.6 - 10km NW of The Geysers, CA</td>\n      <td>0.57</td>\n      <td>10km NW of The Geysers, CA</td>\n      <td>1672617223560</td>\n      <td>-122.841500</td>\n      <td>38.844500</td>\n      <td>19</td>\n      <td>California</td>\n    </tr>\n    <tr>\n      <th>5</th>\n      <td>M 1.2 - 3km NNW of Fontana, CA</td>\n      <td>1.20</td>\n      <td>3km NNW of Fontana, CA</td>\n      <td>1672616861690</td>\n      <td>-117.470833</td>\n      <td>34.121000</td>\n      <td>19</td>\n      <td>California</td>\n    </tr>\n    <tr>\n      <th>...</th>\n      <td>...</td>\n      <td>...</td>\n      <td>...</td>\n      <td>...</td>\n      <td>...</td>\n      <td>...</td>\n      <td>...</td>\n      <td>...</td>\n    </tr>\n    <tr>\n      <th>332</th>\n      <td>M 0.8 - 14km N of Warner Springs, CA</td>\n      <td>0.84</td>\n      <td>14km N of Warner Springs, CA</td>\n      <td>1672533142630</td>\n      <td>-116.616833</td>\n      <td>33.408000</td>\n      <td>20</td>\n      <td>California</td>\n    </tr>\n    <tr>\n      <th>333</th>\n      <td>M 1.7 - 31 km NE of Paxson, Alaska</td>\n      <td>1.70</td>\n      <td>31 km NE of Paxson, Alaska</td>\n      <td>1672532746311</td>\n      <td>-145.178900</td>\n      <td>63.297000</td>\n      <td>20</td>\n      <td>Alaska</td>\n    </tr>\n    <tr>\n      <th>334</th>\n      <td>M 1.2 - 7 km NNW of Meadow Lakes, Alaska</td>\n      <td>1.20</td>\n      <td>7 km NNW of Meadow Lakes, Alaska</td>\n      <td>1672532015730</td>\n      <td>-149.669200</td>\n      <td>61.685400</td>\n      <td>20</td>\n      <td>Alaska</td>\n    </tr>\n    <tr>\n      <th>335</th>\n      <td>M 0.7 - 1km NNE of The Geysers, CA</td>\n      <td>0.69</td>\n      <td>1km NNE of The Geysers, CA</td>\n      <td>1672531625430</td>\n      <td>-122.754500</td>\n      <td>38.783500</td>\n      <td>20</td>\n      <td>California</td>\n    </tr>\n    <tr>\n      <th>336</th>\n      <td>M 0.1 - 1km NNE of The Geysers, CA</td>\n      <td>0.09</td>\n      <td>1km NNE of The Geysers, CA</td>\n      <td>1672531574840</td>\n      <td>-122.753667</td>\n      <td>38.783667</td>\n      <td>20</td>\n      <td>California</td>\n    </tr>\n  </tbody>\n</table>\n<p>314 rows × 8 columns</p>\n</div>"
     },
     "execution_count": 45,
     "metadata": {},
     "output_type": "execute_result"
    }
   ],
   "source": [
    "earthquakes_cleaned"
   ],
   "metadata": {
    "collapsed": false,
    "pycharm": {
     "name": "#%%\n"
    }
   }
  },
  {
   "cell_type": "code",
   "execution_count": 46,
   "outputs": [
    {
     "data": {
      "text/plain": "Alaska                      118\nCalifornia                  103\nHawaii                       24\nPuerto Rico                  19\nIndonesia                     6\nTexas                         5\nNevada                        5\nPhilippines                   3\nOklahoma                      2\nJapan                         2\nPapua New Guinea              2\nWashington                    2\nNew Mexico                    2\nMissouri                      1\nChina                         1\nSouth Sandwich Islands        1\nUtah                          1\nFiji Islands                  1\nWyoming                       1\nAfghanistan                   1\nBay Bengal                    1\nKuril Islands                 1\nMexico                        1\nVanuatu                       1\nEast Pacific Rise             1\nAzores Islands                1\nNorthern Mariana Islands      1\nPakistan                      1\nBolivia                       1\nTajikistan                    1\nCanada                        1\nFiji                          1\nDominican Republic            1\nIdaho                         1\nName: country, dtype: int64"
     },
     "execution_count": 46,
     "metadata": {},
     "output_type": "execute_result"
    }
   ],
   "source": [
    "earthquakes_cleaned['country'].value_counts()"
   ],
   "metadata": {
    "collapsed": false,
    "pycharm": {
     "name": "#%%\n"
    }
   }
  },
  {
   "cell_type": "code",
   "execution_count": 51,
   "outputs": [],
   "source": [
    "# now that the data is cleaned for our analysis, we can save it in a appropriate format\n",
    "# we can use CSVs, but we can also use formats such as .feather\n",
    "earthquakes_cleaned.reset_index().to_feather('./data/earthquakes_cleaned.feather')"
   ],
   "metadata": {
    "collapsed": false,
    "pycharm": {
     "name": "#%%\n"
    }
   }
  },
  {
   "cell_type": "code",
   "execution_count": 72,
   "outputs": [],
   "source": [
    "landslides = pd.read_csv('./data/catalog.csv')"
   ],
   "metadata": {
    "collapsed": false,
    "pycharm": {
     "name": "#%%\n"
    }
   }
  },
  {
   "cell_type": "code",
   "execution_count": 73,
   "outputs": [
    {
     "data": {
      "text/plain": "    id     date   time continent_code   country_name country_code  \\\n0   34   3/2/07  Night            NaN  United States           US   \n1   42  3/22/07    NaN            NaN  United States           US   \n2   56   4/6/07    NaN            NaN  United States           US   \n3   59  4/14/07    NaN            NaN         Canada           CA   \n4   61  4/15/07    NaN            NaN  United States           US   \n5   64  4/20/07    NaN            NaN  United States           US   \n6   67  4/24/07    NaN            NaN  United States           US   \n7   77  5/21/07    NaN             SA       Colombia           CO   \n8  105  6/27/07    NaN             SA        Ecuador           EC   \n9  106  6/27/07    NaN             SA        Ecuador           EC   \n\n     state/province  population         city/town  distance  ...  \\\n0          Virginia       16000       Cherry Hill   3.40765  ...   \n1              Ohio       17288  New Philadelphia   3.33522  ...   \n2      Pennsylvania       15930       Wilkinsburg   2.91977  ...   \n3            Quebec       42786       Châteauguay   2.98682  ...   \n4          Kentucky        6903         Pikeville   5.66542  ...   \n5          Kentucky        6903         Pikeville   0.23715  ...   \n6      South Dakota        2540      Dakota Dunes   2.48033  ...   \n7         Risaralda      440118           Pereira   0.62022  ...   \n8  Zamora-Chinchipe       15276            Zamora   0.47714  ...   \n9              Loja      117796              Loja   0.35649  ...   \n\n                                  geolocation  hazard_type  \\\n0   (38.600900000000003, -77.268199999999993)    Landslide   \n1   (40.517499999999998, -81.430499999999995)    Landslide   \n2              (40.4377, -79.915999999999997)    Landslide   \n3   (45.322600000000001, -73.777100000000004)    Landslide   \n4   (37.432499999999997, -82.493099999999998)    Landslide   \n5   (37.481400000000001, -82.518600000000006)    Landslide   \n6   (42.494100000000003, -96.457599999999999)    Landslide   \n7   (4.8080999999999996, -75.694100000000006)    Landslide   \n8  (-4.0650000000000004, -78.950999999999993)    Landslide   \n9                (-3.99, -79.204999999999998)    Landslide   \n\n       landslide_type landslide_size   trigger storm_name injuries fatalities  \\\n0           Landslide          Small      Rain        NaN      NaN        NaN   \n1           Landslide          Small      Rain        NaN      NaN        NaN   \n2           Landslide          Small      Rain        NaN      NaN        NaN   \n3  Riverbank collapse          Small      Rain        NaN      NaN        NaN   \n4           Landslide          Small  Downpour        NaN      NaN        0.0   \n5           Landslide          Small      Rain        NaN      NaN        NaN   \n6           Landslide          Small      Rain        NaN      NaN        NaN   \n7            Mudslide          Large      Rain        NaN      NaN       13.0   \n8           Landslide         Medium  Downpour        NaN      NaN        NaN   \n9           Landslide         Medium  Downpour        NaN      NaN        NaN   \n\n                  source_name  \\\n0                  NBC 4 news   \n1              Canton Rep.com   \n2  The Pittsburgh Channel.com   \n3                   Le Soleil   \n4      Matthew Crawford (KGS)   \n5   Applalachain news-express   \n6         Sioux City Journnal   \n7      Reuters - AlertNet.org   \n8   Red Cross - Field reports   \n9   Red Cross - Field reports   \n\n                                         source_link  \n0      http://www.nbc4.com/news/11186871/detail.html  \n1  http://www.cantonrep.com/index.php?ID=345054&C...  \n2  https://web.archive.org/web/20080423132842/htt...  \n3  http://www.hebdos.net/lsc/edition162007/articl...  \n4                                                NaN  \n5  http://www.news-expressky.com/articles/2007/04...  \n6  http://www.siouxcityjournal.com/articles/2007/...  \n7  http://www.reuters.com/news/video/videoStory?v...  \n8  https://www-secure.ifrc.org/dmis/prepare/view_...  \n9  https://www-secure.ifrc.org/dmis/prepare/view_...  \n\n[10 rows x 23 columns]",
      "text/html": "<div>\n<style scoped>\n    .dataframe tbody tr th:only-of-type {\n        vertical-align: middle;\n    }\n\n    .dataframe tbody tr th {\n        vertical-align: top;\n    }\n\n    .dataframe thead th {\n        text-align: right;\n    }\n</style>\n<table border=\"1\" class=\"dataframe\">\n  <thead>\n    <tr style=\"text-align: right;\">\n      <th></th>\n      <th>id</th>\n      <th>date</th>\n      <th>time</th>\n      <th>continent_code</th>\n      <th>country_name</th>\n      <th>country_code</th>\n      <th>state/province</th>\n      <th>population</th>\n      <th>city/town</th>\n      <th>distance</th>\n      <th>...</th>\n      <th>geolocation</th>\n      <th>hazard_type</th>\n      <th>landslide_type</th>\n      <th>landslide_size</th>\n      <th>trigger</th>\n      <th>storm_name</th>\n      <th>injuries</th>\n      <th>fatalities</th>\n      <th>source_name</th>\n      <th>source_link</th>\n    </tr>\n  </thead>\n  <tbody>\n    <tr>\n      <th>0</th>\n      <td>34</td>\n      <td>3/2/07</td>\n      <td>Night</td>\n      <td>NaN</td>\n      <td>United States</td>\n      <td>US</td>\n      <td>Virginia</td>\n      <td>16000</td>\n      <td>Cherry Hill</td>\n      <td>3.40765</td>\n      <td>...</td>\n      <td>(38.600900000000003, -77.268199999999993)</td>\n      <td>Landslide</td>\n      <td>Landslide</td>\n      <td>Small</td>\n      <td>Rain</td>\n      <td>NaN</td>\n      <td>NaN</td>\n      <td>NaN</td>\n      <td>NBC 4 news</td>\n      <td>http://www.nbc4.com/news/11186871/detail.html</td>\n    </tr>\n    <tr>\n      <th>1</th>\n      <td>42</td>\n      <td>3/22/07</td>\n      <td>NaN</td>\n      <td>NaN</td>\n      <td>United States</td>\n      <td>US</td>\n      <td>Ohio</td>\n      <td>17288</td>\n      <td>New Philadelphia</td>\n      <td>3.33522</td>\n      <td>...</td>\n      <td>(40.517499999999998, -81.430499999999995)</td>\n      <td>Landslide</td>\n      <td>Landslide</td>\n      <td>Small</td>\n      <td>Rain</td>\n      <td>NaN</td>\n      <td>NaN</td>\n      <td>NaN</td>\n      <td>Canton Rep.com</td>\n      <td>http://www.cantonrep.com/index.php?ID=345054&amp;C...</td>\n    </tr>\n    <tr>\n      <th>2</th>\n      <td>56</td>\n      <td>4/6/07</td>\n      <td>NaN</td>\n      <td>NaN</td>\n      <td>United States</td>\n      <td>US</td>\n      <td>Pennsylvania</td>\n      <td>15930</td>\n      <td>Wilkinsburg</td>\n      <td>2.91977</td>\n      <td>...</td>\n      <td>(40.4377, -79.915999999999997)</td>\n      <td>Landslide</td>\n      <td>Landslide</td>\n      <td>Small</td>\n      <td>Rain</td>\n      <td>NaN</td>\n      <td>NaN</td>\n      <td>NaN</td>\n      <td>The Pittsburgh Channel.com</td>\n      <td>https://web.archive.org/web/20080423132842/htt...</td>\n    </tr>\n    <tr>\n      <th>3</th>\n      <td>59</td>\n      <td>4/14/07</td>\n      <td>NaN</td>\n      <td>NaN</td>\n      <td>Canada</td>\n      <td>CA</td>\n      <td>Quebec</td>\n      <td>42786</td>\n      <td>Châteauguay</td>\n      <td>2.98682</td>\n      <td>...</td>\n      <td>(45.322600000000001, -73.777100000000004)</td>\n      <td>Landslide</td>\n      <td>Riverbank collapse</td>\n      <td>Small</td>\n      <td>Rain</td>\n      <td>NaN</td>\n      <td>NaN</td>\n      <td>NaN</td>\n      <td>Le Soleil</td>\n      <td>http://www.hebdos.net/lsc/edition162007/articl...</td>\n    </tr>\n    <tr>\n      <th>4</th>\n      <td>61</td>\n      <td>4/15/07</td>\n      <td>NaN</td>\n      <td>NaN</td>\n      <td>United States</td>\n      <td>US</td>\n      <td>Kentucky</td>\n      <td>6903</td>\n      <td>Pikeville</td>\n      <td>5.66542</td>\n      <td>...</td>\n      <td>(37.432499999999997, -82.493099999999998)</td>\n      <td>Landslide</td>\n      <td>Landslide</td>\n      <td>Small</td>\n      <td>Downpour</td>\n      <td>NaN</td>\n      <td>NaN</td>\n      <td>0.0</td>\n      <td>Matthew Crawford (KGS)</td>\n      <td>NaN</td>\n    </tr>\n    <tr>\n      <th>5</th>\n      <td>64</td>\n      <td>4/20/07</td>\n      <td>NaN</td>\n      <td>NaN</td>\n      <td>United States</td>\n      <td>US</td>\n      <td>Kentucky</td>\n      <td>6903</td>\n      <td>Pikeville</td>\n      <td>0.23715</td>\n      <td>...</td>\n      <td>(37.481400000000001, -82.518600000000006)</td>\n      <td>Landslide</td>\n      <td>Landslide</td>\n      <td>Small</td>\n      <td>Rain</td>\n      <td>NaN</td>\n      <td>NaN</td>\n      <td>NaN</td>\n      <td>Applalachain news-express</td>\n      <td>http://www.news-expressky.com/articles/2007/04...</td>\n    </tr>\n    <tr>\n      <th>6</th>\n      <td>67</td>\n      <td>4/24/07</td>\n      <td>NaN</td>\n      <td>NaN</td>\n      <td>United States</td>\n      <td>US</td>\n      <td>South Dakota</td>\n      <td>2540</td>\n      <td>Dakota Dunes</td>\n      <td>2.48033</td>\n      <td>...</td>\n      <td>(42.494100000000003, -96.457599999999999)</td>\n      <td>Landslide</td>\n      <td>Landslide</td>\n      <td>Small</td>\n      <td>Rain</td>\n      <td>NaN</td>\n      <td>NaN</td>\n      <td>NaN</td>\n      <td>Sioux City Journnal</td>\n      <td>http://www.siouxcityjournal.com/articles/2007/...</td>\n    </tr>\n    <tr>\n      <th>7</th>\n      <td>77</td>\n      <td>5/21/07</td>\n      <td>NaN</td>\n      <td>SA</td>\n      <td>Colombia</td>\n      <td>CO</td>\n      <td>Risaralda</td>\n      <td>440118</td>\n      <td>Pereira</td>\n      <td>0.62022</td>\n      <td>...</td>\n      <td>(4.8080999999999996, -75.694100000000006)</td>\n      <td>Landslide</td>\n      <td>Mudslide</td>\n      <td>Large</td>\n      <td>Rain</td>\n      <td>NaN</td>\n      <td>NaN</td>\n      <td>13.0</td>\n      <td>Reuters - AlertNet.org</td>\n      <td>http://www.reuters.com/news/video/videoStory?v...</td>\n    </tr>\n    <tr>\n      <th>8</th>\n      <td>105</td>\n      <td>6/27/07</td>\n      <td>NaN</td>\n      <td>SA</td>\n      <td>Ecuador</td>\n      <td>EC</td>\n      <td>Zamora-Chinchipe</td>\n      <td>15276</td>\n      <td>Zamora</td>\n      <td>0.47714</td>\n      <td>...</td>\n      <td>(-4.0650000000000004, -78.950999999999993)</td>\n      <td>Landslide</td>\n      <td>Landslide</td>\n      <td>Medium</td>\n      <td>Downpour</td>\n      <td>NaN</td>\n      <td>NaN</td>\n      <td>NaN</td>\n      <td>Red Cross - Field reports</td>\n      <td>https://www-secure.ifrc.org/dmis/prepare/view_...</td>\n    </tr>\n    <tr>\n      <th>9</th>\n      <td>106</td>\n      <td>6/27/07</td>\n      <td>NaN</td>\n      <td>SA</td>\n      <td>Ecuador</td>\n      <td>EC</td>\n      <td>Loja</td>\n      <td>117796</td>\n      <td>Loja</td>\n      <td>0.35649</td>\n      <td>...</td>\n      <td>(-3.99, -79.204999999999998)</td>\n      <td>Landslide</td>\n      <td>Landslide</td>\n      <td>Medium</td>\n      <td>Downpour</td>\n      <td>NaN</td>\n      <td>NaN</td>\n      <td>NaN</td>\n      <td>Red Cross - Field reports</td>\n      <td>https://www-secure.ifrc.org/dmis/prepare/view_...</td>\n    </tr>\n  </tbody>\n</table>\n<p>10 rows × 23 columns</p>\n</div>"
     },
     "execution_count": 73,
     "metadata": {},
     "output_type": "execute_result"
    }
   ],
   "source": [
    "landslides.head(10)"
   ],
   "metadata": {
    "collapsed": false,
    "pycharm": {
     "name": "#%%\n"
    }
   }
  },
  {
   "cell_type": "code",
   "execution_count": 74,
   "outputs": [
    {
     "data": {
      "text/plain": "id                        int64\ndate                     object\ntime                     object\ncontinent_code           object\ncountry_name             object\ncountry_code             object\nstate/province           object\npopulation                int64\ncity/town                object\ndistance                float64\nlocation_description     object\nlatitude                float64\nlongitude               float64\ngeolocation              object\nhazard_type              object\nlandslide_type           object\nlandslide_size           object\ntrigger                  object\nstorm_name               object\ninjuries                float64\nfatalities              float64\nsource_name              object\nsource_link              object\ndtype: object"
     },
     "execution_count": 74,
     "metadata": {},
     "output_type": "execute_result"
    }
   ],
   "source": [
    "landslides.dtypes"
   ],
   "metadata": {
    "collapsed": false,
    "pycharm": {
     "name": "#%%\n"
    }
   }
  },
  {
   "cell_type": "code",
   "execution_count": 75,
   "outputs": [
    {
     "data": {
      "text/plain": "                               column_name  percent_missing\nid                                      id         0.000000\ndate                                  date         0.177200\ntime                                  time        62.847017\ncontinent_code              continent_code        90.313054\ncountry_name                  country_name         0.000000\ncountry_code                  country_code         0.000000\nstate/province              state/province         0.059067\npopulation                      population         0.000000\ncity/town                        city/town         0.236267\ndistance                          distance         0.059067\nlocation_description  location_description        67.454223\nlatitude                          latitude         0.059067\nlongitude                        longitude         0.059067\ngeolocation                    geolocation         0.059067\nhazard_type                    hazard_type         0.000000\nlandslide_type              landslide_type         0.059067\nlandslide_size              landslide_size         0.059067\ntrigger                            trigger         0.118133\nstorm_name                      storm_name        92.203190\ninjuries                          injuries        69.580626\nfatalities                      fatalities        14.589486\nsource_name                    source_name        48.493798\nsource_link                    source_link         5.906675",
      "text/html": "<div>\n<style scoped>\n    .dataframe tbody tr th:only-of-type {\n        vertical-align: middle;\n    }\n\n    .dataframe tbody tr th {\n        vertical-align: top;\n    }\n\n    .dataframe thead th {\n        text-align: right;\n    }\n</style>\n<table border=\"1\" class=\"dataframe\">\n  <thead>\n    <tr style=\"text-align: right;\">\n      <th></th>\n      <th>column_name</th>\n      <th>percent_missing</th>\n    </tr>\n  </thead>\n  <tbody>\n    <tr>\n      <th>id</th>\n      <td>id</td>\n      <td>0.000000</td>\n    </tr>\n    <tr>\n      <th>date</th>\n      <td>date</td>\n      <td>0.177200</td>\n    </tr>\n    <tr>\n      <th>time</th>\n      <td>time</td>\n      <td>62.847017</td>\n    </tr>\n    <tr>\n      <th>continent_code</th>\n      <td>continent_code</td>\n      <td>90.313054</td>\n    </tr>\n    <tr>\n      <th>country_name</th>\n      <td>country_name</td>\n      <td>0.000000</td>\n    </tr>\n    <tr>\n      <th>country_code</th>\n      <td>country_code</td>\n      <td>0.000000</td>\n    </tr>\n    <tr>\n      <th>state/province</th>\n      <td>state/province</td>\n      <td>0.059067</td>\n    </tr>\n    <tr>\n      <th>population</th>\n      <td>population</td>\n      <td>0.000000</td>\n    </tr>\n    <tr>\n      <th>city/town</th>\n      <td>city/town</td>\n      <td>0.236267</td>\n    </tr>\n    <tr>\n      <th>distance</th>\n      <td>distance</td>\n      <td>0.059067</td>\n    </tr>\n    <tr>\n      <th>location_description</th>\n      <td>location_description</td>\n      <td>67.454223</td>\n    </tr>\n    <tr>\n      <th>latitude</th>\n      <td>latitude</td>\n      <td>0.059067</td>\n    </tr>\n    <tr>\n      <th>longitude</th>\n      <td>longitude</td>\n      <td>0.059067</td>\n    </tr>\n    <tr>\n      <th>geolocation</th>\n      <td>geolocation</td>\n      <td>0.059067</td>\n    </tr>\n    <tr>\n      <th>hazard_type</th>\n      <td>hazard_type</td>\n      <td>0.000000</td>\n    </tr>\n    <tr>\n      <th>landslide_type</th>\n      <td>landslide_type</td>\n      <td>0.059067</td>\n    </tr>\n    <tr>\n      <th>landslide_size</th>\n      <td>landslide_size</td>\n      <td>0.059067</td>\n    </tr>\n    <tr>\n      <th>trigger</th>\n      <td>trigger</td>\n      <td>0.118133</td>\n    </tr>\n    <tr>\n      <th>storm_name</th>\n      <td>storm_name</td>\n      <td>92.203190</td>\n    </tr>\n    <tr>\n      <th>injuries</th>\n      <td>injuries</td>\n      <td>69.580626</td>\n    </tr>\n    <tr>\n      <th>fatalities</th>\n      <td>fatalities</td>\n      <td>14.589486</td>\n    </tr>\n    <tr>\n      <th>source_name</th>\n      <td>source_name</td>\n      <td>48.493798</td>\n    </tr>\n    <tr>\n      <th>source_link</th>\n      <td>source_link</td>\n      <td>5.906675</td>\n    </tr>\n  </tbody>\n</table>\n</div>"
     },
     "execution_count": 75,
     "metadata": {},
     "output_type": "execute_result"
    }
   ],
   "source": [
    "produce_missing_report(landslides)"
   ],
   "metadata": {
    "collapsed": false,
    "pycharm": {
     "name": "#%%\n"
    }
   }
  },
  {
   "cell_type": "code",
   "execution_count": 76,
   "outputs": [],
   "source": [
    "to_drop = ['storm_name', 'time', 'location_description']\n",
    "landslides = landslides.drop(to_drop, axis=1)"
   ],
   "metadata": {
    "collapsed": false,
    "pycharm": {
     "name": "#%%\n"
    }
   }
  },
  {
   "cell_type": "code",
   "execution_count": 77,
   "outputs": [],
   "source": [
    "# sometimes, we don't want to drop rows with missing, but to impute instead\n",
    "# imputation can be done:\n",
    "# statistically - using mode, median, mean, or regression (handling missing data like this is a VERY complicated topic)\n",
    "# domain knowledge - use domain knowledge to decide on default value - here we can consider a NaN in fatalies as meaning 0 fatalities\n",
    "\n",
    "landslides['fatalities'] = landslides['fatalities'].fillna(0)\n",
    "landslides['injuries'] = landslides['injuries'].fillna(0)"
   ],
   "metadata": {
    "collapsed": false,
    "pycharm": {
     "name": "#%%\n"
    }
   }
  },
  {
   "cell_type": "code",
   "execution_count": 78,
   "outputs": [
    {
     "data": {
      "text/plain": "   id     date continent_code   country_name country_code state/province  \\\n0  34   3/2/07            NaN  United States           US       Virginia   \n1  42  3/22/07            NaN  United States           US           Ohio   \n2  56   4/6/07            NaN  United States           US   Pennsylvania   \n3  59  4/14/07            NaN         Canada           CA         Quebec   \n4  61  4/15/07            NaN  United States           US       Kentucky   \n\n   population         city/town  distance  latitude  longitude  \\\n0       16000       Cherry Hill   3.40765   38.6009   -77.2682   \n1       17288  New Philadelphia   3.33522   40.5175   -81.4305   \n2       15930       Wilkinsburg   2.91977   40.4377   -79.9160   \n3       42786       Châteauguay   2.98682   45.3226   -73.7771   \n4        6903         Pikeville   5.66542   37.4325   -82.4931   \n\n                                 geolocation hazard_type      landslide_type  \\\n0  (38.600900000000003, -77.268199999999993)   Landslide           Landslide   \n1  (40.517499999999998, -81.430499999999995)   Landslide           Landslide   \n2             (40.4377, -79.915999999999997)   Landslide           Landslide   \n3  (45.322600000000001, -73.777100000000004)   Landslide  Riverbank collapse   \n4  (37.432499999999997, -82.493099999999998)   Landslide           Landslide   \n\n  landslide_size   trigger  injuries  fatalities                 source_name  \\\n0          Small      Rain       0.0         0.0                  NBC 4 news   \n1          Small      Rain       0.0         0.0              Canton Rep.com   \n2          Small      Rain       0.0         0.0  The Pittsburgh Channel.com   \n3          Small      Rain       0.0         0.0                   Le Soleil   \n4          Small  Downpour       0.0         0.0      Matthew Crawford (KGS)   \n\n                                         source_link  \n0      http://www.nbc4.com/news/11186871/detail.html  \n1  http://www.cantonrep.com/index.php?ID=345054&C...  \n2  https://web.archive.org/web/20080423132842/htt...  \n3  http://www.hebdos.net/lsc/edition162007/articl...  \n4                                                NaN  ",
      "text/html": "<div>\n<style scoped>\n    .dataframe tbody tr th:only-of-type {\n        vertical-align: middle;\n    }\n\n    .dataframe tbody tr th {\n        vertical-align: top;\n    }\n\n    .dataframe thead th {\n        text-align: right;\n    }\n</style>\n<table border=\"1\" class=\"dataframe\">\n  <thead>\n    <tr style=\"text-align: right;\">\n      <th></th>\n      <th>id</th>\n      <th>date</th>\n      <th>continent_code</th>\n      <th>country_name</th>\n      <th>country_code</th>\n      <th>state/province</th>\n      <th>population</th>\n      <th>city/town</th>\n      <th>distance</th>\n      <th>latitude</th>\n      <th>longitude</th>\n      <th>geolocation</th>\n      <th>hazard_type</th>\n      <th>landslide_type</th>\n      <th>landslide_size</th>\n      <th>trigger</th>\n      <th>injuries</th>\n      <th>fatalities</th>\n      <th>source_name</th>\n      <th>source_link</th>\n    </tr>\n  </thead>\n  <tbody>\n    <tr>\n      <th>0</th>\n      <td>34</td>\n      <td>3/2/07</td>\n      <td>NaN</td>\n      <td>United States</td>\n      <td>US</td>\n      <td>Virginia</td>\n      <td>16000</td>\n      <td>Cherry Hill</td>\n      <td>3.40765</td>\n      <td>38.6009</td>\n      <td>-77.2682</td>\n      <td>(38.600900000000003, -77.268199999999993)</td>\n      <td>Landslide</td>\n      <td>Landslide</td>\n      <td>Small</td>\n      <td>Rain</td>\n      <td>0.0</td>\n      <td>0.0</td>\n      <td>NBC 4 news</td>\n      <td>http://www.nbc4.com/news/11186871/detail.html</td>\n    </tr>\n    <tr>\n      <th>1</th>\n      <td>42</td>\n      <td>3/22/07</td>\n      <td>NaN</td>\n      <td>United States</td>\n      <td>US</td>\n      <td>Ohio</td>\n      <td>17288</td>\n      <td>New Philadelphia</td>\n      <td>3.33522</td>\n      <td>40.5175</td>\n      <td>-81.4305</td>\n      <td>(40.517499999999998, -81.430499999999995)</td>\n      <td>Landslide</td>\n      <td>Landslide</td>\n      <td>Small</td>\n      <td>Rain</td>\n      <td>0.0</td>\n      <td>0.0</td>\n      <td>Canton Rep.com</td>\n      <td>http://www.cantonrep.com/index.php?ID=345054&amp;C...</td>\n    </tr>\n    <tr>\n      <th>2</th>\n      <td>56</td>\n      <td>4/6/07</td>\n      <td>NaN</td>\n      <td>United States</td>\n      <td>US</td>\n      <td>Pennsylvania</td>\n      <td>15930</td>\n      <td>Wilkinsburg</td>\n      <td>2.91977</td>\n      <td>40.4377</td>\n      <td>-79.9160</td>\n      <td>(40.4377, -79.915999999999997)</td>\n      <td>Landslide</td>\n      <td>Landslide</td>\n      <td>Small</td>\n      <td>Rain</td>\n      <td>0.0</td>\n      <td>0.0</td>\n      <td>The Pittsburgh Channel.com</td>\n      <td>https://web.archive.org/web/20080423132842/htt...</td>\n    </tr>\n    <tr>\n      <th>3</th>\n      <td>59</td>\n      <td>4/14/07</td>\n      <td>NaN</td>\n      <td>Canada</td>\n      <td>CA</td>\n      <td>Quebec</td>\n      <td>42786</td>\n      <td>Châteauguay</td>\n      <td>2.98682</td>\n      <td>45.3226</td>\n      <td>-73.7771</td>\n      <td>(45.322600000000001, -73.777100000000004)</td>\n      <td>Landslide</td>\n      <td>Riverbank collapse</td>\n      <td>Small</td>\n      <td>Rain</td>\n      <td>0.0</td>\n      <td>0.0</td>\n      <td>Le Soleil</td>\n      <td>http://www.hebdos.net/lsc/edition162007/articl...</td>\n    </tr>\n    <tr>\n      <th>4</th>\n      <td>61</td>\n      <td>4/15/07</td>\n      <td>NaN</td>\n      <td>United States</td>\n      <td>US</td>\n      <td>Kentucky</td>\n      <td>6903</td>\n      <td>Pikeville</td>\n      <td>5.66542</td>\n      <td>37.4325</td>\n      <td>-82.4931</td>\n      <td>(37.432499999999997, -82.493099999999998)</td>\n      <td>Landslide</td>\n      <td>Landslide</td>\n      <td>Small</td>\n      <td>Downpour</td>\n      <td>0.0</td>\n      <td>0.0</td>\n      <td>Matthew Crawford (KGS)</td>\n      <td>NaN</td>\n    </tr>\n  </tbody>\n</table>\n</div>"
     },
     "execution_count": 78,
     "metadata": {},
     "output_type": "execute_result"
    }
   ],
   "source": [
    "landslides.head()"
   ],
   "metadata": {
    "collapsed": false,
    "pycharm": {
     "name": "#%%\n"
    }
   }
  },
  {
   "cell_type": "code",
   "execution_count": 79,
   "outputs": [
    {
     "data": {
      "text/plain": "SA    164\nName: continent_code, dtype: int64"
     },
     "execution_count": 79,
     "metadata": {},
     "output_type": "execute_result"
    }
   ],
   "source": [
    "landslides['continent_code'].value_counts()"
   ],
   "metadata": {
    "collapsed": false,
    "pycharm": {
     "name": "#%%\n"
    }
   }
  },
  {
   "cell_type": "code",
   "execution_count": 80,
   "outputs": [
    {
     "data": {
      "text/plain": "United States                       986\nColombia                             96\nGuatemala                            79\nCosta Rica                           75\nMexico                               73\nTrinidad and Tobago                  63\nPanama                               40\nHonduras                             38\nJamaica                              33\nNicaragua                            31\nEcuador                              30\nEl Salvador                          22\nVenezuela                            20\nHaiti                                20\nDominican Republic                   15\nDominica                             14\nPeru                                 14\nCanada                               10\nSaint Lucia                           8\nPuerto Rico                           7\nBrazil                                4\nSaint Vincent and the Grenadines      4\nCuba                                  3\nU.S. Virgin Islands                   2\nGrenada                               2\nBermuda                               2\nBarbados                              1\nBelize                                1\nName: country_name, dtype: int64"
     },
     "execution_count": 80,
     "metadata": {},
     "output_type": "execute_result"
    }
   ],
   "source": [
    "landslides['country_name'].value_counts()"
   ],
   "metadata": {
    "collapsed": false,
    "pycharm": {
     "name": "#%%\n"
    }
   }
  },
  {
   "cell_type": "code",
   "execution_count": 81,
   "outputs": [
    {
     "data": {
      "text/plain": "United States                       986\nGuatemala                            79\nCosta Rica                           75\nMexico                               73\nTrinidad and Tobago                  63\nPanama                               40\nHonduras                             38\nJamaica                              33\nNicaragua                            31\nEl Salvador                          22\nHaiti                                20\nDominican Republic                   15\nDominica                             14\nCanada                               10\nSaint Lucia                           8\nPuerto Rico                           7\nSaint Vincent and the Grenadines      4\nCuba                                  3\nU.S. Virgin Islands                   2\nGrenada                               2\nBermuda                               2\nBarbados                              1\nBelize                                1\nName: country_name, dtype: int64"
     },
     "execution_count": 81,
     "metadata": {},
     "output_type": "execute_result"
    }
   ],
   "source": [
    "landslides.loc[landslides['continent_code'].isna(), 'country_name'].value_counts()"
   ],
   "metadata": {
    "collapsed": false,
    "pycharm": {
     "name": "#%%\n"
    }
   }
  },
  {
   "cell_type": "code",
   "execution_count": 82,
   "outputs": [],
   "source": [
    "landslides['continent_code'] = landslides['continent_code'].fillna('NA')"
   ],
   "metadata": {
    "collapsed": false,
    "pycharm": {
     "name": "#%%\n"
    }
   }
  },
  {
   "cell_type": "code",
   "execution_count": 83,
   "outputs": [],
   "source": [
    "landslides['date'] = pd.to_datetime(landslides['date'], format='%m/%d/%y')"
   ],
   "metadata": {
    "collapsed": false,
    "pycharm": {
     "name": "#%%\n"
    }
   }
  },
  {
   "cell_type": "code",
   "execution_count": 84,
   "outputs": [
    {
     "data": {
      "text/plain": "   id       date continent_code   country_name country_code state/province  \\\n0  34 2007-03-02             NA  United States           US       Virginia   \n1  42 2007-03-22             NA  United States           US           Ohio   \n2  56 2007-04-06             NA  United States           US   Pennsylvania   \n3  59 2007-04-14             NA         Canada           CA         Quebec   \n4  61 2007-04-15             NA  United States           US       Kentucky   \n\n   population         city/town  distance  latitude  longitude  \\\n0       16000       Cherry Hill   3.40765   38.6009   -77.2682   \n1       17288  New Philadelphia   3.33522   40.5175   -81.4305   \n2       15930       Wilkinsburg   2.91977   40.4377   -79.9160   \n3       42786       Châteauguay   2.98682   45.3226   -73.7771   \n4        6903         Pikeville   5.66542   37.4325   -82.4931   \n\n                                 geolocation hazard_type      landslide_type  \\\n0  (38.600900000000003, -77.268199999999993)   Landslide           Landslide   \n1  (40.517499999999998, -81.430499999999995)   Landslide           Landslide   \n2             (40.4377, -79.915999999999997)   Landslide           Landslide   \n3  (45.322600000000001, -73.777100000000004)   Landslide  Riverbank collapse   \n4  (37.432499999999997, -82.493099999999998)   Landslide           Landslide   \n\n  landslide_size   trigger  injuries  fatalities                 source_name  \\\n0          Small      Rain       0.0         0.0                  NBC 4 news   \n1          Small      Rain       0.0         0.0              Canton Rep.com   \n2          Small      Rain       0.0         0.0  The Pittsburgh Channel.com   \n3          Small      Rain       0.0         0.0                   Le Soleil   \n4          Small  Downpour       0.0         0.0      Matthew Crawford (KGS)   \n\n                                         source_link  \n0      http://www.nbc4.com/news/11186871/detail.html  \n1  http://www.cantonrep.com/index.php?ID=345054&C...  \n2  https://web.archive.org/web/20080423132842/htt...  \n3  http://www.hebdos.net/lsc/edition162007/articl...  \n4                                                NaN  ",
      "text/html": "<div>\n<style scoped>\n    .dataframe tbody tr th:only-of-type {\n        vertical-align: middle;\n    }\n\n    .dataframe tbody tr th {\n        vertical-align: top;\n    }\n\n    .dataframe thead th {\n        text-align: right;\n    }\n</style>\n<table border=\"1\" class=\"dataframe\">\n  <thead>\n    <tr style=\"text-align: right;\">\n      <th></th>\n      <th>id</th>\n      <th>date</th>\n      <th>continent_code</th>\n      <th>country_name</th>\n      <th>country_code</th>\n      <th>state/province</th>\n      <th>population</th>\n      <th>city/town</th>\n      <th>distance</th>\n      <th>latitude</th>\n      <th>longitude</th>\n      <th>geolocation</th>\n      <th>hazard_type</th>\n      <th>landslide_type</th>\n      <th>landslide_size</th>\n      <th>trigger</th>\n      <th>injuries</th>\n      <th>fatalities</th>\n      <th>source_name</th>\n      <th>source_link</th>\n    </tr>\n  </thead>\n  <tbody>\n    <tr>\n      <th>0</th>\n      <td>34</td>\n      <td>2007-03-02</td>\n      <td>NA</td>\n      <td>United States</td>\n      <td>US</td>\n      <td>Virginia</td>\n      <td>16000</td>\n      <td>Cherry Hill</td>\n      <td>3.40765</td>\n      <td>38.6009</td>\n      <td>-77.2682</td>\n      <td>(38.600900000000003, -77.268199999999993)</td>\n      <td>Landslide</td>\n      <td>Landslide</td>\n      <td>Small</td>\n      <td>Rain</td>\n      <td>0.0</td>\n      <td>0.0</td>\n      <td>NBC 4 news</td>\n      <td>http://www.nbc4.com/news/11186871/detail.html</td>\n    </tr>\n    <tr>\n      <th>1</th>\n      <td>42</td>\n      <td>2007-03-22</td>\n      <td>NA</td>\n      <td>United States</td>\n      <td>US</td>\n      <td>Ohio</td>\n      <td>17288</td>\n      <td>New Philadelphia</td>\n      <td>3.33522</td>\n      <td>40.5175</td>\n      <td>-81.4305</td>\n      <td>(40.517499999999998, -81.430499999999995)</td>\n      <td>Landslide</td>\n      <td>Landslide</td>\n      <td>Small</td>\n      <td>Rain</td>\n      <td>0.0</td>\n      <td>0.0</td>\n      <td>Canton Rep.com</td>\n      <td>http://www.cantonrep.com/index.php?ID=345054&amp;C...</td>\n    </tr>\n    <tr>\n      <th>2</th>\n      <td>56</td>\n      <td>2007-04-06</td>\n      <td>NA</td>\n      <td>United States</td>\n      <td>US</td>\n      <td>Pennsylvania</td>\n      <td>15930</td>\n      <td>Wilkinsburg</td>\n      <td>2.91977</td>\n      <td>40.4377</td>\n      <td>-79.9160</td>\n      <td>(40.4377, -79.915999999999997)</td>\n      <td>Landslide</td>\n      <td>Landslide</td>\n      <td>Small</td>\n      <td>Rain</td>\n      <td>0.0</td>\n      <td>0.0</td>\n      <td>The Pittsburgh Channel.com</td>\n      <td>https://web.archive.org/web/20080423132842/htt...</td>\n    </tr>\n    <tr>\n      <th>3</th>\n      <td>59</td>\n      <td>2007-04-14</td>\n      <td>NA</td>\n      <td>Canada</td>\n      <td>CA</td>\n      <td>Quebec</td>\n      <td>42786</td>\n      <td>Châteauguay</td>\n      <td>2.98682</td>\n      <td>45.3226</td>\n      <td>-73.7771</td>\n      <td>(45.322600000000001, -73.777100000000004)</td>\n      <td>Landslide</td>\n      <td>Riverbank collapse</td>\n      <td>Small</td>\n      <td>Rain</td>\n      <td>0.0</td>\n      <td>0.0</td>\n      <td>Le Soleil</td>\n      <td>http://www.hebdos.net/lsc/edition162007/articl...</td>\n    </tr>\n    <tr>\n      <th>4</th>\n      <td>61</td>\n      <td>2007-04-15</td>\n      <td>NA</td>\n      <td>United States</td>\n      <td>US</td>\n      <td>Kentucky</td>\n      <td>6903</td>\n      <td>Pikeville</td>\n      <td>5.66542</td>\n      <td>37.4325</td>\n      <td>-82.4931</td>\n      <td>(37.432499999999997, -82.493099999999998)</td>\n      <td>Landslide</td>\n      <td>Landslide</td>\n      <td>Small</td>\n      <td>Downpour</td>\n      <td>0.0</td>\n      <td>0.0</td>\n      <td>Matthew Crawford (KGS)</td>\n      <td>NaN</td>\n    </tr>\n  </tbody>\n</table>\n</div>"
     },
     "execution_count": 84,
     "metadata": {},
     "output_type": "execute_result"
    }
   ],
   "source": [
    "landslides.head()"
   ],
   "metadata": {
    "collapsed": false,
    "pycharm": {
     "name": "#%%\n"
    }
   }
  },
  {
   "cell_type": "code",
   "execution_count": 86,
   "outputs": [
    {
     "data": {
      "text/plain": "Medium        965\nSmall         636\nLarge          68\nVery_large     15\nmedium          3\nsmall           3\nlarge           2\nName: landslide_size, dtype: int64"
     },
     "execution_count": 86,
     "metadata": {},
     "output_type": "execute_result"
    }
   ],
   "source": [
    "landslides['landslide_size'].value_counts()"
   ],
   "metadata": {
    "collapsed": false,
    "pycharm": {
     "name": "#%%\n"
    }
   }
  },
  {
   "cell_type": "code",
   "execution_count": 87,
   "outputs": [
    {
     "data": {
      "text/plain": "Downpour                   866\nRain                       446\nTropical cyclone           131\nContinuous rain             95\nUnknown                     88\nunknown                     12\nSnowfall snowmelt           11\nFlooding                    10\nEarthquake                   8\nMining digging               7\nFreeze thaw                  6\nConstruction                 5\nOther                        3\nDam embankment collapse      1\ndownpour                     1\nVolcano                      1\nName: trigger, dtype: int64"
     },
     "execution_count": 87,
     "metadata": {},
     "output_type": "execute_result"
    }
   ],
   "source": [
    "landslides['trigger'].value_counts()"
   ],
   "metadata": {
    "collapsed": false,
    "pycharm": {
     "name": "#%%\n"
    }
   }
  },
  {
   "cell_type": "code",
   "execution_count": 88,
   "outputs": [
    {
     "data": {
      "text/plain": "Landslide    1693\nName: hazard_type, dtype: int64"
     },
     "execution_count": 88,
     "metadata": {},
     "output_type": "execute_result"
    }
   ],
   "source": [
    "landslides['hazard_type'].value_counts()"
   ],
   "metadata": {
    "collapsed": false,
    "pycharm": {
     "name": "#%%\n"
    }
   }
  },
  {
   "cell_type": "code",
   "execution_count": 94,
   "outputs": [
    {
     "data": {
      "text/plain": "Landslide             866\nMudslide              635\nRockfall               70\nComplex                48\nDebris flow            38\nOther                  14\nRiverbank collapse      5\nCreep                   5\nmudslide                4\nLahar                   2\nSnow avalanche          2\nUnknown                 1\nRockslide               1\nlandslide               1\nName: landslide_type, dtype: int64"
     },
     "execution_count": 94,
     "metadata": {},
     "output_type": "execute_result"
    }
   ],
   "source": [
    "landslides['landslide_type'].value_counts()"
   ],
   "metadata": {
    "collapsed": false,
    "pycharm": {
     "name": "#%%\n"
    }
   }
  },
  {
   "cell_type": "code",
   "execution_count": 95,
   "outputs": [],
   "source": [
    "#landslides.drop(['hazard_type'], axis=1, inplace=True)\n",
    "landslides['trigger'] = landslides['trigger'].str.upper() # we normalise to upper case to ensure homogenity\n",
    "landslides['landslide_size'] = landslides['landslide_size'].str.upper()\n",
    "landslides['landslide_type'] = landslides['landslide_type'].str.upper()"
   ],
   "metadata": {
    "collapsed": false,
    "pycharm": {
     "name": "#%%\n"
    }
   }
  },
  {
   "cell_type": "code",
   "execution_count": 96,
   "outputs": [
    {
     "data": {
      "text/plain": "        id       date continent_code   country_name country_code  \\\n0       34 2007-03-02             NA  United States           US   \n1       42 2007-03-22             NA  United States           US   \n2       56 2007-04-06             NA  United States           US   \n3       59 2007-04-14             NA         Canada           CA   \n4       61 2007-04-15             NA  United States           US   \n...    ...        ...            ...            ...          ...   \n1688  7535 2015-12-07             NA  United States           US   \n1689  7537 2016-02-22             NA  United States           US   \n1690  7539 2016-02-23             NA  United States           US   \n1691  7540 2016-02-26             NA  United States           US   \n1692  7541 2016-03-02             NA  United States           US   \n\n      state/province  population         city/town  distance  latitude  \\\n0           Virginia       16000       Cherry Hill   3.40765   38.6009   \n1               Ohio       17288  New Philadelphia   3.33522   40.5175   \n2       Pennsylvania       15930       Wilkinsburg   2.91977   40.4377   \n3             Quebec       42786       Châteauguay   2.98682   45.3226   \n4           Kentucky        6903         Pikeville   5.66542   37.4325   \n...              ...         ...               ...       ...       ...   \n1688  North Carolina        1646             Tryon   7.80866   35.2219   \n1689   West Virginia       51400        Charleston   6.84721   38.3987   \n1690   West Virginia        2406             Welch  14.19735   37.4096   \n1691   West Virginia        1048            Athens  12.00678   37.5011   \n1692         Vermont        2066           Windsor   1.78429   43.4771   \n\n      longitude                                geolocation  \\\n0      -77.2682  (38.600900000000003, -77.268199999999993)   \n1      -81.4305  (40.517499999999998, -81.430499999999995)   \n2      -79.9160             (40.4377, -79.915999999999997)   \n3      -73.7771  (45.322600000000001, -73.777100000000004)   \n4      -82.4931  (37.432499999999997, -82.493099999999998)   \n...         ...                                        ...   \n1688   -82.3226  (35.221899999999998, -82.322599999999994)   \n1689   -81.5848  (38.398699999999998, -81.584800000000001)   \n1690   -81.4268             (37.409599999999998, -81.4268)   \n1691   -81.1093  (37.501100000000001, -81.109300000000005)   \n1692   -72.4066             (43.4771, -72.406599999999997)   \n\n          landslide_type landslide_size   trigger  injuries  fatalities  \\\n0              LANDSLIDE          SMALL      RAIN       0.0         0.0   \n1              LANDSLIDE          SMALL      RAIN       0.0         0.0   \n2              LANDSLIDE          SMALL      RAIN       0.0         0.0   \n3     RIVERBANK COLLAPSE          SMALL      RAIN       0.0         0.0   \n4              LANDSLIDE          SMALL  DOWNPOUR       0.0         0.0   \n...                  ...            ...       ...       ...         ...   \n1688            ROCKFALL          SMALL       NaN       0.0         0.0   \n1689            MUDSLIDE          SMALL   UNKNOWN       0.0         0.0   \n1690           LANDSLIDE          SMALL      RAIN       0.0         0.0   \n1691            ROCKFALL          SMALL   UNKNOWN       0.0         0.0   \n1692            ROCKFALL          SMALL   UNKNOWN       0.0         0.0   \n\n                     source_name  \\\n0                     NBC 4 news   \n1                 Canton Rep.com   \n2     The Pittsburgh Channel.com   \n3                      Le Soleil   \n4         Matthew Crawford (KGS)   \n...                          ...   \n1688        Tryon Daily Bulletin   \n1689          Charleston Gazette   \n1690   Bluefield Daily Telegraph   \n1691   Bluefield Daily Telegraph   \n1692                 Valley News   \n\n                                            source_link  \n0         http://www.nbc4.com/news/11186871/detail.html  \n1     http://www.cantonrep.com/index.php?ID=345054&C...  \n2     https://web.archive.org/web/20080423132842/htt...  \n3     http://www.hebdos.net/lsc/edition162007/articl...  \n4                                                   NaN  \n...                                                 ...  \n1688  http://www.tryondailybulletin.com/2016/02/26/u...  \n1689  http://www.wvgazettemail.com/news/20160222/us-...  \n1690  http://www.bdtonline.com/news/officials-cautio...  \n1691  http://www.bdtonline.com/news/rockslide-snarls...  \n1692  http://www.vnews.com/home/21353539-95/loose-ledge  \n\n[1693 rows x 19 columns]",
      "text/html": "<div>\n<style scoped>\n    .dataframe tbody tr th:only-of-type {\n        vertical-align: middle;\n    }\n\n    .dataframe tbody tr th {\n        vertical-align: top;\n    }\n\n    .dataframe thead th {\n        text-align: right;\n    }\n</style>\n<table border=\"1\" class=\"dataframe\">\n  <thead>\n    <tr style=\"text-align: right;\">\n      <th></th>\n      <th>id</th>\n      <th>date</th>\n      <th>continent_code</th>\n      <th>country_name</th>\n      <th>country_code</th>\n      <th>state/province</th>\n      <th>population</th>\n      <th>city/town</th>\n      <th>distance</th>\n      <th>latitude</th>\n      <th>longitude</th>\n      <th>geolocation</th>\n      <th>landslide_type</th>\n      <th>landslide_size</th>\n      <th>trigger</th>\n      <th>injuries</th>\n      <th>fatalities</th>\n      <th>source_name</th>\n      <th>source_link</th>\n    </tr>\n  </thead>\n  <tbody>\n    <tr>\n      <th>0</th>\n      <td>34</td>\n      <td>2007-03-02</td>\n      <td>NA</td>\n      <td>United States</td>\n      <td>US</td>\n      <td>Virginia</td>\n      <td>16000</td>\n      <td>Cherry Hill</td>\n      <td>3.40765</td>\n      <td>38.6009</td>\n      <td>-77.2682</td>\n      <td>(38.600900000000003, -77.268199999999993)</td>\n      <td>LANDSLIDE</td>\n      <td>SMALL</td>\n      <td>RAIN</td>\n      <td>0.0</td>\n      <td>0.0</td>\n      <td>NBC 4 news</td>\n      <td>http://www.nbc4.com/news/11186871/detail.html</td>\n    </tr>\n    <tr>\n      <th>1</th>\n      <td>42</td>\n      <td>2007-03-22</td>\n      <td>NA</td>\n      <td>United States</td>\n      <td>US</td>\n      <td>Ohio</td>\n      <td>17288</td>\n      <td>New Philadelphia</td>\n      <td>3.33522</td>\n      <td>40.5175</td>\n      <td>-81.4305</td>\n      <td>(40.517499999999998, -81.430499999999995)</td>\n      <td>LANDSLIDE</td>\n      <td>SMALL</td>\n      <td>RAIN</td>\n      <td>0.0</td>\n      <td>0.0</td>\n      <td>Canton Rep.com</td>\n      <td>http://www.cantonrep.com/index.php?ID=345054&amp;C...</td>\n    </tr>\n    <tr>\n      <th>2</th>\n      <td>56</td>\n      <td>2007-04-06</td>\n      <td>NA</td>\n      <td>United States</td>\n      <td>US</td>\n      <td>Pennsylvania</td>\n      <td>15930</td>\n      <td>Wilkinsburg</td>\n      <td>2.91977</td>\n      <td>40.4377</td>\n      <td>-79.9160</td>\n      <td>(40.4377, -79.915999999999997)</td>\n      <td>LANDSLIDE</td>\n      <td>SMALL</td>\n      <td>RAIN</td>\n      <td>0.0</td>\n      <td>0.0</td>\n      <td>The Pittsburgh Channel.com</td>\n      <td>https://web.archive.org/web/20080423132842/htt...</td>\n    </tr>\n    <tr>\n      <th>3</th>\n      <td>59</td>\n      <td>2007-04-14</td>\n      <td>NA</td>\n      <td>Canada</td>\n      <td>CA</td>\n      <td>Quebec</td>\n      <td>42786</td>\n      <td>Châteauguay</td>\n      <td>2.98682</td>\n      <td>45.3226</td>\n      <td>-73.7771</td>\n      <td>(45.322600000000001, -73.777100000000004)</td>\n      <td>RIVERBANK COLLAPSE</td>\n      <td>SMALL</td>\n      <td>RAIN</td>\n      <td>0.0</td>\n      <td>0.0</td>\n      <td>Le Soleil</td>\n      <td>http://www.hebdos.net/lsc/edition162007/articl...</td>\n    </tr>\n    <tr>\n      <th>4</th>\n      <td>61</td>\n      <td>2007-04-15</td>\n      <td>NA</td>\n      <td>United States</td>\n      <td>US</td>\n      <td>Kentucky</td>\n      <td>6903</td>\n      <td>Pikeville</td>\n      <td>5.66542</td>\n      <td>37.4325</td>\n      <td>-82.4931</td>\n      <td>(37.432499999999997, -82.493099999999998)</td>\n      <td>LANDSLIDE</td>\n      <td>SMALL</td>\n      <td>DOWNPOUR</td>\n      <td>0.0</td>\n      <td>0.0</td>\n      <td>Matthew Crawford (KGS)</td>\n      <td>NaN</td>\n    </tr>\n    <tr>\n      <th>...</th>\n      <td>...</td>\n      <td>...</td>\n      <td>...</td>\n      <td>...</td>\n      <td>...</td>\n      <td>...</td>\n      <td>...</td>\n      <td>...</td>\n      <td>...</td>\n      <td>...</td>\n      <td>...</td>\n      <td>...</td>\n      <td>...</td>\n      <td>...</td>\n      <td>...</td>\n      <td>...</td>\n      <td>...</td>\n      <td>...</td>\n      <td>...</td>\n    </tr>\n    <tr>\n      <th>1688</th>\n      <td>7535</td>\n      <td>2015-12-07</td>\n      <td>NA</td>\n      <td>United States</td>\n      <td>US</td>\n      <td>North Carolina</td>\n      <td>1646</td>\n      <td>Tryon</td>\n      <td>7.80866</td>\n      <td>35.2219</td>\n      <td>-82.3226</td>\n      <td>(35.221899999999998, -82.322599999999994)</td>\n      <td>ROCKFALL</td>\n      <td>SMALL</td>\n      <td>NaN</td>\n      <td>0.0</td>\n      <td>0.0</td>\n      <td>Tryon Daily Bulletin</td>\n      <td>http://www.tryondailybulletin.com/2016/02/26/u...</td>\n    </tr>\n    <tr>\n      <th>1689</th>\n      <td>7537</td>\n      <td>2016-02-22</td>\n      <td>NA</td>\n      <td>United States</td>\n      <td>US</td>\n      <td>West Virginia</td>\n      <td>51400</td>\n      <td>Charleston</td>\n      <td>6.84721</td>\n      <td>38.3987</td>\n      <td>-81.5848</td>\n      <td>(38.398699999999998, -81.584800000000001)</td>\n      <td>MUDSLIDE</td>\n      <td>SMALL</td>\n      <td>UNKNOWN</td>\n      <td>0.0</td>\n      <td>0.0</td>\n      <td>Charleston Gazette</td>\n      <td>http://www.wvgazettemail.com/news/20160222/us-...</td>\n    </tr>\n    <tr>\n      <th>1690</th>\n      <td>7539</td>\n      <td>2016-02-23</td>\n      <td>NA</td>\n      <td>United States</td>\n      <td>US</td>\n      <td>West Virginia</td>\n      <td>2406</td>\n      <td>Welch</td>\n      <td>14.19735</td>\n      <td>37.4096</td>\n      <td>-81.4268</td>\n      <td>(37.409599999999998, -81.4268)</td>\n      <td>LANDSLIDE</td>\n      <td>SMALL</td>\n      <td>RAIN</td>\n      <td>0.0</td>\n      <td>0.0</td>\n      <td>Bluefield Daily Telegraph</td>\n      <td>http://www.bdtonline.com/news/officials-cautio...</td>\n    </tr>\n    <tr>\n      <th>1691</th>\n      <td>7540</td>\n      <td>2016-02-26</td>\n      <td>NA</td>\n      <td>United States</td>\n      <td>US</td>\n      <td>West Virginia</td>\n      <td>1048</td>\n      <td>Athens</td>\n      <td>12.00678</td>\n      <td>37.5011</td>\n      <td>-81.1093</td>\n      <td>(37.501100000000001, -81.109300000000005)</td>\n      <td>ROCKFALL</td>\n      <td>SMALL</td>\n      <td>UNKNOWN</td>\n      <td>0.0</td>\n      <td>0.0</td>\n      <td>Bluefield Daily Telegraph</td>\n      <td>http://www.bdtonline.com/news/rockslide-snarls...</td>\n    </tr>\n    <tr>\n      <th>1692</th>\n      <td>7541</td>\n      <td>2016-03-02</td>\n      <td>NA</td>\n      <td>United States</td>\n      <td>US</td>\n      <td>Vermont</td>\n      <td>2066</td>\n      <td>Windsor</td>\n      <td>1.78429</td>\n      <td>43.4771</td>\n      <td>-72.4066</td>\n      <td>(43.4771, -72.406599999999997)</td>\n      <td>ROCKFALL</td>\n      <td>SMALL</td>\n      <td>UNKNOWN</td>\n      <td>0.0</td>\n      <td>0.0</td>\n      <td>Valley News</td>\n      <td>http://www.vnews.com/home/21353539-95/loose-ledge</td>\n    </tr>\n  </tbody>\n</table>\n<p>1693 rows × 19 columns</p>\n</div>"
     },
     "execution_count": 96,
     "metadata": {},
     "output_type": "execute_result"
    }
   ],
   "source": [
    "landslides"
   ],
   "metadata": {
    "collapsed": false,
    "pycharm": {
     "name": "#%%\n"
    }
   }
  },
  {
   "cell_type": "code",
   "execution_count": 97,
   "outputs": [],
   "source": [
    "landslides.reset_index().to_feather('./data/landslides_cleaned.feather')"
   ],
   "metadata": {
    "collapsed": false,
    "pycharm": {
     "name": "#%%\n"
    }
   }
  },
  {
   "cell_type": "code",
   "execution_count": 108,
   "outputs": [],
   "source": [
    "mazda = pd.read_csv('./data/mazda_safety.csv')\n",
    "toyota = pd.read_csv('./data/toyota_safety.csv')"
   ],
   "metadata": {
    "collapsed": false,
    "pycharm": {
     "name": "#%%\n"
    }
   }
  },
  {
   "cell_type": "code",
   "execution_count": 109,
   "outputs": [
    {
     "data": {
      "text/plain": "   adult_occupant_protection child_occupant_protection  \\\n0                        86%                       89%   \n1                        93%                       87%   \n2                        98%                       89%   \n3                        99%                       88%   \n4                        95%                       91%   \n5                        96%                       87%   \n6                        95%                       80%   \n7                        NaN                       NaN   \n8                        NaN                       NaN   \n9                        NaN                       NaN   \n10                       NaN                       NaN   \n11                       NaN                       NaN   \n12                       NaN                       NaN   \n\n   vulnerable_road_user_protection safety_assist           name  num_stars  \\\n0                              67%           84%    Mazda BT-50          5   \n1                              68%           74%    Mazda MX-30          5   \n2                              81%           76%        Mazda 3          5   \n3                              80%           76%    Mazda CX-30          5   \n4                              66%           73%        Mazda 6          5   \n5                              72%           73%     Mazda CX-8          5   \n6                              78%           59%     Mazda CX-5          5   \n7                              NaN           NaN     Mazda CX-9          5   \n8                              NaN           NaN     Mazda MX-5          5   \n9                              NaN           NaN        Mazda 2          0   \n10                             NaN           NaN     Mazda CX-3          0   \n11                             NaN           NaN     Mazda CX-7          5   \n12                             NaN           NaN  Mazda Tribute          4   \n\n           rating_year                                                url  \n0   Jul 2022 - onwards  https://www.ancap.com.au/safety-ratings/mazda/...  \n1   Jan 2021 - onwards  https://www.ancap.com.au/safety-ratings/mazda/...  \n2   Apr 2019 - onwards  https://www.ancap.com.au/safety-ratings/mazda/...  \n3   Feb 2020 - onwards  https://www.ancap.com.au/safety-ratings/mazda/...  \n4   Jun 2018 - onwards  https://www.ancap.com.au/safety-ratings/mazda/...  \n5   Jul 2018 - onwards  https://www.ancap.com.au/safety-ratings/mazda/...  \n6   Apr 2017 - onwards  https://www.ancap.com.au/safety-ratings/mazda/...  \n7   Jul 2016 - onwards  https://www.ancap.com.au/safety-ratings/mazda/...  \n8   Sep 2015 - onwards  https://www.ancap.com.au/safety-ratings/mazda/...  \n9   Jan 2023 - onwards  https://www.ancap.com.au/safety-ratings/mazda/...  \n10  Jan 2023 - onwards  https://www.ancap.com.au/safety-ratings/mazda/...  \n11         2006 - 2012  https://www.ancap.com.au/safety-ratings/mazda/...  \n12         2004 - 2008  https://www.ancap.com.au/safety-ratings/mazda/...  ",
      "text/html": "<div>\n<style scoped>\n    .dataframe tbody tr th:only-of-type {\n        vertical-align: middle;\n    }\n\n    .dataframe tbody tr th {\n        vertical-align: top;\n    }\n\n    .dataframe thead th {\n        text-align: right;\n    }\n</style>\n<table border=\"1\" class=\"dataframe\">\n  <thead>\n    <tr style=\"text-align: right;\">\n      <th></th>\n      <th>adult_occupant_protection</th>\n      <th>child_occupant_protection</th>\n      <th>vulnerable_road_user_protection</th>\n      <th>safety_assist</th>\n      <th>name</th>\n      <th>num_stars</th>\n      <th>rating_year</th>\n      <th>url</th>\n    </tr>\n  </thead>\n  <tbody>\n    <tr>\n      <th>0</th>\n      <td>86%</td>\n      <td>89%</td>\n      <td>67%</td>\n      <td>84%</td>\n      <td>Mazda BT-50</td>\n      <td>5</td>\n      <td>Jul 2022 - onwards</td>\n      <td>https://www.ancap.com.au/safety-ratings/mazda/...</td>\n    </tr>\n    <tr>\n      <th>1</th>\n      <td>93%</td>\n      <td>87%</td>\n      <td>68%</td>\n      <td>74%</td>\n      <td>Mazda MX-30</td>\n      <td>5</td>\n      <td>Jan 2021 - onwards</td>\n      <td>https://www.ancap.com.au/safety-ratings/mazda/...</td>\n    </tr>\n    <tr>\n      <th>2</th>\n      <td>98%</td>\n      <td>89%</td>\n      <td>81%</td>\n      <td>76%</td>\n      <td>Mazda 3</td>\n      <td>5</td>\n      <td>Apr 2019 - onwards</td>\n      <td>https://www.ancap.com.au/safety-ratings/mazda/...</td>\n    </tr>\n    <tr>\n      <th>3</th>\n      <td>99%</td>\n      <td>88%</td>\n      <td>80%</td>\n      <td>76%</td>\n      <td>Mazda CX-30</td>\n      <td>5</td>\n      <td>Feb 2020 - onwards</td>\n      <td>https://www.ancap.com.au/safety-ratings/mazda/...</td>\n    </tr>\n    <tr>\n      <th>4</th>\n      <td>95%</td>\n      <td>91%</td>\n      <td>66%</td>\n      <td>73%</td>\n      <td>Mazda 6</td>\n      <td>5</td>\n      <td>Jun 2018 - onwards</td>\n      <td>https://www.ancap.com.au/safety-ratings/mazda/...</td>\n    </tr>\n    <tr>\n      <th>5</th>\n      <td>96%</td>\n      <td>87%</td>\n      <td>72%</td>\n      <td>73%</td>\n      <td>Mazda CX-8</td>\n      <td>5</td>\n      <td>Jul 2018 - onwards</td>\n      <td>https://www.ancap.com.au/safety-ratings/mazda/...</td>\n    </tr>\n    <tr>\n      <th>6</th>\n      <td>95%</td>\n      <td>80%</td>\n      <td>78%</td>\n      <td>59%</td>\n      <td>Mazda CX-5</td>\n      <td>5</td>\n      <td>Apr 2017 - onwards</td>\n      <td>https://www.ancap.com.au/safety-ratings/mazda/...</td>\n    </tr>\n    <tr>\n      <th>7</th>\n      <td>NaN</td>\n      <td>NaN</td>\n      <td>NaN</td>\n      <td>NaN</td>\n      <td>Mazda CX-9</td>\n      <td>5</td>\n      <td>Jul 2016 - onwards</td>\n      <td>https://www.ancap.com.au/safety-ratings/mazda/...</td>\n    </tr>\n    <tr>\n      <th>8</th>\n      <td>NaN</td>\n      <td>NaN</td>\n      <td>NaN</td>\n      <td>NaN</td>\n      <td>Mazda MX-5</td>\n      <td>5</td>\n      <td>Sep 2015 - onwards</td>\n      <td>https://www.ancap.com.au/safety-ratings/mazda/...</td>\n    </tr>\n    <tr>\n      <th>9</th>\n      <td>NaN</td>\n      <td>NaN</td>\n      <td>NaN</td>\n      <td>NaN</td>\n      <td>Mazda 2</td>\n      <td>0</td>\n      <td>Jan 2023 - onwards</td>\n      <td>https://www.ancap.com.au/safety-ratings/mazda/...</td>\n    </tr>\n    <tr>\n      <th>10</th>\n      <td>NaN</td>\n      <td>NaN</td>\n      <td>NaN</td>\n      <td>NaN</td>\n      <td>Mazda CX-3</td>\n      <td>0</td>\n      <td>Jan 2023 - onwards</td>\n      <td>https://www.ancap.com.au/safety-ratings/mazda/...</td>\n    </tr>\n    <tr>\n      <th>11</th>\n      <td>NaN</td>\n      <td>NaN</td>\n      <td>NaN</td>\n      <td>NaN</td>\n      <td>Mazda CX-7</td>\n      <td>5</td>\n      <td>2006 - 2012</td>\n      <td>https://www.ancap.com.au/safety-ratings/mazda/...</td>\n    </tr>\n    <tr>\n      <th>12</th>\n      <td>NaN</td>\n      <td>NaN</td>\n      <td>NaN</td>\n      <td>NaN</td>\n      <td>Mazda Tribute</td>\n      <td>4</td>\n      <td>2004 - 2008</td>\n      <td>https://www.ancap.com.au/safety-ratings/mazda/...</td>\n    </tr>\n  </tbody>\n</table>\n</div>"
     },
     "execution_count": 109,
     "metadata": {},
     "output_type": "execute_result"
    }
   ],
   "source": [
    "mazda"
   ],
   "metadata": {
    "collapsed": false,
    "pycharm": {
     "name": "#%%\n"
    }
   }
  },
  {
   "cell_type": "code",
   "execution_count": 110,
   "outputs": [
    {
     "data": {
      "text/plain": "   adult_occupant_protection child_occupant_protection  \\\n0                        85%                       88%   \n1                        89%                       88%   \n2                        90%                       88%   \n3                        88%                       87%   \n4                        86%                       86%   \n5                        86%                       87%   \n6                        95%                       84%   \n7                        94%                       88%   \n8                        94%                       88%   \n9                        96%                       87%   \n10                       93%                       89%   \n11                       96%                       83%   \n12                       NaN                       NaN   \n13                       87%                       77%   \n14                       NaN                       NaN   \n15                       NaN                       NaN   \n16                       NaN                       NaN   \n17                       93%                       85%   \n18                       NaN                       NaN   \n19                       NaN                       NaN   \n20                       NaN                       NaN   \n21                       NaN                       NaN   \n22                       NaN                       NaN   \n\n   vulnerable_road_user_protection safety_assist  \\\n0                              87%           83%   \n1                              81%           77%   \n2                              76%           82%   \n3                              80%           83%   \n4                              78%           82%   \n5                              78%           87%   \n6                              88%           78%   \n7                              84%           79%   \n8                              84%           77%   \n9                              88%           78%   \n10                             85%           83%   \n11                             86%           76%   \n12                             NaN           NaN   \n13                             65%           68%   \n14                             NaN           NaN   \n15                             NaN           NaN   \n16                             NaN           NaN   \n17                             78%           81%   \n18                             NaN           NaN   \n19                             NaN           NaN   \n20                             NaN           NaN   \n21                             NaN           NaN   \n22                             NaN           NaN   \n\n                              name  num_stars          rating_year  \\\n0             Toyota Corolla Cross          5   Jul 2022 - onwards   \n1               Toyota Landcruiser          5   Jul 2021 - onwards   \n2       Toyota Kluger / Highlander          5   Mar 2021 - onwards   \n3                     Toyota Mirai          5   Nov 2020 - onwards   \n4               Toyota Yaris Cross          5   Aug 2020 - onwards   \n5                     Toyota Yaris          5   May 2020 - onwards   \n6                  Toyota Fortuner          5   Oct 2019 - onwards   \n7                   Toyota Granvia          5   Oct 2019 - onwards   \n8                     Toyota Hiace          5   May 2019 - onwards   \n9                     Toyota Hilux          5   Jul 2019 - onwards   \n10                     Toyota RAV4          5   May 2019 - onwards   \n11                  Toyota Corolla          5   Aug 2018 - onwards   \n12                    Toyota Camry          5   Feb 2021 - onwards   \n13                     Toyota C-HR          5   Dec 2016 - onwards   \n14  Toyota Landcruiser Cab Chassis          5   Sep 2016 - onwards   \n15                    Toyota Prius          5   Nov 2015 - onwards   \n16                    Toyota Prado          0   Jan 2023 - onwards   \n17                  Toyota Avensis          5  Nov 2016 - Jan 2022   \n18  Toyota Hilux Rugged & Rugged X          5  Apr 2018 - Jul 2022   \n19                  Toyota Prius V          5      2012 - Mar 2022   \n20                   Toyota Aurion          5      Apr 2015 - 2017   \n21                  Toyota Prius C          5      2012 - Jul 2020   \n22                       Toyota 86          5      2012 - Jan 2022   \n\n                                                  url  \n0   https://www.ancap.com.au/safety-ratings/toyota...  \n1   https://www.ancap.com.au/safety-ratings/toyota...  \n2   https://www.ancap.com.au/safety-ratings/toyota...  \n3   https://www.ancap.com.au/safety-ratings/toyota...  \n4   https://www.ancap.com.au/safety-ratings/toyota...  \n5   https://www.ancap.com.au/safety-ratings/toyota...  \n6   https://www.ancap.com.au/safety-ratings/toyota...  \n7   https://www.ancap.com.au/safety-ratings/toyota...  \n8   https://www.ancap.com.au/safety-ratings/toyota...  \n9   https://www.ancap.com.au/safety-ratings/toyota...  \n10  https://www.ancap.com.au/safety-ratings/toyota...  \n11  https://www.ancap.com.au/safety-ratings/toyota...  \n12  https://www.ancap.com.au/safety-ratings/toyota...  \n13  https://www.ancap.com.au/safety-ratings/toyota...  \n14  https://www.ancap.com.au/safety-ratings/toyota...  \n15  https://www.ancap.com.au/safety-ratings/toyota...  \n16  https://www.ancap.com.au/safety-ratings/toyota...  \n17  https://www.ancap.com.au/safety-ratings/toyota...  \n18  https://www.ancap.com.au/safety-ratings/toyota...  \n19  https://www.ancap.com.au/safety-ratings/toyota...  \n20  https://www.ancap.com.au/safety-ratings/toyota...  \n21  https://www.ancap.com.au/safety-ratings/toyota...  \n22  https://www.ancap.com.au/safety-ratings/toyota...  ",
      "text/html": "<div>\n<style scoped>\n    .dataframe tbody tr th:only-of-type {\n        vertical-align: middle;\n    }\n\n    .dataframe tbody tr th {\n        vertical-align: top;\n    }\n\n    .dataframe thead th {\n        text-align: right;\n    }\n</style>\n<table border=\"1\" class=\"dataframe\">\n  <thead>\n    <tr style=\"text-align: right;\">\n      <th></th>\n      <th>adult_occupant_protection</th>\n      <th>child_occupant_protection</th>\n      <th>vulnerable_road_user_protection</th>\n      <th>safety_assist</th>\n      <th>name</th>\n      <th>num_stars</th>\n      <th>rating_year</th>\n      <th>url</th>\n    </tr>\n  </thead>\n  <tbody>\n    <tr>\n      <th>0</th>\n      <td>85%</td>\n      <td>88%</td>\n      <td>87%</td>\n      <td>83%</td>\n      <td>Toyota Corolla Cross</td>\n      <td>5</td>\n      <td>Jul 2022 - onwards</td>\n      <td>https://www.ancap.com.au/safety-ratings/toyota...</td>\n    </tr>\n    <tr>\n      <th>1</th>\n      <td>89%</td>\n      <td>88%</td>\n      <td>81%</td>\n      <td>77%</td>\n      <td>Toyota Landcruiser</td>\n      <td>5</td>\n      <td>Jul 2021 - onwards</td>\n      <td>https://www.ancap.com.au/safety-ratings/toyota...</td>\n    </tr>\n    <tr>\n      <th>2</th>\n      <td>90%</td>\n      <td>88%</td>\n      <td>76%</td>\n      <td>82%</td>\n      <td>Toyota Kluger / Highlander</td>\n      <td>5</td>\n      <td>Mar 2021 - onwards</td>\n      <td>https://www.ancap.com.au/safety-ratings/toyota...</td>\n    </tr>\n    <tr>\n      <th>3</th>\n      <td>88%</td>\n      <td>87%</td>\n      <td>80%</td>\n      <td>83%</td>\n      <td>Toyota Mirai</td>\n      <td>5</td>\n      <td>Nov 2020 - onwards</td>\n      <td>https://www.ancap.com.au/safety-ratings/toyota...</td>\n    </tr>\n    <tr>\n      <th>4</th>\n      <td>86%</td>\n      <td>86%</td>\n      <td>78%</td>\n      <td>82%</td>\n      <td>Toyota Yaris Cross</td>\n      <td>5</td>\n      <td>Aug 2020 - onwards</td>\n      <td>https://www.ancap.com.au/safety-ratings/toyota...</td>\n    </tr>\n    <tr>\n      <th>5</th>\n      <td>86%</td>\n      <td>87%</td>\n      <td>78%</td>\n      <td>87%</td>\n      <td>Toyota Yaris</td>\n      <td>5</td>\n      <td>May 2020 - onwards</td>\n      <td>https://www.ancap.com.au/safety-ratings/toyota...</td>\n    </tr>\n    <tr>\n      <th>6</th>\n      <td>95%</td>\n      <td>84%</td>\n      <td>88%</td>\n      <td>78%</td>\n      <td>Toyota Fortuner</td>\n      <td>5</td>\n      <td>Oct 2019 - onwards</td>\n      <td>https://www.ancap.com.au/safety-ratings/toyota...</td>\n    </tr>\n    <tr>\n      <th>7</th>\n      <td>94%</td>\n      <td>88%</td>\n      <td>84%</td>\n      <td>79%</td>\n      <td>Toyota Granvia</td>\n      <td>5</td>\n      <td>Oct 2019 - onwards</td>\n      <td>https://www.ancap.com.au/safety-ratings/toyota...</td>\n    </tr>\n    <tr>\n      <th>8</th>\n      <td>94%</td>\n      <td>88%</td>\n      <td>84%</td>\n      <td>77%</td>\n      <td>Toyota Hiace</td>\n      <td>5</td>\n      <td>May 2019 - onwards</td>\n      <td>https://www.ancap.com.au/safety-ratings/toyota...</td>\n    </tr>\n    <tr>\n      <th>9</th>\n      <td>96%</td>\n      <td>87%</td>\n      <td>88%</td>\n      <td>78%</td>\n      <td>Toyota Hilux</td>\n      <td>5</td>\n      <td>Jul 2019 - onwards</td>\n      <td>https://www.ancap.com.au/safety-ratings/toyota...</td>\n    </tr>\n    <tr>\n      <th>10</th>\n      <td>93%</td>\n      <td>89%</td>\n      <td>85%</td>\n      <td>83%</td>\n      <td>Toyota RAV4</td>\n      <td>5</td>\n      <td>May 2019 - onwards</td>\n      <td>https://www.ancap.com.au/safety-ratings/toyota...</td>\n    </tr>\n    <tr>\n      <th>11</th>\n      <td>96%</td>\n      <td>83%</td>\n      <td>86%</td>\n      <td>76%</td>\n      <td>Toyota Corolla</td>\n      <td>5</td>\n      <td>Aug 2018 - onwards</td>\n      <td>https://www.ancap.com.au/safety-ratings/toyota...</td>\n    </tr>\n    <tr>\n      <th>12</th>\n      <td>NaN</td>\n      <td>NaN</td>\n      <td>NaN</td>\n      <td>NaN</td>\n      <td>Toyota Camry</td>\n      <td>5</td>\n      <td>Feb 2021 - onwards</td>\n      <td>https://www.ancap.com.au/safety-ratings/toyota...</td>\n    </tr>\n    <tr>\n      <th>13</th>\n      <td>87%</td>\n      <td>77%</td>\n      <td>65%</td>\n      <td>68%</td>\n      <td>Toyota C-HR</td>\n      <td>5</td>\n      <td>Dec 2016 - onwards</td>\n      <td>https://www.ancap.com.au/safety-ratings/toyota...</td>\n    </tr>\n    <tr>\n      <th>14</th>\n      <td>NaN</td>\n      <td>NaN</td>\n      <td>NaN</td>\n      <td>NaN</td>\n      <td>Toyota Landcruiser Cab Chassis</td>\n      <td>5</td>\n      <td>Sep 2016 - onwards</td>\n      <td>https://www.ancap.com.au/safety-ratings/toyota...</td>\n    </tr>\n    <tr>\n      <th>15</th>\n      <td>NaN</td>\n      <td>NaN</td>\n      <td>NaN</td>\n      <td>NaN</td>\n      <td>Toyota Prius</td>\n      <td>5</td>\n      <td>Nov 2015 - onwards</td>\n      <td>https://www.ancap.com.au/safety-ratings/toyota...</td>\n    </tr>\n    <tr>\n      <th>16</th>\n      <td>NaN</td>\n      <td>NaN</td>\n      <td>NaN</td>\n      <td>NaN</td>\n      <td>Toyota Prado</td>\n      <td>0</td>\n      <td>Jan 2023 - onwards</td>\n      <td>https://www.ancap.com.au/safety-ratings/toyota...</td>\n    </tr>\n    <tr>\n      <th>17</th>\n      <td>93%</td>\n      <td>85%</td>\n      <td>78%</td>\n      <td>81%</td>\n      <td>Toyota Avensis</td>\n      <td>5</td>\n      <td>Nov 2016 - Jan 2022</td>\n      <td>https://www.ancap.com.au/safety-ratings/toyota...</td>\n    </tr>\n    <tr>\n      <th>18</th>\n      <td>NaN</td>\n      <td>NaN</td>\n      <td>NaN</td>\n      <td>NaN</td>\n      <td>Toyota Hilux Rugged &amp; Rugged X</td>\n      <td>5</td>\n      <td>Apr 2018 - Jul 2022</td>\n      <td>https://www.ancap.com.au/safety-ratings/toyota...</td>\n    </tr>\n    <tr>\n      <th>19</th>\n      <td>NaN</td>\n      <td>NaN</td>\n      <td>NaN</td>\n      <td>NaN</td>\n      <td>Toyota Prius V</td>\n      <td>5</td>\n      <td>2012 - Mar 2022</td>\n      <td>https://www.ancap.com.au/safety-ratings/toyota...</td>\n    </tr>\n    <tr>\n      <th>20</th>\n      <td>NaN</td>\n      <td>NaN</td>\n      <td>NaN</td>\n      <td>NaN</td>\n      <td>Toyota Aurion</td>\n      <td>5</td>\n      <td>Apr 2015 - 2017</td>\n      <td>https://www.ancap.com.au/safety-ratings/toyota...</td>\n    </tr>\n    <tr>\n      <th>21</th>\n      <td>NaN</td>\n      <td>NaN</td>\n      <td>NaN</td>\n      <td>NaN</td>\n      <td>Toyota Prius C</td>\n      <td>5</td>\n      <td>2012 - Jul 2020</td>\n      <td>https://www.ancap.com.au/safety-ratings/toyota...</td>\n    </tr>\n    <tr>\n      <th>22</th>\n      <td>NaN</td>\n      <td>NaN</td>\n      <td>NaN</td>\n      <td>NaN</td>\n      <td>Toyota 86</td>\n      <td>5</td>\n      <td>2012 - Jan 2022</td>\n      <td>https://www.ancap.com.au/safety-ratings/toyota...</td>\n    </tr>\n  </tbody>\n</table>\n</div>"
     },
     "execution_count": 110,
     "metadata": {},
     "output_type": "execute_result"
    }
   ],
   "source": [
    "toyota"
   ],
   "metadata": {
    "collapsed": false,
    "pycharm": {
     "name": "#%%\n"
    }
   }
  },
  {
   "cell_type": "code",
   "execution_count": 102,
   "outputs": [
    {
     "data": {
      "text/plain": "adult_occupant_protection          object\nchild_occupant_protection          object\nvulnerable_road_user_protection    object\nsafety_assist                      object\nname                               object\nnum_stars                           int64\nrating_year                        object\nurl                                object\ndtype: object"
     },
     "execution_count": 102,
     "metadata": {},
     "output_type": "execute_result"
    }
   ],
   "source": [
    "mazda.dtypes"
   ],
   "metadata": {
    "collapsed": false,
    "pycharm": {
     "name": "#%%\n"
    }
   }
  },
  {
   "cell_type": "code",
   "execution_count": 103,
   "outputs": [
    {
     "data": {
      "text/plain": "adult_occupant_protection          object\nchild_occupant_protection          object\nvulnerable_road_user_protection    object\nsafety_assist                      object\nname                               object\nnum_stars                           int64\nrating_year                        object\nurl                                object\ndtype: object"
     },
     "execution_count": 103,
     "metadata": {},
     "output_type": "execute_result"
    }
   ],
   "source": [
    "toyota.dtypes"
   ],
   "metadata": {
    "collapsed": false,
    "pycharm": {
     "name": "#%%\n"
    }
   }
  },
  {
   "cell_type": "code",
   "execution_count": 111,
   "outputs": [],
   "source": [
    "def clean_protection_rating(value):\n",
    "    if type(value) not in [int, float] and len(value):\n",
    "        return int(value[:-1])\n",
    "    return None\n",
    "\n",
    "def clean_ratings(df):\n",
    "    columns = [\n",
    "        'adult_occupant_protection',\n",
    "        'child_occupant_protection',\n",
    "        'vulnerable_road_user_protection',\n",
    "        'safety_assist'\n",
    "    ]\n",
    "    for col in columns:\n",
    "        df[col] = df[col].apply(clean_protection_rating)\n",
    "    return df\n",
    "\n",
    "mazda = clean_ratings(mazda)\n",
    "toyota = clean_ratings(toyota)"
   ],
   "metadata": {
    "collapsed": false,
    "pycharm": {
     "name": "#%%\n"
    }
   }
  },
  {
   "cell_type": "code",
   "execution_count": 112,
   "outputs": [
    {
     "data": {
      "text/plain": "    adult_occupant_protection  child_occupant_protection  \\\n0                        86.0                       89.0   \n1                        93.0                       87.0   \n2                        98.0                       89.0   \n3                        99.0                       88.0   \n4                        95.0                       91.0   \n5                        96.0                       87.0   \n6                        95.0                       80.0   \n7                         NaN                        NaN   \n8                         NaN                        NaN   \n9                         NaN                        NaN   \n10                        NaN                        NaN   \n11                        NaN                        NaN   \n12                        NaN                        NaN   \n\n    vulnerable_road_user_protection  safety_assist           name  num_stars  \\\n0                              67.0           84.0    Mazda BT-50          5   \n1                              68.0           74.0    Mazda MX-30          5   \n2                              81.0           76.0        Mazda 3          5   \n3                              80.0           76.0    Mazda CX-30          5   \n4                              66.0           73.0        Mazda 6          5   \n5                              72.0           73.0     Mazda CX-8          5   \n6                              78.0           59.0     Mazda CX-5          5   \n7                               NaN            NaN     Mazda CX-9          5   \n8                               NaN            NaN     Mazda MX-5          5   \n9                               NaN            NaN        Mazda 2          0   \n10                              NaN            NaN     Mazda CX-3          0   \n11                              NaN            NaN     Mazda CX-7          5   \n12                              NaN            NaN  Mazda Tribute          4   \n\n           rating_year                                                url  \n0   Jul 2022 - onwards  https://www.ancap.com.au/safety-ratings/mazda/...  \n1   Jan 2021 - onwards  https://www.ancap.com.au/safety-ratings/mazda/...  \n2   Apr 2019 - onwards  https://www.ancap.com.au/safety-ratings/mazda/...  \n3   Feb 2020 - onwards  https://www.ancap.com.au/safety-ratings/mazda/...  \n4   Jun 2018 - onwards  https://www.ancap.com.au/safety-ratings/mazda/...  \n5   Jul 2018 - onwards  https://www.ancap.com.au/safety-ratings/mazda/...  \n6   Apr 2017 - onwards  https://www.ancap.com.au/safety-ratings/mazda/...  \n7   Jul 2016 - onwards  https://www.ancap.com.au/safety-ratings/mazda/...  \n8   Sep 2015 - onwards  https://www.ancap.com.au/safety-ratings/mazda/...  \n9   Jan 2023 - onwards  https://www.ancap.com.au/safety-ratings/mazda/...  \n10  Jan 2023 - onwards  https://www.ancap.com.au/safety-ratings/mazda/...  \n11         2006 - 2012  https://www.ancap.com.au/safety-ratings/mazda/...  \n12         2004 - 2008  https://www.ancap.com.au/safety-ratings/mazda/...  ",
      "text/html": "<div>\n<style scoped>\n    .dataframe tbody tr th:only-of-type {\n        vertical-align: middle;\n    }\n\n    .dataframe tbody tr th {\n        vertical-align: top;\n    }\n\n    .dataframe thead th {\n        text-align: right;\n    }\n</style>\n<table border=\"1\" class=\"dataframe\">\n  <thead>\n    <tr style=\"text-align: right;\">\n      <th></th>\n      <th>adult_occupant_protection</th>\n      <th>child_occupant_protection</th>\n      <th>vulnerable_road_user_protection</th>\n      <th>safety_assist</th>\n      <th>name</th>\n      <th>num_stars</th>\n      <th>rating_year</th>\n      <th>url</th>\n    </tr>\n  </thead>\n  <tbody>\n    <tr>\n      <th>0</th>\n      <td>86.0</td>\n      <td>89.0</td>\n      <td>67.0</td>\n      <td>84.0</td>\n      <td>Mazda BT-50</td>\n      <td>5</td>\n      <td>Jul 2022 - onwards</td>\n      <td>https://www.ancap.com.au/safety-ratings/mazda/...</td>\n    </tr>\n    <tr>\n      <th>1</th>\n      <td>93.0</td>\n      <td>87.0</td>\n      <td>68.0</td>\n      <td>74.0</td>\n      <td>Mazda MX-30</td>\n      <td>5</td>\n      <td>Jan 2021 - onwards</td>\n      <td>https://www.ancap.com.au/safety-ratings/mazda/...</td>\n    </tr>\n    <tr>\n      <th>2</th>\n      <td>98.0</td>\n      <td>89.0</td>\n      <td>81.0</td>\n      <td>76.0</td>\n      <td>Mazda 3</td>\n      <td>5</td>\n      <td>Apr 2019 - onwards</td>\n      <td>https://www.ancap.com.au/safety-ratings/mazda/...</td>\n    </tr>\n    <tr>\n      <th>3</th>\n      <td>99.0</td>\n      <td>88.0</td>\n      <td>80.0</td>\n      <td>76.0</td>\n      <td>Mazda CX-30</td>\n      <td>5</td>\n      <td>Feb 2020 - onwards</td>\n      <td>https://www.ancap.com.au/safety-ratings/mazda/...</td>\n    </tr>\n    <tr>\n      <th>4</th>\n      <td>95.0</td>\n      <td>91.0</td>\n      <td>66.0</td>\n      <td>73.0</td>\n      <td>Mazda 6</td>\n      <td>5</td>\n      <td>Jun 2018 - onwards</td>\n      <td>https://www.ancap.com.au/safety-ratings/mazda/...</td>\n    </tr>\n    <tr>\n      <th>5</th>\n      <td>96.0</td>\n      <td>87.0</td>\n      <td>72.0</td>\n      <td>73.0</td>\n      <td>Mazda CX-8</td>\n      <td>5</td>\n      <td>Jul 2018 - onwards</td>\n      <td>https://www.ancap.com.au/safety-ratings/mazda/...</td>\n    </tr>\n    <tr>\n      <th>6</th>\n      <td>95.0</td>\n      <td>80.0</td>\n      <td>78.0</td>\n      <td>59.0</td>\n      <td>Mazda CX-5</td>\n      <td>5</td>\n      <td>Apr 2017 - onwards</td>\n      <td>https://www.ancap.com.au/safety-ratings/mazda/...</td>\n    </tr>\n    <tr>\n      <th>7</th>\n      <td>NaN</td>\n      <td>NaN</td>\n      <td>NaN</td>\n      <td>NaN</td>\n      <td>Mazda CX-9</td>\n      <td>5</td>\n      <td>Jul 2016 - onwards</td>\n      <td>https://www.ancap.com.au/safety-ratings/mazda/...</td>\n    </tr>\n    <tr>\n      <th>8</th>\n      <td>NaN</td>\n      <td>NaN</td>\n      <td>NaN</td>\n      <td>NaN</td>\n      <td>Mazda MX-5</td>\n      <td>5</td>\n      <td>Sep 2015 - onwards</td>\n      <td>https://www.ancap.com.au/safety-ratings/mazda/...</td>\n    </tr>\n    <tr>\n      <th>9</th>\n      <td>NaN</td>\n      <td>NaN</td>\n      <td>NaN</td>\n      <td>NaN</td>\n      <td>Mazda 2</td>\n      <td>0</td>\n      <td>Jan 2023 - onwards</td>\n      <td>https://www.ancap.com.au/safety-ratings/mazda/...</td>\n    </tr>\n    <tr>\n      <th>10</th>\n      <td>NaN</td>\n      <td>NaN</td>\n      <td>NaN</td>\n      <td>NaN</td>\n      <td>Mazda CX-3</td>\n      <td>0</td>\n      <td>Jan 2023 - onwards</td>\n      <td>https://www.ancap.com.au/safety-ratings/mazda/...</td>\n    </tr>\n    <tr>\n      <th>11</th>\n      <td>NaN</td>\n      <td>NaN</td>\n      <td>NaN</td>\n      <td>NaN</td>\n      <td>Mazda CX-7</td>\n      <td>5</td>\n      <td>2006 - 2012</td>\n      <td>https://www.ancap.com.au/safety-ratings/mazda/...</td>\n    </tr>\n    <tr>\n      <th>12</th>\n      <td>NaN</td>\n      <td>NaN</td>\n      <td>NaN</td>\n      <td>NaN</td>\n      <td>Mazda Tribute</td>\n      <td>4</td>\n      <td>2004 - 2008</td>\n      <td>https://www.ancap.com.au/safety-ratings/mazda/...</td>\n    </tr>\n  </tbody>\n</table>\n</div>"
     },
     "execution_count": 112,
     "metadata": {},
     "output_type": "execute_result"
    }
   ],
   "source": [
    "mazda"
   ],
   "metadata": {
    "collapsed": false,
    "pycharm": {
     "name": "#%%\n"
    }
   }
  },
  {
   "cell_type": "code",
   "execution_count": 113,
   "outputs": [
    {
     "data": {
      "text/plain": "    adult_occupant_protection  child_occupant_protection  \\\n0                        85.0                       88.0   \n1                        89.0                       88.0   \n2                        90.0                       88.0   \n3                        88.0                       87.0   \n4                        86.0                       86.0   \n5                        86.0                       87.0   \n6                        95.0                       84.0   \n7                        94.0                       88.0   \n8                        94.0                       88.0   \n9                        96.0                       87.0   \n10                       93.0                       89.0   \n11                       96.0                       83.0   \n12                        NaN                        NaN   \n13                       87.0                       77.0   \n14                        NaN                        NaN   \n15                        NaN                        NaN   \n16                        NaN                        NaN   \n17                       93.0                       85.0   \n18                        NaN                        NaN   \n19                        NaN                        NaN   \n20                        NaN                        NaN   \n21                        NaN                        NaN   \n22                        NaN                        NaN   \n\n    vulnerable_road_user_protection  safety_assist  \\\n0                              87.0           83.0   \n1                              81.0           77.0   \n2                              76.0           82.0   \n3                              80.0           83.0   \n4                              78.0           82.0   \n5                              78.0           87.0   \n6                              88.0           78.0   \n7                              84.0           79.0   \n8                              84.0           77.0   \n9                              88.0           78.0   \n10                             85.0           83.0   \n11                             86.0           76.0   \n12                              NaN            NaN   \n13                             65.0           68.0   \n14                              NaN            NaN   \n15                              NaN            NaN   \n16                              NaN            NaN   \n17                             78.0           81.0   \n18                              NaN            NaN   \n19                              NaN            NaN   \n20                              NaN            NaN   \n21                              NaN            NaN   \n22                              NaN            NaN   \n\n                              name  num_stars          rating_year  \\\n0             Toyota Corolla Cross          5   Jul 2022 - onwards   \n1               Toyota Landcruiser          5   Jul 2021 - onwards   \n2       Toyota Kluger / Highlander          5   Mar 2021 - onwards   \n3                     Toyota Mirai          5   Nov 2020 - onwards   \n4               Toyota Yaris Cross          5   Aug 2020 - onwards   \n5                     Toyota Yaris          5   May 2020 - onwards   \n6                  Toyota Fortuner          5   Oct 2019 - onwards   \n7                   Toyota Granvia          5   Oct 2019 - onwards   \n8                     Toyota Hiace          5   May 2019 - onwards   \n9                     Toyota Hilux          5   Jul 2019 - onwards   \n10                     Toyota RAV4          5   May 2019 - onwards   \n11                  Toyota Corolla          5   Aug 2018 - onwards   \n12                    Toyota Camry          5   Feb 2021 - onwards   \n13                     Toyota C-HR          5   Dec 2016 - onwards   \n14  Toyota Landcruiser Cab Chassis          5   Sep 2016 - onwards   \n15                    Toyota Prius          5   Nov 2015 - onwards   \n16                    Toyota Prado          0   Jan 2023 - onwards   \n17                  Toyota Avensis          5  Nov 2016 - Jan 2022   \n18  Toyota Hilux Rugged & Rugged X          5  Apr 2018 - Jul 2022   \n19                  Toyota Prius V          5      2012 - Mar 2022   \n20                   Toyota Aurion          5      Apr 2015 - 2017   \n21                  Toyota Prius C          5      2012 - Jul 2020   \n22                       Toyota 86          5      2012 - Jan 2022   \n\n                                                  url  \n0   https://www.ancap.com.au/safety-ratings/toyota...  \n1   https://www.ancap.com.au/safety-ratings/toyota...  \n2   https://www.ancap.com.au/safety-ratings/toyota...  \n3   https://www.ancap.com.au/safety-ratings/toyota...  \n4   https://www.ancap.com.au/safety-ratings/toyota...  \n5   https://www.ancap.com.au/safety-ratings/toyota...  \n6   https://www.ancap.com.au/safety-ratings/toyota...  \n7   https://www.ancap.com.au/safety-ratings/toyota...  \n8   https://www.ancap.com.au/safety-ratings/toyota...  \n9   https://www.ancap.com.au/safety-ratings/toyota...  \n10  https://www.ancap.com.au/safety-ratings/toyota...  \n11  https://www.ancap.com.au/safety-ratings/toyota...  \n12  https://www.ancap.com.au/safety-ratings/toyota...  \n13  https://www.ancap.com.au/safety-ratings/toyota...  \n14  https://www.ancap.com.au/safety-ratings/toyota...  \n15  https://www.ancap.com.au/safety-ratings/toyota...  \n16  https://www.ancap.com.au/safety-ratings/toyota...  \n17  https://www.ancap.com.au/safety-ratings/toyota...  \n18  https://www.ancap.com.au/safety-ratings/toyota...  \n19  https://www.ancap.com.au/safety-ratings/toyota...  \n20  https://www.ancap.com.au/safety-ratings/toyota...  \n21  https://www.ancap.com.au/safety-ratings/toyota...  \n22  https://www.ancap.com.au/safety-ratings/toyota...  ",
      "text/html": "<div>\n<style scoped>\n    .dataframe tbody tr th:only-of-type {\n        vertical-align: middle;\n    }\n\n    .dataframe tbody tr th {\n        vertical-align: top;\n    }\n\n    .dataframe thead th {\n        text-align: right;\n    }\n</style>\n<table border=\"1\" class=\"dataframe\">\n  <thead>\n    <tr style=\"text-align: right;\">\n      <th></th>\n      <th>adult_occupant_protection</th>\n      <th>child_occupant_protection</th>\n      <th>vulnerable_road_user_protection</th>\n      <th>safety_assist</th>\n      <th>name</th>\n      <th>num_stars</th>\n      <th>rating_year</th>\n      <th>url</th>\n    </tr>\n  </thead>\n  <tbody>\n    <tr>\n      <th>0</th>\n      <td>85.0</td>\n      <td>88.0</td>\n      <td>87.0</td>\n      <td>83.0</td>\n      <td>Toyota Corolla Cross</td>\n      <td>5</td>\n      <td>Jul 2022 - onwards</td>\n      <td>https://www.ancap.com.au/safety-ratings/toyota...</td>\n    </tr>\n    <tr>\n      <th>1</th>\n      <td>89.0</td>\n      <td>88.0</td>\n      <td>81.0</td>\n      <td>77.0</td>\n      <td>Toyota Landcruiser</td>\n      <td>5</td>\n      <td>Jul 2021 - onwards</td>\n      <td>https://www.ancap.com.au/safety-ratings/toyota...</td>\n    </tr>\n    <tr>\n      <th>2</th>\n      <td>90.0</td>\n      <td>88.0</td>\n      <td>76.0</td>\n      <td>82.0</td>\n      <td>Toyota Kluger / Highlander</td>\n      <td>5</td>\n      <td>Mar 2021 - onwards</td>\n      <td>https://www.ancap.com.au/safety-ratings/toyota...</td>\n    </tr>\n    <tr>\n      <th>3</th>\n      <td>88.0</td>\n      <td>87.0</td>\n      <td>80.0</td>\n      <td>83.0</td>\n      <td>Toyota Mirai</td>\n      <td>5</td>\n      <td>Nov 2020 - onwards</td>\n      <td>https://www.ancap.com.au/safety-ratings/toyota...</td>\n    </tr>\n    <tr>\n      <th>4</th>\n      <td>86.0</td>\n      <td>86.0</td>\n      <td>78.0</td>\n      <td>82.0</td>\n      <td>Toyota Yaris Cross</td>\n      <td>5</td>\n      <td>Aug 2020 - onwards</td>\n      <td>https://www.ancap.com.au/safety-ratings/toyota...</td>\n    </tr>\n    <tr>\n      <th>5</th>\n      <td>86.0</td>\n      <td>87.0</td>\n      <td>78.0</td>\n      <td>87.0</td>\n      <td>Toyota Yaris</td>\n      <td>5</td>\n      <td>May 2020 - onwards</td>\n      <td>https://www.ancap.com.au/safety-ratings/toyota...</td>\n    </tr>\n    <tr>\n      <th>6</th>\n      <td>95.0</td>\n      <td>84.0</td>\n      <td>88.0</td>\n      <td>78.0</td>\n      <td>Toyota Fortuner</td>\n      <td>5</td>\n      <td>Oct 2019 - onwards</td>\n      <td>https://www.ancap.com.au/safety-ratings/toyota...</td>\n    </tr>\n    <tr>\n      <th>7</th>\n      <td>94.0</td>\n      <td>88.0</td>\n      <td>84.0</td>\n      <td>79.0</td>\n      <td>Toyota Granvia</td>\n      <td>5</td>\n      <td>Oct 2019 - onwards</td>\n      <td>https://www.ancap.com.au/safety-ratings/toyota...</td>\n    </tr>\n    <tr>\n      <th>8</th>\n      <td>94.0</td>\n      <td>88.0</td>\n      <td>84.0</td>\n      <td>77.0</td>\n      <td>Toyota Hiace</td>\n      <td>5</td>\n      <td>May 2019 - onwards</td>\n      <td>https://www.ancap.com.au/safety-ratings/toyota...</td>\n    </tr>\n    <tr>\n      <th>9</th>\n      <td>96.0</td>\n      <td>87.0</td>\n      <td>88.0</td>\n      <td>78.0</td>\n      <td>Toyota Hilux</td>\n      <td>5</td>\n      <td>Jul 2019 - onwards</td>\n      <td>https://www.ancap.com.au/safety-ratings/toyota...</td>\n    </tr>\n    <tr>\n      <th>10</th>\n      <td>93.0</td>\n      <td>89.0</td>\n      <td>85.0</td>\n      <td>83.0</td>\n      <td>Toyota RAV4</td>\n      <td>5</td>\n      <td>May 2019 - onwards</td>\n      <td>https://www.ancap.com.au/safety-ratings/toyota...</td>\n    </tr>\n    <tr>\n      <th>11</th>\n      <td>96.0</td>\n      <td>83.0</td>\n      <td>86.0</td>\n      <td>76.0</td>\n      <td>Toyota Corolla</td>\n      <td>5</td>\n      <td>Aug 2018 - onwards</td>\n      <td>https://www.ancap.com.au/safety-ratings/toyota...</td>\n    </tr>\n    <tr>\n      <th>12</th>\n      <td>NaN</td>\n      <td>NaN</td>\n      <td>NaN</td>\n      <td>NaN</td>\n      <td>Toyota Camry</td>\n      <td>5</td>\n      <td>Feb 2021 - onwards</td>\n      <td>https://www.ancap.com.au/safety-ratings/toyota...</td>\n    </tr>\n    <tr>\n      <th>13</th>\n      <td>87.0</td>\n      <td>77.0</td>\n      <td>65.0</td>\n      <td>68.0</td>\n      <td>Toyota C-HR</td>\n      <td>5</td>\n      <td>Dec 2016 - onwards</td>\n      <td>https://www.ancap.com.au/safety-ratings/toyota...</td>\n    </tr>\n    <tr>\n      <th>14</th>\n      <td>NaN</td>\n      <td>NaN</td>\n      <td>NaN</td>\n      <td>NaN</td>\n      <td>Toyota Landcruiser Cab Chassis</td>\n      <td>5</td>\n      <td>Sep 2016 - onwards</td>\n      <td>https://www.ancap.com.au/safety-ratings/toyota...</td>\n    </tr>\n    <tr>\n      <th>15</th>\n      <td>NaN</td>\n      <td>NaN</td>\n      <td>NaN</td>\n      <td>NaN</td>\n      <td>Toyota Prius</td>\n      <td>5</td>\n      <td>Nov 2015 - onwards</td>\n      <td>https://www.ancap.com.au/safety-ratings/toyota...</td>\n    </tr>\n    <tr>\n      <th>16</th>\n      <td>NaN</td>\n      <td>NaN</td>\n      <td>NaN</td>\n      <td>NaN</td>\n      <td>Toyota Prado</td>\n      <td>0</td>\n      <td>Jan 2023 - onwards</td>\n      <td>https://www.ancap.com.au/safety-ratings/toyota...</td>\n    </tr>\n    <tr>\n      <th>17</th>\n      <td>93.0</td>\n      <td>85.0</td>\n      <td>78.0</td>\n      <td>81.0</td>\n      <td>Toyota Avensis</td>\n      <td>5</td>\n      <td>Nov 2016 - Jan 2022</td>\n      <td>https://www.ancap.com.au/safety-ratings/toyota...</td>\n    </tr>\n    <tr>\n      <th>18</th>\n      <td>NaN</td>\n      <td>NaN</td>\n      <td>NaN</td>\n      <td>NaN</td>\n      <td>Toyota Hilux Rugged &amp; Rugged X</td>\n      <td>5</td>\n      <td>Apr 2018 - Jul 2022</td>\n      <td>https://www.ancap.com.au/safety-ratings/toyota...</td>\n    </tr>\n    <tr>\n      <th>19</th>\n      <td>NaN</td>\n      <td>NaN</td>\n      <td>NaN</td>\n      <td>NaN</td>\n      <td>Toyota Prius V</td>\n      <td>5</td>\n      <td>2012 - Mar 2022</td>\n      <td>https://www.ancap.com.au/safety-ratings/toyota...</td>\n    </tr>\n    <tr>\n      <th>20</th>\n      <td>NaN</td>\n      <td>NaN</td>\n      <td>NaN</td>\n      <td>NaN</td>\n      <td>Toyota Aurion</td>\n      <td>5</td>\n      <td>Apr 2015 - 2017</td>\n      <td>https://www.ancap.com.au/safety-ratings/toyota...</td>\n    </tr>\n    <tr>\n      <th>21</th>\n      <td>NaN</td>\n      <td>NaN</td>\n      <td>NaN</td>\n      <td>NaN</td>\n      <td>Toyota Prius C</td>\n      <td>5</td>\n      <td>2012 - Jul 2020</td>\n      <td>https://www.ancap.com.au/safety-ratings/toyota...</td>\n    </tr>\n    <tr>\n      <th>22</th>\n      <td>NaN</td>\n      <td>NaN</td>\n      <td>NaN</td>\n      <td>NaN</td>\n      <td>Toyota 86</td>\n      <td>5</td>\n      <td>2012 - Jan 2022</td>\n      <td>https://www.ancap.com.au/safety-ratings/toyota...</td>\n    </tr>\n  </tbody>\n</table>\n</div>"
     },
     "execution_count": 113,
     "metadata": {},
     "output_type": "execute_result"
    }
   ],
   "source": [
    "toyota"
   ],
   "metadata": {
    "collapsed": false,
    "pycharm": {
     "name": "#%%\n"
    }
   }
  },
  {
   "cell_type": "code",
   "execution_count": 114,
   "outputs": [],
   "source": [
    "mazda = mazda[~mazda['adult_occupant_protection'].isna()]\n",
    "toyota = toyota[~toyota['adult_occupant_protection'].isna()]"
   ],
   "metadata": {
    "collapsed": false,
    "pycharm": {
     "name": "#%%\n"
    }
   }
  },
  {
   "cell_type": "code",
   "execution_count": 115,
   "outputs": [
    {
     "data": {
      "text/plain": "   adult_occupant_protection  child_occupant_protection  \\\n0                       86.0                       89.0   \n1                       93.0                       87.0   \n2                       98.0                       89.0   \n3                       99.0                       88.0   \n4                       95.0                       91.0   \n5                       96.0                       87.0   \n6                       95.0                       80.0   \n\n   vulnerable_road_user_protection  safety_assist         name  num_stars  \\\n0                             67.0           84.0  Mazda BT-50          5   \n1                             68.0           74.0  Mazda MX-30          5   \n2                             81.0           76.0      Mazda 3          5   \n3                             80.0           76.0  Mazda CX-30          5   \n4                             66.0           73.0      Mazda 6          5   \n5                             72.0           73.0   Mazda CX-8          5   \n6                             78.0           59.0   Mazda CX-5          5   \n\n          rating_year                                                url  \n0  Jul 2022 - onwards  https://www.ancap.com.au/safety-ratings/mazda/...  \n1  Jan 2021 - onwards  https://www.ancap.com.au/safety-ratings/mazda/...  \n2  Apr 2019 - onwards  https://www.ancap.com.au/safety-ratings/mazda/...  \n3  Feb 2020 - onwards  https://www.ancap.com.au/safety-ratings/mazda/...  \n4  Jun 2018 - onwards  https://www.ancap.com.au/safety-ratings/mazda/...  \n5  Jul 2018 - onwards  https://www.ancap.com.au/safety-ratings/mazda/...  \n6  Apr 2017 - onwards  https://www.ancap.com.au/safety-ratings/mazda/...  ",
      "text/html": "<div>\n<style scoped>\n    .dataframe tbody tr th:only-of-type {\n        vertical-align: middle;\n    }\n\n    .dataframe tbody tr th {\n        vertical-align: top;\n    }\n\n    .dataframe thead th {\n        text-align: right;\n    }\n</style>\n<table border=\"1\" class=\"dataframe\">\n  <thead>\n    <tr style=\"text-align: right;\">\n      <th></th>\n      <th>adult_occupant_protection</th>\n      <th>child_occupant_protection</th>\n      <th>vulnerable_road_user_protection</th>\n      <th>safety_assist</th>\n      <th>name</th>\n      <th>num_stars</th>\n      <th>rating_year</th>\n      <th>url</th>\n    </tr>\n  </thead>\n  <tbody>\n    <tr>\n      <th>0</th>\n      <td>86.0</td>\n      <td>89.0</td>\n      <td>67.0</td>\n      <td>84.0</td>\n      <td>Mazda BT-50</td>\n      <td>5</td>\n      <td>Jul 2022 - onwards</td>\n      <td>https://www.ancap.com.au/safety-ratings/mazda/...</td>\n    </tr>\n    <tr>\n      <th>1</th>\n      <td>93.0</td>\n      <td>87.0</td>\n      <td>68.0</td>\n      <td>74.0</td>\n      <td>Mazda MX-30</td>\n      <td>5</td>\n      <td>Jan 2021 - onwards</td>\n      <td>https://www.ancap.com.au/safety-ratings/mazda/...</td>\n    </tr>\n    <tr>\n      <th>2</th>\n      <td>98.0</td>\n      <td>89.0</td>\n      <td>81.0</td>\n      <td>76.0</td>\n      <td>Mazda 3</td>\n      <td>5</td>\n      <td>Apr 2019 - onwards</td>\n      <td>https://www.ancap.com.au/safety-ratings/mazda/...</td>\n    </tr>\n    <tr>\n      <th>3</th>\n      <td>99.0</td>\n      <td>88.0</td>\n      <td>80.0</td>\n      <td>76.0</td>\n      <td>Mazda CX-30</td>\n      <td>5</td>\n      <td>Feb 2020 - onwards</td>\n      <td>https://www.ancap.com.au/safety-ratings/mazda/...</td>\n    </tr>\n    <tr>\n      <th>4</th>\n      <td>95.0</td>\n      <td>91.0</td>\n      <td>66.0</td>\n      <td>73.0</td>\n      <td>Mazda 6</td>\n      <td>5</td>\n      <td>Jun 2018 - onwards</td>\n      <td>https://www.ancap.com.au/safety-ratings/mazda/...</td>\n    </tr>\n    <tr>\n      <th>5</th>\n      <td>96.0</td>\n      <td>87.0</td>\n      <td>72.0</td>\n      <td>73.0</td>\n      <td>Mazda CX-8</td>\n      <td>5</td>\n      <td>Jul 2018 - onwards</td>\n      <td>https://www.ancap.com.au/safety-ratings/mazda/...</td>\n    </tr>\n    <tr>\n      <th>6</th>\n      <td>95.0</td>\n      <td>80.0</td>\n      <td>78.0</td>\n      <td>59.0</td>\n      <td>Mazda CX-5</td>\n      <td>5</td>\n      <td>Apr 2017 - onwards</td>\n      <td>https://www.ancap.com.au/safety-ratings/mazda/...</td>\n    </tr>\n  </tbody>\n</table>\n</div>"
     },
     "execution_count": 115,
     "metadata": {},
     "output_type": "execute_result"
    }
   ],
   "source": [
    "mazda"
   ],
   "metadata": {
    "collapsed": false,
    "pycharm": {
     "name": "#%%\n"
    }
   }
  },
  {
   "cell_type": "code",
   "execution_count": 116,
   "outputs": [
    {
     "data": {
      "text/plain": "    adult_occupant_protection  child_occupant_protection  \\\n0                        85.0                       88.0   \n1                        89.0                       88.0   \n2                        90.0                       88.0   \n3                        88.0                       87.0   \n4                        86.0                       86.0   \n5                        86.0                       87.0   \n6                        95.0                       84.0   \n7                        94.0                       88.0   \n8                        94.0                       88.0   \n9                        96.0                       87.0   \n10                       93.0                       89.0   \n11                       96.0                       83.0   \n13                       87.0                       77.0   \n17                       93.0                       85.0   \n\n    vulnerable_road_user_protection  safety_assist  \\\n0                              87.0           83.0   \n1                              81.0           77.0   \n2                              76.0           82.0   \n3                              80.0           83.0   \n4                              78.0           82.0   \n5                              78.0           87.0   \n6                              88.0           78.0   \n7                              84.0           79.0   \n8                              84.0           77.0   \n9                              88.0           78.0   \n10                             85.0           83.0   \n11                             86.0           76.0   \n13                             65.0           68.0   \n17                             78.0           81.0   \n\n                          name  num_stars          rating_year  \\\n0         Toyota Corolla Cross          5   Jul 2022 - onwards   \n1           Toyota Landcruiser          5   Jul 2021 - onwards   \n2   Toyota Kluger / Highlander          5   Mar 2021 - onwards   \n3                 Toyota Mirai          5   Nov 2020 - onwards   \n4           Toyota Yaris Cross          5   Aug 2020 - onwards   \n5                 Toyota Yaris          5   May 2020 - onwards   \n6              Toyota Fortuner          5   Oct 2019 - onwards   \n7               Toyota Granvia          5   Oct 2019 - onwards   \n8                 Toyota Hiace          5   May 2019 - onwards   \n9                 Toyota Hilux          5   Jul 2019 - onwards   \n10                 Toyota RAV4          5   May 2019 - onwards   \n11              Toyota Corolla          5   Aug 2018 - onwards   \n13                 Toyota C-HR          5   Dec 2016 - onwards   \n17              Toyota Avensis          5  Nov 2016 - Jan 2022   \n\n                                                  url  \n0   https://www.ancap.com.au/safety-ratings/toyota...  \n1   https://www.ancap.com.au/safety-ratings/toyota...  \n2   https://www.ancap.com.au/safety-ratings/toyota...  \n3   https://www.ancap.com.au/safety-ratings/toyota...  \n4   https://www.ancap.com.au/safety-ratings/toyota...  \n5   https://www.ancap.com.au/safety-ratings/toyota...  \n6   https://www.ancap.com.au/safety-ratings/toyota...  \n7   https://www.ancap.com.au/safety-ratings/toyota...  \n8   https://www.ancap.com.au/safety-ratings/toyota...  \n9   https://www.ancap.com.au/safety-ratings/toyota...  \n10  https://www.ancap.com.au/safety-ratings/toyota...  \n11  https://www.ancap.com.au/safety-ratings/toyota...  \n13  https://www.ancap.com.au/safety-ratings/toyota...  \n17  https://www.ancap.com.au/safety-ratings/toyota...  ",
      "text/html": "<div>\n<style scoped>\n    .dataframe tbody tr th:only-of-type {\n        vertical-align: middle;\n    }\n\n    .dataframe tbody tr th {\n        vertical-align: top;\n    }\n\n    .dataframe thead th {\n        text-align: right;\n    }\n</style>\n<table border=\"1\" class=\"dataframe\">\n  <thead>\n    <tr style=\"text-align: right;\">\n      <th></th>\n      <th>adult_occupant_protection</th>\n      <th>child_occupant_protection</th>\n      <th>vulnerable_road_user_protection</th>\n      <th>safety_assist</th>\n      <th>name</th>\n      <th>num_stars</th>\n      <th>rating_year</th>\n      <th>url</th>\n    </tr>\n  </thead>\n  <tbody>\n    <tr>\n      <th>0</th>\n      <td>85.0</td>\n      <td>88.0</td>\n      <td>87.0</td>\n      <td>83.0</td>\n      <td>Toyota Corolla Cross</td>\n      <td>5</td>\n      <td>Jul 2022 - onwards</td>\n      <td>https://www.ancap.com.au/safety-ratings/toyota...</td>\n    </tr>\n    <tr>\n      <th>1</th>\n      <td>89.0</td>\n      <td>88.0</td>\n      <td>81.0</td>\n      <td>77.0</td>\n      <td>Toyota Landcruiser</td>\n      <td>5</td>\n      <td>Jul 2021 - onwards</td>\n      <td>https://www.ancap.com.au/safety-ratings/toyota...</td>\n    </tr>\n    <tr>\n      <th>2</th>\n      <td>90.0</td>\n      <td>88.0</td>\n      <td>76.0</td>\n      <td>82.0</td>\n      <td>Toyota Kluger / Highlander</td>\n      <td>5</td>\n      <td>Mar 2021 - onwards</td>\n      <td>https://www.ancap.com.au/safety-ratings/toyota...</td>\n    </tr>\n    <tr>\n      <th>3</th>\n      <td>88.0</td>\n      <td>87.0</td>\n      <td>80.0</td>\n      <td>83.0</td>\n      <td>Toyota Mirai</td>\n      <td>5</td>\n      <td>Nov 2020 - onwards</td>\n      <td>https://www.ancap.com.au/safety-ratings/toyota...</td>\n    </tr>\n    <tr>\n      <th>4</th>\n      <td>86.0</td>\n      <td>86.0</td>\n      <td>78.0</td>\n      <td>82.0</td>\n      <td>Toyota Yaris Cross</td>\n      <td>5</td>\n      <td>Aug 2020 - onwards</td>\n      <td>https://www.ancap.com.au/safety-ratings/toyota...</td>\n    </tr>\n    <tr>\n      <th>5</th>\n      <td>86.0</td>\n      <td>87.0</td>\n      <td>78.0</td>\n      <td>87.0</td>\n      <td>Toyota Yaris</td>\n      <td>5</td>\n      <td>May 2020 - onwards</td>\n      <td>https://www.ancap.com.au/safety-ratings/toyota...</td>\n    </tr>\n    <tr>\n      <th>6</th>\n      <td>95.0</td>\n      <td>84.0</td>\n      <td>88.0</td>\n      <td>78.0</td>\n      <td>Toyota Fortuner</td>\n      <td>5</td>\n      <td>Oct 2019 - onwards</td>\n      <td>https://www.ancap.com.au/safety-ratings/toyota...</td>\n    </tr>\n    <tr>\n      <th>7</th>\n      <td>94.0</td>\n      <td>88.0</td>\n      <td>84.0</td>\n      <td>79.0</td>\n      <td>Toyota Granvia</td>\n      <td>5</td>\n      <td>Oct 2019 - onwards</td>\n      <td>https://www.ancap.com.au/safety-ratings/toyota...</td>\n    </tr>\n    <tr>\n      <th>8</th>\n      <td>94.0</td>\n      <td>88.0</td>\n      <td>84.0</td>\n      <td>77.0</td>\n      <td>Toyota Hiace</td>\n      <td>5</td>\n      <td>May 2019 - onwards</td>\n      <td>https://www.ancap.com.au/safety-ratings/toyota...</td>\n    </tr>\n    <tr>\n      <th>9</th>\n      <td>96.0</td>\n      <td>87.0</td>\n      <td>88.0</td>\n      <td>78.0</td>\n      <td>Toyota Hilux</td>\n      <td>5</td>\n      <td>Jul 2019 - onwards</td>\n      <td>https://www.ancap.com.au/safety-ratings/toyota...</td>\n    </tr>\n    <tr>\n      <th>10</th>\n      <td>93.0</td>\n      <td>89.0</td>\n      <td>85.0</td>\n      <td>83.0</td>\n      <td>Toyota RAV4</td>\n      <td>5</td>\n      <td>May 2019 - onwards</td>\n      <td>https://www.ancap.com.au/safety-ratings/toyota...</td>\n    </tr>\n    <tr>\n      <th>11</th>\n      <td>96.0</td>\n      <td>83.0</td>\n      <td>86.0</td>\n      <td>76.0</td>\n      <td>Toyota Corolla</td>\n      <td>5</td>\n      <td>Aug 2018 - onwards</td>\n      <td>https://www.ancap.com.au/safety-ratings/toyota...</td>\n    </tr>\n    <tr>\n      <th>13</th>\n      <td>87.0</td>\n      <td>77.0</td>\n      <td>65.0</td>\n      <td>68.0</td>\n      <td>Toyota C-HR</td>\n      <td>5</td>\n      <td>Dec 2016 - onwards</td>\n      <td>https://www.ancap.com.au/safety-ratings/toyota...</td>\n    </tr>\n    <tr>\n      <th>17</th>\n      <td>93.0</td>\n      <td>85.0</td>\n      <td>78.0</td>\n      <td>81.0</td>\n      <td>Toyota Avensis</td>\n      <td>5</td>\n      <td>Nov 2016 - Jan 2022</td>\n      <td>https://www.ancap.com.au/safety-ratings/toyota...</td>\n    </tr>\n  </tbody>\n</table>\n</div>"
     },
     "execution_count": 116,
     "metadata": {},
     "output_type": "execute_result"
    }
   ],
   "source": [
    "toyota"
   ],
   "metadata": {
    "collapsed": false,
    "pycharm": {
     "name": "#%%\n"
    }
   }
  },
  {
   "cell_type": "code",
   "execution_count": 117,
   "outputs": [],
   "source": [
    "mazda.reset_index().to_csv('./data/mazda_cleaned.csv', index=False)\n",
    "toyota.reset_index().to_csv('./data/toyota_cleaned.csv', index=False)"
   ],
   "metadata": {
    "collapsed": false,
    "pycharm": {
     "name": "#%%\n"
    }
   }
  }
 ],
 "metadata": {
  "kernelspec": {
   "display_name": "Python 3",
   "language": "python",
   "name": "python3"
  },
  "language_info": {
   "codemirror_mode": {
    "name": "ipython",
    "version": 2
   },
   "file_extension": ".py",
   "mimetype": "text/x-python",
   "name": "python",
   "nbconvert_exporter": "python",
   "pygments_lexer": "ipython2",
   "version": "2.7.6"
  }
 },
 "nbformat": 4,
 "nbformat_minor": 0
}