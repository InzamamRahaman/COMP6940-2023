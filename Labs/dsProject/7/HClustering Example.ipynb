{
 "cells": [
  {
   "cell_type": "code",
   "execution_count": 4,
   "outputs": [
    {
     "name": "stdout",
     "output_type": "stream",
     "text": [
      "Collecting pyclustertend\r\n",
      "  Downloading pyclustertend-1.8.2-py3-none-any.whl (7.2 kB)\r\n",
      "Requirement already satisfied: numpy==1.20.3 in /Users/inzamamrahaman/opt/anaconda3/lib/python3.9/site-packages (from pyclustertend) (1.20.3)\r\n",
      "Requirement already satisfied: pandas<2.0.0,>=1.2.0 in /Users/inzamamrahaman/opt/anaconda3/lib/python3.9/site-packages (from pyclustertend) (1.3.4)\r\n",
      "Requirement already satisfied: scikit-learn<2.0.0,>=1.1.2 in /Users/inzamamrahaman/opt/anaconda3/lib/python3.9/site-packages (from pyclustertend) (1.2.0)\r\n",
      "Requirement already satisfied: numba<0.55.0,>=0.54.1 in /Users/inzamamrahaman/opt/anaconda3/lib/python3.9/site-packages (from pyclustertend) (0.54.1)\r\n",
      "Requirement already satisfied: matplotlib<4.0.0,>=3.3.3 in /Users/inzamamrahaman/opt/anaconda3/lib/python3.9/site-packages (from pyclustertend) (3.4.3)\r\n",
      "Requirement already satisfied: pyparsing>=2.2.1 in /Users/inzamamrahaman/opt/anaconda3/lib/python3.9/site-packages (from matplotlib<4.0.0,>=3.3.3->pyclustertend) (3.0.4)\r\n",
      "Requirement already satisfied: python-dateutil>=2.7 in /Users/inzamamrahaman/opt/anaconda3/lib/python3.9/site-packages (from matplotlib<4.0.0,>=3.3.3->pyclustertend) (2.8.2)\r\n",
      "Requirement already satisfied: pillow>=6.2.0 in /Users/inzamamrahaman/opt/anaconda3/lib/python3.9/site-packages (from matplotlib<4.0.0,>=3.3.3->pyclustertend) (8.4.0)\r\n",
      "Requirement already satisfied: cycler>=0.10 in /Users/inzamamrahaman/opt/anaconda3/lib/python3.9/site-packages (from matplotlib<4.0.0,>=3.3.3->pyclustertend) (0.10.0)\r\n",
      "Requirement already satisfied: kiwisolver>=1.0.1 in /Users/inzamamrahaman/opt/anaconda3/lib/python3.9/site-packages (from matplotlib<4.0.0,>=3.3.3->pyclustertend) (1.3.1)\r\n",
      "Requirement already satisfied: six in /Users/inzamamrahaman/opt/anaconda3/lib/python3.9/site-packages (from cycler>=0.10->matplotlib<4.0.0,>=3.3.3->pyclustertend) (1.16.0)\r\n",
      "Requirement already satisfied: setuptools in /Users/inzamamrahaman/opt/anaconda3/lib/python3.9/site-packages (from numba<0.55.0,>=0.54.1->pyclustertend) (58.0.4)\r\n",
      "Requirement already satisfied: llvmlite<0.38,>=0.37.0rc1 in /Users/inzamamrahaman/opt/anaconda3/lib/python3.9/site-packages (from numba<0.55.0,>=0.54.1->pyclustertend) (0.37.0)\r\n",
      "Requirement already satisfied: pytz>=2017.3 in /Users/inzamamrahaman/opt/anaconda3/lib/python3.9/site-packages (from pandas<2.0.0,>=1.2.0->pyclustertend) (2021.3)\r\n",
      "Requirement already satisfied: joblib>=1.1.1 in /Users/inzamamrahaman/opt/anaconda3/lib/python3.9/site-packages (from scikit-learn<2.0.0,>=1.1.2->pyclustertend) (1.2.0)\r\n",
      "Requirement already satisfied: threadpoolctl>=2.0.0 in /Users/inzamamrahaman/opt/anaconda3/lib/python3.9/site-packages (from scikit-learn<2.0.0,>=1.1.2->pyclustertend) (2.2.0)\r\n",
      "Requirement already satisfied: scipy>=1.3.2 in /Users/inzamamrahaman/opt/anaconda3/lib/python3.9/site-packages (from scikit-learn<2.0.0,>=1.1.2->pyclustertend) (1.7.3)\r\n",
      "Installing collected packages: pyclustertend\r\n",
      "Successfully installed pyclustertend-1.8.2\r\n"
     ]
    }
   ],
   "source": [
    "!pip install pyclustertend"
   ],
   "metadata": {
    "collapsed": false,
    "pycharm": {
     "name": "#%%\n"
    }
   }
  },
  {
   "cell_type": "code",
   "execution_count": 5,
   "outputs": [
    {
     "name": "stdout",
     "output_type": "stream",
     "text": [
      "Populating the interactive namespace from numpy and matplotlib\n"
     ]
    }
   ],
   "source": [
    "%pylab inline\n",
    "import pandas as pd\n",
    "from sklearn import cluster\n",
    "from sklearn import metrics\n",
    "from sklearn import preprocessing\n",
    "from collections import defaultdict\n",
    "import pyclustertend\n",
    "from dfply import *\n",
    "from scipy.cluster.hierarchy import dendrogram"
   ],
   "metadata": {
    "collapsed": false,
    "pycharm": {
     "name": "#%%\n"
    }
   }
  },
  {
   "cell_type": "code",
   "execution_count": 6,
   "metadata": {
    "pycharm": {
     "name": "#%%\n"
    }
   },
   "outputs": [
    {
     "name": "stderr",
     "output_type": "stream",
     "text": [
      "/Users/inzamamrahaman/opt/anaconda3/lib/python3.9/site-packages/IPython/core/interactiveshell.py:3444: DtypeWarning: Columns (2) have mixed types.Specify dtype option on import or set low_memory=False.\n",
      "  exec(code_obj, self.user_global_ns, self.user_ns)\n"
     ]
    }
   ],
   "source": [
    "df = pd.read_csv('./data/city_temperature.csv')"
   ]
  },
  {
   "cell_type": "code",
   "execution_count": 7,
   "metadata": {
    "pycharm": {
     "name": "#%%\n"
    }
   },
   "outputs": [
    {
     "data": {
      "text/plain": "    Region  Country State     City  Month  Day  Year  AvgTemperature\n0   Africa  Algeria   NaN  Algiers      1    1  1995            64.2\n1   Africa  Algeria   NaN  Algiers      1    2  1995            49.4\n2   Africa  Algeria   NaN  Algiers      1    3  1995            48.8\n3   Africa  Algeria   NaN  Algiers      1    4  1995            46.4\n4   Africa  Algeria   NaN  Algiers      1    5  1995            47.9\n..     ...      ...   ...      ...    ...  ...   ...             ...\n95  Africa  Algeria   NaN  Algiers      4    6  1995            59.0\n96  Africa  Algeria   NaN  Algiers      4    7  1995            54.9\n97  Africa  Algeria   NaN  Algiers      4    8  1995            54.2\n98  Africa  Algeria   NaN  Algiers      4    9  1995            57.8\n99  Africa  Algeria   NaN  Algiers      4   10  1995            60.0\n\n[100 rows x 8 columns]",
      "text/html": "<div>\n<style scoped>\n    .dataframe tbody tr th:only-of-type {\n        vertical-align: middle;\n    }\n\n    .dataframe tbody tr th {\n        vertical-align: top;\n    }\n\n    .dataframe thead th {\n        text-align: right;\n    }\n</style>\n<table border=\"1\" class=\"dataframe\">\n  <thead>\n    <tr style=\"text-align: right;\">\n      <th></th>\n      <th>Region</th>\n      <th>Country</th>\n      <th>State</th>\n      <th>City</th>\n      <th>Month</th>\n      <th>Day</th>\n      <th>Year</th>\n      <th>AvgTemperature</th>\n    </tr>\n  </thead>\n  <tbody>\n    <tr>\n      <th>0</th>\n      <td>Africa</td>\n      <td>Algeria</td>\n      <td>NaN</td>\n      <td>Algiers</td>\n      <td>1</td>\n      <td>1</td>\n      <td>1995</td>\n      <td>64.2</td>\n    </tr>\n    <tr>\n      <th>1</th>\n      <td>Africa</td>\n      <td>Algeria</td>\n      <td>NaN</td>\n      <td>Algiers</td>\n      <td>1</td>\n      <td>2</td>\n      <td>1995</td>\n      <td>49.4</td>\n    </tr>\n    <tr>\n      <th>2</th>\n      <td>Africa</td>\n      <td>Algeria</td>\n      <td>NaN</td>\n      <td>Algiers</td>\n      <td>1</td>\n      <td>3</td>\n      <td>1995</td>\n      <td>48.8</td>\n    </tr>\n    <tr>\n      <th>3</th>\n      <td>Africa</td>\n      <td>Algeria</td>\n      <td>NaN</td>\n      <td>Algiers</td>\n      <td>1</td>\n      <td>4</td>\n      <td>1995</td>\n      <td>46.4</td>\n    </tr>\n    <tr>\n      <th>4</th>\n      <td>Africa</td>\n      <td>Algeria</td>\n      <td>NaN</td>\n      <td>Algiers</td>\n      <td>1</td>\n      <td>5</td>\n      <td>1995</td>\n      <td>47.9</td>\n    </tr>\n    <tr>\n      <th>...</th>\n      <td>...</td>\n      <td>...</td>\n      <td>...</td>\n      <td>...</td>\n      <td>...</td>\n      <td>...</td>\n      <td>...</td>\n      <td>...</td>\n    </tr>\n    <tr>\n      <th>95</th>\n      <td>Africa</td>\n      <td>Algeria</td>\n      <td>NaN</td>\n      <td>Algiers</td>\n      <td>4</td>\n      <td>6</td>\n      <td>1995</td>\n      <td>59.0</td>\n    </tr>\n    <tr>\n      <th>96</th>\n      <td>Africa</td>\n      <td>Algeria</td>\n      <td>NaN</td>\n      <td>Algiers</td>\n      <td>4</td>\n      <td>7</td>\n      <td>1995</td>\n      <td>54.9</td>\n    </tr>\n    <tr>\n      <th>97</th>\n      <td>Africa</td>\n      <td>Algeria</td>\n      <td>NaN</td>\n      <td>Algiers</td>\n      <td>4</td>\n      <td>8</td>\n      <td>1995</td>\n      <td>54.2</td>\n    </tr>\n    <tr>\n      <th>98</th>\n      <td>Africa</td>\n      <td>Algeria</td>\n      <td>NaN</td>\n      <td>Algiers</td>\n      <td>4</td>\n      <td>9</td>\n      <td>1995</td>\n      <td>57.8</td>\n    </tr>\n    <tr>\n      <th>99</th>\n      <td>Africa</td>\n      <td>Algeria</td>\n      <td>NaN</td>\n      <td>Algiers</td>\n      <td>4</td>\n      <td>10</td>\n      <td>1995</td>\n      <td>60.0</td>\n    </tr>\n  </tbody>\n</table>\n<p>100 rows × 8 columns</p>\n</div>"
     },
     "execution_count": 7,
     "metadata": {},
     "output_type": "execute_result"
    }
   ],
   "source": [
    "df.head(100)"
   ]
  },
  {
   "cell_type": "code",
   "execution_count": 8,
   "metadata": {
    "pycharm": {
     "name": "#%%\n"
    }
   },
   "outputs": [],
   "source": [
    "df.drop(['Region', 'Country', 'State'], axis=1, inplace=True)"
   ]
  },
  {
   "cell_type": "code",
   "execution_count": 10,
   "metadata": {
    "pycharm": {
     "name": "#%%\n"
    }
   },
   "outputs": [
    {
     "data": {
      "text/plain": "      City  Month  Day  Year  AvgTemperature\n0  Algiers      1    1  1995            64.2\n1  Algiers      1    2  1995            49.4\n2  Algiers      1    3  1995            48.8\n3  Algiers      1    4  1995            46.4\n4  Algiers      1    5  1995            47.9",
      "text/html": "<div>\n<style scoped>\n    .dataframe tbody tr th:only-of-type {\n        vertical-align: middle;\n    }\n\n    .dataframe tbody tr th {\n        vertical-align: top;\n    }\n\n    .dataframe thead th {\n        text-align: right;\n    }\n</style>\n<table border=\"1\" class=\"dataframe\">\n  <thead>\n    <tr style=\"text-align: right;\">\n      <th></th>\n      <th>City</th>\n      <th>Month</th>\n      <th>Day</th>\n      <th>Year</th>\n      <th>AvgTemperature</th>\n    </tr>\n  </thead>\n  <tbody>\n    <tr>\n      <th>0</th>\n      <td>Algiers</td>\n      <td>1</td>\n      <td>1</td>\n      <td>1995</td>\n      <td>64.2</td>\n    </tr>\n    <tr>\n      <th>1</th>\n      <td>Algiers</td>\n      <td>1</td>\n      <td>2</td>\n      <td>1995</td>\n      <td>49.4</td>\n    </tr>\n    <tr>\n      <th>2</th>\n      <td>Algiers</td>\n      <td>1</td>\n      <td>3</td>\n      <td>1995</td>\n      <td>48.8</td>\n    </tr>\n    <tr>\n      <th>3</th>\n      <td>Algiers</td>\n      <td>1</td>\n      <td>4</td>\n      <td>1995</td>\n      <td>46.4</td>\n    </tr>\n    <tr>\n      <th>4</th>\n      <td>Algiers</td>\n      <td>1</td>\n      <td>5</td>\n      <td>1995</td>\n      <td>47.9</td>\n    </tr>\n  </tbody>\n</table>\n</div>"
     },
     "execution_count": 10,
     "metadata": {},
     "output_type": "execute_result"
    }
   ],
   "source": [
    "df.head()"
   ]
  },
  {
   "cell_type": "code",
   "execution_count": 11,
   "metadata": {
    "pycharm": {
     "name": "#%%\n"
    }
   },
   "outputs": [],
   "source": [
    "df = df.groupby(['City', 'Month']).agg({'AvgTemperature': 'mean'}).reset_index()"
   ]
  },
  {
   "cell_type": "code",
   "execution_count": 12,
   "metadata": {
    "pycharm": {
     "name": "#%%\n"
    }
   },
   "outputs": [
    {
     "data": {
      "text/plain": "         City  Month  AvgTemperature\n0     Abidjan      1       74.431266\n1     Abidjan      2       75.821088\n2     Abidjan      3       79.926427\n3     Abidjan      4       77.242564\n4     Abidjan      5       78.142640\n..        ...    ...             ...\n95    Algiers     12       52.410052\n96  Allentown      1       29.665509\n97  Allentown      2       32.243810\n98  Allentown      3       40.130025\n99  Allentown      4       51.143333\n\n[100 rows x 3 columns]",
      "text/html": "<div>\n<style scoped>\n    .dataframe tbody tr th:only-of-type {\n        vertical-align: middle;\n    }\n\n    .dataframe tbody tr th {\n        vertical-align: top;\n    }\n\n    .dataframe thead th {\n        text-align: right;\n    }\n</style>\n<table border=\"1\" class=\"dataframe\">\n  <thead>\n    <tr style=\"text-align: right;\">\n      <th></th>\n      <th>City</th>\n      <th>Month</th>\n      <th>AvgTemperature</th>\n    </tr>\n  </thead>\n  <tbody>\n    <tr>\n      <th>0</th>\n      <td>Abidjan</td>\n      <td>1</td>\n      <td>74.431266</td>\n    </tr>\n    <tr>\n      <th>1</th>\n      <td>Abidjan</td>\n      <td>2</td>\n      <td>75.821088</td>\n    </tr>\n    <tr>\n      <th>2</th>\n      <td>Abidjan</td>\n      <td>3</td>\n      <td>79.926427</td>\n    </tr>\n    <tr>\n      <th>3</th>\n      <td>Abidjan</td>\n      <td>4</td>\n      <td>77.242564</td>\n    </tr>\n    <tr>\n      <th>4</th>\n      <td>Abidjan</td>\n      <td>5</td>\n      <td>78.142640</td>\n    </tr>\n    <tr>\n      <th>...</th>\n      <td>...</td>\n      <td>...</td>\n      <td>...</td>\n    </tr>\n    <tr>\n      <th>95</th>\n      <td>Algiers</td>\n      <td>12</td>\n      <td>52.410052</td>\n    </tr>\n    <tr>\n      <th>96</th>\n      <td>Allentown</td>\n      <td>1</td>\n      <td>29.665509</td>\n    </tr>\n    <tr>\n      <th>97</th>\n      <td>Allentown</td>\n      <td>2</td>\n      <td>32.243810</td>\n    </tr>\n    <tr>\n      <th>98</th>\n      <td>Allentown</td>\n      <td>3</td>\n      <td>40.130025</td>\n    </tr>\n    <tr>\n      <th>99</th>\n      <td>Allentown</td>\n      <td>4</td>\n      <td>51.143333</td>\n    </tr>\n  </tbody>\n</table>\n<p>100 rows × 3 columns</p>\n</div>"
     },
     "execution_count": 12,
     "metadata": {},
     "output_type": "execute_result"
    }
   ],
   "source": [
    "df.head(100)"
   ]
  },
  {
   "cell_type": "code",
   "execution_count": 16,
   "metadata": {
    "pycharm": {
     "name": "#%%\n"
    }
   },
   "outputs": [],
   "source": [
    "df1 = df >> group_by(X.City) >> summarise(\n",
    "    Jan=X.AvgTemperature[X.Month == 1].mean(),\n",
    "    Feb=X.AvgTemperature[X.Month == 2].mean(),\n",
    "    Mar=X.AvgTemperature[X.Month == 3].mean(),\n",
    "    Apr=X.AvgTemperature[X.Month == 4].mean(),\n",
    "    May=X.AvgTemperature[X.Month == 5].mean(),\n",
    "    Jun=X.AvgTemperature[X.Month == 6].mean(),\n",
    "    Jul=X.AvgTemperature[X.Month == 7].mean(),\n",
    "    Aug=X.AvgTemperature[X.Month == 8].mean(),\n",
    "    Sept=X.AvgTemperature[X.Month == 9].mean(),\n",
    "    Oct=X.AvgTemperature[X.Month == 10].mean(),\n",
    "    Nov=X.AvgTemperature[X.Month == 11].mean(),\n",
    "    Dec=X.AvgTemperature[X.Month == 12].mean()\n",
    ")"
   ]
  },
  {
   "cell_type": "code",
   "execution_count": 17,
   "metadata": {
    "pycharm": {
     "name": "#%%\n"
    }
   },
   "outputs": [
    {
     "data": {
      "text/plain": "           City        Jan        Feb        Mar        Apr        May  \\\n0       Abidjan  74.431266  75.821088  79.926427  77.242564  78.142640   \n1       Abilene  44.661042  48.935374  56.533127  64.633333  72.460279   \n2     Abu Dhabi  66.038089  69.240408  74.353598  80.914359  88.488325   \n3   Addis Ababa  18.053722  30.645306  27.794293  19.662436  20.103939   \n4  Akron Canton  26.981390  29.519592  37.888586  49.582821  60.356853   \n\n         Jun        Jul        Aug       Sept        Oct        Nov        Dec  \n0  72.168933  70.482839  73.145161  73.064000  79.626323  73.298667  73.917010  \n1  77.648400  83.410710  82.541161  75.680933  65.830710  54.590133  44.587887  \n2  92.023600  96.446581  96.470581  91.776533  85.837935  76.617867  68.759794  \n3  22.750667  20.884774  29.490323  32.118800  30.286581  35.161867  19.769231  \n4  68.041467  72.571613  70.736774  64.121733  52.941032  41.420400  31.454194  ",
      "text/html": "<div>\n<style scoped>\n    .dataframe tbody tr th:only-of-type {\n        vertical-align: middle;\n    }\n\n    .dataframe tbody tr th {\n        vertical-align: top;\n    }\n\n    .dataframe thead th {\n        text-align: right;\n    }\n</style>\n<table border=\"1\" class=\"dataframe\">\n  <thead>\n    <tr style=\"text-align: right;\">\n      <th></th>\n      <th>City</th>\n      <th>Jan</th>\n      <th>Feb</th>\n      <th>Mar</th>\n      <th>Apr</th>\n      <th>May</th>\n      <th>Jun</th>\n      <th>Jul</th>\n      <th>Aug</th>\n      <th>Sept</th>\n      <th>Oct</th>\n      <th>Nov</th>\n      <th>Dec</th>\n    </tr>\n  </thead>\n  <tbody>\n    <tr>\n      <th>0</th>\n      <td>Abidjan</td>\n      <td>74.431266</td>\n      <td>75.821088</td>\n      <td>79.926427</td>\n      <td>77.242564</td>\n      <td>78.142640</td>\n      <td>72.168933</td>\n      <td>70.482839</td>\n      <td>73.145161</td>\n      <td>73.064000</td>\n      <td>79.626323</td>\n      <td>73.298667</td>\n      <td>73.917010</td>\n    </tr>\n    <tr>\n      <th>1</th>\n      <td>Abilene</td>\n      <td>44.661042</td>\n      <td>48.935374</td>\n      <td>56.533127</td>\n      <td>64.633333</td>\n      <td>72.460279</td>\n      <td>77.648400</td>\n      <td>83.410710</td>\n      <td>82.541161</td>\n      <td>75.680933</td>\n      <td>65.830710</td>\n      <td>54.590133</td>\n      <td>44.587887</td>\n    </tr>\n    <tr>\n      <th>2</th>\n      <td>Abu Dhabi</td>\n      <td>66.038089</td>\n      <td>69.240408</td>\n      <td>74.353598</td>\n      <td>80.914359</td>\n      <td>88.488325</td>\n      <td>92.023600</td>\n      <td>96.446581</td>\n      <td>96.470581</td>\n      <td>91.776533</td>\n      <td>85.837935</td>\n      <td>76.617867</td>\n      <td>68.759794</td>\n    </tr>\n    <tr>\n      <th>3</th>\n      <td>Addis Ababa</td>\n      <td>18.053722</td>\n      <td>30.645306</td>\n      <td>27.794293</td>\n      <td>19.662436</td>\n      <td>20.103939</td>\n      <td>22.750667</td>\n      <td>20.884774</td>\n      <td>29.490323</td>\n      <td>32.118800</td>\n      <td>30.286581</td>\n      <td>35.161867</td>\n      <td>19.769231</td>\n    </tr>\n    <tr>\n      <th>4</th>\n      <td>Akron Canton</td>\n      <td>26.981390</td>\n      <td>29.519592</td>\n      <td>37.888586</td>\n      <td>49.582821</td>\n      <td>60.356853</td>\n      <td>68.041467</td>\n      <td>72.571613</td>\n      <td>70.736774</td>\n      <td>64.121733</td>\n      <td>52.941032</td>\n      <td>41.420400</td>\n      <td>31.454194</td>\n    </tr>\n  </tbody>\n</table>\n</div>"
     },
     "execution_count": 17,
     "metadata": {},
     "output_type": "execute_result"
    }
   ],
   "source": [
    "df1.head()"
   ]
  },
  {
   "cell_type": "code",
   "execution_count": 18,
   "metadata": {
    "pycharm": {
     "name": "#%%\n"
    }
   },
   "outputs": [],
   "source": [
    "X = df1.loc[:,'Jan':]"
   ]
  },
  {
   "cell_type": "code",
   "execution_count": 19,
   "metadata": {
    "pycharm": {
     "name": "#%%\n"
    }
   },
   "outputs": [],
   "source": [
    "y = df1['City']"
   ]
  },
  {
   "cell_type": "code",
   "execution_count": 20,
   "outputs": [
    {
     "data": {
      "text/plain": "           Jan        Feb        Mar        Apr        May        Jun  \\\n0    74.431266  75.821088  79.926427  77.242564  78.142640  72.168933   \n1    44.661042  48.935374  56.533127  64.633333  72.460279  77.648400   \n2    66.038089  69.240408  74.353598  80.914359  88.488325  92.023600   \n3    18.053722  30.645306  27.794293  19.662436  20.103939  22.750667   \n4    26.981390  29.519592  37.888586  49.582821  60.356853  68.041467   \n..         ...        ...        ...        ...        ...        ...   \n316  27.928674  31.765354  43.667025  55.220370  62.188530  69.876296   \n317  26.846526  29.116463  37.119727  48.742949  59.311421  66.679733   \n318  52.066398  52.397345  57.986828  65.864167  66.308333  74.141111   \n319  23.587965  32.703946  39.463772  48.792949  56.154003  62.488933   \n320  33.129901  35.449524  41.950993  48.940513  55.457868  62.381733   \n\n           Jul        Aug       Sept        Oct        Nov        Dec  \n0    70.482839  73.145161  73.064000  79.626323  73.298667  73.917010  \n1    83.410710  82.541161  75.680933  65.830710  54.590133  44.587887  \n2    96.446581  96.470581  91.776533  85.837935  76.617867  68.759794  \n3    20.884774  29.490323  32.118800  30.286581  35.161867  19.769231  \n4    72.571613  70.736774  64.121733  52.941032  41.420400  31.454194  \n..         ...        ...        ...        ...        ...        ...  \n316  80.337276  80.356631  63.828889  51.512545  41.710833  30.670161  \n317  71.259097  69.071226  62.768800  52.227226  41.256267  31.382710  \n318  78.307527  79.781183  76.585000  64.306183  55.921944  44.327913  \n319  65.772258  64.244645  55.302933  48.045161  38.364800  29.084021  \n320  66.027097  64.607613  57.360667  50.199742  39.924133  33.997423  \n\n[321 rows x 12 columns]",
      "text/html": "<div>\n<style scoped>\n    .dataframe tbody tr th:only-of-type {\n        vertical-align: middle;\n    }\n\n    .dataframe tbody tr th {\n        vertical-align: top;\n    }\n\n    .dataframe thead th {\n        text-align: right;\n    }\n</style>\n<table border=\"1\" class=\"dataframe\">\n  <thead>\n    <tr style=\"text-align: right;\">\n      <th></th>\n      <th>Jan</th>\n      <th>Feb</th>\n      <th>Mar</th>\n      <th>Apr</th>\n      <th>May</th>\n      <th>Jun</th>\n      <th>Jul</th>\n      <th>Aug</th>\n      <th>Sept</th>\n      <th>Oct</th>\n      <th>Nov</th>\n      <th>Dec</th>\n    </tr>\n  </thead>\n  <tbody>\n    <tr>\n      <th>0</th>\n      <td>74.431266</td>\n      <td>75.821088</td>\n      <td>79.926427</td>\n      <td>77.242564</td>\n      <td>78.142640</td>\n      <td>72.168933</td>\n      <td>70.482839</td>\n      <td>73.145161</td>\n      <td>73.064000</td>\n      <td>79.626323</td>\n      <td>73.298667</td>\n      <td>73.917010</td>\n    </tr>\n    <tr>\n      <th>1</th>\n      <td>44.661042</td>\n      <td>48.935374</td>\n      <td>56.533127</td>\n      <td>64.633333</td>\n      <td>72.460279</td>\n      <td>77.648400</td>\n      <td>83.410710</td>\n      <td>82.541161</td>\n      <td>75.680933</td>\n      <td>65.830710</td>\n      <td>54.590133</td>\n      <td>44.587887</td>\n    </tr>\n    <tr>\n      <th>2</th>\n      <td>66.038089</td>\n      <td>69.240408</td>\n      <td>74.353598</td>\n      <td>80.914359</td>\n      <td>88.488325</td>\n      <td>92.023600</td>\n      <td>96.446581</td>\n      <td>96.470581</td>\n      <td>91.776533</td>\n      <td>85.837935</td>\n      <td>76.617867</td>\n      <td>68.759794</td>\n    </tr>\n    <tr>\n      <th>3</th>\n      <td>18.053722</td>\n      <td>30.645306</td>\n      <td>27.794293</td>\n      <td>19.662436</td>\n      <td>20.103939</td>\n      <td>22.750667</td>\n      <td>20.884774</td>\n      <td>29.490323</td>\n      <td>32.118800</td>\n      <td>30.286581</td>\n      <td>35.161867</td>\n      <td>19.769231</td>\n    </tr>\n    <tr>\n      <th>4</th>\n      <td>26.981390</td>\n      <td>29.519592</td>\n      <td>37.888586</td>\n      <td>49.582821</td>\n      <td>60.356853</td>\n      <td>68.041467</td>\n      <td>72.571613</td>\n      <td>70.736774</td>\n      <td>64.121733</td>\n      <td>52.941032</td>\n      <td>41.420400</td>\n      <td>31.454194</td>\n    </tr>\n    <tr>\n      <th>...</th>\n      <td>...</td>\n      <td>...</td>\n      <td>...</td>\n      <td>...</td>\n      <td>...</td>\n      <td>...</td>\n      <td>...</td>\n      <td>...</td>\n      <td>...</td>\n      <td>...</td>\n      <td>...</td>\n      <td>...</td>\n    </tr>\n    <tr>\n      <th>316</th>\n      <td>27.928674</td>\n      <td>31.765354</td>\n      <td>43.667025</td>\n      <td>55.220370</td>\n      <td>62.188530</td>\n      <td>69.876296</td>\n      <td>80.337276</td>\n      <td>80.356631</td>\n      <td>63.828889</td>\n      <td>51.512545</td>\n      <td>41.710833</td>\n      <td>30.670161</td>\n    </tr>\n    <tr>\n      <th>317</th>\n      <td>26.846526</td>\n      <td>29.116463</td>\n      <td>37.119727</td>\n      <td>48.742949</td>\n      <td>59.311421</td>\n      <td>66.679733</td>\n      <td>71.259097</td>\n      <td>69.071226</td>\n      <td>62.768800</td>\n      <td>52.227226</td>\n      <td>41.256267</td>\n      <td>31.382710</td>\n    </tr>\n    <tr>\n      <th>318</th>\n      <td>52.066398</td>\n      <td>52.397345</td>\n      <td>57.986828</td>\n      <td>65.864167</td>\n      <td>66.308333</td>\n      <td>74.141111</td>\n      <td>78.307527</td>\n      <td>79.781183</td>\n      <td>76.585000</td>\n      <td>64.306183</td>\n      <td>55.921944</td>\n      <td>44.327913</td>\n    </tr>\n    <tr>\n      <th>319</th>\n      <td>23.587965</td>\n      <td>32.703946</td>\n      <td>39.463772</td>\n      <td>48.792949</td>\n      <td>56.154003</td>\n      <td>62.488933</td>\n      <td>65.772258</td>\n      <td>64.244645</td>\n      <td>55.302933</td>\n      <td>48.045161</td>\n      <td>38.364800</td>\n      <td>29.084021</td>\n    </tr>\n    <tr>\n      <th>320</th>\n      <td>33.129901</td>\n      <td>35.449524</td>\n      <td>41.950993</td>\n      <td>48.940513</td>\n      <td>55.457868</td>\n      <td>62.381733</td>\n      <td>66.027097</td>\n      <td>64.607613</td>\n      <td>57.360667</td>\n      <td>50.199742</td>\n      <td>39.924133</td>\n      <td>33.997423</td>\n    </tr>\n  </tbody>\n</table>\n<p>321 rows × 12 columns</p>\n</div>"
     },
     "execution_count": 20,
     "metadata": {},
     "output_type": "execute_result"
    }
   ],
   "source": [
    "X"
   ],
   "metadata": {
    "collapsed": false,
    "pycharm": {
     "name": "#%%\n"
    }
   }
  },
  {
   "cell_type": "code",
   "execution_count": 21,
   "metadata": {
    "pycharm": {
     "name": "#%%\n"
    }
   },
   "outputs": [],
   "source": [
    "model = cluster.AgglomerativeClustering(distance_threshold=0, n_clusters=None)"
   ]
  },
  {
   "cell_type": "code",
   "execution_count": 22,
   "metadata": {
    "pycharm": {
     "name": "#%%\n"
    }
   },
   "outputs": [
    {
     "data": {
      "text/plain": "AgglomerativeClustering(distance_threshold=0, n_clusters=None)",
      "text/html": "<style>#sk-container-id-1 {color: black;background-color: white;}#sk-container-id-1 pre{padding: 0;}#sk-container-id-1 div.sk-toggleable {background-color: white;}#sk-container-id-1 label.sk-toggleable__label {cursor: pointer;display: block;width: 100%;margin-bottom: 0;padding: 0.3em;box-sizing: border-box;text-align: center;}#sk-container-id-1 label.sk-toggleable__label-arrow:before {content: \"▸\";float: left;margin-right: 0.25em;color: #696969;}#sk-container-id-1 label.sk-toggleable__label-arrow:hover:before {color: black;}#sk-container-id-1 div.sk-estimator:hover label.sk-toggleable__label-arrow:before {color: black;}#sk-container-id-1 div.sk-toggleable__content {max-height: 0;max-width: 0;overflow: hidden;text-align: left;background-color: #f0f8ff;}#sk-container-id-1 div.sk-toggleable__content pre {margin: 0.2em;color: black;border-radius: 0.25em;background-color: #f0f8ff;}#sk-container-id-1 input.sk-toggleable__control:checked~div.sk-toggleable__content {max-height: 200px;max-width: 100%;overflow: auto;}#sk-container-id-1 input.sk-toggleable__control:checked~label.sk-toggleable__label-arrow:before {content: \"▾\";}#sk-container-id-1 div.sk-estimator input.sk-toggleable__control:checked~label.sk-toggleable__label {background-color: #d4ebff;}#sk-container-id-1 div.sk-label input.sk-toggleable__control:checked~label.sk-toggleable__label {background-color: #d4ebff;}#sk-container-id-1 input.sk-hidden--visually {border: 0;clip: rect(1px 1px 1px 1px);clip: rect(1px, 1px, 1px, 1px);height: 1px;margin: -1px;overflow: hidden;padding: 0;position: absolute;width: 1px;}#sk-container-id-1 div.sk-estimator {font-family: monospace;background-color: #f0f8ff;border: 1px dotted black;border-radius: 0.25em;box-sizing: border-box;margin-bottom: 0.5em;}#sk-container-id-1 div.sk-estimator:hover {background-color: #d4ebff;}#sk-container-id-1 div.sk-parallel-item::after {content: \"\";width: 100%;border-bottom: 1px solid gray;flex-grow: 1;}#sk-container-id-1 div.sk-label:hover label.sk-toggleable__label {background-color: #d4ebff;}#sk-container-id-1 div.sk-serial::before {content: \"\";position: absolute;border-left: 1px solid gray;box-sizing: border-box;top: 0;bottom: 0;left: 50%;z-index: 0;}#sk-container-id-1 div.sk-serial {display: flex;flex-direction: column;align-items: center;background-color: white;padding-right: 0.2em;padding-left: 0.2em;position: relative;}#sk-container-id-1 div.sk-item {position: relative;z-index: 1;}#sk-container-id-1 div.sk-parallel {display: flex;align-items: stretch;justify-content: center;background-color: white;position: relative;}#sk-container-id-1 div.sk-item::before, #sk-container-id-1 div.sk-parallel-item::before {content: \"\";position: absolute;border-left: 1px solid gray;box-sizing: border-box;top: 0;bottom: 0;left: 50%;z-index: -1;}#sk-container-id-1 div.sk-parallel-item {display: flex;flex-direction: column;z-index: 1;position: relative;background-color: white;}#sk-container-id-1 div.sk-parallel-item:first-child::after {align-self: flex-end;width: 50%;}#sk-container-id-1 div.sk-parallel-item:last-child::after {align-self: flex-start;width: 50%;}#sk-container-id-1 div.sk-parallel-item:only-child::after {width: 0;}#sk-container-id-1 div.sk-dashed-wrapped {border: 1px dashed gray;margin: 0 0.4em 0.5em 0.4em;box-sizing: border-box;padding-bottom: 0.4em;background-color: white;}#sk-container-id-1 div.sk-label label {font-family: monospace;font-weight: bold;display: inline-block;line-height: 1.2em;}#sk-container-id-1 div.sk-label-container {text-align: center;}#sk-container-id-1 div.sk-container {/* jupyter's `normalize.less` sets `[hidden] { display: none; }` but bootstrap.min.css set `[hidden] { display: none !important; }` so we also need the `!important` here to be able to override the default hidden behavior on the sphinx rendered scikit-learn.org. See: https://github.com/scikit-learn/scikit-learn/issues/21755 */display: inline-block !important;position: relative;}#sk-container-id-1 div.sk-text-repr-fallback {display: none;}</style><div id=\"sk-container-id-1\" class=\"sk-top-container\"><div class=\"sk-text-repr-fallback\"><pre>AgglomerativeClustering(distance_threshold=0, n_clusters=None)</pre><b>In a Jupyter environment, please rerun this cell to show the HTML representation or trust the notebook. <br />On GitHub, the HTML representation is unable to render, please try loading this page with nbviewer.org.</b></div><div class=\"sk-container\" hidden><div class=\"sk-item\"><div class=\"sk-estimator sk-toggleable\"><input class=\"sk-toggleable__control sk-hidden--visually\" id=\"sk-estimator-id-1\" type=\"checkbox\" checked><label for=\"sk-estimator-id-1\" class=\"sk-toggleable__label sk-toggleable__label-arrow\">AgglomerativeClustering</label><div class=\"sk-toggleable__content\"><pre>AgglomerativeClustering(distance_threshold=0, n_clusters=None)</pre></div></div></div></div></div>"
     },
     "execution_count": 22,
     "metadata": {},
     "output_type": "execute_result"
    }
   ],
   "source": [
    "model.fit(X)"
   ]
  },
  {
   "cell_type": "code",
   "execution_count": 23,
   "metadata": {
    "pycharm": {
     "name": "#%%\n"
    }
   },
   "outputs": [],
   "source": [
    "def plot_dendrogram(model, **kwargs):\n",
    "    # Create linkage matrix and then plot the dendrogram\n",
    "\n",
    "    # create the counts of samples under each node\n",
    "    counts = np.zeros(model.children_.shape[0])\n",
    "    n_samples = len(model.labels_)\n",
    "    for i, merge in enumerate(model.children_):\n",
    "        current_count = 0\n",
    "        for child_idx in merge:\n",
    "            if child_idx < n_samples:\n",
    "                current_count += 1  # leaf node\n",
    "            else:\n",
    "                current_count += counts[child_idx - n_samples]\n",
    "        counts[i] = current_count\n",
    "\n",
    "    linkage_matrix = np.column_stack([model.children_, model.distances_,\n",
    "                                      counts]).astype(float)\n",
    "\n",
    "    # Plot the corresponding dendrogram\n",
    "    dendrogram(linkage_matrix, **kwargs)"
   ]
  },
  {
   "cell_type": "code",
   "execution_count": 24,
   "metadata": {
    "pycharm": {
     "name": "#%%\n"
    }
   },
   "outputs": [
    {
     "data": {
      "text/plain": "<Figure size 7200x7200 with 0 Axes>"
     },
     "metadata": {},
     "output_type": "display_data"
    }
   ],
   "source": [
    "fig = matplotlib.pyplot.gcf()\n",
    "fig.set_size_inches(100, 100)"
   ]
  },
  {
   "cell_type": "code",
   "execution_count": 25,
   "metadata": {
    "pycharm": {
     "name": "#%%\n"
    }
   },
   "outputs": [],
   "source": [
    "ax = fig.add_subplot(1, 1, 1)"
   ]
  },
  {
   "cell_type": "code",
   "execution_count": 26,
   "metadata": {
    "pycharm": {
     "name": "#%%\n"
    }
   },
   "outputs": [],
   "source": [
    "\n",
    "plot_dendrogram(model, labels=list(y), ax=ax)"
   ]
  },
  {
   "cell_type": "code",
   "execution_count": 27,
   "metadata": {
    "pycharm": {
     "name": "#%%\n"
    }
   },
   "outputs": [],
   "source": [
    "x = plt.setp(ax.get_xticklabels(), fontsize=25)"
   ]
  },
  {
   "cell_type": "code",
   "execution_count": 31,
   "metadata": {
    "pycharm": {
     "name": "#%%\n"
    }
   },
   "outputs": [],
   "source": [
    "fig.savefig('/Users/inzamamrahaman/Desktop/non_guardian/teaching/COMP6940-2023/Labs/dsProject/7/temp.png')"
   ]
  },
  {
   "cell_type": "code",
   "execution_count": 29,
   "outputs": [
    {
     "name": "stdout",
     "output_type": "stream",
     "text": [
      "Categorical NB.ipynb\r\n",
      "Classification Example.ipynb\r\n",
      "Classification.ipynb\r\n",
      "CornacExp-2023-03-22_14-47-12-647981.log\r\n",
      "CornacExp-2023-03-22_14-51-46-993467.log\r\n",
      "Example2.ipynb\r\n",
      "Gaussian NB.ipynb\r\n",
      "HClustering Example.ipynb\r\n",
      "KMeans.ipynb\r\n",
      "Ratings.ipynb\r\n",
      "Scientific Rule mining.ipynb\r\n",
      "Simple Example.ipynb\r\n",
      "Simple Rule Mining.ipynb\r\n",
      "Untitled.ipynb\r\n",
      "Untitled1.ipynb\r\n",
      "\u001B[1m\u001B[36mdata\u001B[m\u001B[m\r\n",
      "kNN.ipynb\r\n",
      "recommendation_system.ipynb\r\n",
      "temp.png\r\n"
     ]
    }
   ],
   "source": [
    "!ls"
   ],
   "metadata": {
    "collapsed": false,
    "pycharm": {
     "name": "#%%\n"
    }
   }
  },
  {
   "cell_type": "code",
   "execution_count": 30,
   "outputs": [
    {
     "name": "stdout",
     "output_type": "stream",
     "text": [
      "/Users/inzamamrahaman/Desktop/non_guardian/teaching/COMP6940-2023/Labs/dsProject/7\r\n"
     ]
    }
   ],
   "source": [
    "!pwd"
   ],
   "metadata": {
    "collapsed": false,
    "pycharm": {
     "name": "#%%\n"
    }
   }
  },
  {
   "cell_type": "code",
   "execution_count": null,
   "outputs": [],
   "source": [],
   "metadata": {
    "collapsed": false,
    "pycharm": {
     "name": "#%%\n"
    }
   }
  }
 ],
 "metadata": {
  "kernelspec": {
   "display_name": "Python 3",
   "language": "python",
   "name": "python3"
  },
  "language_info": {
   "codemirror_mode": {
    "name": "ipython",
    "version": 3
   },
   "file_extension": ".py",
   "mimetype": "text/x-python",
   "name": "python",
   "nbconvert_exporter": "python",
   "pygments_lexer": "ipython3",
   "version": "3.6.10"
  }
 },
 "nbformat": 4,
 "nbformat_minor": 4
}