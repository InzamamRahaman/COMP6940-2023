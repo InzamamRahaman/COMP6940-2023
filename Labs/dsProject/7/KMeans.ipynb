{
 "cells": [
  {
   "cell_type": "code",
   "execution_count": 1,
   "metadata": {
    "pycharm": {
     "name": "#%%\n"
    }
   },
   "outputs": [
    {
     "name": "stdout",
     "output_type": "stream",
     "text": [
      "Populating the interactive namespace from numpy and matplotlib\n"
     ]
    }
   ],
   "source": [
    "%pylab inline\n",
    "import numpy as np \n",
    "import pandas as pd \n",
    "from sklearn import tree\n",
    "from sklearn import naive_bayes\n",
    "from sklearn import model_selection\n",
    "from sklearn import preprocessing\n",
    "from sklearn import metrics\n",
    "from sklearn import cluster"
   ]
  },
  {
   "cell_type": "code",
   "execution_count": 4,
   "metadata": {
    "pycharm": {
     "name": "#%%\n"
    }
   },
   "outputs": [],
   "source": [
    "df = pd.read_csv('./data/wdbc.data', header=None) # cancer dataset"
   ]
  },
  {
   "cell_type": "code",
   "execution_count": 5,
   "metadata": {
    "pycharm": {
     "name": "#%%\n"
    }
   },
   "outputs": [
    {
     "data": {
      "text/plain": "         0  1      2        3         4          5          6         7   \\\n0    842302  M  17.99  10.3801    0.1184     0.2776  122.80000  10.00000   \n1    842517  M  20.57  17.7700  132.9000  1326.0000    0.08474   0.07864   \n2  84300903  M  19.69  21.2500  130.0000  1203.0000    0.10960   0.15990   \n3  84348301  M  11.42  20.3800   77.5800   386.1000    0.14250   0.28390   \n4  84358402  M  20.29  14.3400  135.1000  1297.0000    0.10030   0.13280   \n\n       8        9   ...     22     23      24      25      26      27      28  \\\n0  0.3001  0.14710  ...  25.38  17.33  184.60  2019.0  0.1622  0.6656  0.7119   \n1  0.0869  0.07017  ...  24.99  23.41  158.80  1956.0  0.1238  0.1866  0.2416   \n2  0.1974  0.12790  ...  23.57  25.53  152.50  1709.0  0.1444  0.4245  0.4504   \n3  0.2414  0.10520  ...  14.91  26.50   98.87   567.7  0.2098  0.8663  0.6869   \n4  0.1980  0.10430  ...  22.54  16.67  152.20  1575.0  0.1374  0.2050  0.4000   \n\n       29      30       31  \n0  0.2654  0.4601  0.11890  \n1  0.1860  0.2750  0.08902  \n2  0.2430  0.3613  0.08758  \n3  0.2575  0.6638  0.17300  \n4  0.1625  0.2364  0.07678  \n\n[5 rows x 32 columns]",
      "text/html": "<div>\n<style scoped>\n    .dataframe tbody tr th:only-of-type {\n        vertical-align: middle;\n    }\n\n    .dataframe tbody tr th {\n        vertical-align: top;\n    }\n\n    .dataframe thead th {\n        text-align: right;\n    }\n</style>\n<table border=\"1\" class=\"dataframe\">\n  <thead>\n    <tr style=\"text-align: right;\">\n      <th></th>\n      <th>0</th>\n      <th>1</th>\n      <th>2</th>\n      <th>3</th>\n      <th>4</th>\n      <th>5</th>\n      <th>6</th>\n      <th>7</th>\n      <th>8</th>\n      <th>9</th>\n      <th>...</th>\n      <th>22</th>\n      <th>23</th>\n      <th>24</th>\n      <th>25</th>\n      <th>26</th>\n      <th>27</th>\n      <th>28</th>\n      <th>29</th>\n      <th>30</th>\n      <th>31</th>\n    </tr>\n  </thead>\n  <tbody>\n    <tr>\n      <th>0</th>\n      <td>842302</td>\n      <td>M</td>\n      <td>17.99</td>\n      <td>10.3801</td>\n      <td>0.1184</td>\n      <td>0.2776</td>\n      <td>122.80000</td>\n      <td>10.00000</td>\n      <td>0.3001</td>\n      <td>0.14710</td>\n      <td>...</td>\n      <td>25.38</td>\n      <td>17.33</td>\n      <td>184.60</td>\n      <td>2019.0</td>\n      <td>0.1622</td>\n      <td>0.6656</td>\n      <td>0.7119</td>\n      <td>0.2654</td>\n      <td>0.4601</td>\n      <td>0.11890</td>\n    </tr>\n    <tr>\n      <th>1</th>\n      <td>842517</td>\n      <td>M</td>\n      <td>20.57</td>\n      <td>17.7700</td>\n      <td>132.9000</td>\n      <td>1326.0000</td>\n      <td>0.08474</td>\n      <td>0.07864</td>\n      <td>0.0869</td>\n      <td>0.07017</td>\n      <td>...</td>\n      <td>24.99</td>\n      <td>23.41</td>\n      <td>158.80</td>\n      <td>1956.0</td>\n      <td>0.1238</td>\n      <td>0.1866</td>\n      <td>0.2416</td>\n      <td>0.1860</td>\n      <td>0.2750</td>\n      <td>0.08902</td>\n    </tr>\n    <tr>\n      <th>2</th>\n      <td>84300903</td>\n      <td>M</td>\n      <td>19.69</td>\n      <td>21.2500</td>\n      <td>130.0000</td>\n      <td>1203.0000</td>\n      <td>0.10960</td>\n      <td>0.15990</td>\n      <td>0.1974</td>\n      <td>0.12790</td>\n      <td>...</td>\n      <td>23.57</td>\n      <td>25.53</td>\n      <td>152.50</td>\n      <td>1709.0</td>\n      <td>0.1444</td>\n      <td>0.4245</td>\n      <td>0.4504</td>\n      <td>0.2430</td>\n      <td>0.3613</td>\n      <td>0.08758</td>\n    </tr>\n    <tr>\n      <th>3</th>\n      <td>84348301</td>\n      <td>M</td>\n      <td>11.42</td>\n      <td>20.3800</td>\n      <td>77.5800</td>\n      <td>386.1000</td>\n      <td>0.14250</td>\n      <td>0.28390</td>\n      <td>0.2414</td>\n      <td>0.10520</td>\n      <td>...</td>\n      <td>14.91</td>\n      <td>26.50</td>\n      <td>98.87</td>\n      <td>567.7</td>\n      <td>0.2098</td>\n      <td>0.8663</td>\n      <td>0.6869</td>\n      <td>0.2575</td>\n      <td>0.6638</td>\n      <td>0.17300</td>\n    </tr>\n    <tr>\n      <th>4</th>\n      <td>84358402</td>\n      <td>M</td>\n      <td>20.29</td>\n      <td>14.3400</td>\n      <td>135.1000</td>\n      <td>1297.0000</td>\n      <td>0.10030</td>\n      <td>0.13280</td>\n      <td>0.1980</td>\n      <td>0.10430</td>\n      <td>...</td>\n      <td>22.54</td>\n      <td>16.67</td>\n      <td>152.20</td>\n      <td>1575.0</td>\n      <td>0.1374</td>\n      <td>0.2050</td>\n      <td>0.4000</td>\n      <td>0.1625</td>\n      <td>0.2364</td>\n      <td>0.07678</td>\n    </tr>\n  </tbody>\n</table>\n<p>5 rows × 32 columns</p>\n</div>"
     },
     "execution_count": 5,
     "metadata": {},
     "output_type": "execute_result"
    }
   ],
   "source": [
    "df.head()"
   ]
  },
  {
   "cell_type": "code",
   "execution_count": 12,
   "outputs": [],
   "source": [
    "cancerous_data = df[df[1] == 'M']"
   ],
   "metadata": {
    "collapsed": false,
    "pycharm": {
     "name": "#%%\n"
    }
   }
  },
  {
   "cell_type": "code",
   "execution_count": 13,
   "outputs": [
    {
     "data": {
      "text/plain": "         0  1      2        3         4          5          6         7   \\\n0    842302  M  17.99  10.3801    0.1184     0.2776  122.80000  10.00000   \n1    842517  M  20.57  17.7700  132.9000  1326.0000    0.08474   0.07864   \n2  84300903  M  19.69  21.2500  130.0000  1203.0000    0.10960   0.15990   \n3  84348301  M  11.42  20.3800   77.5800   386.1000    0.14250   0.28390   \n4  84358402  M  20.29  14.3400  135.1000  1297.0000    0.10030   0.13280   \n\n       8        9   ...     22     23      24      25      26      27      28  \\\n0  0.3001  0.14710  ...  25.38  17.33  184.60  2019.0  0.1622  0.6656  0.7119   \n1  0.0869  0.07017  ...  24.99  23.41  158.80  1956.0  0.1238  0.1866  0.2416   \n2  0.1974  0.12790  ...  23.57  25.53  152.50  1709.0  0.1444  0.4245  0.4504   \n3  0.2414  0.10520  ...  14.91  26.50   98.87   567.7  0.2098  0.8663  0.6869   \n4  0.1980  0.10430  ...  22.54  16.67  152.20  1575.0  0.1374  0.2050  0.4000   \n\n       29      30       31  \n0  0.2654  0.4601  0.11890  \n1  0.1860  0.2750  0.08902  \n2  0.2430  0.3613  0.08758  \n3  0.2575  0.6638  0.17300  \n4  0.1625  0.2364  0.07678  \n\n[5 rows x 32 columns]",
      "text/html": "<div>\n<style scoped>\n    .dataframe tbody tr th:only-of-type {\n        vertical-align: middle;\n    }\n\n    .dataframe tbody tr th {\n        vertical-align: top;\n    }\n\n    .dataframe thead th {\n        text-align: right;\n    }\n</style>\n<table border=\"1\" class=\"dataframe\">\n  <thead>\n    <tr style=\"text-align: right;\">\n      <th></th>\n      <th>0</th>\n      <th>1</th>\n      <th>2</th>\n      <th>3</th>\n      <th>4</th>\n      <th>5</th>\n      <th>6</th>\n      <th>7</th>\n      <th>8</th>\n      <th>9</th>\n      <th>...</th>\n      <th>22</th>\n      <th>23</th>\n      <th>24</th>\n      <th>25</th>\n      <th>26</th>\n      <th>27</th>\n      <th>28</th>\n      <th>29</th>\n      <th>30</th>\n      <th>31</th>\n    </tr>\n  </thead>\n  <tbody>\n    <tr>\n      <th>0</th>\n      <td>842302</td>\n      <td>M</td>\n      <td>17.99</td>\n      <td>10.3801</td>\n      <td>0.1184</td>\n      <td>0.2776</td>\n      <td>122.80000</td>\n      <td>10.00000</td>\n      <td>0.3001</td>\n      <td>0.14710</td>\n      <td>...</td>\n      <td>25.38</td>\n      <td>17.33</td>\n      <td>184.60</td>\n      <td>2019.0</td>\n      <td>0.1622</td>\n      <td>0.6656</td>\n      <td>0.7119</td>\n      <td>0.2654</td>\n      <td>0.4601</td>\n      <td>0.11890</td>\n    </tr>\n    <tr>\n      <th>1</th>\n      <td>842517</td>\n      <td>M</td>\n      <td>20.57</td>\n      <td>17.7700</td>\n      <td>132.9000</td>\n      <td>1326.0000</td>\n      <td>0.08474</td>\n      <td>0.07864</td>\n      <td>0.0869</td>\n      <td>0.07017</td>\n      <td>...</td>\n      <td>24.99</td>\n      <td>23.41</td>\n      <td>158.80</td>\n      <td>1956.0</td>\n      <td>0.1238</td>\n      <td>0.1866</td>\n      <td>0.2416</td>\n      <td>0.1860</td>\n      <td>0.2750</td>\n      <td>0.08902</td>\n    </tr>\n    <tr>\n      <th>2</th>\n      <td>84300903</td>\n      <td>M</td>\n      <td>19.69</td>\n      <td>21.2500</td>\n      <td>130.0000</td>\n      <td>1203.0000</td>\n      <td>0.10960</td>\n      <td>0.15990</td>\n      <td>0.1974</td>\n      <td>0.12790</td>\n      <td>...</td>\n      <td>23.57</td>\n      <td>25.53</td>\n      <td>152.50</td>\n      <td>1709.0</td>\n      <td>0.1444</td>\n      <td>0.4245</td>\n      <td>0.4504</td>\n      <td>0.2430</td>\n      <td>0.3613</td>\n      <td>0.08758</td>\n    </tr>\n    <tr>\n      <th>3</th>\n      <td>84348301</td>\n      <td>M</td>\n      <td>11.42</td>\n      <td>20.3800</td>\n      <td>77.5800</td>\n      <td>386.1000</td>\n      <td>0.14250</td>\n      <td>0.28390</td>\n      <td>0.2414</td>\n      <td>0.10520</td>\n      <td>...</td>\n      <td>14.91</td>\n      <td>26.50</td>\n      <td>98.87</td>\n      <td>567.7</td>\n      <td>0.2098</td>\n      <td>0.8663</td>\n      <td>0.6869</td>\n      <td>0.2575</td>\n      <td>0.6638</td>\n      <td>0.17300</td>\n    </tr>\n    <tr>\n      <th>4</th>\n      <td>84358402</td>\n      <td>M</td>\n      <td>20.29</td>\n      <td>14.3400</td>\n      <td>135.1000</td>\n      <td>1297.0000</td>\n      <td>0.10030</td>\n      <td>0.13280</td>\n      <td>0.1980</td>\n      <td>0.10430</td>\n      <td>...</td>\n      <td>22.54</td>\n      <td>16.67</td>\n      <td>152.20</td>\n      <td>1575.0</td>\n      <td>0.1374</td>\n      <td>0.2050</td>\n      <td>0.4000</td>\n      <td>0.1625</td>\n      <td>0.2364</td>\n      <td>0.07678</td>\n    </tr>\n  </tbody>\n</table>\n<p>5 rows × 32 columns</p>\n</div>"
     },
     "execution_count": 13,
     "metadata": {},
     "output_type": "execute_result"
    }
   ],
   "source": [
    "cancerous_data.head()"
   ],
   "metadata": {
    "collapsed": false,
    "pycharm": {
     "name": "#%%\n"
    }
   }
  },
  {
   "cell_type": "code",
   "execution_count": 14,
   "outputs": [],
   "source": [
    "cancerous_data = cancerous_data.drop([0, 1], axis=1)"
   ],
   "metadata": {
    "collapsed": false,
    "pycharm": {
     "name": "#%%\n"
    }
   }
  },
  {
   "cell_type": "code",
   "execution_count": 15,
   "outputs": [
    {
     "data": {
      "text/plain": "        2        3         4          5          6         7        8   \\\n0    17.99  10.3801    0.1184     0.2776  122.80000  10.00000  0.30010   \n1    20.57  17.7700  132.9000  1326.0000    0.08474   0.07864  0.08690   \n2    19.69  21.2500  130.0000  1203.0000    0.10960   0.15990  0.19740   \n3    11.42  20.3800   77.5800   386.1000    0.14250   0.28390  0.24140   \n4    20.29  14.3400  135.1000  1297.0000    0.10030   0.13280  0.19800   \n..     ...      ...       ...        ...        ...       ...      ...   \n563  20.92  25.0900  143.0000  1347.0000    0.10990   0.22360  0.31740   \n564  21.56  22.3900  142.0000  1479.0000    0.11100   0.11590  0.24390   \n565  20.13  28.2500  131.2000  1261.0000    0.09780   0.10340  0.14400   \n566  16.60  28.0800  108.3000   858.1000    0.08455   0.10230  0.09251   \n567  20.60  29.3300  140.1000  1265.0000    0.11780   0.27700  0.35140   \n\n          9       10       11  ...     22     23      24      25      26  \\\n0    0.14710  0.2419  0.07871  ...  25.38  17.33  184.60  2019.0  0.1622   \n1    0.07017  0.1812  0.05667  ...  24.99  23.41  158.80  1956.0  0.1238   \n2    0.12790  0.2069  0.05999  ...  23.57  25.53  152.50  1709.0  0.1444   \n3    0.10520  0.2597  0.09744  ...  14.91  26.50   98.87   567.7  0.2098   \n4    0.10430  0.1809  0.05883  ...  22.54  16.67  152.20  1575.0  0.1374   \n..       ...     ...      ...  ...    ...    ...     ...     ...     ...   \n563  0.14740  0.2149  0.06879  ...  24.29  29.41  179.10  1819.0  0.1407   \n564  0.13890  0.1726  0.05623  ...  25.45  26.40  166.10  2027.0  0.1410   \n565  0.09791  0.1752  0.05533  ...  23.69  38.25  155.00  1731.0  0.1166   \n566  0.05302  0.1590  0.05648  ...  18.98  34.12  126.70  1124.0  0.1139   \n567  0.15200  0.2397  0.07016  ...  25.74  39.42  184.60  1821.0  0.1650   \n\n         27      28      29      30       31  \n0    0.6656  0.7119  0.2654  0.4601  0.11890  \n1    0.1866  0.2416  0.1860  0.2750  0.08902  \n2    0.4245  0.4504  0.2430  0.3613  0.08758  \n3    0.8663  0.6869  0.2575  0.6638  0.17300  \n4    0.2050  0.4000  0.1625  0.2364  0.07678  \n..      ...     ...     ...     ...      ...  \n563  0.4186  0.6599  0.2542  0.2929  0.09873  \n564  0.2113  0.4107  0.2216  0.2060  0.07115  \n565  0.1922  0.3215  0.1628  0.2572  0.06637  \n566  0.3094  0.3403  0.1418  0.2218  0.07820  \n567  0.8681  0.9387  0.2650  0.4087  0.12400  \n\n[212 rows x 30 columns]",
      "text/html": "<div>\n<style scoped>\n    .dataframe tbody tr th:only-of-type {\n        vertical-align: middle;\n    }\n\n    .dataframe tbody tr th {\n        vertical-align: top;\n    }\n\n    .dataframe thead th {\n        text-align: right;\n    }\n</style>\n<table border=\"1\" class=\"dataframe\">\n  <thead>\n    <tr style=\"text-align: right;\">\n      <th></th>\n      <th>2</th>\n      <th>3</th>\n      <th>4</th>\n      <th>5</th>\n      <th>6</th>\n      <th>7</th>\n      <th>8</th>\n      <th>9</th>\n      <th>10</th>\n      <th>11</th>\n      <th>...</th>\n      <th>22</th>\n      <th>23</th>\n      <th>24</th>\n      <th>25</th>\n      <th>26</th>\n      <th>27</th>\n      <th>28</th>\n      <th>29</th>\n      <th>30</th>\n      <th>31</th>\n    </tr>\n  </thead>\n  <tbody>\n    <tr>\n      <th>0</th>\n      <td>17.99</td>\n      <td>10.3801</td>\n      <td>0.1184</td>\n      <td>0.2776</td>\n      <td>122.80000</td>\n      <td>10.00000</td>\n      <td>0.30010</td>\n      <td>0.14710</td>\n      <td>0.2419</td>\n      <td>0.07871</td>\n      <td>...</td>\n      <td>25.38</td>\n      <td>17.33</td>\n      <td>184.60</td>\n      <td>2019.0</td>\n      <td>0.1622</td>\n      <td>0.6656</td>\n      <td>0.7119</td>\n      <td>0.2654</td>\n      <td>0.4601</td>\n      <td>0.11890</td>\n    </tr>\n    <tr>\n      <th>1</th>\n      <td>20.57</td>\n      <td>17.7700</td>\n      <td>132.9000</td>\n      <td>1326.0000</td>\n      <td>0.08474</td>\n      <td>0.07864</td>\n      <td>0.08690</td>\n      <td>0.07017</td>\n      <td>0.1812</td>\n      <td>0.05667</td>\n      <td>...</td>\n      <td>24.99</td>\n      <td>23.41</td>\n      <td>158.80</td>\n      <td>1956.0</td>\n      <td>0.1238</td>\n      <td>0.1866</td>\n      <td>0.2416</td>\n      <td>0.1860</td>\n      <td>0.2750</td>\n      <td>0.08902</td>\n    </tr>\n    <tr>\n      <th>2</th>\n      <td>19.69</td>\n      <td>21.2500</td>\n      <td>130.0000</td>\n      <td>1203.0000</td>\n      <td>0.10960</td>\n      <td>0.15990</td>\n      <td>0.19740</td>\n      <td>0.12790</td>\n      <td>0.2069</td>\n      <td>0.05999</td>\n      <td>...</td>\n      <td>23.57</td>\n      <td>25.53</td>\n      <td>152.50</td>\n      <td>1709.0</td>\n      <td>0.1444</td>\n      <td>0.4245</td>\n      <td>0.4504</td>\n      <td>0.2430</td>\n      <td>0.3613</td>\n      <td>0.08758</td>\n    </tr>\n    <tr>\n      <th>3</th>\n      <td>11.42</td>\n      <td>20.3800</td>\n      <td>77.5800</td>\n      <td>386.1000</td>\n      <td>0.14250</td>\n      <td>0.28390</td>\n      <td>0.24140</td>\n      <td>0.10520</td>\n      <td>0.2597</td>\n      <td>0.09744</td>\n      <td>...</td>\n      <td>14.91</td>\n      <td>26.50</td>\n      <td>98.87</td>\n      <td>567.7</td>\n      <td>0.2098</td>\n      <td>0.8663</td>\n      <td>0.6869</td>\n      <td>0.2575</td>\n      <td>0.6638</td>\n      <td>0.17300</td>\n    </tr>\n    <tr>\n      <th>4</th>\n      <td>20.29</td>\n      <td>14.3400</td>\n      <td>135.1000</td>\n      <td>1297.0000</td>\n      <td>0.10030</td>\n      <td>0.13280</td>\n      <td>0.19800</td>\n      <td>0.10430</td>\n      <td>0.1809</td>\n      <td>0.05883</td>\n      <td>...</td>\n      <td>22.54</td>\n      <td>16.67</td>\n      <td>152.20</td>\n      <td>1575.0</td>\n      <td>0.1374</td>\n      <td>0.2050</td>\n      <td>0.4000</td>\n      <td>0.1625</td>\n      <td>0.2364</td>\n      <td>0.07678</td>\n    </tr>\n    <tr>\n      <th>...</th>\n      <td>...</td>\n      <td>...</td>\n      <td>...</td>\n      <td>...</td>\n      <td>...</td>\n      <td>...</td>\n      <td>...</td>\n      <td>...</td>\n      <td>...</td>\n      <td>...</td>\n      <td>...</td>\n      <td>...</td>\n      <td>...</td>\n      <td>...</td>\n      <td>...</td>\n      <td>...</td>\n      <td>...</td>\n      <td>...</td>\n      <td>...</td>\n      <td>...</td>\n      <td>...</td>\n    </tr>\n    <tr>\n      <th>563</th>\n      <td>20.92</td>\n      <td>25.0900</td>\n      <td>143.0000</td>\n      <td>1347.0000</td>\n      <td>0.10990</td>\n      <td>0.22360</td>\n      <td>0.31740</td>\n      <td>0.14740</td>\n      <td>0.2149</td>\n      <td>0.06879</td>\n      <td>...</td>\n      <td>24.29</td>\n      <td>29.41</td>\n      <td>179.10</td>\n      <td>1819.0</td>\n      <td>0.1407</td>\n      <td>0.4186</td>\n      <td>0.6599</td>\n      <td>0.2542</td>\n      <td>0.2929</td>\n      <td>0.09873</td>\n    </tr>\n    <tr>\n      <th>564</th>\n      <td>21.56</td>\n      <td>22.3900</td>\n      <td>142.0000</td>\n      <td>1479.0000</td>\n      <td>0.11100</td>\n      <td>0.11590</td>\n      <td>0.24390</td>\n      <td>0.13890</td>\n      <td>0.1726</td>\n      <td>0.05623</td>\n      <td>...</td>\n      <td>25.45</td>\n      <td>26.40</td>\n      <td>166.10</td>\n      <td>2027.0</td>\n      <td>0.1410</td>\n      <td>0.2113</td>\n      <td>0.4107</td>\n      <td>0.2216</td>\n      <td>0.2060</td>\n      <td>0.07115</td>\n    </tr>\n    <tr>\n      <th>565</th>\n      <td>20.13</td>\n      <td>28.2500</td>\n      <td>131.2000</td>\n      <td>1261.0000</td>\n      <td>0.09780</td>\n      <td>0.10340</td>\n      <td>0.14400</td>\n      <td>0.09791</td>\n      <td>0.1752</td>\n      <td>0.05533</td>\n      <td>...</td>\n      <td>23.69</td>\n      <td>38.25</td>\n      <td>155.00</td>\n      <td>1731.0</td>\n      <td>0.1166</td>\n      <td>0.1922</td>\n      <td>0.3215</td>\n      <td>0.1628</td>\n      <td>0.2572</td>\n      <td>0.06637</td>\n    </tr>\n    <tr>\n      <th>566</th>\n      <td>16.60</td>\n      <td>28.0800</td>\n      <td>108.3000</td>\n      <td>858.1000</td>\n      <td>0.08455</td>\n      <td>0.10230</td>\n      <td>0.09251</td>\n      <td>0.05302</td>\n      <td>0.1590</td>\n      <td>0.05648</td>\n      <td>...</td>\n      <td>18.98</td>\n      <td>34.12</td>\n      <td>126.70</td>\n      <td>1124.0</td>\n      <td>0.1139</td>\n      <td>0.3094</td>\n      <td>0.3403</td>\n      <td>0.1418</td>\n      <td>0.2218</td>\n      <td>0.07820</td>\n    </tr>\n    <tr>\n      <th>567</th>\n      <td>20.60</td>\n      <td>29.3300</td>\n      <td>140.1000</td>\n      <td>1265.0000</td>\n      <td>0.11780</td>\n      <td>0.27700</td>\n      <td>0.35140</td>\n      <td>0.15200</td>\n      <td>0.2397</td>\n      <td>0.07016</td>\n      <td>...</td>\n      <td>25.74</td>\n      <td>39.42</td>\n      <td>184.60</td>\n      <td>1821.0</td>\n      <td>0.1650</td>\n      <td>0.8681</td>\n      <td>0.9387</td>\n      <td>0.2650</td>\n      <td>0.4087</td>\n      <td>0.12400</td>\n    </tr>\n  </tbody>\n</table>\n<p>212 rows × 30 columns</p>\n</div>"
     },
     "execution_count": 15,
     "metadata": {},
     "output_type": "execute_result"
    }
   ],
   "source": [
    "cancerous_data"
   ],
   "metadata": {
    "collapsed": false,
    "pycharm": {
     "name": "#%%\n"
    }
   }
  },
  {
   "cell_type": "code",
   "execution_count": 16,
   "outputs": [],
   "source": [
    "standard_scaler = preprocessing.MinMaxScaler()\n",
    "cancerous_data_scaled = standard_scaler.fit_transform(cancerous_data)"
   ],
   "metadata": {
    "collapsed": false,
    "pycharm": {
     "name": "#%%\n"
    }
   }
  },
  {
   "cell_type": "code",
   "execution_count": 18,
   "outputs": [
    {
     "data": {
      "text/plain": "array([[0.41025641, 0.        , 0.        , ..., 0.90229381, 0.59846245,\n        0.41886396],\n       [0.56060606, 0.25570677, 0.7048544 , ..., 0.59925194, 0.23358959,\n        0.22287813],\n       [0.50932401, 0.37612241, 0.68946012, ..., 0.81680089, 0.40370589,\n        0.21343303],\n       ...,\n       [0.53496503, 0.61833778, 0.69583017, ..., 0.5107057 , 0.19850187,\n        0.07431457],\n       [0.32925408, 0.61245541, 0.5742684 , ..., 0.43055609, 0.12872068,\n        0.1519087 ],\n       [0.56235431, 0.65570815, 0.7430747 , ..., 0.90076715, 0.49714173,\n        0.45231536]])"
     },
     "execution_count": 18,
     "metadata": {},
     "output_type": "execute_result"
    }
   ],
   "source": [
    "cancerous_data_scaled"
   ],
   "metadata": {
    "collapsed": false,
    "pycharm": {
     "name": "#%%\n"
    }
   }
  },
  {
   "cell_type": "code",
   "execution_count": 20,
   "metadata": {
    "pycharm": {
     "name": "#%%\n"
    }
   },
   "outputs": [
    {
     "name": "stderr",
     "output_type": "stream",
     "text": [
      "/Users/inzamamrahaman/opt/anaconda3/lib/python3.9/site-packages/sklearn/cluster/_kmeans.py:870: FutureWarning: The default value of `n_init` will change from 10 to 'auto' in 1.4. Set the value of `n_init` explicitly to suppress the warning\n",
      "  warnings.warn(\n",
      "/Users/inzamamrahaman/opt/anaconda3/lib/python3.9/site-packages/sklearn/cluster/_kmeans.py:870: FutureWarning: The default value of `n_init` will change from 10 to 'auto' in 1.4. Set the value of `n_init` explicitly to suppress the warning\n",
      "  warnings.warn(\n",
      "/Users/inzamamrahaman/opt/anaconda3/lib/python3.9/site-packages/sklearn/cluster/_kmeans.py:870: FutureWarning: The default value of `n_init` will change from 10 to 'auto' in 1.4. Set the value of `n_init` explicitly to suppress the warning\n",
      "  warnings.warn(\n",
      "/Users/inzamamrahaman/opt/anaconda3/lib/python3.9/site-packages/sklearn/cluster/_kmeans.py:870: FutureWarning: The default value of `n_init` will change from 10 to 'auto' in 1.4. Set the value of `n_init` explicitly to suppress the warning\n",
      "  warnings.warn(\n",
      "/Users/inzamamrahaman/opt/anaconda3/lib/python3.9/site-packages/sklearn/cluster/_kmeans.py:870: FutureWarning: The default value of `n_init` will change from 10 to 'auto' in 1.4. Set the value of `n_init` explicitly to suppress the warning\n",
      "  warnings.warn(\n",
      "/Users/inzamamrahaman/opt/anaconda3/lib/python3.9/site-packages/sklearn/cluster/_kmeans.py:870: FutureWarning: The default value of `n_init` will change from 10 to 'auto' in 1.4. Set the value of `n_init` explicitly to suppress the warning\n",
      "  warnings.warn(\n",
      "/Users/inzamamrahaman/opt/anaconda3/lib/python3.9/site-packages/sklearn/cluster/_kmeans.py:870: FutureWarning: The default value of `n_init` will change from 10 to 'auto' in 1.4. Set the value of `n_init` explicitly to suppress the warning\n",
      "  warnings.warn(\n",
      "/Users/inzamamrahaman/opt/anaconda3/lib/python3.9/site-packages/sklearn/cluster/_kmeans.py:870: FutureWarning: The default value of `n_init` will change from 10 to 'auto' in 1.4. Set the value of `n_init` explicitly to suppress the warning\n",
      "  warnings.warn(\n",
      "/Users/inzamamrahaman/opt/anaconda3/lib/python3.9/site-packages/sklearn/cluster/_kmeans.py:870: FutureWarning: The default value of `n_init` will change from 10 to 'auto' in 1.4. Set the value of `n_init` explicitly to suppress the warning\n",
      "  warnings.warn(\n"
     ]
    }
   ],
   "source": [
    "inertia = []\n",
    "for k in range(2, 10 + 1):\n",
    "    k_means = cluster.KMeans(k)\n",
    "    k_means.fit(cancerous_data_scaled)\n",
    "    inertia.append(k_means.inertia_)"
   ]
  },
  {
   "cell_type": "code",
   "execution_count": 21,
   "metadata": {
    "pycharm": {
     "name": "#%%\n"
    }
   },
   "outputs": [
    {
     "data": {
      "text/plain": "[<matplotlib.lines.Line2D at 0x7f85f185d940>]"
     },
     "execution_count": 21,
     "metadata": {},
     "output_type": "execute_result"
    },
    {
     "data": {
      "text/plain": "<Figure size 432x288 with 1 Axes>",
      "image/png": "[encoded data removed]"
     },
     "metadata": {
      "needs_background": "light"
     },
     "output_type": "display_data"
    }
   ],
   "source": [
    "plt.plot(list(range(2, 10 + 1)), inertia)"
   ]
  },
  {
   "cell_type": "code",
   "execution_count": 22,
   "outputs": [
    {
     "name": "stderr",
     "output_type": "stream",
     "text": [
      "/Users/inzamamrahaman/opt/anaconda3/lib/python3.9/site-packages/sklearn/cluster/_kmeans.py:870: FutureWarning: The default value of `n_init` will change from 10 to 'auto' in 1.4. Set the value of `n_init` explicitly to suppress the warning\n",
      "  warnings.warn(\n"
     ]
    },
    {
     "data": {
      "text/plain": "KMeans(n_clusters=4)",
      "text/html": "<style>#sk-container-id-1 {color: black;background-color: white;}#sk-container-id-1 pre{padding: 0;}#sk-container-id-1 div.sk-toggleable {background-color: white;}#sk-container-id-1 label.sk-toggleable__label {cursor: pointer;display: block;width: 100%;margin-bottom: 0;padding: 0.3em;box-sizing: border-box;text-align: center;}#sk-container-id-1 label.sk-toggleable__label-arrow:before {content: \"▸\";float: left;margin-right: 0.25em;color: #696969;}#sk-container-id-1 label.sk-toggleable__label-arrow:hover:before {color: black;}#sk-container-id-1 div.sk-estimator:hover label.sk-toggleable__label-arrow:before {color: black;}#sk-container-id-1 div.sk-toggleable__content {max-height: 0;max-width: 0;overflow: hidden;text-align: left;background-color: #f0f8ff;}#sk-container-id-1 div.sk-toggleable__content pre {margin: 0.2em;color: black;border-radius: 0.25em;background-color: #f0f8ff;}#sk-container-id-1 input.sk-toggleable__control:checked~div.sk-toggleable__content {max-height: 200px;max-width: 100%;overflow: auto;}#sk-container-id-1 input.sk-toggleable__control:checked~label.sk-toggleable__label-arrow:before {content: \"▾\";}#sk-container-id-1 div.sk-estimator input.sk-toggleable__control:checked~label.sk-toggleable__label {background-color: #d4ebff;}#sk-container-id-1 div.sk-label input.sk-toggleable__control:checked~label.sk-toggleable__label {background-color: #d4ebff;}#sk-container-id-1 input.sk-hidden--visually {border: 0;clip: rect(1px 1px 1px 1px);clip: rect(1px, 1px, 1px, 1px);height: 1px;margin: -1px;overflow: hidden;padding: 0;position: absolute;width: 1px;}#sk-container-id-1 div.sk-estimator {font-family: monospace;background-color: #f0f8ff;border: 1px dotted black;border-radius: 0.25em;box-sizing: border-box;margin-bottom: 0.5em;}#sk-container-id-1 div.sk-estimator:hover {background-color: #d4ebff;}#sk-container-id-1 div.sk-parallel-item::after {content: \"\";width: 100%;border-bottom: 1px solid gray;flex-grow: 1;}#sk-container-id-1 div.sk-label:hover label.sk-toggleable__label {background-color: #d4ebff;}#sk-container-id-1 div.sk-serial::before {content: \"\";position: absolute;border-left: 1px solid gray;box-sizing: border-box;top: 0;bottom: 0;left: 50%;z-index: 0;}#sk-container-id-1 div.sk-serial {display: flex;flex-direction: column;align-items: center;background-color: white;padding-right: 0.2em;padding-left: 0.2em;position: relative;}#sk-container-id-1 div.sk-item {position: relative;z-index: 1;}#sk-container-id-1 div.sk-parallel {display: flex;align-items: stretch;justify-content: center;background-color: white;position: relative;}#sk-container-id-1 div.sk-item::before, #sk-container-id-1 div.sk-parallel-item::before {content: \"\";position: absolute;border-left: 1px solid gray;box-sizing: border-box;top: 0;bottom: 0;left: 50%;z-index: -1;}#sk-container-id-1 div.sk-parallel-item {display: flex;flex-direction: column;z-index: 1;position: relative;background-color: white;}#sk-container-id-1 div.sk-parallel-item:first-child::after {align-self: flex-end;width: 50%;}#sk-container-id-1 div.sk-parallel-item:last-child::after {align-self: flex-start;width: 50%;}#sk-container-id-1 div.sk-parallel-item:only-child::after {width: 0;}#sk-container-id-1 div.sk-dashed-wrapped {border: 1px dashed gray;margin: 0 0.4em 0.5em 0.4em;box-sizing: border-box;padding-bottom: 0.4em;background-color: white;}#sk-container-id-1 div.sk-label label {font-family: monospace;font-weight: bold;display: inline-block;line-height: 1.2em;}#sk-container-id-1 div.sk-label-container {text-align: center;}#sk-container-id-1 div.sk-container {/* jupyter's `normalize.less` sets `[hidden] { display: none; }` but bootstrap.min.css set `[hidden] { display: none !important; }` so we also need the `!important` here to be able to override the default hidden behavior on the sphinx rendered scikit-learn.org. See: https://github.com/scikit-learn/scikit-learn/issues/21755 */display: inline-block !important;position: relative;}#sk-container-id-1 div.sk-text-repr-fallback {display: none;}</style><div id=\"sk-container-id-1\" class=\"sk-top-container\"><div class=\"sk-text-repr-fallback\"><pre>KMeans(n_clusters=4)</pre><b>In a Jupyter environment, please rerun this cell to show the HTML representation or trust the notebook. <br />On GitHub, the HTML representation is unable to render, please try loading this page with nbviewer.org.</b></div><div class=\"sk-container\" hidden><div class=\"sk-item\"><div class=\"sk-estimator sk-toggleable\"><input class=\"sk-toggleable__control sk-hidden--visually\" id=\"sk-estimator-id-1\" type=\"checkbox\" checked><label for=\"sk-estimator-id-1\" class=\"sk-toggleable__label sk-toggleable__label-arrow\">KMeans</label><div class=\"sk-toggleable__content\"><pre>KMeans(n_clusters=4)</pre></div></div></div></div></div>"
     },
     "execution_count": 22,
     "metadata": {},
     "output_type": "execute_result"
    }
   ],
   "source": [
    "k_means = cluster.KMeans(4)\n",
    "k_means.fit(cancerous_data_scaled)"
   ],
   "metadata": {
    "collapsed": false,
    "pycharm": {
     "name": "#%%\n"
    }
   }
  },
  {
   "cell_type": "code",
   "execution_count": 23,
   "outputs": [
    {
     "data": {
      "text/plain": "array([[2.64124294e-01, 3.63917804e-01, 5.33247264e-01, 3.01096193e-01,\n        1.72911993e-04, 5.15407349e-03, 1.62505186e-01, 1.89064241e-01,\n        2.64796258e-01, 1.85541102e-01, 7.95317094e-02, 2.27044839e-01,\n        7.01477858e-02, 4.94846843e-02, 1.13159100e-01, 8.94281433e-02,\n        1.24524386e-01, 1.74572096e-01, 1.33809300e-01, 1.38595699e-01,\n        2.30435418e-01, 3.62573672e-01, 2.05920469e-01, 1.39273176e-01,\n        3.53690899e-01, 2.07530603e-01, 2.50743398e-01, 4.13472380e-01,\n        2.92228381e-01, 1.69401477e-01],\n       [4.86993007e-01, 4.05086753e-01, 6.73227109e-01, 4.68164879e-01,\n        2.08124926e-04, 8.46070823e-03, 3.29708555e-01, 4.05133875e-01,\n        3.04472671e-01, 1.81064308e-01, 1.96373047e-01, 2.81142477e-01,\n        1.74371791e-01, 1.42940371e-01, 1.48968603e-01, 1.60673502e-01,\n        2.14110500e-01, 3.02005262e-01, 1.60111443e-01, 2.19586489e-01,\n        4.68821839e-01, 3.89157286e-01, 4.32944010e-01, 3.31017557e-01,\n        3.71017513e-01, 2.59682060e-01, 3.31717306e-01, 5.89491495e-01,\n        2.74470070e-01, 1.73523984e-01],\n       [2.22412807e-01, 3.65983378e-01, 5.10744029e-01, 2.65220455e-01,\n        1.91831374e-02, 3.22269902e-02, 3.98250354e-01, 3.76759774e-01,\n        4.77656979e-01, 4.46015005e-01, 9.63361353e-02, 2.50479805e-01,\n        9.58859042e-02, 5.74732105e-02, 1.60268975e-01, 2.68280614e-01,\n        2.84571895e-01, 2.90394185e-01, 2.06685120e-01, 3.72474952e-01,\n        2.19494144e-01, 3.98097709e-01, 2.23087933e-01, 1.32102168e-01,\n        5.67489547e-01, 4.81047265e-01, 4.90627613e-01, 6.59317338e-01,\n        4.34702402e-01, 4.00327707e-01],\n       [6.62634033e-01, 4.43665895e-01, 8.00872272e-01, 6.23396823e-01,\n        3.01568637e-04, 1.76603258e-02, 6.62817139e-01, 7.12468351e-01,\n        4.89930716e-01, 3.45206403e-01, 3.33374142e-01, 3.34948688e-01,\n        3.36121283e-01, 2.74652127e-01, 1.71685346e-01, 3.31566098e-01,\n        4.28288275e-01, 4.13032525e-01, 2.68019362e-01, 3.71316260e-01,\n        6.16275862e-01, 3.95947673e-01, 6.15051174e-01, 4.67748739e-01,\n        4.22473582e-01, 4.36529617e-01, 5.29788311e-01, 8.17854280e-01,\n        3.56388725e-01, 2.60558835e-01]])"
     },
     "execution_count": 23,
     "metadata": {},
     "output_type": "execute_result"
    }
   ],
   "source": [
    "k_means.cluster_centers_"
   ],
   "metadata": {
    "collapsed": false,
    "pycharm": {
     "name": "#%%\n"
    }
   }
  },
  {
   "cell_type": "code",
   "execution_count": 24,
   "outputs": [
    {
     "data": {
      "text/plain": "array([[1.54823729e+01, 2.08972881e+01, 1.00572373e+02, 7.53235593e+02,\n        9.49308475e-02, 9.73533898e-02, 8.94403390e-02, 5.45098305e-02,\n        1.76662712e-01, 5.87694915e-02, 4.06881356e-01, 1.08998305e+00,\n        2.78227119e+00, 4.01283051e+01, 5.88784746e-03, 1.97774068e-02,\n        2.75455932e-02, 1.14107627e-02, 1.73915593e-02, 2.71591525e-03,\n        1.81861017e+01, 2.85877966e+01, 1.19303390e+02, 1.02980339e+03,\n        1.35748983e-01, 2.60228983e-01, 3.11336949e-01, 1.37323898e-01,\n        3.04747458e-01, 8.08669492e-02],\n       [1.93068000e+01, 2.20870667e+01, 1.26942000e+02, 1.17102800e+03,\n        9.92524000e-02, 1.30267467e-01, 1.56793200e-01, 9.35946667e-02,\n        1.83534667e-01, 5.85569333e-02, 7.19922667e-01, 1.26341467e+00,\n        4.93408000e+00, 8.94925333e+01, 6.90709333e-03, 2.88240000e-02,\n        3.94417333e-02, 1.59634400e-02, 1.92608000e-02, 3.66780000e-03,\n        2.37166667e+01, 2.94616000e+01, 1.57012000e+02, 1.74805867e+03,\n        1.38077333e-01, 3.12729333e-01, 4.04134667e-01, 1.83442667e-01,\n        2.95738667e-01, 8.14954667e-02],\n       [1.47666038e+01, 2.09569830e+01, 9.63331774e+01, 6.63520332e+02,\n        2.42798528e+00, 3.66835849e-01, 1.84403208e-01, 8.84620755e-02,\n        2.13530189e-01, 7.11367925e-02, 4.51903774e-01, 1.16511321e+00,\n        3.31366038e+00, 4.43479245e+01, 7.22873585e-03, 4.24877358e-02,\n        4.87983019e-02, 1.55486226e-02, 2.25706981e-02, 5.46469811e-03,\n        1.79322642e+01, 2.97554717e+01, 1.22154906e+02, 1.00294151e+03,\n        1.64479245e-01, 5.35575472e-01, 5.86249057e-01, 2.01737736e-01,\n        3.77024528e-01, 1.16073962e-01],\n       [2.23208000e+01, 2.32020000e+01, 1.50988000e+02, 1.55922000e+03,\n        1.10720400e-01, 2.21840000e-01, 2.90976000e-01, 1.49188400e-01,\n        2.15656000e-01, 6.63504000e-02, 1.08697600e+00, 1.43591200e+00,\n        8.27356000e+00, 1.59064000e+02, 7.55368000e-03, 5.05236000e-02,\n        6.78824000e-02, 1.99300000e-02, 2.69296000e-02, 5.45108000e-03,\n        2.71376000e+01, 2.96848000e+01, 1.87260000e+02, 2.26024000e+03,\n        1.44992000e-01, 4.90760000e-01, 6.31128000e-01, 2.43276000e-01,\n        3.37296000e-01, 9.47648000e-02]])"
     },
     "execution_count": 24,
     "metadata": {},
     "output_type": "execute_result"
    }
   ],
   "source": [
    "standard_scaler.inverse_transform(k_means.cluster_centers_)"
   ],
   "metadata": {
    "collapsed": false,
    "pycharm": {
     "name": "#%%\n"
    }
   }
  },
  {
   "cell_type": "code",
   "execution_count": 25,
   "outputs": [],
   "source": [
    "random_point = np.random.random(size=(10, 30))"
   ],
   "metadata": {
    "collapsed": false,
    "pycharm": {
     "name": "#%%\n"
    }
   }
  },
  {
   "cell_type": "code",
   "execution_count": 26,
   "outputs": [
    {
     "data": {
      "text/plain": "array([2, 3, 3, 3, 3, 3, 2, 3, 3, 3], dtype=int32)"
     },
     "execution_count": 26,
     "metadata": {},
     "output_type": "execute_result"
    }
   ],
   "source": [
    "k_means.predict(random_point)"
   ],
   "metadata": {
    "collapsed": false,
    "pycharm": {
     "name": "#%%\n"
    }
   }
  },
  {
   "cell_type": "code",
   "execution_count": null,
   "outputs": [],
   "source": [],
   "metadata": {
    "collapsed": false,
    "pycharm": {
     "name": "#%%\n"
    }
   }
  }
 ],
 "metadata": {
  "kernelspec": {
   "display_name": "Python 3",
   "language": "python",
   "name": "python3"
  },
  "language_info": {
   "codemirror_mode": {
    "name": "ipython",
    "version": 3
   },
   "file_extension": ".py",
   "mimetype": "text/x-python",
   "name": "python",
   "nbconvert_exporter": "python",
   "pygments_lexer": "ipython3",
   "version": "3.7.6"
  }
 },
 "nbformat": 4,
 "nbformat_minor": 4
}