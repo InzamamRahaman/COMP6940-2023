{
 "cells": [
  {
   "cell_type": "code",
   "execution_count": 15,
   "metadata": {
    "pycharm": {
     "name": "#%%\n"
    }
   },
   "outputs": [
    {
     "name": "stdout",
     "output_type": "stream",
     "text": [
      "Populating the interactive namespace from numpy and matplotlib\n"
     ]
    }
   ],
   "source": [
    "%pylab inline\n",
    "import numpy as np \n",
    "import pandas as pd"
   ]
  },
  {
   "cell_type": "code",
   "execution_count": 16,
   "metadata": {
    "pycharm": {
     "name": "#%%\n"
    }
   },
   "outputs": [],
   "source": [
    "from mlxtend.preprocessing import TransactionEncoder # allow us to take a list of baskets and encode the baskets in a form amenable for itemset mininin\n",
    "from mlxtend.frequent_patterns import apriori, fpgrowth, fpmax, association_rules # mine frequent itemsets and mine association rules from frequent itemsets"
   ]
  },
  {
   "cell_type": "code",
   "execution_count": 17,
   "metadata": {
    "pycharm": {
     "name": "#%%\n"
    }
   },
   "outputs": [],
   "source": [
    "data_path = './data/groceries.csv'\n",
    "transactions = []\n",
    "with open(data_path, 'r') as fp:\n",
    "    for line in fp:\n",
    "        transaction = line.strip().split(',') # list of items in a basket\n",
    "        transactions.append(transaction)"
   ]
  },
  {
   "cell_type": "code",
   "execution_count": 18,
   "metadata": {
    "pycharm": {
     "name": "#%%\n"
    }
   },
   "outputs": [
    {
     "name": "stdout",
     "output_type": "stream",
     "text": [
      "[['citrus fruit', 'semi-finished bread', 'margarine', 'ready soups'], ['tropical fruit', 'yogurt', 'coffee'], ['whole milk'], ['pip fruit', 'yogurt', 'cream cheese', 'meat spreads'], ['other vegetables', 'whole milk', 'condensed milk', 'long life bakery product'], ['whole milk', 'butter', 'yogurt', 'rice', 'abrasive cleaner'], ['rolls/buns'], ['other vegetables', 'UHT-milk', 'rolls/buns', 'bottled beer', 'liquor (appetizer)'], ['potted plants'], ['whole milk', 'cereals']]\n"
     ]
    }
   ],
   "source": [
    "print(transactions[0:10])"
   ]
  },
  {
   "cell_type": "code",
   "execution_count": 19,
   "metadata": {
    "pycharm": {
     "name": "#%%\n"
    }
   },
   "outputs": [],
   "source": [
    "te = TransactionEncoder()"
   ]
  },
  {
   "cell_type": "code",
   "execution_count": 20,
   "outputs": [],
   "source": [
    "te.fit(transactions) # configures the encoder to work with the data\n",
    "te_ary = te.transform(transactions) # transform the data based on the configurations \"learnt\" from the dataset"
   ],
   "metadata": {
    "collapsed": false,
    "pycharm": {
     "name": "#%%\n"
    }
   }
  },
  {
   "cell_type": "code",
   "execution_count": 21,
   "metadata": {
    "pycharm": {
     "name": "#%%\n"
    }
   },
   "outputs": [],
   "source": [
    "#te_ary = te.fit(transactions).transform(transactions)"
   ]
  },
  {
   "cell_type": "code",
   "execution_count": 22,
   "metadata": {
    "pycharm": {
     "name": "#%%\n"
    }
   },
   "outputs": [],
   "source": [
    "#te_ary = te.fit_transform(transactions)"
   ]
  },
  {
   "cell_type": "code",
   "execution_count": 23,
   "metadata": {
    "pycharm": {
     "name": "#%%\n"
    }
   },
   "outputs": [
    {
     "data": {
      "text/plain": "array([[False, False, False, ..., False, False, False],\n       [False, False, False, ..., False,  True, False],\n       [False, False, False, ...,  True, False, False],\n       ...,\n       [False, False, False, ..., False,  True, False],\n       [False, False, False, ..., False, False, False],\n       [False, False, False, ..., False, False, False]])"
     },
     "execution_count": 23,
     "metadata": {},
     "output_type": "execute_result"
    }
   ],
   "source": [
    "te_ary"
   ]
  },
  {
   "cell_type": "code",
   "execution_count": 30,
   "metadata": {
    "pycharm": {
     "name": "#%%\n"
    }
   },
   "outputs": [],
   "source": [
    "df = pd.DataFrame(te_ary, columns=te.columns_)"
   ]
  },
  {
   "cell_type": "code",
   "execution_count": 33,
   "metadata": {
    "pycharm": {
     "name": "#%%\n"
    }
   },
   "outputs": [
    {
     "data": {
      "text/plain": "   Instant food products  UHT-milk  abrasive cleaner  artif. sweetener  \\\n0                  False     False             False             False   \n1                  False     False             False             False   \n2                  False     False             False             False   \n3                  False     False             False             False   \n4                  False     False             False             False   \n\n   baby cosmetics  baby food   bags  baking powder  bathroom cleaner   beef  \\\n0           False      False  False          False             False  False   \n1           False      False  False          False             False  False   \n2           False      False  False          False             False  False   \n3           False      False  False          False             False  False   \n4           False      False  False          False             False  False   \n\n   ...  turkey  vinegar  waffles  whipped/sour cream  whisky  white bread  \\\n0  ...   False    False    False               False   False        False   \n1  ...   False    False    False               False   False        False   \n2  ...   False    False    False               False   False        False   \n3  ...   False    False    False               False   False        False   \n4  ...   False    False    False               False   False        False   \n\n   white wine  whole milk  yogurt  zwieback  \n0       False       False   False     False  \n1       False       False    True     False  \n2       False        True   False     False  \n3       False       False    True     False  \n4       False        True   False     False  \n\n[5 rows x 169 columns]",
      "text/html": "<div>\n<style scoped>\n    .dataframe tbody tr th:only-of-type {\n        vertical-align: middle;\n    }\n\n    .dataframe tbody tr th {\n        vertical-align: top;\n    }\n\n    .dataframe thead th {\n        text-align: right;\n    }\n</style>\n<table border=\"1\" class=\"dataframe\">\n  <thead>\n    <tr style=\"text-align: right;\">\n      <th></th>\n      <th>Instant food products</th>\n      <th>UHT-milk</th>\n      <th>abrasive cleaner</th>\n      <th>artif. sweetener</th>\n      <th>baby cosmetics</th>\n      <th>baby food</th>\n      <th>bags</th>\n      <th>baking powder</th>\n      <th>bathroom cleaner</th>\n      <th>beef</th>\n      <th>...</th>\n      <th>turkey</th>\n      <th>vinegar</th>\n      <th>waffles</th>\n      <th>whipped/sour cream</th>\n      <th>whisky</th>\n      <th>white bread</th>\n      <th>white wine</th>\n      <th>whole milk</th>\n      <th>yogurt</th>\n      <th>zwieback</th>\n    </tr>\n  </thead>\n  <tbody>\n    <tr>\n      <th>0</th>\n      <td>False</td>\n      <td>False</td>\n      <td>False</td>\n      <td>False</td>\n      <td>False</td>\n      <td>False</td>\n      <td>False</td>\n      <td>False</td>\n      <td>False</td>\n      <td>False</td>\n      <td>...</td>\n      <td>False</td>\n      <td>False</td>\n      <td>False</td>\n      <td>False</td>\n      <td>False</td>\n      <td>False</td>\n      <td>False</td>\n      <td>False</td>\n      <td>False</td>\n      <td>False</td>\n    </tr>\n    <tr>\n      <th>1</th>\n      <td>False</td>\n      <td>False</td>\n      <td>False</td>\n      <td>False</td>\n      <td>False</td>\n      <td>False</td>\n      <td>False</td>\n      <td>False</td>\n      <td>False</td>\n      <td>False</td>\n      <td>...</td>\n      <td>False</td>\n      <td>False</td>\n      <td>False</td>\n      <td>False</td>\n      <td>False</td>\n      <td>False</td>\n      <td>False</td>\n      <td>False</td>\n      <td>True</td>\n      <td>False</td>\n    </tr>\n    <tr>\n      <th>2</th>\n      <td>False</td>\n      <td>False</td>\n      <td>False</td>\n      <td>False</td>\n      <td>False</td>\n      <td>False</td>\n      <td>False</td>\n      <td>False</td>\n      <td>False</td>\n      <td>False</td>\n      <td>...</td>\n      <td>False</td>\n      <td>False</td>\n      <td>False</td>\n      <td>False</td>\n      <td>False</td>\n      <td>False</td>\n      <td>False</td>\n      <td>True</td>\n      <td>False</td>\n      <td>False</td>\n    </tr>\n    <tr>\n      <th>3</th>\n      <td>False</td>\n      <td>False</td>\n      <td>False</td>\n      <td>False</td>\n      <td>False</td>\n      <td>False</td>\n      <td>False</td>\n      <td>False</td>\n      <td>False</td>\n      <td>False</td>\n      <td>...</td>\n      <td>False</td>\n      <td>False</td>\n      <td>False</td>\n      <td>False</td>\n      <td>False</td>\n      <td>False</td>\n      <td>False</td>\n      <td>False</td>\n      <td>True</td>\n      <td>False</td>\n    </tr>\n    <tr>\n      <th>4</th>\n      <td>False</td>\n      <td>False</td>\n      <td>False</td>\n      <td>False</td>\n      <td>False</td>\n      <td>False</td>\n      <td>False</td>\n      <td>False</td>\n      <td>False</td>\n      <td>False</td>\n      <td>...</td>\n      <td>False</td>\n      <td>False</td>\n      <td>False</td>\n      <td>False</td>\n      <td>False</td>\n      <td>False</td>\n      <td>False</td>\n      <td>True</td>\n      <td>False</td>\n      <td>False</td>\n    </tr>\n  </tbody>\n</table>\n<p>5 rows × 169 columns</p>\n</div>"
     },
     "execution_count": 33,
     "metadata": {},
     "output_type": "execute_result"
    }
   ],
   "source": [
    "df.head()"
   ]
  },
  {
   "cell_type": "code",
   "execution_count": 56,
   "metadata": {
    "pycharm": {
     "name": "#%%\n"
    }
   },
   "outputs": [],
   "source": [
    "frequent_itemsets = apriori(df, min_support=0.01, use_colnames=True) # min_support between 0.005 and 0.1"
   ]
  },
  {
   "cell_type": "code",
   "execution_count": 57,
   "outputs": [],
   "source": [
    "# frequent_itemsets['itemset_size'] = frequent_itemsets['itemsets'].apply(lambda x: len(x)) # get number of items in set\n",
    "# valid_itemsets = frequent_itemsets['itemset_size'] > 1 # get sets with more than one item\n",
    "# frequent_itemsets = frequent_itemsets[valid_itemsets] # filter out rows with one item in item set"
   ],
   "metadata": {
    "collapsed": false,
    "pycharm": {
     "name": "#%%\n"
    }
   }
  },
  {
   "cell_type": "code",
   "execution_count": 58,
   "outputs": [
    {
     "data": {
      "text/plain": "      support                                       itemsets\n0    0.033452                                     (UHT-milk)\n1    0.017692                                (baking powder)\n2    0.052466                                         (beef)\n3    0.033249                                      (berries)\n4    0.026029                                    (beverages)\n..        ...                                            ...\n328  0.011998  (whole milk, tropical fruit, root vegetables)\n329  0.014540          (whole milk, root vegetables, yogurt)\n330  0.010473                     (whole milk, soda, yogurt)\n331  0.015150           (whole milk, tropical fruit, yogurt)\n332  0.010880       (whole milk, whipped/sour cream, yogurt)\n\n[333 rows x 2 columns]",
      "text/html": "<div>\n<style scoped>\n    .dataframe tbody tr th:only-of-type {\n        vertical-align: middle;\n    }\n\n    .dataframe tbody tr th {\n        vertical-align: top;\n    }\n\n    .dataframe thead th {\n        text-align: right;\n    }\n</style>\n<table border=\"1\" class=\"dataframe\">\n  <thead>\n    <tr style=\"text-align: right;\">\n      <th></th>\n      <th>support</th>\n      <th>itemsets</th>\n    </tr>\n  </thead>\n  <tbody>\n    <tr>\n      <th>0</th>\n      <td>0.033452</td>\n      <td>(UHT-milk)</td>\n    </tr>\n    <tr>\n      <th>1</th>\n      <td>0.017692</td>\n      <td>(baking powder)</td>\n    </tr>\n    <tr>\n      <th>2</th>\n      <td>0.052466</td>\n      <td>(beef)</td>\n    </tr>\n    <tr>\n      <th>3</th>\n      <td>0.033249</td>\n      <td>(berries)</td>\n    </tr>\n    <tr>\n      <th>4</th>\n      <td>0.026029</td>\n      <td>(beverages)</td>\n    </tr>\n    <tr>\n      <th>...</th>\n      <td>...</td>\n      <td>...</td>\n    </tr>\n    <tr>\n      <th>328</th>\n      <td>0.011998</td>\n      <td>(whole milk, tropical fruit, root vegetables)</td>\n    </tr>\n    <tr>\n      <th>329</th>\n      <td>0.014540</td>\n      <td>(whole milk, root vegetables, yogurt)</td>\n    </tr>\n    <tr>\n      <th>330</th>\n      <td>0.010473</td>\n      <td>(whole milk, soda, yogurt)</td>\n    </tr>\n    <tr>\n      <th>331</th>\n      <td>0.015150</td>\n      <td>(whole milk, tropical fruit, yogurt)</td>\n    </tr>\n    <tr>\n      <th>332</th>\n      <td>0.010880</td>\n      <td>(whole milk, whipped/sour cream, yogurt)</td>\n    </tr>\n  </tbody>\n</table>\n<p>333 rows × 2 columns</p>\n</div>"
     },
     "execution_count": 58,
     "metadata": {},
     "output_type": "execute_result"
    }
   ],
   "source": [
    "frequent_itemsets"
   ],
   "metadata": {
    "collapsed": false,
    "pycharm": {
     "name": "#%%\n"
    }
   }
  },
  {
   "cell_type": "code",
   "execution_count": 59,
   "metadata": {
    "pycharm": {
     "name": "#%%\n"
    }
   },
   "outputs": [],
   "source": [
    "rules = association_rules(frequent_itemsets, metric=\"lift\", min_threshold=1.4)"
   ]
  },
  {
   "cell_type": "code",
   "execution_count": 60,
   "metadata": {
    "pycharm": {
     "name": "#%%\n"
    }
   },
   "outputs": [
    {
     "data": {
      "text/plain": "                      antecedents                       consequents  \\\n0                          (beef)                (other vegetables)   \n1              (other vegetables)                            (beef)   \n2                          (beef)                      (rolls/buns)   \n3                    (rolls/buns)                            (beef)   \n4                          (beef)                 (root vegetables)   \n..                            ...                               ...   \n451          (whole milk, yogurt)              (whipped/sour cream)   \n452  (whipped/sour cream, yogurt)                      (whole milk)   \n453                  (whole milk)      (whipped/sour cream, yogurt)   \n454          (whipped/sour cream)              (whole milk, yogurt)   \n455                      (yogurt)  (whole milk, whipped/sour cream)   \n\n     antecedent support  consequent support   support  confidence      lift  \\\n0              0.052466            0.193493  0.019725    0.375969  1.943066   \n1              0.193493            0.052466  0.019725    0.101944  1.943066   \n2              0.052466            0.183935  0.013625    0.259690  1.411858   \n3              0.183935            0.052466  0.013625    0.074074  1.411858   \n4              0.052466            0.108998  0.017387    0.331395  3.040367   \n..                  ...                 ...       ...         ...       ...   \n451            0.056024            0.071683  0.010880    0.194192  2.709053   \n452            0.020742            0.255516  0.010880    0.524510  2.052747   \n453            0.255516            0.020742  0.010880    0.042579  2.052747   \n454            0.071683            0.056024  0.010880    0.151773  2.709053   \n455            0.139502            0.032232  0.010880    0.077988  2.419607   \n\n     leverage  conviction  \n0    0.009574    1.292416  \n1    0.009574    1.055095  \n2    0.003975    1.102329  \n3    0.003975    1.023337  \n4    0.011668    1.332628  \n..        ...         ...  \n451  0.006864    1.152033  \n452  0.005580    1.565719  \n453  0.005580    1.022807  \n454  0.006864    1.112881  \n455  0.006383    1.049627  \n\n[456 rows x 9 columns]",
      "text/html": "<div>\n<style scoped>\n    .dataframe tbody tr th:only-of-type {\n        vertical-align: middle;\n    }\n\n    .dataframe tbody tr th {\n        vertical-align: top;\n    }\n\n    .dataframe thead th {\n        text-align: right;\n    }\n</style>\n<table border=\"1\" class=\"dataframe\">\n  <thead>\n    <tr style=\"text-align: right;\">\n      <th></th>\n      <th>antecedents</th>\n      <th>consequents</th>\n      <th>antecedent support</th>\n      <th>consequent support</th>\n      <th>support</th>\n      <th>confidence</th>\n      <th>lift</th>\n      <th>leverage</th>\n      <th>conviction</th>\n    </tr>\n  </thead>\n  <tbody>\n    <tr>\n      <th>0</th>\n      <td>(beef)</td>\n      <td>(other vegetables)</td>\n      <td>0.052466</td>\n      <td>0.193493</td>\n      <td>0.019725</td>\n      <td>0.375969</td>\n      <td>1.943066</td>\n      <td>0.009574</td>\n      <td>1.292416</td>\n    </tr>\n    <tr>\n      <th>1</th>\n      <td>(other vegetables)</td>\n      <td>(beef)</td>\n      <td>0.193493</td>\n      <td>0.052466</td>\n      <td>0.019725</td>\n      <td>0.101944</td>\n      <td>1.943066</td>\n      <td>0.009574</td>\n      <td>1.055095</td>\n    </tr>\n    <tr>\n      <th>2</th>\n      <td>(beef)</td>\n      <td>(rolls/buns)</td>\n      <td>0.052466</td>\n      <td>0.183935</td>\n      <td>0.013625</td>\n      <td>0.259690</td>\n      <td>1.411858</td>\n      <td>0.003975</td>\n      <td>1.102329</td>\n    </tr>\n    <tr>\n      <th>3</th>\n      <td>(rolls/buns)</td>\n      <td>(beef)</td>\n      <td>0.183935</td>\n      <td>0.052466</td>\n      <td>0.013625</td>\n      <td>0.074074</td>\n      <td>1.411858</td>\n      <td>0.003975</td>\n      <td>1.023337</td>\n    </tr>\n    <tr>\n      <th>4</th>\n      <td>(beef)</td>\n      <td>(root vegetables)</td>\n      <td>0.052466</td>\n      <td>0.108998</td>\n      <td>0.017387</td>\n      <td>0.331395</td>\n      <td>3.040367</td>\n      <td>0.011668</td>\n      <td>1.332628</td>\n    </tr>\n    <tr>\n      <th>...</th>\n      <td>...</td>\n      <td>...</td>\n      <td>...</td>\n      <td>...</td>\n      <td>...</td>\n      <td>...</td>\n      <td>...</td>\n      <td>...</td>\n      <td>...</td>\n    </tr>\n    <tr>\n      <th>451</th>\n      <td>(whole milk, yogurt)</td>\n      <td>(whipped/sour cream)</td>\n      <td>0.056024</td>\n      <td>0.071683</td>\n      <td>0.010880</td>\n      <td>0.194192</td>\n      <td>2.709053</td>\n      <td>0.006864</td>\n      <td>1.152033</td>\n    </tr>\n    <tr>\n      <th>452</th>\n      <td>(whipped/sour cream, yogurt)</td>\n      <td>(whole milk)</td>\n      <td>0.020742</td>\n      <td>0.255516</td>\n      <td>0.010880</td>\n      <td>0.524510</td>\n      <td>2.052747</td>\n      <td>0.005580</td>\n      <td>1.565719</td>\n    </tr>\n    <tr>\n      <th>453</th>\n      <td>(whole milk)</td>\n      <td>(whipped/sour cream, yogurt)</td>\n      <td>0.255516</td>\n      <td>0.020742</td>\n      <td>0.010880</td>\n      <td>0.042579</td>\n      <td>2.052747</td>\n      <td>0.005580</td>\n      <td>1.022807</td>\n    </tr>\n    <tr>\n      <th>454</th>\n      <td>(whipped/sour cream)</td>\n      <td>(whole milk, yogurt)</td>\n      <td>0.071683</td>\n      <td>0.056024</td>\n      <td>0.010880</td>\n      <td>0.151773</td>\n      <td>2.709053</td>\n      <td>0.006864</td>\n      <td>1.112881</td>\n    </tr>\n    <tr>\n      <th>455</th>\n      <td>(yogurt)</td>\n      <td>(whole milk, whipped/sour cream)</td>\n      <td>0.139502</td>\n      <td>0.032232</td>\n      <td>0.010880</td>\n      <td>0.077988</td>\n      <td>2.419607</td>\n      <td>0.006383</td>\n      <td>1.049627</td>\n    </tr>\n  </tbody>\n</table>\n<p>456 rows × 9 columns</p>\n</div>"
     },
     "execution_count": 60,
     "metadata": {},
     "output_type": "execute_result"
    }
   ],
   "source": [
    "rules"
   ]
  },
  {
   "cell_type": "code",
   "execution_count": 29,
   "metadata": {
    "pycharm": {
     "name": "#%%\n"
    }
   },
   "outputs": [],
   "source": [
    "# lift(A => B) = P(A and B)/(P(A)P(B))"
   ]
  }
 ],
 "metadata": {
  "kernelspec": {
   "display_name": "Python 3",
   "language": "python",
   "name": "python3"
  },
  "language_info": {
   "codemirror_mode": {
    "name": "ipython",
    "version": 3
   },
   "file_extension": ".py",
   "mimetype": "text/x-python",
   "name": "python",
   "nbconvert_exporter": "python",
   "pygments_lexer": "ipython3",
   "version": "3.6.10"
  }
 },
 "nbformat": 4,
 "nbformat_minor": 4
}