{
 "cells": [
  {
   "cell_type": "code",
   "execution_count": 1,
   "metadata": {
    "pycharm": {
     "name": "#%%\n"
    }
   },
   "outputs": [
    {
     "name": "stdout",
     "output_type": "stream",
     "text": [
      "Populating the interactive namespace from numpy and matplotlib\n"
     ]
    }
   ],
   "source": [
    "%pylab inline\n",
    "import numpy as np \n",
    "import pandas as pd"
   ]
  },
  {
   "cell_type": "code",
   "execution_count": 2,
   "metadata": {
    "pycharm": {
     "name": "#%%\n"
    }
   },
   "outputs": [],
   "source": [
    "from mlxtend.preprocessing import TransactionEncoder\n",
    "from mlxtend.frequent_patterns import apriori, fpgrowth, fpmax, association_rules"
   ]
  },
  {
   "cell_type": "code",
   "execution_count": 5,
   "metadata": {
    "pycharm": {
     "name": "#%%\n"
    }
   },
   "outputs": [],
   "source": [
    "df = pd.read_csv('./data/diabetes_data_upload.csv')"
   ]
  },
  {
   "cell_type": "code",
   "execution_count": 7,
   "metadata": {
    "pycharm": {
     "name": "#%%\n"
    }
   },
   "outputs": [
    {
     "data": {
      "text/plain": "   Age Gender Polyuria Polydipsia sudden weight loss weakness Polyphagia  \\\n0   40   Male       No        Yes                 No      Yes         No   \n1   58   Male       No         No                 No      Yes         No   \n2   41   Male      Yes         No                 No      Yes        Yes   \n3   45   Male       No         No                Yes      Yes        Yes   \n4   60   Male      Yes        Yes                Yes      Yes        Yes   \n\n  Genital thrush visual blurring Itching Irritability delayed healing  \\\n0             No              No     Yes           No             Yes   \n1             No             Yes      No           No              No   \n2             No              No     Yes           No             Yes   \n3            Yes              No     Yes           No             Yes   \n4             No             Yes     Yes          Yes             Yes   \n\n  partial paresis muscle stiffness Alopecia Obesity     class  \n0              No              Yes      Yes     Yes  Positive  \n1             Yes               No      Yes      No  Positive  \n2              No              Yes      Yes      No  Positive  \n3              No               No       No      No  Positive  \n4             Yes              Yes      Yes     Yes  Positive  ",
      "text/html": "<div>\n<style scoped>\n    .dataframe tbody tr th:only-of-type {\n        vertical-align: middle;\n    }\n\n    .dataframe tbody tr th {\n        vertical-align: top;\n    }\n\n    .dataframe thead th {\n        text-align: right;\n    }\n</style>\n<table border=\"1\" class=\"dataframe\">\n  <thead>\n    <tr style=\"text-align: right;\">\n      <th></th>\n      <th>Age</th>\n      <th>Gender</th>\n      <th>Polyuria</th>\n      <th>Polydipsia</th>\n      <th>sudden weight loss</th>\n      <th>weakness</th>\n      <th>Polyphagia</th>\n      <th>Genital thrush</th>\n      <th>visual blurring</th>\n      <th>Itching</th>\n      <th>Irritability</th>\n      <th>delayed healing</th>\n      <th>partial paresis</th>\n      <th>muscle stiffness</th>\n      <th>Alopecia</th>\n      <th>Obesity</th>\n      <th>class</th>\n    </tr>\n  </thead>\n  <tbody>\n    <tr>\n      <th>0</th>\n      <td>40</td>\n      <td>Male</td>\n      <td>No</td>\n      <td>Yes</td>\n      <td>No</td>\n      <td>Yes</td>\n      <td>No</td>\n      <td>No</td>\n      <td>No</td>\n      <td>Yes</td>\n      <td>No</td>\n      <td>Yes</td>\n      <td>No</td>\n      <td>Yes</td>\n      <td>Yes</td>\n      <td>Yes</td>\n      <td>Positive</td>\n    </tr>\n    <tr>\n      <th>1</th>\n      <td>58</td>\n      <td>Male</td>\n      <td>No</td>\n      <td>No</td>\n      <td>No</td>\n      <td>Yes</td>\n      <td>No</td>\n      <td>No</td>\n      <td>Yes</td>\n      <td>No</td>\n      <td>No</td>\n      <td>No</td>\n      <td>Yes</td>\n      <td>No</td>\n      <td>Yes</td>\n      <td>No</td>\n      <td>Positive</td>\n    </tr>\n    <tr>\n      <th>2</th>\n      <td>41</td>\n      <td>Male</td>\n      <td>Yes</td>\n      <td>No</td>\n      <td>No</td>\n      <td>Yes</td>\n      <td>Yes</td>\n      <td>No</td>\n      <td>No</td>\n      <td>Yes</td>\n      <td>No</td>\n      <td>Yes</td>\n      <td>No</td>\n      <td>Yes</td>\n      <td>Yes</td>\n      <td>No</td>\n      <td>Positive</td>\n    </tr>\n    <tr>\n      <th>3</th>\n      <td>45</td>\n      <td>Male</td>\n      <td>No</td>\n      <td>No</td>\n      <td>Yes</td>\n      <td>Yes</td>\n      <td>Yes</td>\n      <td>Yes</td>\n      <td>No</td>\n      <td>Yes</td>\n      <td>No</td>\n      <td>Yes</td>\n      <td>No</td>\n      <td>No</td>\n      <td>No</td>\n      <td>No</td>\n      <td>Positive</td>\n    </tr>\n    <tr>\n      <th>4</th>\n      <td>60</td>\n      <td>Male</td>\n      <td>Yes</td>\n      <td>Yes</td>\n      <td>Yes</td>\n      <td>Yes</td>\n      <td>Yes</td>\n      <td>No</td>\n      <td>Yes</td>\n      <td>Yes</td>\n      <td>Yes</td>\n      <td>Yes</td>\n      <td>Yes</td>\n      <td>Yes</td>\n      <td>Yes</td>\n      <td>Yes</td>\n      <td>Positive</td>\n    </tr>\n  </tbody>\n</table>\n</div>"
     },
     "execution_count": 7,
     "metadata": {},
     "output_type": "execute_result"
    }
   ],
   "source": [
    "df.head()"
   ]
  },
  {
   "cell_type": "code",
   "execution_count": 8,
   "metadata": {
    "pycharm": {
     "name": "#%%\n"
    }
   },
   "outputs": [
    {
     "data": {
      "text/plain": "<AxesSubplot:>"
     },
     "execution_count": 8,
     "metadata": {},
     "output_type": "execute_result"
    },
    {
     "data": {
      "text/plain": "<Figure size 432x288 with 1 Axes>",
      "image/png": "[encoded data removed]"
     },
     "metadata": {
      "needs_background": "light"
     },
     "output_type": "display_data"
    }
   ],
   "source": [
    "df['Age'].hist()"
   ]
  },
  {
   "cell_type": "code",
   "execution_count": 9,
   "metadata": {
    "pycharm": {
     "name": "#%%\n"
    }
   },
   "outputs": [],
   "source": [
    "df['Under 40'] = df['Age'] < 40\n",
    "df['40 to 60'] = (df['Age'] >= 40) & (df['Age'] <= 60)\n",
    "df['Over 60'] = df['Age'] > 60\n",
    "df.drop('Age', axis=1, inplace=True)"
   ]
  },
  {
   "cell_type": "code",
   "execution_count": 10,
   "metadata": {
    "pycharm": {
     "name": "#%%\n"
    }
   },
   "outputs": [],
   "source": [
    "df['Is Female'] = df['Gender'] == 'Female'\n",
    "df.drop('Gender', axis=1, inplace=True)"
   ]
  },
  {
   "cell_type": "code",
   "execution_count": 11,
   "metadata": {
    "pycharm": {
     "name": "#%%\n"
    }
   },
   "outputs": [
    {
     "data": {
      "text/plain": "['Polyuria',\n 'Polydipsia',\n 'sudden weight loss',\n 'weakness',\n 'Polyphagia',\n 'Genital thrush',\n 'visual blurring',\n 'Itching',\n 'Irritability',\n 'delayed healing',\n 'partial paresis',\n 'muscle stiffness',\n 'Alopecia',\n 'Obesity',\n 'class',\n 'Under 40',\n '40 to 60',\n 'Over 60',\n 'Is Female']"
     },
     "execution_count": 11,
     "metadata": {},
     "output_type": "execute_result"
    }
   ],
   "source": [
    "list(df.columns)"
   ]
  },
  {
   "cell_type": "code",
   "execution_count": 12,
   "outputs": [
    {
     "data": {
      "text/plain": "  Polyuria Polydipsia sudden weight loss weakness Polyphagia Genital thrush  \\\n0       No        Yes                 No      Yes         No             No   \n1       No         No                 No      Yes         No             No   \n2      Yes         No                 No      Yes        Yes             No   \n3       No         No                Yes      Yes        Yes            Yes   \n4      Yes        Yes                Yes      Yes        Yes             No   \n\n  visual blurring Itching Irritability delayed healing partial paresis  \\\n0              No     Yes           No             Yes              No   \n1             Yes      No           No              No             Yes   \n2              No     Yes           No             Yes              No   \n3              No     Yes           No             Yes              No   \n4             Yes     Yes          Yes             Yes             Yes   \n\n  muscle stiffness Alopecia Obesity     class  Under 40  40 to 60  Over 60  \\\n0              Yes      Yes     Yes  Positive     False      True    False   \n1               No      Yes      No  Positive     False      True    False   \n2              Yes      Yes      No  Positive     False      True    False   \n3               No       No      No  Positive     False      True    False   \n4              Yes      Yes     Yes  Positive     False      True    False   \n\n   Is Female  \n0      False  \n1      False  \n2      False  \n3      False  \n4      False  ",
      "text/html": "<div>\n<style scoped>\n    .dataframe tbody tr th:only-of-type {\n        vertical-align: middle;\n    }\n\n    .dataframe tbody tr th {\n        vertical-align: top;\n    }\n\n    .dataframe thead th {\n        text-align: right;\n    }\n</style>\n<table border=\"1\" class=\"dataframe\">\n  <thead>\n    <tr style=\"text-align: right;\">\n      <th></th>\n      <th>Polyuria</th>\n      <th>Polydipsia</th>\n      <th>sudden weight loss</th>\n      <th>weakness</th>\n      <th>Polyphagia</th>\n      <th>Genital thrush</th>\n      <th>visual blurring</th>\n      <th>Itching</th>\n      <th>Irritability</th>\n      <th>delayed healing</th>\n      <th>partial paresis</th>\n      <th>muscle stiffness</th>\n      <th>Alopecia</th>\n      <th>Obesity</th>\n      <th>class</th>\n      <th>Under 40</th>\n      <th>40 to 60</th>\n      <th>Over 60</th>\n      <th>Is Female</th>\n    </tr>\n  </thead>\n  <tbody>\n    <tr>\n      <th>0</th>\n      <td>No</td>\n      <td>Yes</td>\n      <td>No</td>\n      <td>Yes</td>\n      <td>No</td>\n      <td>No</td>\n      <td>No</td>\n      <td>Yes</td>\n      <td>No</td>\n      <td>Yes</td>\n      <td>No</td>\n      <td>Yes</td>\n      <td>Yes</td>\n      <td>Yes</td>\n      <td>Positive</td>\n      <td>False</td>\n      <td>True</td>\n      <td>False</td>\n      <td>False</td>\n    </tr>\n    <tr>\n      <th>1</th>\n      <td>No</td>\n      <td>No</td>\n      <td>No</td>\n      <td>Yes</td>\n      <td>No</td>\n      <td>No</td>\n      <td>Yes</td>\n      <td>No</td>\n      <td>No</td>\n      <td>No</td>\n      <td>Yes</td>\n      <td>No</td>\n      <td>Yes</td>\n      <td>No</td>\n      <td>Positive</td>\n      <td>False</td>\n      <td>True</td>\n      <td>False</td>\n      <td>False</td>\n    </tr>\n    <tr>\n      <th>2</th>\n      <td>Yes</td>\n      <td>No</td>\n      <td>No</td>\n      <td>Yes</td>\n      <td>Yes</td>\n      <td>No</td>\n      <td>No</td>\n      <td>Yes</td>\n      <td>No</td>\n      <td>Yes</td>\n      <td>No</td>\n      <td>Yes</td>\n      <td>Yes</td>\n      <td>No</td>\n      <td>Positive</td>\n      <td>False</td>\n      <td>True</td>\n      <td>False</td>\n      <td>False</td>\n    </tr>\n    <tr>\n      <th>3</th>\n      <td>No</td>\n      <td>No</td>\n      <td>Yes</td>\n      <td>Yes</td>\n      <td>Yes</td>\n      <td>Yes</td>\n      <td>No</td>\n      <td>Yes</td>\n      <td>No</td>\n      <td>Yes</td>\n      <td>No</td>\n      <td>No</td>\n      <td>No</td>\n      <td>No</td>\n      <td>Positive</td>\n      <td>False</td>\n      <td>True</td>\n      <td>False</td>\n      <td>False</td>\n    </tr>\n    <tr>\n      <th>4</th>\n      <td>Yes</td>\n      <td>Yes</td>\n      <td>Yes</td>\n      <td>Yes</td>\n      <td>Yes</td>\n      <td>No</td>\n      <td>Yes</td>\n      <td>Yes</td>\n      <td>Yes</td>\n      <td>Yes</td>\n      <td>Yes</td>\n      <td>Yes</td>\n      <td>Yes</td>\n      <td>Yes</td>\n      <td>Positive</td>\n      <td>False</td>\n      <td>True</td>\n      <td>False</td>\n      <td>False</td>\n    </tr>\n  </tbody>\n</table>\n</div>"
     },
     "execution_count": 12,
     "metadata": {},
     "output_type": "execute_result"
    }
   ],
   "source": [
    "df.head()"
   ],
   "metadata": {
    "collapsed": false,
    "pycharm": {
     "name": "#%%\n"
    }
   }
  },
  {
   "cell_type": "code",
   "execution_count": 13,
   "metadata": {
    "pycharm": {
     "name": "#%%\n"
    }
   },
   "outputs": [],
   "source": [
    "cols = [\n",
    " 'Polyuria',\n",
    " 'Polydipsia',\n",
    " 'sudden weight loss',\n",
    " 'weakness',\n",
    " 'Polyphagia',\n",
    " 'Genital thrush',\n",
    " 'visual blurring',\n",
    " 'Itching',\n",
    " 'Irritability',\n",
    " 'delayed healing',\n",
    " 'partial paresis',\n",
    " 'muscle stiffness',\n",
    " 'Alopecia',\n",
    " 'Obesity',\n",
    "]\n",
    "for col in cols:\n",
    "    df[col] = (df[col] == 'Yes')"
   ]
  },
  {
   "cell_type": "code",
   "execution_count": 14,
   "metadata": {
    "pycharm": {
     "name": "#%%\n"
    }
   },
   "outputs": [],
   "source": [
    "df['Has Diabetes'] = df['class'] == 'Positive'\n",
    "df.drop('class', axis=1, inplace=True)"
   ]
  },
  {
   "cell_type": "code",
   "execution_count": 15,
   "metadata": {
    "pycharm": {
     "name": "#%%\n"
    }
   },
   "outputs": [
    {
     "data": {
      "text/plain": "   Polyuria  Polydipsia  sudden weight loss  weakness  Polyphagia  \\\n0     False        True               False      True       False   \n1     False       False               False      True       False   \n2      True       False               False      True        True   \n3     False       False                True      True        True   \n4      True        True                True      True        True   \n\n   Genital thrush  visual blurring  Itching  Irritability  delayed healing  \\\n0           False            False     True         False             True   \n1           False             True    False         False            False   \n2           False            False     True         False             True   \n3            True            False     True         False             True   \n4           False             True     True          True             True   \n\n   partial paresis  muscle stiffness  Alopecia  Obesity  Under 40  40 to 60  \\\n0            False              True      True     True     False      True   \n1             True             False      True    False     False      True   \n2            False              True      True    False     False      True   \n3            False             False     False    False     False      True   \n4             True              True      True     True     False      True   \n\n   Over 60  Is Female  Has Diabetes  \n0    False      False          True  \n1    False      False          True  \n2    False      False          True  \n3    False      False          True  \n4    False      False          True  ",
      "text/html": "<div>\n<style scoped>\n    .dataframe tbody tr th:only-of-type {\n        vertical-align: middle;\n    }\n\n    .dataframe tbody tr th {\n        vertical-align: top;\n    }\n\n    .dataframe thead th {\n        text-align: right;\n    }\n</style>\n<table border=\"1\" class=\"dataframe\">\n  <thead>\n    <tr style=\"text-align: right;\">\n      <th></th>\n      <th>Polyuria</th>\n      <th>Polydipsia</th>\n      <th>sudden weight loss</th>\n      <th>weakness</th>\n      <th>Polyphagia</th>\n      <th>Genital thrush</th>\n      <th>visual blurring</th>\n      <th>Itching</th>\n      <th>Irritability</th>\n      <th>delayed healing</th>\n      <th>partial paresis</th>\n      <th>muscle stiffness</th>\n      <th>Alopecia</th>\n      <th>Obesity</th>\n      <th>Under 40</th>\n      <th>40 to 60</th>\n      <th>Over 60</th>\n      <th>Is Female</th>\n      <th>Has Diabetes</th>\n    </tr>\n  </thead>\n  <tbody>\n    <tr>\n      <th>0</th>\n      <td>False</td>\n      <td>True</td>\n      <td>False</td>\n      <td>True</td>\n      <td>False</td>\n      <td>False</td>\n      <td>False</td>\n      <td>True</td>\n      <td>False</td>\n      <td>True</td>\n      <td>False</td>\n      <td>True</td>\n      <td>True</td>\n      <td>True</td>\n      <td>False</td>\n      <td>True</td>\n      <td>False</td>\n      <td>False</td>\n      <td>True</td>\n    </tr>\n    <tr>\n      <th>1</th>\n      <td>False</td>\n      <td>False</td>\n      <td>False</td>\n      <td>True</td>\n      <td>False</td>\n      <td>False</td>\n      <td>True</td>\n      <td>False</td>\n      <td>False</td>\n      <td>False</td>\n      <td>True</td>\n      <td>False</td>\n      <td>True</td>\n      <td>False</td>\n      <td>False</td>\n      <td>True</td>\n      <td>False</td>\n      <td>False</td>\n      <td>True</td>\n    </tr>\n    <tr>\n      <th>2</th>\n      <td>True</td>\n      <td>False</td>\n      <td>False</td>\n      <td>True</td>\n      <td>True</td>\n      <td>False</td>\n      <td>False</td>\n      <td>True</td>\n      <td>False</td>\n      <td>True</td>\n      <td>False</td>\n      <td>True</td>\n      <td>True</td>\n      <td>False</td>\n      <td>False</td>\n      <td>True</td>\n      <td>False</td>\n      <td>False</td>\n      <td>True</td>\n    </tr>\n    <tr>\n      <th>3</th>\n      <td>False</td>\n      <td>False</td>\n      <td>True</td>\n      <td>True</td>\n      <td>True</td>\n      <td>True</td>\n      <td>False</td>\n      <td>True</td>\n      <td>False</td>\n      <td>True</td>\n      <td>False</td>\n      <td>False</td>\n      <td>False</td>\n      <td>False</td>\n      <td>False</td>\n      <td>True</td>\n      <td>False</td>\n      <td>False</td>\n      <td>True</td>\n    </tr>\n    <tr>\n      <th>4</th>\n      <td>True</td>\n      <td>True</td>\n      <td>True</td>\n      <td>True</td>\n      <td>True</td>\n      <td>False</td>\n      <td>True</td>\n      <td>True</td>\n      <td>True</td>\n      <td>True</td>\n      <td>True</td>\n      <td>True</td>\n      <td>True</td>\n      <td>True</td>\n      <td>False</td>\n      <td>True</td>\n      <td>False</td>\n      <td>False</td>\n      <td>True</td>\n    </tr>\n  </tbody>\n</table>\n</div>"
     },
     "execution_count": 15,
     "metadata": {},
     "output_type": "execute_result"
    }
   ],
   "source": [
    "df.head()"
   ]
  },
  {
   "cell_type": "code",
   "execution_count": 16,
   "metadata": {
    "pycharm": {
     "name": "#%%\n"
    }
   },
   "outputs": [],
   "source": [
    "frequent_itemsets = fpgrowth(df, min_support=0.2, use_colnames=True)"
   ]
  },
  {
   "cell_type": "code",
   "execution_count": 17,
   "metadata": {
    "pycharm": {
     "name": "#%%\n"
    }
   },
   "outputs": [
    {
     "data": {
      "text/plain": "      support                                           itemsets\n0    0.615385                                     (Has Diabetes)\n1    0.586538                                         (weakness)\n2    0.569231                                         (40 to 60)\n3    0.486538                                          (Itching)\n4    0.459615                                  (delayed healing)\n..        ...                                                ...\n214  0.217308    (Polyuria, Polydipsia, Is Female, Has Diabetes)\n215  0.200000         (visual blurring, Is Female, Has Diabetes)\n216  0.234615         (partial paresis, Is Female, Has Diabetes)\n217  0.200000           (partial paresis, Polydipsia, Is Female)\n218  0.200000  (partial paresis, Polydipsia, Is Female, Has D...\n\n[219 rows x 2 columns]",
      "text/html": "<div>\n<style scoped>\n    .dataframe tbody tr th:only-of-type {\n        vertical-align: middle;\n    }\n\n    .dataframe tbody tr th {\n        vertical-align: top;\n    }\n\n    .dataframe thead th {\n        text-align: right;\n    }\n</style>\n<table border=\"1\" class=\"dataframe\">\n  <thead>\n    <tr style=\"text-align: right;\">\n      <th></th>\n      <th>support</th>\n      <th>itemsets</th>\n    </tr>\n  </thead>\n  <tbody>\n    <tr>\n      <th>0</th>\n      <td>0.615385</td>\n      <td>(Has Diabetes)</td>\n    </tr>\n    <tr>\n      <th>1</th>\n      <td>0.586538</td>\n      <td>(weakness)</td>\n    </tr>\n    <tr>\n      <th>2</th>\n      <td>0.569231</td>\n      <td>(40 to 60)</td>\n    </tr>\n    <tr>\n      <th>3</th>\n      <td>0.486538</td>\n      <td>(Itching)</td>\n    </tr>\n    <tr>\n      <th>4</th>\n      <td>0.459615</td>\n      <td>(delayed healing)</td>\n    </tr>\n    <tr>\n      <th>...</th>\n      <td>...</td>\n      <td>...</td>\n    </tr>\n    <tr>\n      <th>214</th>\n      <td>0.217308</td>\n      <td>(Polyuria, Polydipsia, Is Female, Has Diabetes)</td>\n    </tr>\n    <tr>\n      <th>215</th>\n      <td>0.200000</td>\n      <td>(visual blurring, Is Female, Has Diabetes)</td>\n    </tr>\n    <tr>\n      <th>216</th>\n      <td>0.234615</td>\n      <td>(partial paresis, Is Female, Has Diabetes)</td>\n    </tr>\n    <tr>\n      <th>217</th>\n      <td>0.200000</td>\n      <td>(partial paresis, Polydipsia, Is Female)</td>\n    </tr>\n    <tr>\n      <th>218</th>\n      <td>0.200000</td>\n      <td>(partial paresis, Polydipsia, Is Female, Has D...</td>\n    </tr>\n  </tbody>\n</table>\n<p>219 rows × 2 columns</p>\n</div>"
     },
     "execution_count": 17,
     "metadata": {},
     "output_type": "execute_result"
    }
   ],
   "source": [
    "frequent_itemsets"
   ]
  },
  {
   "cell_type": "code",
   "execution_count": 18,
   "metadata": {
    "pycharm": {
     "name": "#%%\n"
    }
   },
   "outputs": [],
   "source": [
    "rules = association_rules(frequent_itemsets, metric=\"lift\", min_threshold=1.4)"
   ]
  },
  {
   "cell_type": "code",
   "execution_count": 19,
   "metadata": {
    "pycharm": {
     "name": "#%%\n"
    }
   },
   "outputs": [
    {
     "data": {
      "text/plain": "                   antecedents                                  consequents  \\\n0          (Polyuria, Itching)                               (Has Diabetes)   \n1      (Itching, Has Diabetes)                                   (Polyuria)   \n2                   (Polyuria)                      (Itching, Has Diabetes)   \n3               (Has Diabetes)                          (Polyuria, Itching)   \n4                    (Itching)                            (delayed healing)   \n..                         ...                                          ...   \n897  (Is Female, Has Diabetes)                (partial paresis, Polydipsia)   \n898          (partial paresis)        (Polydipsia, Is Female, Has Diabetes)   \n899               (Polydipsia)   (partial paresis, Is Female, Has Diabetes)   \n900                (Is Female)  (partial paresis, Polydipsia, Has Diabetes)   \n901             (Has Diabetes)     (partial paresis, Polydipsia, Is Female)   \n\n     antecedent support  consequent support   support  confidence      lift  \\\n0              0.263462            0.615385  0.234615    0.890511  1.447080   \n1              0.296154            0.496154  0.234615    0.792208  1.596698   \n2              0.496154            0.296154  0.234615    0.472868  1.596698   \n3              0.615385            0.263462  0.234615    0.381250  1.447080   \n4              0.486538            0.459615  0.336538    0.691700  1.504953   \n..                  ...                 ...       ...         ...       ...   \n897            0.332692            0.301923  0.200000    0.601156  1.991090   \n898            0.430769            0.240385  0.200000    0.464286  1.931429   \n899            0.448077            0.234615  0.200000    0.446352  1.902484   \n900            0.369231            0.294231  0.200000    0.541667  1.840959   \n901            0.615385            0.200000  0.200000    0.325000  1.625000   \n\n     leverage  conviction  \n0    0.072485    3.512821  \n1    0.087678    2.424760  \n2    0.087678    1.335238  \n3    0.072485    1.190365  \n4    0.112918    1.752786  \n..        ...         ...  \n897  0.099553    1.750251  \n898  0.096450    1.417949  \n899  0.094874    1.382439  \n900  0.091361    1.539860  \n901  0.076923    1.185185  \n\n[902 rows x 9 columns]",
      "text/html": "<div>\n<style scoped>\n    .dataframe tbody tr th:only-of-type {\n        vertical-align: middle;\n    }\n\n    .dataframe tbody tr th {\n        vertical-align: top;\n    }\n\n    .dataframe thead th {\n        text-align: right;\n    }\n</style>\n<table border=\"1\" class=\"dataframe\">\n  <thead>\n    <tr style=\"text-align: right;\">\n      <th></th>\n      <th>antecedents</th>\n      <th>consequents</th>\n      <th>antecedent support</th>\n      <th>consequent support</th>\n      <th>support</th>\n      <th>confidence</th>\n      <th>lift</th>\n      <th>leverage</th>\n      <th>conviction</th>\n    </tr>\n  </thead>\n  <tbody>\n    <tr>\n      <th>0</th>\n      <td>(Polyuria, Itching)</td>\n      <td>(Has Diabetes)</td>\n      <td>0.263462</td>\n      <td>0.615385</td>\n      <td>0.234615</td>\n      <td>0.890511</td>\n      <td>1.447080</td>\n      <td>0.072485</td>\n      <td>3.512821</td>\n    </tr>\n    <tr>\n      <th>1</th>\n      <td>(Itching, Has Diabetes)</td>\n      <td>(Polyuria)</td>\n      <td>0.296154</td>\n      <td>0.496154</td>\n      <td>0.234615</td>\n      <td>0.792208</td>\n      <td>1.596698</td>\n      <td>0.087678</td>\n      <td>2.424760</td>\n    </tr>\n    <tr>\n      <th>2</th>\n      <td>(Polyuria)</td>\n      <td>(Itching, Has Diabetes)</td>\n      <td>0.496154</td>\n      <td>0.296154</td>\n      <td>0.234615</td>\n      <td>0.472868</td>\n      <td>1.596698</td>\n      <td>0.087678</td>\n      <td>1.335238</td>\n    </tr>\n    <tr>\n      <th>3</th>\n      <td>(Has Diabetes)</td>\n      <td>(Polyuria, Itching)</td>\n      <td>0.615385</td>\n      <td>0.263462</td>\n      <td>0.234615</td>\n      <td>0.381250</td>\n      <td>1.447080</td>\n      <td>0.072485</td>\n      <td>1.190365</td>\n    </tr>\n    <tr>\n      <th>4</th>\n      <td>(Itching)</td>\n      <td>(delayed healing)</td>\n      <td>0.486538</td>\n      <td>0.459615</td>\n      <td>0.336538</td>\n      <td>0.691700</td>\n      <td>1.504953</td>\n      <td>0.112918</td>\n      <td>1.752786</td>\n    </tr>\n    <tr>\n      <th>...</th>\n      <td>...</td>\n      <td>...</td>\n      <td>...</td>\n      <td>...</td>\n      <td>...</td>\n      <td>...</td>\n      <td>...</td>\n      <td>...</td>\n      <td>...</td>\n    </tr>\n    <tr>\n      <th>897</th>\n      <td>(Is Female, Has Diabetes)</td>\n      <td>(partial paresis, Polydipsia)</td>\n      <td>0.332692</td>\n      <td>0.301923</td>\n      <td>0.200000</td>\n      <td>0.601156</td>\n      <td>1.991090</td>\n      <td>0.099553</td>\n      <td>1.750251</td>\n    </tr>\n    <tr>\n      <th>898</th>\n      <td>(partial paresis)</td>\n      <td>(Polydipsia, Is Female, Has Diabetes)</td>\n      <td>0.430769</td>\n      <td>0.240385</td>\n      <td>0.200000</td>\n      <td>0.464286</td>\n      <td>1.931429</td>\n      <td>0.096450</td>\n      <td>1.417949</td>\n    </tr>\n    <tr>\n      <th>899</th>\n      <td>(Polydipsia)</td>\n      <td>(partial paresis, Is Female, Has Diabetes)</td>\n      <td>0.448077</td>\n      <td>0.234615</td>\n      <td>0.200000</td>\n      <td>0.446352</td>\n      <td>1.902484</td>\n      <td>0.094874</td>\n      <td>1.382439</td>\n    </tr>\n    <tr>\n      <th>900</th>\n      <td>(Is Female)</td>\n      <td>(partial paresis, Polydipsia, Has Diabetes)</td>\n      <td>0.369231</td>\n      <td>0.294231</td>\n      <td>0.200000</td>\n      <td>0.541667</td>\n      <td>1.840959</td>\n      <td>0.091361</td>\n      <td>1.539860</td>\n    </tr>\n    <tr>\n      <th>901</th>\n      <td>(Has Diabetes)</td>\n      <td>(partial paresis, Polydipsia, Is Female)</td>\n      <td>0.615385</td>\n      <td>0.200000</td>\n      <td>0.200000</td>\n      <td>0.325000</td>\n      <td>1.625000</td>\n      <td>0.076923</td>\n      <td>1.185185</td>\n    </tr>\n  </tbody>\n</table>\n<p>902 rows × 9 columns</p>\n</div>"
     },
     "execution_count": 19,
     "metadata": {},
     "output_type": "execute_result"
    }
   ],
   "source": [
    "rules"
   ]
  },
  {
   "cell_type": "code",
   "execution_count": 20,
   "metadata": {
    "pycharm": {
     "name": "#%%\n"
    }
   },
   "outputs": [],
   "source": [
    "valid_rows = rules['consequents'].apply(lambda x: 'Has Diabetes' in x)"
   ]
  },
  {
   "cell_type": "code",
   "execution_count": 21,
   "metadata": {
    "pycharm": {
     "name": "#%%\n"
    }
   },
   "outputs": [
    {
     "data": {
      "text/plain": "0       True\n1      False\n2       True\n3      False\n4      False\n       ...  \n897    False\n898     True\n899     True\n900     True\n901    False\nName: consequents, Length: 902, dtype: bool"
     },
     "execution_count": 21,
     "metadata": {},
     "output_type": "execute_result"
    }
   ],
   "source": [
    "valid_rows"
   ]
  },
  {
   "cell_type": "code",
   "execution_count": 22,
   "metadata": {
    "pycharm": {
     "name": "#%%\n"
    }
   },
   "outputs": [],
   "source": [
    "valid = rules[valid_rows]"
   ]
  },
  {
   "cell_type": "code",
   "execution_count": 23,
   "metadata": {
    "pycharm": {
     "name": "#%%\n"
    }
   },
   "outputs": [
    {
     "data": {
      "text/plain": "                    antecedents                      consequents  \\\n0           (Polyuria, Itching)                   (Has Diabetes)   \n2                    (Polyuria)          (Itching, Has Diabetes)   \n14  (Polyuria, delayed healing)                   (Has Diabetes)   \n16                   (Polyuria)  (delayed healing, Has Diabetes)   \n18                 (Polydipsia)                   (Has Diabetes)   \n\n    antecedent support  consequent support   support  confidence      lift  \\\n0             0.263462            0.615385  0.234615    0.890511  1.447080   \n2             0.496154            0.296154  0.234615    0.472868  1.596698   \n14            0.265385            0.615385  0.236538    0.891304  1.448370   \n16            0.496154            0.294231  0.236538    0.476744  1.620307   \n18            0.448077            0.615385  0.432692    0.965665  1.569206   \n\n    leverage  conviction  \n0   0.072485    3.512821  \n2   0.087678    1.335238  \n14  0.073225    3.538462  \n16  0.090555    1.348803  \n18  0.156953   11.201923  ",
      "text/html": "<div>\n<style scoped>\n    .dataframe tbody tr th:only-of-type {\n        vertical-align: middle;\n    }\n\n    .dataframe tbody tr th {\n        vertical-align: top;\n    }\n\n    .dataframe thead th {\n        text-align: right;\n    }\n</style>\n<table border=\"1\" class=\"dataframe\">\n  <thead>\n    <tr style=\"text-align: right;\">\n      <th></th>\n      <th>antecedents</th>\n      <th>consequents</th>\n      <th>antecedent support</th>\n      <th>consequent support</th>\n      <th>support</th>\n      <th>confidence</th>\n      <th>lift</th>\n      <th>leverage</th>\n      <th>conviction</th>\n    </tr>\n  </thead>\n  <tbody>\n    <tr>\n      <th>0</th>\n      <td>(Polyuria, Itching)</td>\n      <td>(Has Diabetes)</td>\n      <td>0.263462</td>\n      <td>0.615385</td>\n      <td>0.234615</td>\n      <td>0.890511</td>\n      <td>1.447080</td>\n      <td>0.072485</td>\n      <td>3.512821</td>\n    </tr>\n    <tr>\n      <th>2</th>\n      <td>(Polyuria)</td>\n      <td>(Itching, Has Diabetes)</td>\n      <td>0.496154</td>\n      <td>0.296154</td>\n      <td>0.234615</td>\n      <td>0.472868</td>\n      <td>1.596698</td>\n      <td>0.087678</td>\n      <td>1.335238</td>\n    </tr>\n    <tr>\n      <th>14</th>\n      <td>(Polyuria, delayed healing)</td>\n      <td>(Has Diabetes)</td>\n      <td>0.265385</td>\n      <td>0.615385</td>\n      <td>0.236538</td>\n      <td>0.891304</td>\n      <td>1.448370</td>\n      <td>0.073225</td>\n      <td>3.538462</td>\n    </tr>\n    <tr>\n      <th>16</th>\n      <td>(Polyuria)</td>\n      <td>(delayed healing, Has Diabetes)</td>\n      <td>0.496154</td>\n      <td>0.294231</td>\n      <td>0.236538</td>\n      <td>0.476744</td>\n      <td>1.620307</td>\n      <td>0.090555</td>\n      <td>1.348803</td>\n    </tr>\n    <tr>\n      <th>18</th>\n      <td>(Polydipsia)</td>\n      <td>(Has Diabetes)</td>\n      <td>0.448077</td>\n      <td>0.615385</td>\n      <td>0.432692</td>\n      <td>0.965665</td>\n      <td>1.569206</td>\n      <td>0.156953</td>\n      <td>11.201923</td>\n    </tr>\n  </tbody>\n</table>\n</div>"
     },
     "execution_count": 23,
     "metadata": {},
     "output_type": "execute_result"
    }
   ],
   "source": [
    "valid.head()"
   ]
  },
  {
   "cell_type": "code",
   "execution_count": 24,
   "metadata": {
    "pycharm": {
     "name": "#%%\n"
    }
   },
   "outputs": [],
   "source": [
    "valid = valid.sort_values('lift', ascending=False)"
   ]
  },
  {
   "cell_type": "code",
   "execution_count": 25,
   "metadata": {
    "pycharm": {
     "name": "#%%\n"
    }
   },
   "outputs": [
    {
     "data": {
      "text/plain": "                            antecedents  \\\n479            (Polydipsia, Polyphagia)   \n157              (Polydipsia, weakness)   \n480       (partial paresis, Polydipsia)   \n486         (partial paresis, Polyuria)   \n895             (Polydipsia, Is Female)   \n..                                  ...   \n242         (visual blurring, weakness)   \n286  (partial paresis, visual blurring)   \n533                        (Polyphagia)   \n562                (sudden weight loss)   \n703                          (weakness)   \n\n                                        consequents  antecedent support  \\\n479       (partial paresis, Polyuria, Has Diabetes)            0.282692   \n157       (visual blurring, Polyuria, Has Diabetes)            0.344231   \n480            (Polyuria, Has Diabetes, Polyphagia)            0.301923   \n486          (Polydipsia, Polyphagia, Has Diabetes)            0.323077   \n895                 (partial paresis, Has Diabetes)            0.240385   \n..                                              ...                 ...   \n242                        (Polyuria, Has Diabetes)            0.336538   \n286                                  (Has Diabetes)            0.282692   \n533                        (Polyuria, Has Diabetes)            0.455769   \n562                                  (Has Diabetes)            0.417308   \n703  (sudden weight loss, Polydipsia, Has Diabetes)            0.586538   \n\n     consequent support   support  confidence      lift  leverage  conviction  \n479            0.309615  0.207692    0.734694  2.372924  0.120166    2.602219  \n157            0.259615  0.205769    0.597765  2.302504  0.116402    1.840678  \n480            0.300000  0.207692    0.687898  2.292994  0.117115    2.242857  \n486            0.280769  0.207692    0.642857  2.289628  0.116982    2.013846  \n895            0.369231  0.200000    0.832000  2.253333  0.111243    3.754579  \n..                  ...       ...         ...       ...       ...         ...  \n242            0.467308  0.223077    0.662857  1.418460  0.065810    1.580020  \n286            0.615385  0.246154    0.870748  1.414966  0.072189    2.975709  \n533            0.467308  0.300000    0.658228  1.408553  0.087016    1.558618  \n562            0.615385  0.361538    0.866359  1.407834  0.104734    2.877984  \n703            0.280769  0.230769    0.393443  1.401302  0.066087    1.185759  \n\n[321 rows x 9 columns]",
      "text/html": "<div>\n<style scoped>\n    .dataframe tbody tr th:only-of-type {\n        vertical-align: middle;\n    }\n\n    .dataframe tbody tr th {\n        vertical-align: top;\n    }\n\n    .dataframe thead th {\n        text-align: right;\n    }\n</style>\n<table border=\"1\" class=\"dataframe\">\n  <thead>\n    <tr style=\"text-align: right;\">\n      <th></th>\n      <th>antecedents</th>\n      <th>consequents</th>\n      <th>antecedent support</th>\n      <th>consequent support</th>\n      <th>support</th>\n      <th>confidence</th>\n      <th>lift</th>\n      <th>leverage</th>\n      <th>conviction</th>\n    </tr>\n  </thead>\n  <tbody>\n    <tr>\n      <th>479</th>\n      <td>(Polydipsia, Polyphagia)</td>\n      <td>(partial paresis, Polyuria, Has Diabetes)</td>\n      <td>0.282692</td>\n      <td>0.309615</td>\n      <td>0.207692</td>\n      <td>0.734694</td>\n      <td>2.372924</td>\n      <td>0.120166</td>\n      <td>2.602219</td>\n    </tr>\n    <tr>\n      <th>157</th>\n      <td>(Polydipsia, weakness)</td>\n      <td>(visual blurring, Polyuria, Has Diabetes)</td>\n      <td>0.344231</td>\n      <td>0.259615</td>\n      <td>0.205769</td>\n      <td>0.597765</td>\n      <td>2.302504</td>\n      <td>0.116402</td>\n      <td>1.840678</td>\n    </tr>\n    <tr>\n      <th>480</th>\n      <td>(partial paresis, Polydipsia)</td>\n      <td>(Polyuria, Has Diabetes, Polyphagia)</td>\n      <td>0.301923</td>\n      <td>0.300000</td>\n      <td>0.207692</td>\n      <td>0.687898</td>\n      <td>2.292994</td>\n      <td>0.117115</td>\n      <td>2.242857</td>\n    </tr>\n    <tr>\n      <th>486</th>\n      <td>(partial paresis, Polyuria)</td>\n      <td>(Polydipsia, Polyphagia, Has Diabetes)</td>\n      <td>0.323077</td>\n      <td>0.280769</td>\n      <td>0.207692</td>\n      <td>0.642857</td>\n      <td>2.289628</td>\n      <td>0.116982</td>\n      <td>2.013846</td>\n    </tr>\n    <tr>\n      <th>895</th>\n      <td>(Polydipsia, Is Female)</td>\n      <td>(partial paresis, Has Diabetes)</td>\n      <td>0.240385</td>\n      <td>0.369231</td>\n      <td>0.200000</td>\n      <td>0.832000</td>\n      <td>2.253333</td>\n      <td>0.111243</td>\n      <td>3.754579</td>\n    </tr>\n    <tr>\n      <th>...</th>\n      <td>...</td>\n      <td>...</td>\n      <td>...</td>\n      <td>...</td>\n      <td>...</td>\n      <td>...</td>\n      <td>...</td>\n      <td>...</td>\n      <td>...</td>\n    </tr>\n    <tr>\n      <th>242</th>\n      <td>(visual blurring, weakness)</td>\n      <td>(Polyuria, Has Diabetes)</td>\n      <td>0.336538</td>\n      <td>0.467308</td>\n      <td>0.223077</td>\n      <td>0.662857</td>\n      <td>1.418460</td>\n      <td>0.065810</td>\n      <td>1.580020</td>\n    </tr>\n    <tr>\n      <th>286</th>\n      <td>(partial paresis, visual blurring)</td>\n      <td>(Has Diabetes)</td>\n      <td>0.282692</td>\n      <td>0.615385</td>\n      <td>0.246154</td>\n      <td>0.870748</td>\n      <td>1.414966</td>\n      <td>0.072189</td>\n      <td>2.975709</td>\n    </tr>\n    <tr>\n      <th>533</th>\n      <td>(Polyphagia)</td>\n      <td>(Polyuria, Has Diabetes)</td>\n      <td>0.455769</td>\n      <td>0.467308</td>\n      <td>0.300000</td>\n      <td>0.658228</td>\n      <td>1.408553</td>\n      <td>0.087016</td>\n      <td>1.558618</td>\n    </tr>\n    <tr>\n      <th>562</th>\n      <td>(sudden weight loss)</td>\n      <td>(Has Diabetes)</td>\n      <td>0.417308</td>\n      <td>0.615385</td>\n      <td>0.361538</td>\n      <td>0.866359</td>\n      <td>1.407834</td>\n      <td>0.104734</td>\n      <td>2.877984</td>\n    </tr>\n    <tr>\n      <th>703</th>\n      <td>(weakness)</td>\n      <td>(sudden weight loss, Polydipsia, Has Diabetes)</td>\n      <td>0.586538</td>\n      <td>0.280769</td>\n      <td>0.230769</td>\n      <td>0.393443</td>\n      <td>1.401302</td>\n      <td>0.066087</td>\n      <td>1.185759</td>\n    </tr>\n  </tbody>\n</table>\n<p>321 rows × 9 columns</p>\n</div>"
     },
     "execution_count": 25,
     "metadata": {},
     "output_type": "execute_result"
    }
   ],
   "source": [
    "valid"
   ]
  },
  {
   "cell_type": "code",
   "execution_count": null,
   "metadata": {
    "pycharm": {
     "name": "#%%\n"
    }
   },
   "outputs": [],
   "source": []
  }
 ],
 "metadata": {
  "kernelspec": {
   "display_name": "Python 3",
   "language": "python",
   "name": "python3"
  },
  "language_info": {
   "codemirror_mode": {
    "name": "ipython",
    "version": 3
   },
   "file_extension": ".py",
   "mimetype": "text/x-python",
   "name": "python",
   "nbconvert_exporter": "python",
   "pygments_lexer": "ipython3",
   "version": "3.6.10"
  }
 },
 "nbformat": 4,
 "nbformat_minor": 4
}