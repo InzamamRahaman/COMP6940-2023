{
 "cells": [
  {
   "cell_type": "code",
   "execution_count": 26,
   "metadata": {
    "pycharm": {
     "name": "#%%\n"
    }
   },
   "outputs": [
    {
     "name": "stdout",
     "output_type": "stream",
     "text": [
      "Populating the interactive namespace from numpy and matplotlib\n"
     ]
    }
   ],
   "source": [
    "%pylab inline\n",
    "import numpy as np \n",
    "import pandas as pd"
   ]
  },
  {
   "cell_type": "code",
   "execution_count": 27,
   "metadata": {
    "pycharm": {
     "name": "#%%\n"
    }
   },
   "outputs": [],
   "source": [
    "from mlxtend.preprocessing import TransactionEncoder\n",
    "from mlxtend.frequent_patterns import apriori, fpgrowth, fpmax, association_rules"
   ]
  },
  {
   "cell_type": "code",
   "execution_count": 54,
   "metadata": {
    "pycharm": {
     "name": "#%%\n"
    }
   },
   "outputs": [],
   "source": [
    "data_path = './data/ratings.csv'\n",
    "ratings = pd.read_csv(data_path)"
   ]
  },
  {
   "cell_type": "code",
   "execution_count": 55,
   "metadata": {
    "pycharm": {
     "name": "#%%\n"
    }
   },
   "outputs": [
    {
     "data": {
      "text/plain": [
       "100836"
      ]
     },
     "execution_count": 55,
     "metadata": {},
     "output_type": "execute_result"
    }
   ],
   "source": [
    "len(ratings)"
   ]
  },
  {
   "cell_type": "code",
   "execution_count": 69,
   "metadata": {
    "pycharm": {
     "name": "#%%\n"
    }
   },
   "outputs": [],
   "source": [
    "#r1 = ratings.sample(50000)\n",
    "r1 = ratings.sample(50000)"
   ]
  },
  {
   "cell_type": "code",
   "execution_count": 70,
   "metadata": {
    "pycharm": {
     "name": "#%%\n"
    }
   },
   "outputs": [
    {
     "data": {
      "text/html": [
       "<div>\n",
       "<style scoped>\n",
       "    .dataframe tbody tr th:only-of-type {\n",
       "        vertical-align: middle;\n",
       "    }\n",
       "\n",
       "    .dataframe tbody tr th {\n",
       "        vertical-align: top;\n",
       "    }\n",
       "\n",
       "    .dataframe thead th {\n",
       "        text-align: right;\n",
       "    }\n",
       "</style>\n",
       "<table border=\"1\" class=\"dataframe\">\n",
       "  <thead>\n",
       "    <tr style=\"text-align: right;\">\n",
       "      <th></th>\n",
       "      <th>userId</th>\n",
       "      <th>movieId</th>\n",
       "      <th>rating</th>\n",
       "      <th>timestamp</th>\n",
       "    </tr>\n",
       "  </thead>\n",
       "  <tbody>\n",
       "    <tr>\n",
       "      <th>16966</th>\n",
       "      <td>106</td>\n",
       "      <td>97938</td>\n",
       "      <td>4.5</td>\n",
       "      <td>1467567463</td>\n",
       "    </tr>\n",
       "    <tr>\n",
       "      <th>7715</th>\n",
       "      <td>51</td>\n",
       "      <td>5377</td>\n",
       "      <td>5.0</td>\n",
       "      <td>1230931924</td>\n",
       "    </tr>\n",
       "    <tr>\n",
       "      <th>78577</th>\n",
       "      <td>489</td>\n",
       "      <td>804</td>\n",
       "      <td>2.0</td>\n",
       "      <td>1333831977</td>\n",
       "    </tr>\n",
       "    <tr>\n",
       "      <th>80779</th>\n",
       "      <td>509</td>\n",
       "      <td>93988</td>\n",
       "      <td>4.5</td>\n",
       "      <td>1435993045</td>\n",
       "    </tr>\n",
       "    <tr>\n",
       "      <th>24219</th>\n",
       "      <td>167</td>\n",
       "      <td>40815</td>\n",
       "      <td>4.5</td>\n",
       "      <td>1154721607</td>\n",
       "    </tr>\n",
       "  </tbody>\n",
       "</table>\n",
       "</div>"
      ],
      "text/plain": [
       "       userId  movieId  rating   timestamp\n",
       "16966     106    97938     4.5  1467567463\n",
       "7715       51     5377     5.0  1230931924\n",
       "78577     489      804     2.0  1333831977\n",
       "80779     509    93988     4.5  1435993045\n",
       "24219     167    40815     4.5  1154721607"
      ]
     },
     "execution_count": 70,
     "metadata": {},
     "output_type": "execute_result"
    }
   ],
   "source": [
    "r1.head()"
   ]
  },
  {
   "cell_type": "code",
   "execution_count": 71,
   "metadata": {
    "pycharm": {
     "name": "#%%\n"
    }
   },
   "outputs": [],
   "source": [
    "rows = r1['rating'] > 3.0"
   ]
  },
  {
   "cell_type": "code",
   "execution_count": 72,
   "metadata": {
    "pycharm": {
     "name": "#%%\n"
    }
   },
   "outputs": [],
   "source": [
    "r2 = r1[rows]"
   ]
  },
  {
   "cell_type": "code",
   "execution_count": 73,
   "metadata": {
    "pycharm": {
     "name": "#%%\n"
    }
   },
   "outputs": [
    {
     "data": {
      "text/html": [
       "<div>\n",
       "<style scoped>\n",
       "    .dataframe tbody tr th:only-of-type {\n",
       "        vertical-align: middle;\n",
       "    }\n",
       "\n",
       "    .dataframe tbody tr th {\n",
       "        vertical-align: top;\n",
       "    }\n",
       "\n",
       "    .dataframe thead th {\n",
       "        text-align: right;\n",
       "    }\n",
       "</style>\n",
       "<table border=\"1\" class=\"dataframe\">\n",
       "  <thead>\n",
       "    <tr style=\"text-align: right;\">\n",
       "      <th></th>\n",
       "      <th>userId</th>\n",
       "      <th>movieId</th>\n",
       "      <th>rating</th>\n",
       "      <th>timestamp</th>\n",
       "    </tr>\n",
       "  </thead>\n",
       "  <tbody>\n",
       "    <tr>\n",
       "      <th>16966</th>\n",
       "      <td>106</td>\n",
       "      <td>97938</td>\n",
       "      <td>4.5</td>\n",
       "      <td>1467567463</td>\n",
       "    </tr>\n",
       "    <tr>\n",
       "      <th>7715</th>\n",
       "      <td>51</td>\n",
       "      <td>5377</td>\n",
       "      <td>5.0</td>\n",
       "      <td>1230931924</td>\n",
       "    </tr>\n",
       "    <tr>\n",
       "      <th>80779</th>\n",
       "      <td>509</td>\n",
       "      <td>93988</td>\n",
       "      <td>4.5</td>\n",
       "      <td>1435993045</td>\n",
       "    </tr>\n",
       "    <tr>\n",
       "      <th>24219</th>\n",
       "      <td>167</td>\n",
       "      <td>40815</td>\n",
       "      <td>4.5</td>\n",
       "      <td>1154721607</td>\n",
       "    </tr>\n",
       "    <tr>\n",
       "      <th>11767</th>\n",
       "      <td>72</td>\n",
       "      <td>150</td>\n",
       "      <td>4.0</td>\n",
       "      <td>1217324795</td>\n",
       "    </tr>\n",
       "  </tbody>\n",
       "</table>\n",
       "</div>"
      ],
      "text/plain": [
       "       userId  movieId  rating   timestamp\n",
       "16966     106    97938     4.5  1467567463\n",
       "7715       51     5377     5.0  1230931924\n",
       "80779     509    93988     4.5  1435993045\n",
       "24219     167    40815     4.5  1154721607\n",
       "11767      72      150     4.0  1217324795"
      ]
     },
     "execution_count": 73,
     "metadata": {},
     "output_type": "execute_result"
    }
   ],
   "source": [
    "r2.head()"
   ]
  },
  {
   "cell_type": "code",
   "execution_count": 74,
   "metadata": {
    "pycharm": {
     "name": "#%%\n"
    }
   },
   "outputs": [
    {
     "name": "stdout",
     "output_type": "stream",
     "text": [
      "610\n"
     ]
    }
   ],
   "source": [
    "num_transactions = max(set(r2['userId']))\n",
    "print(num_transactions)"
   ]
  },
  {
   "cell_type": "code",
   "execution_count": 75,
   "metadata": {
    "pycharm": {
     "name": "#%%\n"
    }
   },
   "outputs": [],
   "source": [
    "transactions = []\n",
    "for i in range(num_transactions):\n",
    "    transactions.append([])"
   ]
  },
  {
   "cell_type": "code",
   "execution_count": 76,
   "metadata": {
    "pycharm": {
     "name": "#%%\n"
    }
   },
   "outputs": [],
   "source": [
    "for index, row in r2.iterrows():\n",
    "    user = int(row['userId'])\n",
    "    movie = int(row['movieId'])\n",
    "    transactions[user - 1].append(movie)"
   ]
  },
  {
   "cell_type": "code",
   "execution_count": 77,
   "metadata": {
    "pycharm": {
     "name": "#%%\n"
    }
   },
   "outputs": [],
   "source": [
    "te = TransactionEncoder()"
   ]
  },
  {
   "cell_type": "code",
   "execution_count": 78,
   "metadata": {
    "pycharm": {
     "name": "#%%\n"
    }
   },
   "outputs": [],
   "source": [
    "te_ary = te.fit(transactions).transform(transactions)"
   ]
  },
  {
   "cell_type": "code",
   "execution_count": 79,
   "metadata": {
    "pycharm": {
     "name": "#%%\n"
    }
   },
   "outputs": [],
   "source": [
    "df = pd.DataFrame(te_ary, columns=te.columns_)"
   ]
  },
  {
   "cell_type": "code",
   "execution_count": 80,
   "metadata": {
    "pycharm": {
     "name": "#%%\n"
    }
   },
   "outputs": [
    {
     "data": {
      "text/html": [
       "<div>\n",
       "<style scoped>\n",
       "    .dataframe tbody tr th:only-of-type {\n",
       "        vertical-align: middle;\n",
       "    }\n",
       "\n",
       "    .dataframe tbody tr th {\n",
       "        vertical-align: top;\n",
       "    }\n",
       "\n",
       "    .dataframe thead th {\n",
       "        text-align: right;\n",
       "    }\n",
       "</style>\n",
       "<table border=\"1\" class=\"dataframe\">\n",
       "  <thead>\n",
       "    <tr style=\"text-align: right;\">\n",
       "      <th></th>\n",
       "      <th>1</th>\n",
       "      <th>2</th>\n",
       "      <th>3</th>\n",
       "      <th>5</th>\n",
       "      <th>6</th>\n",
       "      <th>7</th>\n",
       "      <th>8</th>\n",
       "      <th>9</th>\n",
       "      <th>10</th>\n",
       "      <th>11</th>\n",
       "      <th>...</th>\n",
       "      <th>188751</th>\n",
       "      <th>188833</th>\n",
       "      <th>189333</th>\n",
       "      <th>190209</th>\n",
       "      <th>193565</th>\n",
       "      <th>193571</th>\n",
       "      <th>193581</th>\n",
       "      <th>193583</th>\n",
       "      <th>193585</th>\n",
       "      <th>193609</th>\n",
       "    </tr>\n",
       "  </thead>\n",
       "  <tbody>\n",
       "    <tr>\n",
       "      <th>0</th>\n",
       "      <td>False</td>\n",
       "      <td>False</td>\n",
       "      <td>False</td>\n",
       "      <td>False</td>\n",
       "      <td>False</td>\n",
       "      <td>False</td>\n",
       "      <td>False</td>\n",
       "      <td>False</td>\n",
       "      <td>False</td>\n",
       "      <td>False</td>\n",
       "      <td>...</td>\n",
       "      <td>False</td>\n",
       "      <td>False</td>\n",
       "      <td>False</td>\n",
       "      <td>False</td>\n",
       "      <td>False</td>\n",
       "      <td>False</td>\n",
       "      <td>False</td>\n",
       "      <td>False</td>\n",
       "      <td>False</td>\n",
       "      <td>False</td>\n",
       "    </tr>\n",
       "    <tr>\n",
       "      <th>1</th>\n",
       "      <td>False</td>\n",
       "      <td>False</td>\n",
       "      <td>False</td>\n",
       "      <td>False</td>\n",
       "      <td>False</td>\n",
       "      <td>False</td>\n",
       "      <td>False</td>\n",
       "      <td>False</td>\n",
       "      <td>False</td>\n",
       "      <td>False</td>\n",
       "      <td>...</td>\n",
       "      <td>False</td>\n",
       "      <td>False</td>\n",
       "      <td>False</td>\n",
       "      <td>False</td>\n",
       "      <td>False</td>\n",
       "      <td>False</td>\n",
       "      <td>False</td>\n",
       "      <td>False</td>\n",
       "      <td>False</td>\n",
       "      <td>False</td>\n",
       "    </tr>\n",
       "    <tr>\n",
       "      <th>2</th>\n",
       "      <td>False</td>\n",
       "      <td>False</td>\n",
       "      <td>False</td>\n",
       "      <td>False</td>\n",
       "      <td>False</td>\n",
       "      <td>False</td>\n",
       "      <td>False</td>\n",
       "      <td>False</td>\n",
       "      <td>False</td>\n",
       "      <td>False</td>\n",
       "      <td>...</td>\n",
       "      <td>False</td>\n",
       "      <td>False</td>\n",
       "      <td>False</td>\n",
       "      <td>False</td>\n",
       "      <td>False</td>\n",
       "      <td>False</td>\n",
       "      <td>False</td>\n",
       "      <td>False</td>\n",
       "      <td>False</td>\n",
       "      <td>False</td>\n",
       "    </tr>\n",
       "    <tr>\n",
       "      <th>3</th>\n",
       "      <td>False</td>\n",
       "      <td>False</td>\n",
       "      <td>False</td>\n",
       "      <td>False</td>\n",
       "      <td>False</td>\n",
       "      <td>False</td>\n",
       "      <td>False</td>\n",
       "      <td>False</td>\n",
       "      <td>False</td>\n",
       "      <td>False</td>\n",
       "      <td>...</td>\n",
       "      <td>False</td>\n",
       "      <td>False</td>\n",
       "      <td>False</td>\n",
       "      <td>False</td>\n",
       "      <td>False</td>\n",
       "      <td>False</td>\n",
       "      <td>False</td>\n",
       "      <td>False</td>\n",
       "      <td>False</td>\n",
       "      <td>False</td>\n",
       "    </tr>\n",
       "    <tr>\n",
       "      <th>4</th>\n",
       "      <td>True</td>\n",
       "      <td>False</td>\n",
       "      <td>False</td>\n",
       "      <td>False</td>\n",
       "      <td>False</td>\n",
       "      <td>False</td>\n",
       "      <td>False</td>\n",
       "      <td>False</td>\n",
       "      <td>False</td>\n",
       "      <td>False</td>\n",
       "      <td>...</td>\n",
       "      <td>False</td>\n",
       "      <td>False</td>\n",
       "      <td>False</td>\n",
       "      <td>False</td>\n",
       "      <td>False</td>\n",
       "      <td>False</td>\n",
       "      <td>False</td>\n",
       "      <td>False</td>\n",
       "      <td>False</td>\n",
       "      <td>False</td>\n",
       "    </tr>\n",
       "  </tbody>\n",
       "</table>\n",
       "<p>5 rows × 5502 columns</p>\n",
       "</div>"
      ],
      "text/plain": [
       "   1       2       3       5       6       7       8       9       10      \\\n",
       "0   False   False   False   False   False   False   False   False   False   \n",
       "1   False   False   False   False   False   False   False   False   False   \n",
       "2   False   False   False   False   False   False   False   False   False   \n",
       "3   False   False   False   False   False   False   False   False   False   \n",
       "4    True   False   False   False   False   False   False   False   False   \n",
       "\n",
       "   11      ...  188751  188833  189333  190209  193565  193571  193581  \\\n",
       "0   False  ...   False   False   False   False   False   False   False   \n",
       "1   False  ...   False   False   False   False   False   False   False   \n",
       "2   False  ...   False   False   False   False   False   False   False   \n",
       "3   False  ...   False   False   False   False   False   False   False   \n",
       "4   False  ...   False   False   False   False   False   False   False   \n",
       "\n",
       "   193583  193585  193609  \n",
       "0   False   False   False  \n",
       "1   False   False   False  \n",
       "2   False   False   False  \n",
       "3   False   False   False  \n",
       "4   False   False   False  \n",
       "\n",
       "[5 rows x 5502 columns]"
      ]
     },
     "execution_count": 80,
     "metadata": {},
     "output_type": "execute_result"
    }
   ],
   "source": [
    "df.head()"
   ]
  },
  {
   "cell_type": "code",
   "execution_count": 81,
   "metadata": {
    "pycharm": {
     "name": "#%%\n"
    }
   },
   "outputs": [],
   "source": [
    "frequent_itemsets = fpgrowth(df, min_support=0.022, use_colnames=True)"
   ]
  },
  {
   "cell_type": "code",
   "execution_count": 82,
   "metadata": {
    "pycharm": {
     "name": "#%%\n"
    }
   },
   "outputs": [
    {
     "data": {
      "text/html": [
       "<div>\n",
       "<style scoped>\n",
       "    .dataframe tbody tr th:only-of-type {\n",
       "        vertical-align: middle;\n",
       "    }\n",
       "\n",
       "    .dataframe tbody tr th {\n",
       "        vertical-align: top;\n",
       "    }\n",
       "\n",
       "    .dataframe thead th {\n",
       "        text-align: right;\n",
       "    }\n",
       "</style>\n",
       "<table border=\"1\" class=\"dataframe\">\n",
       "  <thead>\n",
       "    <tr style=\"text-align: right;\">\n",
       "      <th></th>\n",
       "      <th>support</th>\n",
       "      <th>itemsets</th>\n",
       "    </tr>\n",
       "  </thead>\n",
       "  <tbody>\n",
       "    <tr>\n",
       "      <th>0</th>\n",
       "      <td>0.190164</td>\n",
       "      <td>(593)</td>\n",
       "    </tr>\n",
       "    <tr>\n",
       "      <th>1</th>\n",
       "      <td>0.190164</td>\n",
       "      <td>(2571)</td>\n",
       "    </tr>\n",
       "    <tr>\n",
       "      <th>2</th>\n",
       "      <td>0.175410</td>\n",
       "      <td>(2959)</td>\n",
       "    </tr>\n",
       "    <tr>\n",
       "      <th>3</th>\n",
       "      <td>0.162295</td>\n",
       "      <td>(110)</td>\n",
       "    </tr>\n",
       "    <tr>\n",
       "      <th>4</th>\n",
       "      <td>0.140984</td>\n",
       "      <td>(1198)</td>\n",
       "    </tr>\n",
       "    <tr>\n",
       "      <th>...</th>\n",
       "      <td>...</td>\n",
       "      <td>...</td>\n",
       "    </tr>\n",
       "    <tr>\n",
       "      <th>2838</th>\n",
       "      <td>0.029508</td>\n",
       "      <td>(296, 1246)</td>\n",
       "    </tr>\n",
       "    <tr>\n",
       "      <th>2839</th>\n",
       "      <td>0.024590</td>\n",
       "      <td>(260, 1246)</td>\n",
       "    </tr>\n",
       "    <tr>\n",
       "      <th>2840</th>\n",
       "      <td>0.024590</td>\n",
       "      <td>(1246, 318)</td>\n",
       "    </tr>\n",
       "    <tr>\n",
       "      <th>2841</th>\n",
       "      <td>0.022951</td>\n",
       "      <td>(2571, 1246)</td>\n",
       "    </tr>\n",
       "    <tr>\n",
       "      <th>2842</th>\n",
       "      <td>0.022951</td>\n",
       "      <td>(1246, 2959)</td>\n",
       "    </tr>\n",
       "  </tbody>\n",
       "</table>\n",
       "<p>2843 rows × 2 columns</p>\n",
       "</div>"
      ],
      "text/plain": [
       "       support      itemsets\n",
       "0     0.190164         (593)\n",
       "1     0.190164        (2571)\n",
       "2     0.175410        (2959)\n",
       "3     0.162295         (110)\n",
       "4     0.140984        (1198)\n",
       "...        ...           ...\n",
       "2838  0.029508   (296, 1246)\n",
       "2839  0.024590   (260, 1246)\n",
       "2840  0.024590   (1246, 318)\n",
       "2841  0.022951  (2571, 1246)\n",
       "2842  0.022951  (1246, 2959)\n",
       "\n",
       "[2843 rows x 2 columns]"
      ]
     },
     "execution_count": 82,
     "metadata": {},
     "output_type": "execute_result"
    }
   ],
   "source": [
    "frequent_itemsets"
   ]
  },
  {
   "cell_type": "code",
   "execution_count": 83,
   "metadata": {
    "pycharm": {
     "name": "#%%\n"
    }
   },
   "outputs": [],
   "source": [
    "rules = association_rules(frequent_itemsets, metric=\"lift\", min_threshold=1.4)"
   ]
  },
  {
   "cell_type": "code",
   "execution_count": 85,
   "metadata": {
    "pycharm": {
     "name": "#%%\n"
    }
   },
   "outputs": [
    {
     "data": {
      "text/html": [
       "<div>\n",
       "<style scoped>\n",
       "    .dataframe tbody tr th:only-of-type {\n",
       "        vertical-align: middle;\n",
       "    }\n",
       "\n",
       "    .dataframe tbody tr th {\n",
       "        vertical-align: top;\n",
       "    }\n",
       "\n",
       "    .dataframe thead th {\n",
       "        text-align: right;\n",
       "    }\n",
       "</style>\n",
       "<table border=\"1\" class=\"dataframe\">\n",
       "  <thead>\n",
       "    <tr style=\"text-align: right;\">\n",
       "      <th></th>\n",
       "      <th>antecedents</th>\n",
       "      <th>consequents</th>\n",
       "      <th>antecedent support</th>\n",
       "      <th>consequent support</th>\n",
       "      <th>support</th>\n",
       "      <th>confidence</th>\n",
       "      <th>lift</th>\n",
       "      <th>leverage</th>\n",
       "      <th>conviction</th>\n",
       "    </tr>\n",
       "  </thead>\n",
       "  <tbody>\n",
       "    <tr>\n",
       "      <th>0</th>\n",
       "      <td>(296)</td>\n",
       "      <td>(593)</td>\n",
       "      <td>0.213115</td>\n",
       "      <td>0.190164</td>\n",
       "      <td>0.062295</td>\n",
       "      <td>0.292308</td>\n",
       "      <td>1.537135</td>\n",
       "      <td>0.021768</td>\n",
       "      <td>1.144334</td>\n",
       "    </tr>\n",
       "    <tr>\n",
       "      <th>1</th>\n",
       "      <td>(593)</td>\n",
       "      <td>(296)</td>\n",
       "      <td>0.190164</td>\n",
       "      <td>0.213115</td>\n",
       "      <td>0.062295</td>\n",
       "      <td>0.327586</td>\n",
       "      <td>1.537135</td>\n",
       "      <td>0.021768</td>\n",
       "      <td>1.170240</td>\n",
       "    </tr>\n",
       "    <tr>\n",
       "      <th>2</th>\n",
       "      <td>(296, 593)</td>\n",
       "      <td>(318)</td>\n",
       "      <td>0.062295</td>\n",
       "      <td>0.245902</td>\n",
       "      <td>0.022951</td>\n",
       "      <td>0.368421</td>\n",
       "      <td>1.498246</td>\n",
       "      <td>0.007632</td>\n",
       "      <td>1.193989</td>\n",
       "    </tr>\n",
       "    <tr>\n",
       "      <th>3</th>\n",
       "      <td>(296, 318)</td>\n",
       "      <td>(593)</td>\n",
       "      <td>0.083607</td>\n",
       "      <td>0.190164</td>\n",
       "      <td>0.022951</td>\n",
       "      <td>0.274510</td>\n",
       "      <td>1.443543</td>\n",
       "      <td>0.007052</td>\n",
       "      <td>1.116261</td>\n",
       "    </tr>\n",
       "    <tr>\n",
       "      <th>4</th>\n",
       "      <td>(593, 318)</td>\n",
       "      <td>(296)</td>\n",
       "      <td>0.050820</td>\n",
       "      <td>0.213115</td>\n",
       "      <td>0.022951</td>\n",
       "      <td>0.451613</td>\n",
       "      <td>2.119107</td>\n",
       "      <td>0.012120</td>\n",
       "      <td>1.434908</td>\n",
       "    </tr>\n",
       "    <tr>\n",
       "      <th>...</th>\n",
       "      <td>...</td>\n",
       "      <td>...</td>\n",
       "      <td>...</td>\n",
       "      <td>...</td>\n",
       "      <td>...</td>\n",
       "      <td>...</td>\n",
       "      <td>...</td>\n",
       "      <td>...</td>\n",
       "      <td>...</td>\n",
       "    </tr>\n",
       "    <tr>\n",
       "      <th>5167</th>\n",
       "      <td>(318)</td>\n",
       "      <td>(1246)</td>\n",
       "      <td>0.245902</td>\n",
       "      <td>0.067213</td>\n",
       "      <td>0.024590</td>\n",
       "      <td>0.100000</td>\n",
       "      <td>1.487805</td>\n",
       "      <td>0.008062</td>\n",
       "      <td>1.036430</td>\n",
       "    </tr>\n",
       "    <tr>\n",
       "      <th>5168</th>\n",
       "      <td>(2571)</td>\n",
       "      <td>(1246)</td>\n",
       "      <td>0.190164</td>\n",
       "      <td>0.067213</td>\n",
       "      <td>0.022951</td>\n",
       "      <td>0.120690</td>\n",
       "      <td>1.795627</td>\n",
       "      <td>0.010169</td>\n",
       "      <td>1.060816</td>\n",
       "    </tr>\n",
       "    <tr>\n",
       "      <th>5169</th>\n",
       "      <td>(1246)</td>\n",
       "      <td>(2571)</td>\n",
       "      <td>0.067213</td>\n",
       "      <td>0.190164</td>\n",
       "      <td>0.022951</td>\n",
       "      <td>0.341463</td>\n",
       "      <td>1.795627</td>\n",
       "      <td>0.010169</td>\n",
       "      <td>1.229751</td>\n",
       "    </tr>\n",
       "    <tr>\n",
       "      <th>5170</th>\n",
       "      <td>(1246)</td>\n",
       "      <td>(2959)</td>\n",
       "      <td>0.067213</td>\n",
       "      <td>0.175410</td>\n",
       "      <td>0.022951</td>\n",
       "      <td>0.341463</td>\n",
       "      <td>1.946661</td>\n",
       "      <td>0.011161</td>\n",
       "      <td>1.252155</td>\n",
       "    </tr>\n",
       "    <tr>\n",
       "      <th>5171</th>\n",
       "      <td>(2959)</td>\n",
       "      <td>(1246)</td>\n",
       "      <td>0.175410</td>\n",
       "      <td>0.067213</td>\n",
       "      <td>0.022951</td>\n",
       "      <td>0.130841</td>\n",
       "      <td>1.946661</td>\n",
       "      <td>0.011161</td>\n",
       "      <td>1.073206</td>\n",
       "    </tr>\n",
       "  </tbody>\n",
       "</table>\n",
       "<p>5172 rows × 9 columns</p>\n",
       "</div>"
      ],
      "text/plain": [
       "     antecedents consequents  antecedent support  consequent support  \\\n",
       "0          (296)       (593)            0.213115            0.190164   \n",
       "1          (593)       (296)            0.190164            0.213115   \n",
       "2     (296, 593)       (318)            0.062295            0.245902   \n",
       "3     (296, 318)       (593)            0.083607            0.190164   \n",
       "4     (593, 318)       (296)            0.050820            0.213115   \n",
       "...          ...         ...                 ...                 ...   \n",
       "5167       (318)      (1246)            0.245902            0.067213   \n",
       "5168      (2571)      (1246)            0.190164            0.067213   \n",
       "5169      (1246)      (2571)            0.067213            0.190164   \n",
       "5170      (1246)      (2959)            0.067213            0.175410   \n",
       "5171      (2959)      (1246)            0.175410            0.067213   \n",
       "\n",
       "       support  confidence      lift  leverage  conviction  \n",
       "0     0.062295    0.292308  1.537135  0.021768    1.144334  \n",
       "1     0.062295    0.327586  1.537135  0.021768    1.170240  \n",
       "2     0.022951    0.368421  1.498246  0.007632    1.193989  \n",
       "3     0.022951    0.274510  1.443543  0.007052    1.116261  \n",
       "4     0.022951    0.451613  2.119107  0.012120    1.434908  \n",
       "...        ...         ...       ...       ...         ...  \n",
       "5167  0.024590    0.100000  1.487805  0.008062    1.036430  \n",
       "5168  0.022951    0.120690  1.795627  0.010169    1.060816  \n",
       "5169  0.022951    0.341463  1.795627  0.010169    1.229751  \n",
       "5170  0.022951    0.341463  1.946661  0.011161    1.252155  \n",
       "5171  0.022951    0.130841  1.946661  0.011161    1.073206  \n",
       "\n",
       "[5172 rows x 9 columns]"
      ]
     },
     "execution_count": 85,
     "metadata": {},
     "output_type": "execute_result"
    }
   ],
   "source": [
    "rules"
   ]
  },
  {
   "cell_type": "code",
   "execution_count": 93,
   "metadata": {
    "pycharm": {
     "name": "#%%\n"
    }
   },
   "outputs": [],
   "source": [
    "num_transactions = max(set(r1['userId']))\n",
    "transactions = []\n",
    "for i in range(num_transactions):\n",
    "    transactions.append([])"
   ]
  },
  {
   "cell_type": "code",
   "execution_count": 94,
   "metadata": {
    "pycharm": {
     "name": "#%%\n"
    }
   },
   "outputs": [],
   "source": [
    "for index, row in r1.iterrows():\n",
    "    user = int(row['userId'])\n",
    "    movie = str(row['movieId'])\n",
    "    rating = row['rating']\n",
    "    if rating > 3.0:\n",
    "        transactions[user - 1].append('liked ' + movie)\n",
    "    elif rating < 3.0:\n",
    "        transactions[user - 1].append('hated ' + movie)\n",
    "    else:\n",
    "        transactions[user - 1].append('neutral towards ' + movie)"
   ]
  },
  {
   "cell_type": "code",
   "execution_count": 95,
   "metadata": {
    "pycharm": {
     "name": "#%%\n"
    }
   },
   "outputs": [
    {
     "data": {
      "text/plain": [
       "['neutral towards 153.0',\n",
       " 'liked 110.0',\n",
       " 'liked 367.0',\n",
       " 'hated 380.0',\n",
       " 'liked 474.0',\n",
       " 'neutral towards 515.0',\n",
       " 'liked 58.0',\n",
       " 'liked 21.0',\n",
       " 'neutral towards 253.0',\n",
       " 'liked 1.0',\n",
       " 'liked 588.0',\n",
       " 'liked 290.0',\n",
       " 'neutral towards 364.0',\n",
       " 'neutral towards 39.0',\n",
       " 'liked 34.0',\n",
       " 'neutral towards 150.0',\n",
       " 'neutral towards 318.0',\n",
       " 'liked 232.0',\n",
       " 'neutral towards 410.0']"
      ]
     },
     "execution_count": 95,
     "metadata": {},
     "output_type": "execute_result"
    }
   ],
   "source": [
    "transactions[4]"
   ]
  },
  {
   "cell_type": "code",
   "execution_count": 96,
   "metadata": {
    "pycharm": {
     "name": "#%%\n"
    }
   },
   "outputs": [],
   "source": [
    "te = TransactionEncoder()\n",
    "te_ary = te.fit(transactions).transform(transactions)\n",
    "df = pd.DataFrame(te_ary, columns=te.columns_)"
   ]
  },
  {
   "cell_type": "code",
   "execution_count": 97,
   "metadata": {
    "pycharm": {
     "name": "#%%\n"
    }
   },
   "outputs": [
    {
     "data": {
      "text/html": [
       "<div>\n",
       "<style scoped>\n",
       "    .dataframe tbody tr th:only-of-type {\n",
       "        vertical-align: middle;\n",
       "    }\n",
       "\n",
       "    .dataframe tbody tr th {\n",
       "        vertical-align: top;\n",
       "    }\n",
       "\n",
       "    .dataframe thead th {\n",
       "        text-align: right;\n",
       "    }\n",
       "</style>\n",
       "<table border=\"1\" class=\"dataframe\">\n",
       "  <thead>\n",
       "    <tr style=\"text-align: right;\">\n",
       "      <th></th>\n",
       "      <th>hated 1.0</th>\n",
       "      <th>hated 10.0</th>\n",
       "      <th>hated 100.0</th>\n",
       "      <th>hated 100390.0</th>\n",
       "      <th>hated 100498.0</th>\n",
       "      <th>hated 1005.0</th>\n",
       "      <th>hated 1007.0</th>\n",
       "      <th>hated 100714.0</th>\n",
       "      <th>hated 101.0</th>\n",
       "      <th>hated 1010.0</th>\n",
       "      <th>...</th>\n",
       "      <th>neutral towards 99114.0</th>\n",
       "      <th>neutral towards 99117.0</th>\n",
       "      <th>neutral towards 99145.0</th>\n",
       "      <th>neutral towards 99149.0</th>\n",
       "      <th>neutral towards 994.0</th>\n",
       "      <th>neutral towards 996.0</th>\n",
       "      <th>neutral towards 99638.0</th>\n",
       "      <th>neutral towards 99813.0</th>\n",
       "      <th>neutral towards 99846.0</th>\n",
       "      <th>neutral towards 999.0</th>\n",
       "    </tr>\n",
       "  </thead>\n",
       "  <tbody>\n",
       "    <tr>\n",
       "      <th>0</th>\n",
       "      <td>False</td>\n",
       "      <td>False</td>\n",
       "      <td>False</td>\n",
       "      <td>False</td>\n",
       "      <td>False</td>\n",
       "      <td>False</td>\n",
       "      <td>False</td>\n",
       "      <td>False</td>\n",
       "      <td>False</td>\n",
       "      <td>False</td>\n",
       "      <td>...</td>\n",
       "      <td>False</td>\n",
       "      <td>False</td>\n",
       "      <td>False</td>\n",
       "      <td>False</td>\n",
       "      <td>False</td>\n",
       "      <td>False</td>\n",
       "      <td>False</td>\n",
       "      <td>False</td>\n",
       "      <td>False</td>\n",
       "      <td>False</td>\n",
       "    </tr>\n",
       "    <tr>\n",
       "      <th>1</th>\n",
       "      <td>False</td>\n",
       "      <td>False</td>\n",
       "      <td>False</td>\n",
       "      <td>False</td>\n",
       "      <td>False</td>\n",
       "      <td>False</td>\n",
       "      <td>False</td>\n",
       "      <td>False</td>\n",
       "      <td>False</td>\n",
       "      <td>False</td>\n",
       "      <td>...</td>\n",
       "      <td>False</td>\n",
       "      <td>False</td>\n",
       "      <td>False</td>\n",
       "      <td>False</td>\n",
       "      <td>False</td>\n",
       "      <td>False</td>\n",
       "      <td>False</td>\n",
       "      <td>False</td>\n",
       "      <td>False</td>\n",
       "      <td>False</td>\n",
       "    </tr>\n",
       "    <tr>\n",
       "      <th>2</th>\n",
       "      <td>False</td>\n",
       "      <td>False</td>\n",
       "      <td>False</td>\n",
       "      <td>False</td>\n",
       "      <td>False</td>\n",
       "      <td>False</td>\n",
       "      <td>False</td>\n",
       "      <td>False</td>\n",
       "      <td>False</td>\n",
       "      <td>False</td>\n",
       "      <td>...</td>\n",
       "      <td>False</td>\n",
       "      <td>False</td>\n",
       "      <td>False</td>\n",
       "      <td>False</td>\n",
       "      <td>False</td>\n",
       "      <td>False</td>\n",
       "      <td>False</td>\n",
       "      <td>False</td>\n",
       "      <td>False</td>\n",
       "      <td>False</td>\n",
       "    </tr>\n",
       "    <tr>\n",
       "      <th>3</th>\n",
       "      <td>False</td>\n",
       "      <td>False</td>\n",
       "      <td>False</td>\n",
       "      <td>False</td>\n",
       "      <td>False</td>\n",
       "      <td>False</td>\n",
       "      <td>False</td>\n",
       "      <td>False</td>\n",
       "      <td>False</td>\n",
       "      <td>False</td>\n",
       "      <td>...</td>\n",
       "      <td>False</td>\n",
       "      <td>False</td>\n",
       "      <td>False</td>\n",
       "      <td>False</td>\n",
       "      <td>False</td>\n",
       "      <td>False</td>\n",
       "      <td>False</td>\n",
       "      <td>False</td>\n",
       "      <td>False</td>\n",
       "      <td>False</td>\n",
       "    </tr>\n",
       "    <tr>\n",
       "      <th>4</th>\n",
       "      <td>False</td>\n",
       "      <td>False</td>\n",
       "      <td>False</td>\n",
       "      <td>False</td>\n",
       "      <td>False</td>\n",
       "      <td>False</td>\n",
       "      <td>False</td>\n",
       "      <td>False</td>\n",
       "      <td>False</td>\n",
       "      <td>False</td>\n",
       "      <td>...</td>\n",
       "      <td>False</td>\n",
       "      <td>False</td>\n",
       "      <td>False</td>\n",
       "      <td>False</td>\n",
       "      <td>False</td>\n",
       "      <td>False</td>\n",
       "      <td>False</td>\n",
       "      <td>False</td>\n",
       "      <td>False</td>\n",
       "      <td>False</td>\n",
       "    </tr>\n",
       "  </tbody>\n",
       "</table>\n",
       "<p>5 rows × 13064 columns</p>\n",
       "</div>"
      ],
      "text/plain": [
       "   hated 1.0  hated 10.0  hated 100.0  hated 100390.0  hated 100498.0  \\\n",
       "0      False       False        False           False           False   \n",
       "1      False       False        False           False           False   \n",
       "2      False       False        False           False           False   \n",
       "3      False       False        False           False           False   \n",
       "4      False       False        False           False           False   \n",
       "\n",
       "   hated 1005.0  hated 1007.0  hated 100714.0  hated 101.0  hated 1010.0  ...  \\\n",
       "0         False         False           False        False         False  ...   \n",
       "1         False         False           False        False         False  ...   \n",
       "2         False         False           False        False         False  ...   \n",
       "3         False         False           False        False         False  ...   \n",
       "4         False         False           False        False         False  ...   \n",
       "\n",
       "   neutral towards 99114.0  neutral towards 99117.0  neutral towards 99145.0  \\\n",
       "0                    False                    False                    False   \n",
       "1                    False                    False                    False   \n",
       "2                    False                    False                    False   \n",
       "3                    False                    False                    False   \n",
       "4                    False                    False                    False   \n",
       "\n",
       "   neutral towards 99149.0  neutral towards 994.0  neutral towards 996.0  \\\n",
       "0                    False                  False                  False   \n",
       "1                    False                  False                  False   \n",
       "2                    False                  False                  False   \n",
       "3                    False                  False                  False   \n",
       "4                    False                  False                  False   \n",
       "\n",
       "   neutral towards 99638.0  neutral towards 99813.0  neutral towards 99846.0  \\\n",
       "0                    False                    False                    False   \n",
       "1                    False                    False                    False   \n",
       "2                    False                    False                    False   \n",
       "3                    False                    False                    False   \n",
       "4                    False                    False                    False   \n",
       "\n",
       "   neutral towards 999.0  \n",
       "0                  False  \n",
       "1                  False  \n",
       "2                  False  \n",
       "3                  False  \n",
       "4                  False  \n",
       "\n",
       "[5 rows x 13064 columns]"
      ]
     },
     "execution_count": 97,
     "metadata": {},
     "output_type": "execute_result"
    }
   ],
   "source": [
    "df.head()"
   ]
  },
  {
   "cell_type": "code",
   "execution_count": 98,
   "metadata": {
    "pycharm": {
     "name": "#%%\n"
    }
   },
   "outputs": [],
   "source": [
    "frequent_itemsets = fpgrowth(df, min_support=0.022, use_colnames=True)"
   ]
  },
  {
   "cell_type": "code",
   "execution_count": 99,
   "metadata": {
    "pycharm": {
     "name": "#%%\n"
    }
   },
   "outputs": [],
   "source": [
    "rules = association_rules(frequent_itemsets, metric=\"lift\", min_threshold=1.4)"
   ]
  },
  {
   "cell_type": "code",
   "execution_count": 104,
   "metadata": {
    "pycharm": {
     "name": "#%%\n"
    }
   },
   "outputs": [],
   "source": [
    "rules = rules.sort_values(by='lift', ascending=False)"
   ]
  },
  {
   "cell_type": "code",
   "execution_count": 105,
   "metadata": {
    "pycharm": {
     "name": "#%%\n"
    }
   },
   "outputs": [
    {
     "data": {
      "text/html": [
       "<div>\n",
       "<style scoped>\n",
       "    .dataframe tbody tr th:only-of-type {\n",
       "        vertical-align: middle;\n",
       "    }\n",
       "\n",
       "    .dataframe tbody tr th {\n",
       "        vertical-align: top;\n",
       "    }\n",
       "\n",
       "    .dataframe thead th {\n",
       "        text-align: right;\n",
       "    }\n",
       "</style>\n",
       "<table border=\"1\" class=\"dataframe\">\n",
       "  <thead>\n",
       "    <tr style=\"text-align: right;\">\n",
       "      <th></th>\n",
       "      <th>antecedents</th>\n",
       "      <th>consequents</th>\n",
       "      <th>antecedent support</th>\n",
       "      <th>consequent support</th>\n",
       "      <th>support</th>\n",
       "      <th>confidence</th>\n",
       "      <th>lift</th>\n",
       "      <th>leverage</th>\n",
       "      <th>conviction</th>\n",
       "    </tr>\n",
       "  </thead>\n",
       "  <tbody>\n",
       "    <tr>\n",
       "      <th>4145</th>\n",
       "      <td>(liked 112852.0)</td>\n",
       "      <td>(liked 89745.0)</td>\n",
       "      <td>0.045902</td>\n",
       "      <td>0.050820</td>\n",
       "      <td>0.022951</td>\n",
       "      <td>0.500000</td>\n",
       "      <td>9.838710</td>\n",
       "      <td>0.020618</td>\n",
       "      <td>1.898361</td>\n",
       "    </tr>\n",
       "    <tr>\n",
       "      <th>4144</th>\n",
       "      <td>(liked 89745.0)</td>\n",
       "      <td>(liked 112852.0)</td>\n",
       "      <td>0.050820</td>\n",
       "      <td>0.045902</td>\n",
       "      <td>0.022951</td>\n",
       "      <td>0.451613</td>\n",
       "      <td>9.838710</td>\n",
       "      <td>0.020618</td>\n",
       "      <td>1.739826</td>\n",
       "    </tr>\n",
       "    <tr>\n",
       "      <th>5158</th>\n",
       "      <td>(liked 4896.0)</td>\n",
       "      <td>(liked 40815.0)</td>\n",
       "      <td>0.060656</td>\n",
       "      <td>0.042623</td>\n",
       "      <td>0.024590</td>\n",
       "      <td>0.405405</td>\n",
       "      <td>9.511435</td>\n",
       "      <td>0.022005</td>\n",
       "      <td>1.610134</td>\n",
       "    </tr>\n",
       "    <tr>\n",
       "      <th>5159</th>\n",
       "      <td>(liked 40815.0)</td>\n",
       "      <td>(liked 4896.0)</td>\n",
       "      <td>0.042623</td>\n",
       "      <td>0.060656</td>\n",
       "      <td>0.024590</td>\n",
       "      <td>0.576923</td>\n",
       "      <td>9.511435</td>\n",
       "      <td>0.022005</td>\n",
       "      <td>2.220268</td>\n",
       "    </tr>\n",
       "    <tr>\n",
       "      <th>2447</th>\n",
       "      <td>(liked 5349.0)</td>\n",
       "      <td>(liked 8636.0)</td>\n",
       "      <td>0.059016</td>\n",
       "      <td>0.052459</td>\n",
       "      <td>0.026230</td>\n",
       "      <td>0.444444</td>\n",
       "      <td>8.472222</td>\n",
       "      <td>0.023134</td>\n",
       "      <td>1.705574</td>\n",
       "    </tr>\n",
       "    <tr>\n",
       "      <th>...</th>\n",
       "      <td>...</td>\n",
       "      <td>...</td>\n",
       "      <td>...</td>\n",
       "      <td>...</td>\n",
       "      <td>...</td>\n",
       "      <td>...</td>\n",
       "      <td>...</td>\n",
       "      <td>...</td>\n",
       "      <td>...</td>\n",
       "    </tr>\n",
       "    <tr>\n",
       "      <th>1848</th>\n",
       "      <td>(liked 318.0)</td>\n",
       "      <td>(liked 595.0)</td>\n",
       "      <td>0.245902</td>\n",
       "      <td>0.085246</td>\n",
       "      <td>0.029508</td>\n",
       "      <td>0.120000</td>\n",
       "      <td>1.407692</td>\n",
       "      <td>0.008546</td>\n",
       "      <td>1.039493</td>\n",
       "    </tr>\n",
       "    <tr>\n",
       "      <th>788</th>\n",
       "      <td>(liked 318.0)</td>\n",
       "      <td>(liked 1222.0)</td>\n",
       "      <td>0.245902</td>\n",
       "      <td>0.090164</td>\n",
       "      <td>0.031148</td>\n",
       "      <td>0.126667</td>\n",
       "      <td>1.404848</td>\n",
       "      <td>0.008976</td>\n",
       "      <td>1.041797</td>\n",
       "    </tr>\n",
       "    <tr>\n",
       "      <th>789</th>\n",
       "      <td>(liked 1222.0)</td>\n",
       "      <td>(liked 318.0)</td>\n",
       "      <td>0.090164</td>\n",
       "      <td>0.245902</td>\n",
       "      <td>0.031148</td>\n",
       "      <td>0.345455</td>\n",
       "      <td>1.404848</td>\n",
       "      <td>0.008976</td>\n",
       "      <td>1.152095</td>\n",
       "    </tr>\n",
       "    <tr>\n",
       "      <th>8</th>\n",
       "      <td>(liked 2571.0)</td>\n",
       "      <td>(liked 318.0)</td>\n",
       "      <td>0.190164</td>\n",
       "      <td>0.245902</td>\n",
       "      <td>0.065574</td>\n",
       "      <td>0.344828</td>\n",
       "      <td>1.402299</td>\n",
       "      <td>0.018812</td>\n",
       "      <td>1.150992</td>\n",
       "    </tr>\n",
       "    <tr>\n",
       "      <th>9</th>\n",
       "      <td>(liked 318.0)</td>\n",
       "      <td>(liked 2571.0)</td>\n",
       "      <td>0.245902</td>\n",
       "      <td>0.190164</td>\n",
       "      <td>0.065574</td>\n",
       "      <td>0.266667</td>\n",
       "      <td>1.402299</td>\n",
       "      <td>0.018812</td>\n",
       "      <td>1.104322</td>\n",
       "    </tr>\n",
       "  </tbody>\n",
       "</table>\n",
       "<p>5182 rows × 9 columns</p>\n",
       "</div>"
      ],
      "text/plain": [
       "           antecedents       consequents  antecedent support  \\\n",
       "4145  (liked 112852.0)   (liked 89745.0)            0.045902   \n",
       "4144   (liked 89745.0)  (liked 112852.0)            0.050820   \n",
       "5158    (liked 4896.0)   (liked 40815.0)            0.060656   \n",
       "5159   (liked 40815.0)    (liked 4896.0)            0.042623   \n",
       "2447    (liked 5349.0)    (liked 8636.0)            0.059016   \n",
       "...                ...               ...                 ...   \n",
       "1848     (liked 318.0)     (liked 595.0)            0.245902   \n",
       "788      (liked 318.0)    (liked 1222.0)            0.245902   \n",
       "789     (liked 1222.0)     (liked 318.0)            0.090164   \n",
       "8       (liked 2571.0)     (liked 318.0)            0.190164   \n",
       "9        (liked 318.0)    (liked 2571.0)            0.245902   \n",
       "\n",
       "      consequent support   support  confidence      lift  leverage  conviction  \n",
       "4145            0.050820  0.022951    0.500000  9.838710  0.020618    1.898361  \n",
       "4144            0.045902  0.022951    0.451613  9.838710  0.020618    1.739826  \n",
       "5158            0.042623  0.024590    0.405405  9.511435  0.022005    1.610134  \n",
       "5159            0.060656  0.024590    0.576923  9.511435  0.022005    2.220268  \n",
       "2447            0.052459  0.026230    0.444444  8.472222  0.023134    1.705574  \n",
       "...                  ...       ...         ...       ...       ...         ...  \n",
       "1848            0.085246  0.029508    0.120000  1.407692  0.008546    1.039493  \n",
       "788             0.090164  0.031148    0.126667  1.404848  0.008976    1.041797  \n",
       "789             0.245902  0.031148    0.345455  1.404848  0.008976    1.152095  \n",
       "8               0.245902  0.065574    0.344828  1.402299  0.018812    1.150992  \n",
       "9               0.190164  0.065574    0.266667  1.402299  0.018812    1.104322  \n",
       "\n",
       "[5182 rows x 9 columns]"
      ]
     },
     "execution_count": 105,
     "metadata": {},
     "output_type": "execute_result"
    }
   ],
   "source": [
    "rules"
   ]
  },
  {
   "cell_type": "code",
   "execution_count": 106,
   "metadata": {
    "pycharm": {
     "name": "#%%\n"
    }
   },
   "outputs": [
    {
     "data": {
      "text/plain": [
       "4145     (liked 89745.0)\n",
       "4144    (liked 112852.0)\n",
       "5158     (liked 40815.0)\n",
       "5159      (liked 4896.0)\n",
       "2447      (liked 8636.0)\n",
       "              ...       \n",
       "1848       (liked 595.0)\n",
       "788       (liked 1222.0)\n",
       "789        (liked 318.0)\n",
       "8          (liked 318.0)\n",
       "9         (liked 2571.0)\n",
       "Name: consequents, Length: 5182, dtype: object"
      ]
     },
     "execution_count": 106,
     "metadata": {},
     "output_type": "execute_result"
    }
   ],
   "source": [
    "rules['consequents']"
   ]
  },
  {
   "cell_type": "code",
   "execution_count": null,
   "metadata": {
    "pycharm": {
     "name": "#%%\n"
    }
   },
   "outputs": [],
   "source": []
  }
 ],
 "metadata": {
  "kernelspec": {
   "display_name": "Python 3",
   "language": "python",
   "name": "python3"
  },
  "language_info": {
   "codemirror_mode": {
    "name": "ipython",
    "version": 3
   },
   "file_extension": ".py",
   "mimetype": "text/x-python",
   "name": "python",
   "nbconvert_exporter": "python",
   "pygments_lexer": "ipython3",
   "version": "3.6.10"
  }
 },
 "nbformat": 4,
 "nbformat_minor": 4
}